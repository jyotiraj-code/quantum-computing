{
 "cells": [
  {
   "cell_type": "markdown",
   "metadata": {},
   "source": [
    "Single choice\n",
    "<h4>1) As a quantum computing researcher, you need to start academic quantum computing research with Amazon Braket, and you represent an organization with many researchers or multiple groups.</h4>\n",
    "\n",
    "<h4>What should you consider for your quantum research?</h4>\n",
    "\n",
    " - Contact Amazon Braket via social media to discuss a collaboration agreement to enable research teams to advance your research with AWS.\n",
    " - <span style=\"color:blue\">Apply to the AWS Cloud Credit for Research Program to get cloud credits for research.</span>\n",
    "\n",
    " - Academic quantum computing researchers are not eligible to apply for quantum computing research programs on Amazon Braket.\n",
    " - Apply to AWS Free Tier to get cloud credits for quantum research."
   ]
  },
  {
   "cell_type": "markdown",
   "metadata": {
    "vscode": {
     "languageId": "plaintext"
    }
   },
   "source": [
    "Multiple Choice\n",
    "<h4>2) Analog Hamiltonian simulation (AHS) is a quantum programming paradigm distinct from quantum circuits. You are preparing a slide deck describing how this paradigm works on Amazon Braket.\n",
    "\n",
    "Which two steps will you list as necessary to create an analog Hamiltonian simulation program? (Select the TWO correct answers),</h4>\n",
    "\n",
    "- <span style=\"color:blue\">Specify the quantum register.</span>\n",
    "- <span style=\"color:blue\">Specify the quantum evolution.</span>\n",
    "- Specify the qubit connectivity graph.\n",
    "- Select the desired calibration data to be used.\n",
    "- Set the number of shots."
   ]
  },
  {
   "cell_type": "markdown",
   "metadata": {},
   "source": []
  },
  {
   "cell_type": "markdown",
   "metadata": {
    "vscode": {
     "languageId": "plaintext"
    }
   },
   "source": [
    "Single choice\n",
    "<h4>3) As a quantum computing researcher, you want to use Amazon Braket to run a quantum program on a QPU.\n",
    "\n",
    "What do you need to access quantum devices?</h4>\n",
    "\n",
    "- You need the quantum device name.\n",
    "- You need to use a local simulator.\n",
    "- <span style=\"color:blue\">You need the quantum device Amazon Resource Name (ARN).</span>\n",
    "- You need the quantum device availability windows."
   ]
  },
  {
   "cell_type": "markdown",
   "metadata": {},
   "source": [
    "Multiple Choice\n",
    "<h4>4) A quantum researcher wants to profile how many shots to set when running a small quantum circuit on Rigetti Aspen M-3 so that the accuracy of the results is not limited by finite sampling.\n",
    "\n",
    "Which simulators are best fitted for such profiling? (Select TWO)</h4>\n",
    "\n",
    "- SV1\n",
    "- <span style=\"color:blue\">Local state vector simulator</span>\n",
    "- TN1\n",
    "- Rigetti Aspen M-3\n",
    "- <span style=\"color:blue\">Local density matrix simulator</span>\n"
   ]
  },
  {
   "cell_type": "markdown",
   "metadata": {},
   "source": [
    "Single choice\n",
    "<h4>5)As a quantum computing researcher, you want to explore Amazon Braket on-demand simulators.\n",
    "\n",
    "Which Amazon Braket on-demand simulators are AWS Free Tier eligible, and what are the specified limits?</h4>\n",
    "\n",
    "- Two free hours of quantum circuit simulation time per month for on-demand simulators SV1, DM1, and TN1.\n",
    "- Three free hours of quantum circuit simulation time per year for on-demand simulators SV1, DM1, and TN1.\n",
    "- <span style=\"color:blue\">One free hour of quantum circuit simulation time per month for any combination of SV1, DM1, and TN1 managed quantum circuit simulators.</span>\n",
    "- One year of quantum circuit simulation time per month for on-demand simulators SV1, DM1, and TN1."
   ]
  },
  {
   "cell_type": "markdown",
   "metadata": {},
   "source": [
    "Single choice\n",
    "<h4>6) You would like to run a particular hybrid algorithm on Amazon Braket's QPUs, but the estimated price per task is too high.\n",
    "\n",
    "What can you do to reduce the estimated price per task?</h4>\n",
    "\n",
    "- Using parametric compilation.\n",
    "- Reduce the number of qubits used per task.\n",
    "- <span style=\"color:blue\">Reduce the number of shots used per task.</span>\n",
    "- Reduce the number of gates used per quantum task."
   ]
  },
  {
   "cell_type": "markdown",
   "metadata": {},
   "source": []
  },
  {
   "cell_type": "markdown",
   "metadata": {
    "vscode": {
     "languageId": "plaintext"
    }
   },
   "source": [
    "Single choice\n",
    "<h4>7) Research scientists in your organization spend much time configuring and maintaining interactive development environments. They need to estimate the costs to run the code on classical or quantum hardware for their workflow.\n",
    "\n",
    "Which is the BEST solution that can help to simplify the configuration and deployment of quantum algorithms?</h4>\n",
    "\n",
    "- Amazon SageMaker\n",
    "- AWS CloudFormation\n",
    "- <span style=\"color:blue\">Amazon Braket Algorithm Library</span>\n",
    "- AWS Marketplace"
   ]
  },
  {
   "cell_type": "markdown",
   "metadata": {},
   "source": [
    "Single choice\n",
    "<h4>8) As per the best practices, you understand that the notebooks associated with Braket must be stopped to avoid excessive charges. However, when you try to stop the notebook instance(s), you are unable to do so.\n",
    "\n",
    "Which of the following is a possible reason for not being able to stop the notebook instance(s)?</h4>\n",
    "\n",
    "- Notebooks cannot be stopped once they are associated with Braket and the only way to stop them is to delete the notebook instances.\n",
    "- It is not possible to manually change the notebook instance state to stop it because Braket automatically manages them.\n",
    "- It is not possible to manually change the notebook instance states to stop it because Sagemaker automatically manages them.\n",
    "- <span style=\"color:blue\">Insufficient permissions</span>\n"
   ]
  },
  {
   "cell_type": "markdown",
   "metadata": {},
   "source": [
    "Single choice\n",
    "<h4>9) A developer is readying a task to run on Amazon Braket.\n",
    "\n",
    "What information is included in a quantum task for Amazon Braket?</h4>\n",
    "\n",
    "- Only the quantum circuit, with no additional metadata.\n",
    "- Only the physical layout of the quantum registers for Analog Hamiltonian Simulation (AHS).\n",
    "- <span style=\"color:blue\">The quantum circuit, measurement instructions, and number of shots for gate-based QC devices, along with any necessary metadata.</span>\n",
    "- The device ARN number."
   ]
  },
  {
   "cell_type": "markdown",
   "metadata": {},
   "source": [
    "Multiple Choice\n",
    "10) As a quantum researcher, you are logged into the Braket Console, and are trying to carry out your work there.\n",
    "\n",
    "Which resources can you create from the Braket Console? (select TWO)\n",
    "\n",
    "- <span style=\"color:blue\">A hybrid job</span>\n",
    "- A quantum task\n",
    "- A quantum computer device ARN\n",
    "- <span style=\"color:blue\">A Braket notebook instance</span>\n"
   ]
  },
  {
   "cell_type": "markdown",
   "metadata": {},
   "source": [
    "Single choice\n",
    "<h4>11) As part of your research, you successfully ran 100 quantum tasks using Amazon Braket. You saved the results from each task on your laptop. While you are analyzing the results for an upcoming presentation, your laptop crashes, erasing all your data.\n",
    "\n",
    "How can you recover the results data before your presentation?</h4>\n",
    "\n",
    "- Ask for an extension for your presentation.\n",
    "- Bring your laptop to a repair shop to attempt to restore any files.\n",
    "- Re-run all 100 quantum tasks as soon as possible.\n",
    "- <span style=\"color:blue\">Find the Amazon S3 bucket in your AWS account, where all Braket quantum task results are saved, and download the results.</span>"
   ]
  },
  {
   "cell_type": "markdown",
   "metadata": {},
   "source": [
    "Single choice\n",
    "<h4>12) I have a variational machine learning algorithm that will require the use of both quantum and classical compute resources.\n",
    "\n",
    "Which of the following is the BEST Braket feature to accomplish this task?</h4>\n",
    "\n",
    "- Qiskit\n",
    "- <span style=\"color:blue\">Hybrid Jobs</span>\n",
    "- Sagemaker\n",
    "- The algorithm library"
   ]
  },
  {
   "cell_type": "markdown",
   "metadata": {},
   "source": [
    "Single choice\n",
    "<h4>13) A quantum software developer is building a quantum circuit that takes several qubits as input. They want to verify that their circuit produces the expected measurement results for a few qubits before moving on to larger program sizes.\n",
    "\n",
    "Which simulator would be MOST cost effective for the developer to test their circuit on five qubits?</h4>\n",
    "\n",
    "- SV1\n",
    "- TN1\n",
    "- OQC Lucy\n",
    "- <span style=\"color:blue\">braket_sv</span>"
   ]
  },
  {
   "cell_type": "markdown",
   "metadata": {},
   "source": [
    "Multiple Choice\n",
    "<h4>14) As a quantum algorithm developer, you want to use a precise ansatz, and you decide to use verbatim circuits. You must then be aware of the device topology.\n",
    "\n",
    "Where do you find the topology map of the device? (Select TWO)</h4>\n",
    "\n",
    "-  <span style=\"color:blue\">Using the Braket SDK, you can call AwsDevice.get_devices and inspect device.properties. </span>\n",
    "- In the AWS console, go to the Tasks tab and inspect the information of a previous task submitted to the corresponding device.\n",
    "- Topology maps are stored in the quantum algorithm library.\n",
    "- Use the GetConnectivity API call\n",
    "-  <span style=\"color:blue\">Navigate through the Amazon Braket console and inspect the Devices tab. </span>"
   ]
  },
  {
   "cell_type": "markdown",
   "metadata": {},
   "source": [
    "Multiple Choice\n",
    "<h4>15) You submitted a hybrid job that uses the embedded lightning.qubit simulator.\n",
    "\n",
    "Which of the following directly determines the cost of your hybrid job? (Select TWO)</h4>\n",
    "\n",
    "- <span style=\"color:blue\">The type of the classical instance</span>\n",
    "- The number of qubits in your circuit.\n",
    "- The choice of embedded simulator: whether you use lightning.cpu or lightning.gpu\n",
    "- The time you take to release instances after the completion of the job.\n",
    "- <span style=\"color:blue\">Duration of the Hybrid Job</span>"
   ]
  },
  {
   "cell_type": "markdown",
   "metadata": {},
   "source": [
    "Single choice\n",
    "<h4>16) A developer wants to run a Bell state task on a quantum processing unit (QPU). After examining the QPUs that are available through Amazon Braket, they decide to use the IonQ Aria 1 device to run the task and to use 1000 shots. The developer needs to avoid the additional costs incurred when using the IonQ device.\n",
    "\n",
    "How can the developer configure their test runs to avoid the additional costs?</h4>\n",
    "\n",
    "- Use the cost tracker to monitor the cost of running the task.\n",
    "- Create tags for Amazon Braket resources.\n",
    "- Use the LocalSimulator.\n",
    "-  <span style=\"color:blue\">Reduce the number of shots from 1000 to 100. </span>"
   ]
  },
  {
   "cell_type": "markdown",
   "metadata": {},
   "source": [
    "Multiple Choice\n",
    "<h4>17)Amazon Braket Hybrid Jobs provides fully managed execution of hybrid quantum-classical algorithms, combining AWS classical compute resources based on Amazon EC2 (the 'job instance') with Amazon Braket quantum processing units (QPUs) or quantum circuit simulators.\n",
    "\n",
    "As a solutions architect explaining the pricing aspect of hybrid jobs to the customer, which of the following would be the key points that would cover hybrid jobs pricing? (Select THREE)</h4>\n",
    "\n",
    "- <span style=\"color:blue\">If you are using an embedded simulator, then you only pay for the classical CPU or GPU resources you use for the duration of the job.<span>\n",
    "- You are only charged for the quantum resources used irrespective of how the job that is executed.\n",
    "- You are only charged for the classical resources used irrespective of how the job is executed.\n",
    "- You will not be charged at all as part of the free tier.\n",
    "- <span style=\"color:blue\">Hybrid jobs pricing includes two components: charges for the use of classical resources and charges for the use of quantum computers or quantum simulators.</span>\n",
    "- <span style=\"color:blue\">If you are using one of the on-demand simulators (SV1, DM1, TN1) or a quantum computer available on Amazon Braket for a portion of Hybrid Job, then you will be charged for the execution of quantum tasks that are created as part of the job, irrespective of whether they are run as part of a Hybrid Job or not.</span>\n"
   ]
  },
  {
   "cell_type": "markdown",
   "metadata": {},
   "source": [
    "Multiple Choice\n",
    "<h4>18)As an administrator, you want to tag resources (quantum tasks, hybrid jobs, Braket NBIs) as a way to organize cost items and restrict access.\n",
    "\n",
    "Where in the Braket console can tags be added to resources? (Select TWO)</h4>\n",
    "\n",
    "- From the billing service\n",
    "- <span style=\"color:blue\">From the quantum task view</span>\n",
    "- From the \"permissions and settings\" tab\n",
    "- I can tag my Braket resources from an EC2 instance.\n",
    "- <span style=\"color:blue\">You can tag tasks, hybrid jobs, and Braket notebook instances from their respective detail views.</span>"
   ]
  },
  {
   "cell_type": "markdown",
   "metadata": {},
   "source": []
  },
  {
   "cell_type": "markdown",
   "metadata": {},
   "source": [
    "Single choice\n",
    "<h4>19) Using Braket Pulse, you have defined a GaussianWaveform and an AwsDevice with pulse capabilities as waveform and device, respectively. You want now to apply this waveform to the driving frame of qubit 1 to rotate its state by an angle of pi/2 on the Bloch sphere.\n",
    "\n",
    "What PulseSequence achieves this goal? Assume that frame names reference the correct frame for the device.</h4>\n",
    "\n",
    "- PulseSequence().drive(1, waveform)\n",
    "- <span style=\"color:blue\">PulseSequence().play(q1_drive, waveform)</span>\n",
    "- PulseSequence().set_phase(device.frames[\"q1_measure\"], math.pi/2)\n",
    "- PulseSequence().capture_v0(device.frames[\"r1_measure\"])"
   ]
  },
  {
   "cell_type": "markdown",
   "metadata": {},
   "source": [
    "Multiple Choice\n",
    "<h4>20) Your company is investing in quantum computing to explore the nascent technology and incorporate its benefits into its growth. You have encountered Amazon Braket, a quantum computing service offered by AWS, and think it is a good fit for the company's ambitions based on the challenges it addresses.\n",
    "\n",
    "What challenges does Amazon Braket solve? (Select TWO)</h4>\n",
    "\n",
    "- The challenge of assessing the state of the technology and research algorithms as well as determining potential applications for the businesses.\n",
    "- <span style=\"color:blue\">The difficulties of engineering reliable quantum hardware.</span>\n",
    "- The difficulties encountered by inaccurate prediction of edge cases by today's machine learning algorithms.\n",
    "- <span style=\"color:blue\">The challenge of simulating and benchmarking quantum algorithms against state-of-the-art classical approaches.</span>\n",
    "- The challenge of realizing scalable quantum error correction."
   ]
  },
  {
   "cell_type": "markdown",
   "metadata": {},
   "source": [
    "Single choice\n",
    "<h4>21) A developer is planning to compare the success of their algorithm both using a quantum circuit and an analog Hamiltonian simulation (AHS) program. He is comparing the AHS tasks and circuit-based tasks.\n",
    "\n",
    "What do AHS and circuit tasks have in common?</h4>\n",
    "\n",
    "- Both AHS tasks and quantum circuit tasks require specifying the set of gates used.\n",
    "- In both the AHS program and the quantum circuit task, you can specify the qubits layout and connectivity.\n",
    "- The local simulators can be used to simulate quantum circuit tasks while AHS requires using a QPU.\n",
    "- <span style=\"color:blue\">Both AHS tasks and quantum circuit tasks require specifying the number of shots.<span>\n"
   ]
  },
  {
   "cell_type": "markdown",
   "metadata": {},
   "source": [
    "Single choice\n",
    "<h4>22) You want to use Hybrid Jobs to build a variational quantum algorithm. To test and debug quickly, the Amazon Braket SDK can run jobs in local mode, i.e., locally on your machine.\n",
    "\n",
    "Which class of the Braket SDK do you need to instantiate?</h4>\n",
    "\n",
    "- <span style=\"color:blue\">LocalQuantumJob</span>\n",
    "- AwsQuantumTask\n",
    "- AwsDevice\n",
    "- AwsQuantumJob"
   ]
  },
  {
   "cell_type": "markdown",
   "metadata": {
    "vscode": {
     "languageId": "plaintext"
    }
   },
   "source": [
    "Single choice\n",
    "<h4>23) You are a developer implementing a variational algorithm requiring quantum and classical computation.\n",
    "\n",
    "What are the key elements you need to specify when creating a hybrid job?</h4>\n",
    "\n",
    "- My openQASM file, the number of shots, and the QPU I want my circuit to run on.\n",
    "- The start and end time for my algorithm.\n",
    "- <span style=\"color:blue\">My algorithm script, the classical environment (job instance type and container), and the target quantum device.</span>\n",
    "- The number of QPUs and the number of qubits per QPU my workload needs"
   ]
  },
  {
   "cell_type": "markdown",
   "metadata": {},
   "source": [
    "Single choice\n",
    "<h4>24) As a quantum computing enthusiast, you are learning how to create and submit quantum circuits to run on QPUs. From a Braket Jupyter notebook in eu-west-2 Region, you created and submitted two tasks - one to run on OQC's device and another on Rigetti's device. They both have been submitted without any errors. When you navigate to the Braket Console > Tasks section - to look at the status of the tasks. You can see the task for the OQC device but not the Rigetti's task in the console.\n",
    "\n",
    "What might be causing this?</h4>\n",
    "\n",
    "- As the Rigetti tasks were submitted after OQC tasks, Rigetti tasks will be visible once the OQC tasks are completed.\n",
    "- Rigetti only accepts quantum hybrid jobs, so you need to switch to the Jobs section in the console.\n",
    "- Rigetti only accepts quantum shots, so you need to switch to the Jobs section in the console.\n",
    "- <span style=\"color:blue\">As Rigetti is available in us-west-1 Region, you can switch to that Region to view the tasks in the console.</span>\n"
   ]
  },
  {
   "cell_type": "markdown",
   "metadata": {},
   "source": [
    "Multiple Choice\n",
    "<h4>25) A Python developer would like to learn more about how to use Grover's algorithm to search an unordered list.\n",
    "\n",
    "What steps should the developer take to run Grover's algorithm with the Amazon Braket Python SDK in their local Python environment? (Select TWO)</h4>\n",
    "\n",
    "- Verify the availability of a Braket device using the device dashboard in the Amazon Braket console.\n",
    "- <span style=\"color:blue\">Install the Amazon Braket Python SDK using the pip standard package manager for Python.</span>\n",
    "- Use the AWS CLI to create a new account profile to run your simulation within your AWS account.\n",
    "- <span style=\"color:blue\">Clone the Amazon Braket Algorithm Library locally using git for Python reference examples to execute the algorithm.</span>\n",
    "- Create a notebook instance within the Amazon Braket console."
   ]
  },
  {
   "cell_type": "markdown",
   "metadata": {},
   "source": []
  }
 ],
 "metadata": {
  "language_info": {
   "name": "python"
  }
 },
 "nbformat": 4,
 "nbformat_minor": 2
}
