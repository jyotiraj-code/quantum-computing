{
 "cells": [
  {
   "cell_type": "code",
   "execution_count": 2,
   "metadata": {},
   "outputs": [
    {
     "name": "stdout",
     "output_type": "stream",
     "text": [
      "\n",
      "<w| = \t [[ 3. -4.j  5. -0.j  2. +1.j  0. -6.j -0.3+3.j]]\n"
     ]
    }
   ],
   "source": [
    "#To find the \"bra\" of the ket |w⟩\n",
    "\n",
    "#importing dependencies\n",
    "\n",
    "import numpy as np\n",
    "\n",
    "#Writing the matrix\n",
    "\n",
    "w = np.matrix([\n",
    "    [complex(3,4)],\n",
    "    [complex(5,0)],\n",
    "    [complex(2,-1)],\n",
    "    [complex(0,6)],\n",
    "    [complex(-0.3,-3)]\n",
    "\n",
    "])\n",
    "w_transpose = w.getH()\n",
    "print(\"\\n<w| = \\t\", w_transpose)\n"
   ]
  },
  {
   "cell_type": "code",
   "execution_count": 3,
   "metadata": {},
   "outputs": [
    {
     "name": "stdout",
     "output_type": "stream",
     "text": [
      "The projection operator is thus:  [[ 25.   +0.j   15.  +20.j    2.  +11.j   24.  -18.j  -12.9  +7.8j]\n",
      " [ 15.  -20.j   25.   +0.j   10.   +5.j    0.  -30.j   -1.5 +15.j ]\n",
      " [  2.  -11.j   10.   -5.j    5.   +0.j   -6.  -12.j    2.4  +6.3j]\n",
      " [ 24.  +18.j    0.  +30.j   -6.  +12.j   36.   +0.j  -18.   -1.8j]\n",
      " [-12.9  -7.8j  -1.5 -15.j    2.4  -6.3j -18.   +1.8j   9.09 +0.j ]]\n"
     ]
    }
   ],
   "source": [
    "#To find the projection operator |w><w|\n",
    "\n",
    "#Defining the bra and the ket vector\n",
    "w_ket = w\n",
    "w_bra = w_transpose\n",
    "\n",
    "projection_operator = np.outer(w_ket,w_bra)\n",
    "\n",
    "print(\"The projection operator is thus: \",projection_operator)"
   ]
  },
  {
   "cell_type": "code",
   "execution_count": 6,
   "metadata": {},
   "outputs": [
    {
     "name": "stdout",
     "output_type": "stream",
     "text": [
      "Inner Product <x|y>:\n",
      "(-3.25+20.25j)\n",
      "\n",
      "Inner Product <y|x>:\n",
      "(-3.25-20.25j)\n"
     ]
    }
   ],
   "source": [
    "import numpy as np\n",
    "\n",
    "# Define the matrices x and y as NumPy arrays with complex values\n",
    "x = np.array([\n",
    "    [complex(3/2, 4/2)],\n",
    "    [complex(2, -1)],\n",
    "    [complex(0, -8)],\n",
    "    [complex(0, 1/2)]\n",
    "])\n",
    "\n",
    "y = np.array([\n",
    "    [complex(0, -1)],\n",
    "    [complex(-2/2, -1/2)],\n",
    "    [complex(3, 0)],\n",
    "    [complex(1/2, 1/2)]\n",
    "])\n",
    "\n",
    "# Calculate the inner products <x|y> and <y|x>\n",
    "inner_product_1 = np.vdot(x, y)  # <x|y>\n",
    "inner_product_2 = np.vdot(y, x)  # <y|x>\n",
    "\n",
    "print(\"Inner Product <x|y>:\")\n",
    "print(inner_product_1)\n",
    "print()\n",
    "print(\"Inner Product <y|x>:\")\n",
    "print(inner_product_2)\n"
   ]
  },
  {
   "cell_type": "code",
   "execution_count": 7,
   "metadata": {},
   "outputs": [
    {
     "name": "stdout",
     "output_type": "stream",
     "text": [
      "[[0.+0.j]]\n"
     ]
    }
   ],
   "source": [
    "import numpy as np\n",
    "#The basis states\n",
    "\n",
    "zero_state = np.matrix([\n",
    "    [complex(1,0)],\n",
    "    [complex(0,0)]\n",
    "])\n",
    "\n",
    "one_state = np.matrix([\n",
    "    [complex(0,0)],\n",
    "    [complex(1,0)]\n",
    "])\n",
    "\n",
    "#Checking the orthogonality <0|1>\n",
    "\n",
    "zero_state_bra = zero_state.getH()\n",
    "\n",
    "answer = np.dot(zero_state_bra,one_state)\n",
    "\n",
    "print(answer)"
   ]
  },
  {
   "cell_type": "code",
   "execution_count": null,
   "metadata": {},
   "outputs": [],
   "source": []
  }
 ],
 "metadata": {
  "kernelspec": {
   "display_name": "Python 3",
   "language": "python",
   "name": "python3"
  },
  "language_info": {
   "codemirror_mode": {
    "name": "ipython",
    "version": 3
   },
   "file_extension": ".py",
   "mimetype": "text/x-python",
   "name": "python",
   "nbconvert_exporter": "python",
   "pygments_lexer": "ipython3",
   "version": "3.11.1"
  }
 },
 "nbformat": 4,
 "nbformat_minor": 2
}
