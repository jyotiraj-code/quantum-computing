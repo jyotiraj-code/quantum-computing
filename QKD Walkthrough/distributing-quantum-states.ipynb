{
 "cells": [
  {
   "cell_type": "code",
   "execution_count": null,
   "metadata": {},
   "outputs": [],
   "source": [
    "#First let us do the X-basis encoding   "
   ]
  },
  {
   "cell_type": "code",
   "execution_count": 2,
   "metadata": {},
   "outputs": [],
   "source": [
    "#Importing\n",
    "from qiskit import QuantumRegister, ClassicalRegister, QuantumCircuit, execute, Aer\n",
    "from random import randrange"
   ]
  },
  {
   "cell_type": "code",
   "execution_count": 3,
   "metadata": {},
   "outputs": [],
   "source": [
    "def print_outcomes_in_reserve(counts):\n",
    "    for outcome in counts:\n",
    "        reverse_outcome = ''\n",
    "        for i in outcome:\n",
    "            reverse_outcome = i+ reverse_outcome\n",
    "    return reverse_outcome\n",
    "\n",
    "\n",
    "\n",
    "def SendState(qc1,qc2,qc1_name):\n",
    "    \"\"\"\n",
    "    This function takes one circuits (qc1s) output\n",
    "    and creates initializes another circuit qc2 with the same state\n",
    "    \"\"\"\n",
    "    #Here quantum state retrieved from the qasm code of qc1\n",
    "    qs = qc1.qasm().split(sep = ';')[4:-1]\n",
    "\n",
    "    #process the code to get the instructions\n",
    "    for index, instruction in enumerate(qs):\n",
    "        qs[index] = instruction.lstrip()\n",
    "\n",
    "    for instruction in qs:\n",
    "        if instruction[0] == 'x':\n",
    "            if instruction[5] == '[':\n",
    "                old_qr = int(instruction[6:-1])\n",
    "            else:\n",
    "                old_qr = int(instruction[5:-1])\n",
    "\n",
    "            qc2.x(qreg[old_qr])\n",
    "        elif instruction[0] == 'h':\n",
    "            if instruction[5] == '[':\n",
    "                old_qr = int(instruction[6:-1])\n",
    "            else:\n",
    "                old_qr = int(instruction[5:-1])\n",
    "\n",
    "            qc2.h(qreg[old_qr])\n",
    "        elif instruction[0] == 'm': #We are excluding the measuring\n",
    "            pass\n",
    "        else:\n",
    "            raise Exception('Unable to parse instruction')"
   ]
  },
  {
   "cell_type": "code",
   "execution_count": 4,
   "metadata": {},
   "outputs": [],
   "source": [
    "qreg = QuantumRegister(8)\n",
    "creg = ClassicalRegister(8)\n",
    "\n",
    "#Creating Quantum Circuit for Asja State\n",
    "\n",
    "asja  = QuantumCircuit(qreg,creg, name = 'Asja')\n",
    "\n",
    "send = []\n",
    "\n",
    "\n",
    "#Creating random bit string\n",
    "\n",
    "for i in range(8):\n",
    "    bit = randrange(2)\n",
    "    send.append(bit)\n",
    "\n",
    "\n",
    "#Applying X gate if bit is equal to 1\n",
    "    \n",
    "for i,n in enumerate(send):\n",
    "    if n==1:\n",
    "        asja.x(qreg[i])\n",
    "\n",
    "send_str = ''.join(str(e) for e in send)"
   ]
  },
  {
   "cell_type": "code",
   "execution_count": null,
   "metadata": {},
   "outputs": [],
   "source": [
    "#Now let us switch to the X basis by applying the H gates"
   ]
  },
  {
   "cell_type": "code",
   "execution_count": 5,
   "metadata": {},
   "outputs": [
    {
     "data": {
      "text/html": [
       "<pre style=\"word-wrap: normal;white-space: pre;background: #fff0;line-height: 1.1;font-family: &quot;Courier New&quot;,Courier,monospace\">      ┌───┐┌───┐\n",
       "q0_0: ┤ X ├┤ H ├\n",
       "      ├───┤├───┤\n",
       "q0_1: ┤ X ├┤ H ├\n",
       "      ├───┤├───┤\n",
       "q0_2: ┤ X ├┤ H ├\n",
       "      ├───┤└───┘\n",
       "q0_3: ┤ H ├─────\n",
       "      ├───┤     \n",
       "q0_4: ┤ H ├─────\n",
       "      ├───┤     \n",
       "q0_5: ┤ H ├─────\n",
       "      ├───┤┌───┐\n",
       "q0_6: ┤ X ├┤ H ├\n",
       "      ├───┤├───┤\n",
       "q0_7: ┤ X ├┤ H ├\n",
       "      └───┘└───┘\n",
       "c0: 8/══════════\n",
       "                </pre>"
      ],
      "text/plain": [
       "      ┌───┐┌───┐\n",
       "q0_0: ┤ X ├┤ H ├\n",
       "      ├───┤├───┤\n",
       "q0_1: ┤ X ├┤ H ├\n",
       "      ├───┤├───┤\n",
       "q0_2: ┤ X ├┤ H ├\n",
       "      ├───┤└───┘\n",
       "q0_3: ┤ H ├─────\n",
       "      ├───┤     \n",
       "q0_4: ┤ H ├─────\n",
       "      ├───┤     \n",
       "q0_5: ┤ H ├─────\n",
       "      ├───┤┌───┐\n",
       "q0_6: ┤ X ├┤ H ├\n",
       "      ├───┤├───┤\n",
       "q0_7: ┤ X ├┤ H ├\n",
       "      └───┘└───┘\n",
       "c0: 8/══════════\n",
       "                "
      ]
     },
     "execution_count": 5,
     "metadata": {},
     "output_type": "execute_result"
    }
   ],
   "source": [
    "asja.h(qreg)\n",
    "\n",
    "asja.draw()"
   ]
  },
  {
   "cell_type": "code",
   "execution_count": 6,
   "metadata": {},
   "outputs": [
    {
     "name": "stderr",
     "output_type": "stream",
     "text": [
      "C:\\Users\\jrnat\\AppData\\Local\\Temp\\ipykernel_30496\\1016264951.py:16: DeprecationWarning: The method ``qiskit.circuit.quantumcircuit.QuantumCircuit.qasm()`` is deprecated as of qiskit 0.46. It will be removed in the 1.0.0 release. Instead use the qiskit.qasm2.dump() or qiskit.qasm2.dumps() function\n",
      "  qs = qc1.qasm().split(sep = ';')[4:-1]\n"
     ]
    },
    {
     "data": {
      "text/html": [
       "<pre style=\"word-wrap: normal;white-space: pre;background: #fff0;line-height: 1.1;font-family: &quot;Courier New&quot;,Courier,monospace\">      ┌───┐┌───┐\n",
       "q0_0: ┤ X ├┤ H ├\n",
       "      ├───┤├───┤\n",
       "q0_1: ┤ X ├┤ H ├\n",
       "      ├───┤├───┤\n",
       "q0_2: ┤ X ├┤ H ├\n",
       "      ├───┤└───┘\n",
       "q0_3: ┤ H ├─────\n",
       "      ├───┤     \n",
       "q0_4: ┤ H ├─────\n",
       "      ├───┤     \n",
       "q0_5: ┤ H ├─────\n",
       "      ├───┤┌───┐\n",
       "q0_6: ┤ X ├┤ H ├\n",
       "      ├───┤├───┤\n",
       "q0_7: ┤ X ├┤ H ├\n",
       "      └───┘└───┘\n",
       "c0: 8/══════════\n",
       "                </pre>"
      ],
      "text/plain": [
       "      ┌───┐┌───┐\n",
       "q0_0: ┤ X ├┤ H ├\n",
       "      ├───┤├───┤\n",
       "q0_1: ┤ X ├┤ H ├\n",
       "      ├───┤├───┤\n",
       "q0_2: ┤ X ├┤ H ├\n",
       "      ├───┤└───┘\n",
       "q0_3: ┤ H ├─────\n",
       "      ├───┤     \n",
       "q0_4: ┤ H ├─────\n",
       "      ├───┤     \n",
       "q0_5: ┤ H ├─────\n",
       "      ├───┤┌───┐\n",
       "q0_6: ┤ X ├┤ H ├\n",
       "      ├───┤├───┤\n",
       "q0_7: ┤ X ├┤ H ├\n",
       "      └───┘└───┘\n",
       "c0: 8/══════════\n",
       "                "
      ]
     },
     "execution_count": 6,
     "metadata": {},
     "output_type": "execute_result"
    }
   ],
   "source": [
    "balvis = QuantumCircuit(qreg, creg, name='Balvis') #Defining Balvis circuit\n",
    "\n",
    "SendState(asja, balvis, 'Asja') #Asja sends states to Balvis\n",
    "\n",
    "balvis.draw()"
   ]
  },
  {
   "cell_type": "code",
   "execution_count": 7,
   "metadata": {},
   "outputs": [
    {
     "name": "stderr",
     "output_type": "stream",
     "text": [
      "C:\\Users\\jrnat\\AppData\\Local\\Temp\\ipykernel_30496\\507994298.py:4: DeprecationWarning: The 'qiskit.Aer' entry point is deprecated and will be removed in Qiskit 1.0. You should use 'qiskit_aer.Aer' directly instead.\n",
      "  job = execute(balvis,Aer.get_backend('qasm_simulator'),shots=1) #Note that Balvis only has one shot to measure qubits\n",
      "C:\\Users\\jrnat\\AppData\\Local\\Temp\\ipykernel_30496\\507994298.py:4: DeprecationWarning: The function ``qiskit.execute_function.execute()`` is deprecated as of qiskit 0.46.0. It will be removed in the Qiskit 1.0 release. This function combines ``transpile`` and ``backend.run``, which is covered by ``Sampler`` :mod:`~qiskit.primitives`. Alternatively, you can also run :func:`.transpile` followed by ``backend.run()``.\n",
      "  job = execute(balvis,Aer.get_backend('qasm_simulator'),shots=1) #Note that Balvis only has one shot to measure qubits\n"
     ]
    },
    {
     "name": "stdout",
     "output_type": "stream",
     "text": [
      "Asja sent: 11100011\n",
      "Balvis received: 11100011\n"
     ]
    }
   ],
   "source": [
    "balvis.h(qreg) #Applying H gate first\n",
    "balvis.measure(qreg,creg) #then continue with regular measurement\n",
    "\n",
    "job = execute(balvis,Aer.get_backend('qasm_simulator'),shots=1) #Note that Balvis only has one shot to measure qubits\n",
    "counts = job.result().get_counts(balvis) # counts is a dictionary object in python\n",
    "received = print_outcomes_in_reserve(counts)\n",
    "\n",
    "print(\"Asja sent:\", send_str)\n",
    "print(\"Balvis received:\", received)"
   ]
  },
  {
   "cell_type": "code",
   "execution_count": null,
   "metadata": {},
   "outputs": [],
   "source": [
    "#Now let us do something fun\n",
    "#We will have 16 bits, 8 bits encoded in X basis and next 8 bits in Z basis but\n",
    "#Balvis measures them in opposite order of Z and X basis"
   ]
  },
  {
   "cell_type": "code",
   "execution_count": 10,
   "metadata": {},
   "outputs": [
    {
     "data": {
      "text/html": [
       "<pre style=\"word-wrap: normal;white-space: pre;background: #fff0;line-height: 1.1;font-family: &quot;Courier New&quot;,Courier,monospace\">       ┌───┐     \n",
       " q5_0: ┤ H ├─────\n",
       "       ├───┤┌───┐\n",
       " q5_1: ┤ X ├┤ H ├\n",
       "       ├───┤└───┘\n",
       " q5_2: ┤ H ├─────\n",
       "       ├───┤     \n",
       " q5_3: ┤ H ├─────\n",
       "       ├───┤┌───┐\n",
       " q5_4: ┤ X ├┤ H ├\n",
       "       ├───┤└───┘\n",
       " q5_5: ┤ H ├─────\n",
       "       ├───┤     \n",
       " q5_6: ┤ H ├─────\n",
       "       ├───┤     \n",
       " q5_7: ┤ H ├─────\n",
       "       ├───┤     \n",
       " q5_8: ┤ X ├─────\n",
       "       ├───┤     \n",
       " q5_9: ┤ X ├─────\n",
       "       ├───┤     \n",
       "q5_10: ┤ X ├─────\n",
       "       ├───┤     \n",
       "q5_11: ┤ X ├─────\n",
       "       └───┘     \n",
       "q5_12: ──────────\n",
       "       ┌───┐     \n",
       "q5_13: ┤ X ├─────\n",
       "       └───┘     \n",
       "q5_14: ──────────\n",
       "       ┌───┐     \n",
       "q5_15: ┤ X ├─────\n",
       "       └───┘     \n",
       "c2: 16/══════════\n",
       "                 </pre>"
      ],
      "text/plain": [
       "       ┌───┐     \n",
       " q5_0: ┤ H ├─────\n",
       "       ├───┤┌───┐\n",
       " q5_1: ┤ X ├┤ H ├\n",
       "       ├───┤└───┘\n",
       " q5_2: ┤ H ├─────\n",
       "       ├───┤     \n",
       " q5_3: ┤ H ├─────\n",
       "       ├───┤┌───┐\n",
       " q5_4: ┤ X ├┤ H ├\n",
       "       ├───┤└───┘\n",
       " q5_5: ┤ H ├─────\n",
       "       ├───┤     \n",
       " q5_6: ┤ H ├─────\n",
       "       ├───┤     \n",
       " q5_7: ┤ H ├─────\n",
       "       ├───┤     \n",
       " q5_8: ┤ X ├─────\n",
       "       ├───┤     \n",
       " q5_9: ┤ X ├─────\n",
       "       ├───┤     \n",
       "q5_10: ┤ X ├─────\n",
       "       ├───┤     \n",
       "q5_11: ┤ X ├─────\n",
       "       └───┘     \n",
       "q5_12: ──────────\n",
       "       ┌───┐     \n",
       "q5_13: ┤ X ├─────\n",
       "       └───┘     \n",
       "q5_14: ──────────\n",
       "       ┌───┐     \n",
       "q5_15: ┤ X ├─────\n",
       "       └───┘     \n",
       "c2: 16/══════════\n",
       "                 "
      ]
     },
     "execution_count": 10,
     "metadata": {},
     "output_type": "execute_result"
    }
   ],
   "source": [
    "# import all necessary objects and methods for quantum circuits\n",
    "from qiskit import QuantumRegister, ClassicalRegister, QuantumCircuit, execute, Aer\n",
    "from random import randrange\n",
    "\n",
    "def print_outcomes_in_reserve(counts): # takes a dictionary variable\n",
    "    for outcome in counts: # for each key-value in dictionary\n",
    "        reverse_outcome = ''\n",
    "        for i in outcome: # each string can be considered as a list of characters\n",
    "            reverse_outcome = i + reverse_outcome # each new symbol comes before the old symbol(s)\n",
    "    return reverse_outcome\n",
    "\n",
    "#Source for SendState: awards/teach_me_qiskit_2018/cryptography/Cryptography.ipynb\n",
    "\n",
    "def SendState(qc1, qc2, qc1_name):\n",
    "    ''' This function takes the output of a circuit qc1 (made up only of x and \n",
    "        h gates and initializes another circuit qc2 with the same state\n",
    "    ''' \n",
    "    \n",
    "    # Quantum state is retrieved from qasm code of qc1\n",
    "    qs = qc1.qasm().split(sep=';')[4:-1]\n",
    "\n",
    "    # Process the code to get the instructions\n",
    "    for index, instruction in enumerate(qs):\n",
    "        qs[index] = instruction.lstrip()\n",
    "\n",
    "    # Parse the instructions and apply to new circuit\n",
    "    for instruction in qs:\n",
    "        if instruction[0] == 'x':\n",
    "            if instruction[5] == '[':\n",
    "                old_qr = int(instruction[6:-1])\n",
    "            else:\n",
    "                old_qr = int(instruction[5:-1])\n",
    "            qc2.x(qreg[old_qr])\n",
    "        elif instruction[0] == 'h':\n",
    "            if instruction[5] == '[':\n",
    "                old_qr = int(instruction[6:-1])\n",
    "            else:\n",
    "                old_qr = int(instruction[5:-1])\n",
    "            qc2.h(qreg[old_qr])\n",
    "        elif instruction[0] == 'm': # exclude measuring:\n",
    "            pass\n",
    "        else:\n",
    "            raise Exception('Unable to parse instruction')\n",
    "\n",
    "qreg = QuantumRegister(16) # quantum register with 8 qubits\n",
    "creg = ClassicalRegister(16) # classical register with 8 bits\n",
    "\n",
    "# Quantum circuit for Asja state\n",
    "asja = QuantumCircuit(qreg, creg, name='Asja')\n",
    "\n",
    "send=[] #Initial bit string to send\n",
    "\n",
    "#Creating random bit string\n",
    "for i in range(16):\n",
    "    bit = randrange(2)\n",
    "    send.append(bit)\n",
    "    \n",
    "#Apply X gate if bit is equal to 1\n",
    "for i, n in enumerate(send):\n",
    "    if n==1:\n",
    "        asja.x(qreg[i]) # apply x-gate\n",
    "#        print(\"x-gate is applied to the qubit with index\",i)\n",
    "\n",
    "send_str = ''.join(str(e) for e in send)\n",
    "\n",
    "for i in range(8):\n",
    "    asja.h(qreg[i]) #first 8 qubits encoded in X basis\n",
    "\n",
    "asja.draw() #To check gates applied correctly"
   ]
  },
  {
   "cell_type": "code",
   "execution_count": 11,
   "metadata": {},
   "outputs": [
    {
     "name": "stderr",
     "output_type": "stream",
     "text": [
      "C:\\Users\\jrnat\\AppData\\Local\\Temp\\ipykernel_30496\\1019178779.py:20: DeprecationWarning: The method ``qiskit.circuit.quantumcircuit.QuantumCircuit.qasm()`` is deprecated as of qiskit 0.46. It will be removed in the 1.0.0 release. Instead use the qiskit.qasm2.dump() or qiskit.qasm2.dumps() function\n",
      "  qs = qc1.qasm().split(sep=';')[4:-1]\n"
     ]
    },
    {
     "data": {
      "text/html": [
       "<pre style=\"word-wrap: normal;white-space: pre;background: #fff0;line-height: 1.1;font-family: &quot;Courier New&quot;,Courier,monospace\">       ┌───┐     \n",
       " q5_0: ┤ H ├─────\n",
       "       ├───┤┌───┐\n",
       " q5_1: ┤ X ├┤ H ├\n",
       "       ├───┤└───┘\n",
       " q5_2: ┤ H ├─────\n",
       "       ├───┤     \n",
       " q5_3: ┤ H ├─────\n",
       "       ├───┤┌───┐\n",
       " q5_4: ┤ X ├┤ H ├\n",
       "       ├───┤└───┘\n",
       " q5_5: ┤ H ├─────\n",
       "       ├───┤     \n",
       " q5_6: ┤ H ├─────\n",
       "       ├───┤     \n",
       " q5_7: ┤ H ├─────\n",
       "       ├───┤┌───┐\n",
       " q5_8: ┤ X ├┤ H ├\n",
       "       ├───┤├───┤\n",
       " q5_9: ┤ X ├┤ H ├\n",
       "       ├───┤├───┤\n",
       "q5_10: ┤ X ├┤ H ├\n",
       "       ├───┤├───┤\n",
       "q5_11: ┤ X ├┤ H ├\n",
       "       ├───┤└───┘\n",
       "q5_12: ┤ H ├─────\n",
       "       ├───┤┌───┐\n",
       "q5_13: ┤ X ├┤ H ├\n",
       "       ├───┤└───┘\n",
       "q5_14: ┤ H ├─────\n",
       "       ├───┤┌───┐\n",
       "q5_15: ┤ X ├┤ H ├\n",
       "       └───┘└───┘\n",
       "c2: 16/══════════\n",
       "                 </pre>"
      ],
      "text/plain": [
       "       ┌───┐     \n",
       " q5_0: ┤ H ├─────\n",
       "       ├───┤┌───┐\n",
       " q5_1: ┤ X ├┤ H ├\n",
       "       ├───┤└───┘\n",
       " q5_2: ┤ H ├─────\n",
       "       ├───┤     \n",
       " q5_3: ┤ H ├─────\n",
       "       ├───┤┌───┐\n",
       " q5_4: ┤ X ├┤ H ├\n",
       "       ├───┤└───┘\n",
       " q5_5: ┤ H ├─────\n",
       "       ├───┤     \n",
       " q5_6: ┤ H ├─────\n",
       "       ├───┤     \n",
       " q5_7: ┤ H ├─────\n",
       "       ├───┤┌───┐\n",
       " q5_8: ┤ X ├┤ H ├\n",
       "       ├───┤├───┤\n",
       " q5_9: ┤ X ├┤ H ├\n",
       "       ├───┤├───┤\n",
       "q5_10: ┤ X ├┤ H ├\n",
       "       ├───┤├───┤\n",
       "q5_11: ┤ X ├┤ H ├\n",
       "       ├───┤└───┘\n",
       "q5_12: ┤ H ├─────\n",
       "       ├───┤┌───┐\n",
       "q5_13: ┤ X ├┤ H ├\n",
       "       ├───┤└───┘\n",
       "q5_14: ┤ H ├─────\n",
       "       ├───┤┌───┐\n",
       "q5_15: ┤ X ├┤ H ├\n",
       "       └───┘└───┘\n",
       "c2: 16/══════════\n",
       "                 "
      ]
     },
     "execution_count": 11,
     "metadata": {},
     "output_type": "execute_result"
    }
   ],
   "source": [
    "balvis = QuantumCircuit(qreg, creg, name='Balvis') #Defining Balvis circuit\n",
    "SendState(asja, balvis, 'Asja') #Asja sends states to Balvis\n",
    "\n",
    "# Balvis measures first 8 qubits using Z-basis (0 - 7) and next 8 qubits using X-basis (8 - 15)\n",
    "for n in range(8, 16):\n",
    "    balvis.h(qreg[n])\n",
    "    \n",
    "balvis.draw()"
   ]
  },
  {
   "cell_type": "code",
   "execution_count": 12,
   "metadata": {},
   "outputs": [
    {
     "name": "stdout",
     "output_type": "stream",
     "text": [
      "Asja sent: 0100100011110101\n",
      "Balvis received: 0101000000111011\n"
     ]
    },
    {
     "name": "stderr",
     "output_type": "stream",
     "text": [
      "C:\\Users\\jrnat\\AppData\\Local\\Temp\\ipykernel_30496\\2855181941.py:3: DeprecationWarning: The function ``qiskit.execute_function.execute()`` is deprecated as of qiskit 0.46.0. It will be removed in the Qiskit 1.0 release. This function combines ``transpile`` and ``backend.run``, which is covered by ``Sampler`` :mod:`~qiskit.primitives`. Alternatively, you can also run :func:`.transpile` followed by ``backend.run()``.\n",
      "  job = execute(balvis,Aer.get_backend('qasm_simulator'),shots=1) #Note that Balvis only has one shot to measure qubits\n"
     ]
    }
   ],
   "source": [
    "balvis.measure(qreg,creg)\n",
    "\n",
    "job = execute(balvis,Aer.get_backend('qasm_simulator'),shots=1) #Note that Balvis only has one shot to measure qubits\n",
    "counts = job.result().get_counts(balvis) # counts is a dictionary object in python\n",
    "received = print_outcomes_in_reserve(counts)\n",
    "\n",
    "print(\"Asja sent:\", send_str)\n",
    "print(\"Balvis received:\", received)"
   ]
  },
  {
   "cell_type": "code",
   "execution_count": null,
   "metadata": {},
   "outputs": [],
   "source": []
  }
 ],
 "metadata": {
  "kernelspec": {
   "display_name": "Python 3",
   "language": "python",
   "name": "python3"
  },
  "language_info": {
   "codemirror_mode": {
    "name": "ipython",
    "version": 3
   },
   "file_extension": ".py",
   "mimetype": "text/x-python",
   "name": "python",
   "nbconvert_exporter": "python",
   "pygments_lexer": "ipython3",
   "version": "3.11.1"
  }
 },
 "nbformat": 4,
 "nbformat_minor": 2
}
