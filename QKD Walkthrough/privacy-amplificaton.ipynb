{
 "cells": [
  {
   "cell_type": "code",
   "execution_count": null,
   "metadata": {},
   "outputs": [],
   "source": [
    "#This is last step we need to perform for the BB84 protocol"
   ]
  },
  {
   "cell_type": "code",
   "execution_count": 1,
   "metadata": {},
   "outputs": [
    {
     "name": "stdout",
     "output_type": "stream",
     "text": [
      "The available algorithms are: {'sha3_224', 'shake_128', 'sha3_256', 'sha384', 'sha224', 'md5', 'blake2s', 'shake_256', 'sha256', 'sha3_512', 'blake2b', 'sha1', 'sha512', 'sha3_384'}\n"
     ]
    }
   ],
   "source": [
    "#First let's see the available algortihms for hashing we have\n",
    "\n",
    "#We have the basic formula \n",
    "#H(M) = h\n",
    "\n",
    "import hashlib\n",
    "\n",
    "print(\"The available algorithms are: \", end =\"\")\n",
    "print(hashlib.algorithms_guaranteed)"
   ]
  },
  {
   "cell_type": "code",
   "execution_count": null,
   "metadata": {},
   "outputs": [],
   "source": [
    "#Secure Hash Algorithms\n",
    "\n",
    "import hashlib\n",
    "message = \"JyotirajNath\"\n",
    "result = hashlib.sha256(message.encode())\n",
    "\n",
    "print(\"SHA256 is: \",result.hexdigest()) #Printing the result in hexadecimal\n",
    "\n"
   ]
  },
  {
   "cell_type": "code",
   "execution_count": null,
   "metadata": {},
   "outputs": [],
   "source": [
    "#Now let's do the salting hash\n",
    "#Which is basically adding random data(salt) to the present message to make the hash different \n",
    "#Which can't be guessed easily"
   ]
  },
  {
   "cell_type": "code",
   "execution_count": 5,
   "metadata": {},
   "outputs": [
    {
     "name": "stdout",
     "output_type": "stream",
     "text": [
      "First string SHA256 is:  95587914efc34b3a118e49342794668c71643eaeacf54582e86b7d1147eedf82\n",
      "Second string SHA256 is:  a98c218a25b79ecb935a12cbe2fafebde97c0affd8458d2fd5f7d25e00462d0b\n"
     ]
    }
   ],
   "source": [
    "import hashlib\n",
    "\n",
    "def salting_hash(str, salt):\n",
    "    input = str + salt\n",
    "    result = hashlib.sha256(input.encode())\n",
    "\n",
    "    return result.hexdigest()\n",
    "\n",
    "a = \"JyotirajNath\"\n",
    "b = \"SVNIT\"\n",
    "\n",
    "c = \"JyotirajNath\"\n",
    "d = \"SVN1T\"\n",
    "\n",
    "print(\"First string SHA256 is: \", salting_hash(a,b))\n",
    "print(\"Second string SHA256 is: \", salting_hash(c,d))\n",
    "\n"
   ]
  },
  {
   "cell_type": "code",
   "execution_count": 7,
   "metadata": {},
   "outputs": [],
   "source": [
    "#Privacy amplification with randomness extractor\n",
    "\n",
    "\"\"\"\n",
    "Our 2-universal randomness extractor will be appending salt and use SHA256 and SHA3 256 functions.\n",
    "If first bit of final key is 0\n",
    ", it will encrypt using SHA 256.\n",
    "If it is 1, then SHA3 256 will be used.\n",
    "Note: hashlib functions work with strings, \n",
    "so you will need to convert your lists to strings.\n",
    "\"\"\"\n",
    "\n",
    "remain_key_asja = [0,1,1,0,0]\n",
    "remain_key_balvis = [0,1,1,0,0]"
   ]
  },
  {
   "cell_type": "code",
   "execution_count": 8,
   "metadata": {},
   "outputs": [
    {
     "name": "stdout",
     "output_type": "stream",
     "text": [
      "Encoded using SHA256: 91882296b965f090d5e7115f17e0a489719ed44001ece169073549e8444b3ba4\n"
     ]
    },
    {
     "data": {
      "text/plain": [
       "'1001000110001000001000101001011010111001011001011111000010010000110101011110011100010001010111110001011111100000101001001000100101110001100111101101010001000000000000011110110011100001011010010000011100110101010010011110100001000100010010110011101110100100'"
      ]
     },
     "execution_count": 8,
     "metadata": {},
     "output_type": "execute_result"
    }
   ],
   "source": [
    "from random import randrange\n",
    "import hashlib\n",
    "\n",
    "#Generating salt\n",
    "seed = []\n",
    "for i in remain_key_asja:\n",
    "    a = randrange(2)\n",
    "    seed.append(a)\n",
    "\n",
    "\n",
    "#Adding seeds to the keys \n",
    "remain_key_asja.append(seed)\n",
    "remain_key_balvis.append(seed)\n",
    "\n",
    "#Converting lists to strings\n",
    "str_key_asja = ' '.join([str(elem) for elem in remain_key_asja])\n",
    "str_key_balvis = ' '.join([str(elem) for elem in remain_key_balvis])\n",
    "\n",
    "#checking first bit to decide hash function to use\n",
    "if remain_key_asja[0]==0:\n",
    "    result=hashlib.sha256(str_key_asja.encode())\n",
    "    print(\"Encoded using SHA256:\", result.hexdigest())\n",
    "else:\n",
    "    result=hashlib.sha3_256(str_key_asja.encode())\n",
    "    print(\"Encoded using SHA3 256:\", result.hexdigest())\n",
    "bin(int(result.hexdigest(), 16))[2:]"
   ]
  }
 ],
 "metadata": {
  "kernelspec": {
   "display_name": "Python 3",
   "language": "python",
   "name": "python3"
  },
  "language_info": {
   "codemirror_mode": {
    "name": "ipython",
    "version": 3
   },
   "file_extension": ".py",
   "mimetype": "text/x-python",
   "name": "python",
   "nbconvert_exporter": "python",
   "pygments_lexer": "ipython3",
   "version": "3.11.1"
  }
 },
 "nbformat": 4,
 "nbformat_minor": 2
}
