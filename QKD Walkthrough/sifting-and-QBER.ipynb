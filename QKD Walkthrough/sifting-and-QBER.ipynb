{
 "cells": [
  {
   "cell_type": "code",
   "execution_count": 2,
   "metadata": {},
   "outputs": [],
   "source": [
    "# Sifting\n",
    "\n",
    "from qiskit import QuantumRegister, ClassicalRegister, QuantumCircuit, execute, Aer\n",
    "from random import randrange"
   ]
  },
  {
   "cell_type": "code",
   "execution_count": 4,
   "metadata": {},
   "outputs": [
    {
     "name": "stdout",
     "output_type": "stream",
     "text": [
      "Asja sent: [1, 0, 0, 1, 0, 0, 0, 1, 1, 0, 1, 1, 0, 0, 0, 1]\n",
      "Asja encoding basis: ['X', 'X', 'X', 'X', 'X', 'X', 'Z', 'Z', 'X', 'X', 'Z', 'X', 'Z', 'X', 'X', 'Z']\n",
      "Balvis received: [1, 0, 0, 1, 0, 0, 0, 1, 1, 0, 1, 1, 1, 0, 0, 1]\n",
      "Balvis decoding basis: ['X', 'X', 'X', 'Z', 'X', 'X', 'Z', 'Z', 'X', 'Z', 'X', 'Z', 'X', 'X', 'X', 'X']\n"
     ]
    },
    {
     "name": "stderr",
     "output_type": "stream",
     "text": [
      "C:\\Users\\jrnat\\AppData\\Local\\Temp\\ipykernel_28180\\3920497357.py:17: DeprecationWarning: The method ``qiskit.circuit.quantumcircuit.QuantumCircuit.qasm()`` is deprecated as of qiskit 0.46. It will be removed in the 1.0.0 release. Instead use the qiskit.qasm2.dump() or qiskit.qasm2.dumps() function\n",
      "  qs = qc1.qasm().split(sep = ';')[4:-1]\n",
      "C:\\Users\\jrnat\\AppData\\Local\\Temp\\ipykernel_28180\\3920497357.py:106: DeprecationWarning: The function ``qiskit.execute_function.execute()`` is deprecated as of qiskit 0.46.0. It will be removed in the Qiskit 1.0 release. This function combines ``transpile`` and ``backend.run``, which is covered by ``Sampler`` :mod:`~qiskit.primitives`. Alternatively, you can also run :func:`.transpile` followed by ``backend.run()``.\n",
      "  job = execute(balvis, Aer.get_backend('qasm_simulator'),shots = 1)\n"
     ]
    }
   ],
   "source": [
    "def print_outcomes_in_reserve(counts):\n",
    "    for outcome in counts:\n",
    "        reverse_outcome = ''\n",
    "        for i in outcome:\n",
    "            reverse_outcome = i + reverse_outcome\n",
    "        return reverse_outcome\n",
    "    \n",
    "\n",
    "\n",
    "def SendState(qc1,qc2,qc1_name):\n",
    "    \"\"\"\n",
    "    This function takes the output of the qc1 and \n",
    "    initializes another circuit qc2 with the same state\n",
    "    \"\"\"\n",
    "\n",
    "    #Quantum state retrieved from qc1\n",
    "    qs = qc1.qasm().split(sep = ';')[4:-1]\n",
    "\n",
    "\n",
    "    #Process the code to get the instructions\n",
    "\n",
    "    for index, instruction in enumerate(qs):\n",
    "        qs[index] = instruction.lstrip()\n",
    "\n",
    "    \n",
    "    #Parsing the instruction and applying to new circuit\n",
    "        \n",
    "    for instruction in qs:\n",
    "        if instruction[0] == 'x':\n",
    "            if instruction[5] == '[':\n",
    "                old_qr = int(instruction[6:-1])\n",
    "\n",
    "            else:\n",
    "                old_qr = int(instruction[5:-1])\n",
    "            qc2.x(qreg[old_qr])\n",
    "\n",
    "        elif instruction[0] == 'h':\n",
    "            if instruction[5] == '[':\n",
    "                old_qr = int(instruction[6:-1])\n",
    "            else:\n",
    "                old_qr = int(instruction[5:-1])\n",
    "\n",
    "            qc2.h(qreg[old_qr])\n",
    "\n",
    "\n",
    "        elif instruction[0] == 'm':\n",
    "            pass\n",
    "        else:\n",
    "            raise Exception('Unable to parse instruction')\n",
    "        \n",
    "\n",
    "\n",
    "qreg = QuantumRegister(16)\n",
    "creg = ClassicalRegister(16)\n",
    "\n",
    "asja = QuantumCircuit(qreg, creg, name = 'Asja')\n",
    "\n",
    "send = []\n",
    "asja_basis = []\n",
    "balvis_basis = []\n",
    "\n",
    "\n",
    "#Creating random bit string\n",
    "for i in range(16):\n",
    "    bit = randrange(2)\n",
    "    send.append(bit)\n",
    "\n",
    "\n",
    "#Preparing qubits, apply X gate if bit is 1\n",
    "\n",
    "for i, n in enumerate(send):\n",
    "    if n == 1:\n",
    "        asja.x(qreg[i])\n",
    "\n",
    "\n",
    "#Encoding\n",
    "        \n",
    "for i in range(16):\n",
    "    r = randrange(2) #Asja randomly picks a basis\n",
    "    if r == 0: #if bit is 0 then she encoded in Z basis\n",
    "        asja_basis.append('Z')\n",
    "    else:\n",
    "        asja.h(qreg[i])\n",
    "        asja_basis.append('X')\n",
    "\n",
    "balvis = QuantumCircuit(qreg, creg, name = 'Balvis')\n",
    "\n",
    "\n",
    "SendState(asja, balvis, 'Asja') #Asja sends states to Balvis\n",
    "\n",
    "#Balvis measures qubits\n",
    "for i in range(16):\n",
    "    r = randrange(2)\n",
    "    if r==0: #if bit p, then measures in Z basis\n",
    "        balvis.measure(qreg[i],creg[i])\n",
    "        balvis_basis.append('Z')\n",
    "\n",
    "    else: #if bit 1, then measures in X basis\n",
    "        balvis.h(qreg[i])\n",
    "        balvis.measure(qreg[i],creg[i])\n",
    "        balvis_basis.append('X')\n",
    "\n",
    "\n",
    "#Running the circuit\n",
    "        \n",
    "job = execute(balvis, Aer.get_backend('qasm_simulator'),shots = 1)\n",
    "counts = job.result().get_counts(balvis)\n",
    "counts = print_outcomes_in_reserve(counts)\n",
    "\n",
    "\n",
    "#Saving Balvis received string as a list\n",
    "received = list(map(int, counts))\n",
    "\n",
    "print(\"Asja sent:\", send)\n",
    "print(\"Asja encoding basis:\", asja_basis)\n",
    "print(\"Balvis received:\", received)\n",
    "print(\"Balvis decoding basis:\", balvis_basis)"
   ]
  },
  {
   "cell_type": "code",
   "execution_count": 6,
   "metadata": {},
   "outputs": [
    {
     "name": "stdout",
     "output_type": "stream",
     "text": [
      "Asjas key = [1, 0, 0, 0, 0, 0, 1, 1, 0, 0]\n",
      "Balvis key = [1, 0, 0, 0, 0, 0, 1, 1, 0, 0]\n"
     ]
    }
   ],
   "source": [
    "#Now the additional code for sifting\n",
    "\n",
    "#Sifting\n",
    "asja_key=[] #Asjas register for matching rounds\n",
    "balvis_key=[] #Balvis register for matching rounds\n",
    "for j in range(0,len(asja_basis)): #Going through list of bases \n",
    "    if asja_basis[j] == balvis_basis[j]: #Comparing\n",
    "        asja_key.append(send[j])\n",
    "        balvis_key.append(received[j]) #Keeping key bit if bases matched\n",
    "    else:\n",
    "        pass #Discard round if bases mismatched\n",
    "\n",
    "print(\"Asjas key =\", asja_key)\n",
    "print(\"Balvis key =\", balvis_key)"
   ]
  },
  {
   "cell_type": "code",
   "execution_count": null,
   "metadata": {},
   "outputs": [],
   "source": [
    "#So, we got the key strings for which the same bases was used for encoding and decoding"
   ]
  },
  {
   "cell_type": "code",
   "execution_count": 7,
   "metadata": {},
   "outputs": [
    {
     "name": "stdout",
     "output_type": "stream",
     "text": [
      "Asja randomly seleccted bit index =  5 , and its value is:  0\n",
      "QBER value =  0.0\n",
      "Asja's secret key=  [1, 0, 0, 0, 0, 0, 1, 1, 0, 0]\n",
      "Balvis's secret key =  [1, 0, 0, 0, 0, 0, 1, 1, 0, 0]\n",
      "Asja randomly seleccted bit index =  8 , and its value is:  0\n",
      "QBER value =  0.0\n",
      "Asja's secret key=  [1, 0, 0, 0, 0, 0, 1, 1, 0, 0]\n",
      "Balvis's secret key =  [1, 0, 0, 0, 0, 0, 1, 1, 0, 0]\n",
      "Asja randomly seleccted bit index =  0 , and its value is:  1\n",
      "QBER value =  0.0\n",
      "Asja's secret key=  [1, 0, 0, 0, 0, 0, 1, 1, 0, 0]\n",
      "Balvis's secret key =  [1, 0, 0, 0, 0, 0, 1, 1, 0, 0]\n"
     ]
    }
   ],
   "source": [
    "#Now let us find the QBER for the circuit 1\n",
    "\n",
    "rounds = len(asja_key)//3    #To divide without remainer, use //\n",
    "errors=0\n",
    "for i in range(rounds):\n",
    "    bit_index = randrange(len(asja_key)) \n",
    "    tested_bit = asja_key[bit_index]\n",
    "    print (\"Asja randomly selected bit index =\", bit_index, \", and its value is = \", tested_bit)\n",
    "    if asja_key[bit_index]!=balvis_key[bit_index]: #comparing tested rounds\n",
    "        errors=errors+1 #calculating errors\n",
    "    #removing tested bits from key strings\n",
    "    del asja_key[bit_index] #Use del to specify the index of the element you want to delete\n",
    "    del balvis_key[bit_index]\n",
    "QBER=errors/rounds #calculating QBER\n",
    "        \n",
    "print(\"QBER value =\", QBER)\n",
    "print(\"Asja's secret key =\", asja_key)\n",
    "print(\"Balvis' secret key =\", balvis_key)"
   ]
  },
  {
   "cell_type": "code",
   "execution_count": null,
   "metadata": {},
   "outputs": [],
   "source": []
  }
 ],
 "metadata": {
  "kernelspec": {
   "display_name": "Python 3",
   "language": "python",
   "name": "python3"
  },
  "language_info": {
   "codemirror_mode": {
    "name": "ipython",
    "version": 3
   },
   "file_extension": ".py",
   "mimetype": "text/x-python",
   "name": "python",
   "nbconvert_exporter": "python",
   "pygments_lexer": "ipython3",
   "version": "3.11.1"
  }
 },
 "nbformat": 4,
 "nbformat_minor": 2
}
