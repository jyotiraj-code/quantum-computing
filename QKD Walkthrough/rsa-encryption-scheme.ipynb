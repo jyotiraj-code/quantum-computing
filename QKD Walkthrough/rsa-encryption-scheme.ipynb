{
 "cells": [
  {
   "cell_type": "code",
   "execution_count": 4,
   "metadata": {},
   "outputs": [
    {
     "name": "stdout",
     "output_type": "stream",
     "text": [
      "\n",
      "The message:  5\n",
      "The encryption message:  14\n",
      "\n",
      "The decrypted message:  5.0\n",
      "Successful Encryption and Decryption\n"
     ]
    }
   ],
   "source": [
    "#Implementing the RSA encryption\n",
    "\n",
    "import math\n",
    "\n",
    "\n",
    "#Defining the factors for public and private key\n",
    "\n",
    "A = 3\n",
    "B = 11\n",
    "n = A*B\n",
    "phi_n = (A-1)*(B-1)\n",
    "e = 7\n",
    "k = 1\n",
    "d = (k*phi_n+1)/e\n",
    "\n",
    "#Encryption\n",
    "M = int(input(\"Enter a number as a message: \"))\n",
    "print()\n",
    "print(\"The message: \",M)\n",
    "E = (M**e)%n\n",
    "\n",
    "print(\"The encryption message: \",E)\n",
    "\n",
    "#Decryption\n",
    "print()\n",
    "D = (E**d)%n\n",
    "print(\"The decrypted message: \",D)\n",
    "\n",
    "if(M==D):\n",
    "    print(\"Successful Encryption and Decryption\")\n",
    "else:\n",
    "    print(\"Failed!\")"
   ]
  },
  {
   "cell_type": "code",
   "execution_count": null,
   "metadata": {},
   "outputs": [],
   "source": []
  }
 ],
 "metadata": {
  "kernelspec": {
   "display_name": "Python 3",
   "language": "python",
   "name": "python3"
  },
  "language_info": {
   "codemirror_mode": {
    "name": "ipython",
    "version": 3
   },
   "file_extension": ".py",
   "mimetype": "text/x-python",
   "name": "python",
   "nbconvert_exporter": "python",
   "pygments_lexer": "ipython3",
   "version": "3.11.1"
  }
 },
 "nbformat": 4,
 "nbformat_minor": 2
}
