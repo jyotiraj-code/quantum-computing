{
 "cells": [
  {
   "cell_type": "code",
   "execution_count": 5,
   "metadata": {},
   "outputs": [
    {
     "name": "stdout",
     "output_type": "stream",
     "text": [
      "a & b =  00100\n",
      "a | b = 11111\n",
      "a ^ b = 11011\n"
     ]
    }
   ],
   "source": [
    "# Bitwise operators in Python\n",
    "# In python they work on integers\n",
    "\n",
    "# First integers are converted to binary bits then we perform \n",
    "# the operations bit by bit\n",
    "\n",
    "# Suppose we have two integers\n",
    "a = int(input(\"First binary number: \"), 2)\n",
    "b = int(input(\"Second binary number: \"), 2)\n",
    "\n",
    "# Convert them back to binary strings of the same length\n",
    "binary_length = max(len(bin(a)), len(bin(b))) - 2  # Subtract 2 for '0b' prefix\n",
    "a_bin = bin(a)[2:].zfill(binary_length)\n",
    "b_bin = bin(b)[2:].zfill(binary_length)\n",
    "\n",
    "# Doing the bitwise AND operation\n",
    "print(\"a & b = \", bin(a & b)[2:].zfill(binary_length))\n",
    "# Print bitwise OR operation\n",
    "print(\"a | b =\", bin(a | b)[2:].zfill(binary_length))\n",
    "# print bitwise XOR operation\n",
    "print(\"a ^ b =\", bin(a ^ b)[2:].zfill(binary_length))\n"
   ]
  },
  {
   "cell_type": "code",
   "execution_count": 7,
   "metadata": {},
   "outputs": [
    {
     "name": "stdout",
     "output_type": "stream",
     "text": [
      "Message = 00000000001110010100000101001101\n",
      "Key = 00010011000101000101101100110100\n",
      "Ciphertext = 00010011001011010001101001111001\n"
     ]
    }
   ],
   "source": [
    "\"\"\"\n",
    "Asja wants to send Balvis a message that contains information about their next meetup time, say 9AM.\n",
    "\n",
    "She encrypts this message using one-time pad.\n",
    "\n",
    "She converts the time to its binary representation using 8-bit ASCII character encoding. Generally, \"XY AM/PM\" requires 32 bits.\n",
    "\n",
    "So, \"09AM\" is 00000000001110010100000101001101 in binary. (Refer: ASCII Table)\n",
    "\n",
    "Asja needs a random key of the same string length (32 bits) to encrypt her message.\n",
    "\"\"\"\n",
    "from random import randrange \n",
    "#So generating the random key\n",
    "lst = []\n",
    "i = 0\n",
    "for i in range(31):\n",
    "    lst.append(randrange(2))\n",
    "    i = i + 1\n",
    "key = int(''.join(map(str,lst)), 2) \n",
    "#The above converts the key to the binary format by joining all the binary numbers and then to integers\n",
    "\n",
    "\n",
    "#The message in binary\n",
    "m  = '00000000001110010100000101001101'\n",
    "\n",
    "#converting to binray\n",
    "message = int(m, 2)\n",
    "\n",
    "#Encryption\n",
    "ciphertext = message^key \n",
    "\n",
    "print('Message =', bin(message)[2:].zfill(32))\n",
    "print('Key =', bin(key)[2:].zfill(32))\n",
    "print('Ciphertext =', bin(ciphertext)[2:].zfill(32))\n",
    "\n"
   ]
  },
  {
   "cell_type": "code",
   "execution_count": 8,
   "metadata": {},
   "outputs": [
    {
     "name": "stdout",
     "output_type": "stream",
     "text": [
      "The decrypted message is therefore:  00000000001110010100000101001101\n"
     ]
    }
   ],
   "source": [
    "#Now let's decryption again by using the same key\n",
    "\n",
    "decryption = ciphertext^key\n",
    "print(\"The decrypted message is therefore: \", bin(decryption)[2:].zfill(32))"
   ]
  }
 ],
 "metadata": {
  "kernelspec": {
   "display_name": "Python 3",
   "language": "python",
   "name": "python3"
  },
  "language_info": {
   "codemirror_mode": {
    "name": "ipython",
    "version": 3
   },
   "file_extension": ".py",
   "mimetype": "text/x-python",
   "name": "python",
   "nbconvert_exporter": "python",
   "pygments_lexer": "ipython3",
   "version": "3.11.1"
  }
 },
 "nbformat": 4,
 "nbformat_minor": 2
}
