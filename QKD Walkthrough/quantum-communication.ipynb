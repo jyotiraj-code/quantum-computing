{
 "cells": [
  {
   "cell_type": "code",
   "execution_count": null,
   "metadata": {},
   "outputs": [],
   "source": [
    "#We will look at a different apporach quantum channels using quantum circuits\n",
    "\n",
    "#Using Quantum Communication"
   ]
  },
  {
   "cell_type": "code",
   "execution_count": 1,
   "metadata": {},
   "outputs": [],
   "source": [
    "from qiskit import QuantumRegister, ClassicalRegister, QuantumCircuit, execute, Aer"
   ]
  },
  {
   "cell_type": "code",
   "execution_count": 6,
   "metadata": {},
   "outputs": [
    {
     "name": "stdout",
     "output_type": "stream",
     "text": [
      "10010011\n"
     ]
    },
    {
     "data": {
      "text/html": [
       "<pre style=\"word-wrap: normal;white-space: pre;background: #fff0;line-height: 1.1;font-family: &quot;Courier New&quot;,Courier,monospace\">      ┌───┐\n",
       "q4_0: ┤ X ├\n",
       "      └───┘\n",
       "q4_1: ─────\n",
       "           \n",
       "q4_2: ─────\n",
       "      ┌───┐\n",
       "q4_3: ┤ X ├\n",
       "      └───┘\n",
       "q4_4: ─────\n",
       "           \n",
       "q4_5: ─────\n",
       "      ┌───┐\n",
       "q4_6: ┤ X ├\n",
       "      ├───┤\n",
       "q4_7: ┤ X ├\n",
       "      └───┘\n",
       "c4: 8/═════\n",
       "           </pre>"
      ],
      "text/plain": [
       "      ┌───┐\n",
       "q4_0: ┤ X ├\n",
       "      └───┘\n",
       "q4_1: ─────\n",
       "           \n",
       "q4_2: ─────\n",
       "      ┌───┐\n",
       "q4_3: ┤ X ├\n",
       "      └───┘\n",
       "q4_4: ─────\n",
       "           \n",
       "q4_5: ─────\n",
       "      ┌───┐\n",
       "q4_6: ┤ X ├\n",
       "      ├───┤\n",
       "q4_7: ┤ X ├\n",
       "      └───┘\n",
       "c4: 8/═════\n",
       "           "
      ]
     },
     "execution_count": 6,
     "metadata": {},
     "output_type": "execute_result"
    }
   ],
   "source": [
    "qreg = QuantumRegister(8)\n",
    "creg = ClassicalRegister(8)\n",
    "\n",
    "\n",
    "#Quantum Circuit for Asja state\n",
    "asja = QuantumCircuit(qreg, creg, name = 'Asja')\n",
    "\n",
    "#Now we will randomly choose qubits from 0 to 7 to apply a X gate\n",
    "\n",
    "from random import randrange\n",
    "\n",
    "send = []\n",
    "\n",
    "#We selected according to what random pattern we need to send \n",
    "for i in range(8):\n",
    "    bit = randrange(2)\n",
    "    send.append(bit)\n",
    "\n",
    "#Now applying X gates\n",
    "for i, n in enumerate(send):\n",
    "    if n == 1:\n",
    "        asja.x(qreg[i])\n",
    "\n",
    "send_str = ''.join(str(e) for e in send)\n",
    "print(send_str)\n",
    "\n",
    "asja.draw()\n"
   ]
  },
  {
   "cell_type": "code",
   "execution_count": 7,
   "metadata": {},
   "outputs": [],
   "source": [
    "#Now how we will send these states to Balvis?\n",
    "\n",
    "# import all necessary objects and methods for quantum circuits\n",
    "from qiskit import QuantumRegister, ClassicalRegister, QuantumCircuit, execute, Aer\n",
    "from random import randrange\n",
    "\n",
    "#Source: awards/teach_me_qiskit_2018/cryptography/Cryptography.ipynb\n",
    "\n",
    "def SendState(qc1, qc2, qc1_name):\n",
    "    ''' This function takes the output of a circuit qc1 (made up only of x and \n",
    "        h gates and initializes another circuit qc2 with the same state\n",
    "    ''' \n",
    "    \n",
    "    # Quantum state is retrieved from qasm code of qc1\n",
    "    qs = qc1.qasm().split(sep=';')[4:-1]\n",
    "\n",
    "    # Process the code to get the instructions\n",
    "    for index, instruction in enumerate(qs):\n",
    "        qs[index] = instruction.lstrip()\n",
    "\n",
    "    for instruction in qs:\n",
    "        if instruction[0] == 'x':\n",
    "            if instruction[5] == '[':\n",
    "                old_qr = int(instruction[6:-1])\n",
    "            else:\n",
    "                old_qr = int(instruction[5:-1])\n",
    "            qc2.x(qreg[old_qr])\n",
    "        elif instruction[0] == 'h':\n",
    "            if instruction[5] == '[':\n",
    "                old_qr = int(instruction[6:-1])\n",
    "            else:\n",
    "                old_qr = int(instruction[5:-1])\n",
    "            qc2.h(qreg[old_qr])\n",
    "        elif instruction[0] == 'm': # exclude measuring:\n",
    "            pass\n",
    "        else:\n",
    "            raise Exception('Unable to parse instruction')"
   ]
  },
  {
   "cell_type": "code",
   "execution_count": 8,
   "metadata": {},
   "outputs": [
    {
     "name": "stderr",
     "output_type": "stream",
     "text": [
      "C:\\Users\\jrnat\\AppData\\Local\\Temp\\ipykernel_17520\\1419382280.py:15: DeprecationWarning: The method ``qiskit.circuit.quantumcircuit.QuantumCircuit.qasm()`` is deprecated as of qiskit 0.46. It will be removed in the 1.0.0 release. Instead use the qiskit.qasm2.dump() or qiskit.qasm2.dumps() function\n",
      "  qs = qc1.qasm().split(sep=';')[4:-1]\n"
     ]
    },
    {
     "data": {
      "text/html": [
       "<pre style=\"word-wrap: normal;white-space: pre;background: #fff0;line-height: 1.1;font-family: &quot;Courier New&quot;,Courier,monospace\">      ┌───┐\n",
       "q4_0: ┤ X ├\n",
       "      └───┘\n",
       "q4_1: ─────\n",
       "           \n",
       "q4_2: ─────\n",
       "      ┌───┐\n",
       "q4_3: ┤ X ├\n",
       "      └───┘\n",
       "q4_4: ─────\n",
       "           \n",
       "q4_5: ─────\n",
       "      ┌───┐\n",
       "q4_6: ┤ X ├\n",
       "      ├───┤\n",
       "q4_7: ┤ X ├\n",
       "      └───┘\n",
       "c4: 8/═════\n",
       "           </pre>"
      ],
      "text/plain": [
       "      ┌───┐\n",
       "q4_0: ┤ X ├\n",
       "      └───┘\n",
       "q4_1: ─────\n",
       "           \n",
       "q4_2: ─────\n",
       "      ┌───┐\n",
       "q4_3: ┤ X ├\n",
       "      └───┘\n",
       "q4_4: ─────\n",
       "           \n",
       "q4_5: ─────\n",
       "      ┌───┐\n",
       "q4_6: ┤ X ├\n",
       "      ├───┤\n",
       "q4_7: ┤ X ├\n",
       "      └───┘\n",
       "c4: 8/═════\n",
       "           "
      ]
     },
     "execution_count": 8,
     "metadata": {},
     "output_type": "execute_result"
    }
   ],
   "source": [
    "balvis = QuantumCircuit(qreg, creg, name='Balvis') #Defining Balvis circuit\n",
    "\n",
    "SendState(asja, balvis, 'Asja') #Asja sends states to Balvis\n",
    "\n",
    "balvis.draw()"
   ]
  },
  {
   "cell_type": "code",
   "execution_count": 9,
   "metadata": {},
   "outputs": [
    {
     "data": {
      "text/plain": [
       "<qiskit.circuit.instructionset.InstructionSet at 0x1e55f05f7c0>"
      ]
     },
     "execution_count": 9,
     "metadata": {},
     "output_type": "execute_result"
    }
   ],
   "source": [
    "#We just sent quantum states from Asja to Balvis\n",
    "\n",
    "#Now let's see what happens Balvis performs measurement to read the bits Asja sent to him\n",
    "\n",
    "balvis.measure(qreg,creg)"
   ]
  },
  {
   "cell_type": "code",
   "execution_count": 10,
   "metadata": {},
   "outputs": [
    {
     "name": "stderr",
     "output_type": "stream",
     "text": [
      "C:\\Users\\jrnat\\AppData\\Local\\Temp\\ipykernel_17520\\1171200962.py:8: DeprecationWarning: The 'qiskit.Aer' entry point is deprecated and will be removed in Qiskit 1.0. You should use 'qiskit_aer.Aer' directly instead.\n",
      "  job = execute(balvis,Aer.get_backend('qasm_simulator'),shots=1) #Note that Balvis only has one shot to measure qubits\n",
      "C:\\Users\\jrnat\\AppData\\Local\\Temp\\ipykernel_17520\\1171200962.py:8: DeprecationWarning: The function ``qiskit.execute_function.execute()`` is deprecated as of qiskit 0.46.0. It will be removed in the Qiskit 1.0 release. This function combines ``transpile`` and ``backend.run``, which is covered by ``Sampler`` :mod:`~qiskit.primitives`. Alternatively, you can also run :func:`.transpile` followed by ``backend.run()``.\n",
      "  job = execute(balvis,Aer.get_backend('qasm_simulator'),shots=1) #Note that Balvis only has one shot to measure qubits\n"
     ]
    }
   ],
   "source": [
    "def print_outcomes_in_reserve(counts): # takes a dictionary variable\n",
    "    for outcome in counts: # for each key-value in dictionary\n",
    "        reverse_outcome = ''\n",
    "        for i in outcome: # each string can be considered as a list of characters\n",
    "            reverse_outcome = i + reverse_outcome # each new symbol comes before the old symbol(s)\n",
    "    return reverse_outcome\n",
    "\n",
    "job = execute(balvis,Aer.get_backend('qasm_simulator'),shots=1) #Note that Balvis only has one shot to measure qubits\n",
    "counts = job.result().get_counts(balvis) # counts is a dictionary object in python\n",
    "received = print_outcomes_in_reserve(counts)"
   ]
  },
  {
   "cell_type": "code",
   "execution_count": 11,
   "metadata": {},
   "outputs": [
    {
     "name": "stdout",
     "output_type": "stream",
     "text": [
      "Asja sent: 10010011\n",
      "Balvis received: 10010011\n"
     ]
    }
   ],
   "source": [
    "print(\"Asja sent:\", send_str)\n",
    "print(\"Balvis received:\", received)"
   ]
  },
  {
   "cell_type": "code",
   "execution_count": null,
   "metadata": {},
   "outputs": [],
   "source": [
    "#Hence we can see the same set of bits have been communicated\n"
   ]
  }
 ],
 "metadata": {
  "kernelspec": {
   "display_name": "Python 3",
   "language": "python",
   "name": "python3"
  },
  "language_info": {
   "codemirror_mode": {
    "name": "ipython",
    "version": 3
   },
   "file_extension": ".py",
   "mimetype": "text/x-python",
   "name": "python",
   "nbconvert_exporter": "python",
   "pygments_lexer": "ipython3",
   "version": "3.11.1"
  }
 },
 "nbformat": 4,
 "nbformat_minor": 2
}
