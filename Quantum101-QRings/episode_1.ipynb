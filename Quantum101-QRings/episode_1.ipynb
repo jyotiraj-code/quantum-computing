{
 "cells": [
  {
   "cell_type": "markdown",
   "id": "c61e8a50-4f05-48ef-924c-38a48b3eee65",
   "metadata": {},
   "source": [
    "# Episode 1: Welcome, Math Prereqs & SDK Setup\n",
    "\n",
    "*In this session, we'll get you set up with the Quantum Rings SDK within your qBraid environment.*"
   ]
  },
  {
   "cell_type": "markdown",
   "id": "a044e780-7c30-46c3-b30f-d38395db34d0",
   "metadata": {},
   "source": [
    "## 1. Login & Credentials\n",
    "1. Open your browser and go to [quantumrings.com](https://www.quantumrings.com/) to log in.\n",
    "2. Navigate to your account dashboard and copy your **API token** and **email/username**.\n",
    "3. Keep your notebook open in qBraid so you can paste your credentials directly below."
   ]
  },
  {
   "cell_type": "markdown",
   "id": "7e90392e-b036-418e-8f54-c6a0096b6bba",
   "metadata": {},
   "source": [
    "## 2. Install & Reference Documentation\n",
    "- Installation instructions: [Installation Guide](https://portal.quantumrings.com/doc/Installation.html)\n",
    "- We're using the pre-configured Quantum Rings environment on qBraid, so the SDK is already installed."
   ]
  },
  {
   "cell_type": "markdown",
   "id": "e4a721f2-871b-4e3f-a370-191d6bc188fa",
   "metadata": {},
   "source": [
    "## 3. Save Your Credentials Locally\n",
    "Run the cell below, pasting in your token and email. This will store your account locally for future sessions."
   ]
  },
  {
   "cell_type": "code",
   "execution_count": 7,
   "id": "3549b54d-b98e-47aa-8a5e-bfe47c19fc3e",
   "metadata": {},
   "outputs": [
    {
     "name": "stdout",
     "output_type": "stream",
     "text": [
      "Active account: {'name': 'i20ph049@phy.svnit.ac.in', 'token': 'rings-128.RudMvYqCFOd2CE6mF7G4Xo5NANQKv54K', 'max_qubits': '128'}\n"
     ]
    }
   ],
   "source": [
    "from QuantumRingsLib import QuantumRingsProvider\n",
    "  \n",
    "\n",
    "# Call save_account on the provider instance\n",
    "provider = QuantumRingsProvider(\n",
    "    token='rings-128.RudMvYqCFOd2CE6mF7G4Xo5NANQKv54K',\n",
    "    name='i20ph049@phy.svnit.ac.in'\n",
    ")\n",
    "backend = provider.get_backend(\"scarlet_quantum_rings\")\n",
    "\n",
    "# Show the saved account\n",
    "print(\"Active account:\", provider.active_account())"
   ]
  },
  {
   "cell_type": "markdown",
   "id": "7128f78f-bcb6-4272-ae26-83a750f2599c",
   "metadata": {},
   "source": [
    "## 4. \"Hello Quantum\" Demo\n",
    "Let's build a simple 1-qubit circuit, apply a Hadamard gate, and measure."
   ]
  },
  {
   "cell_type": "code",
   "execution_count": 2,
   "id": "07eecafa-f4e8-43ca-8ec7-09d4549fb84a",
   "metadata": {},
   "outputs": [],
   "source": [
    "# QauntumRingsLib 0.9.1\n",
    "\n",
    "from QuantumRingsLib import QuantumRingsProvider, QuantumRegister, ClassicalRegister, QuantumCircuit, job_monitor\n"
   ]
  },
  {
   "cell_type": "code",
   "execution_count": 3,
   "id": "8c4c2483-122f-43e4-9909-8a82ff8dd3e7",
   "metadata": {},
   "outputs": [
    {
     "data": {
      "text/plain": [
       "Gate(label = ,name = ,unit = dt,mutable = True,parameterized = False,qubits = 1,classical_bits = 1,'parameters': ])"
      ]
     },
     "execution_count": 3,
     "metadata": {},
     "output_type": "execute_result"
    }
   ],
   "source": [
    "# Create registers\n",
    "q = QuantumRegister(1, 'q')\n",
    "c = ClassicalRegister(1, 'c')\n",
    "qc = QuantumCircuit(q, c)\n",
    "\n",
    "# Apply a Hadamard gate, measure, and execute\n",
    "qc.h(q[0])\n",
    "qc.measure(q[0], c[0])\n",
    "\n",
    "# === Gates and Measurement\n",
    "qc.x(q[0])            # Apply X gate\n",
    "qc.measure(q[0], c[0])  # Measure into classical bit 0"
   ]
  },
  {
   "cell_type": "code",
   "execution_count": 4,
   "id": "ba38e8da-f0ed-4f07-afb2-a453eb8df43e",
   "metadata": {},
   "outputs": [
    {
     "name": "stdout",
     "output_type": "stream",
     "text": [
      "🚀 Running minimal Quantum Rings Core circuit...\n",
      "Job Running\n",
      "Job Done.\n",
      "Ending Job Monitor\n",
      "Using Engine: scarlet_quantum_rings\n"
     ]
    }
   ],
   "source": [
    "# === Run\n",
    "print(\"🚀 Running minimal Quantum Rings Core circuit...\")\n",
    "job = backend.run(qc, shots=512)\n",
    "job_monitor(job)  # ✅ Optional: track progress\n",
    "result = job.result()"
   ]
  },
  {
   "cell_type": "code",
   "execution_count": 5,
   "id": "bd5a37a1-6466-4a32-95ff-3fba5bdfe0cc",
   "metadata": {},
   "outputs": [
    {
     "name": "stdout",
     "output_type": "stream",
     "text": [
      "📊 Measurement Results: {'0': 282, '1': 230}\n"
     ]
    }
   ],
   "source": [
    "# === Results\n",
    "counts = result.get_counts()\n",
    "print(\"📊 Measurement Results:\", counts)"
   ]
  },
  {
   "cell_type": "markdown",
   "id": "a3fdec11-5178-42fc-a2ad-ed981021a92c",
   "metadata": {},
   "source": [
    "## 5. Math Exercises"
   ]
  },
  {
   "cell_type": "markdown",
   "id": "b2bd690d-8a14-4b54-a24f-ee7a9bf72573",
   "metadata": {},
   "source": [
    "### Dirac Notation"
   ]
  },
  {
   "cell_type": "markdown",
   "id": "972edd49-ac74-4dd3-b17c-877fb290609b",
   "metadata": {},
   "source": [
    "**A) Vectors in Dirac notation (normalized if necessary):**\n",
    "\n",
    "1. $\\begin{pmatrix}1 \\\\ 0\\end{pmatrix} \\to |0\\rangle$ (normalized)  \n",
    "2. $\\begin{pmatrix}0 \\\\ 1\\end{pmatrix} \\to |1\\rangle$ (normalized)  \n",
    "3. $\\begin{pmatrix}\\frac{1}{\\sqrt{2}} \\\\ \\frac{1}{\\sqrt{2}}\\end{pmatrix} \\to |+\\rangle$ (normalized)  \n",
    "4. $\\begin{pmatrix}\\frac{1}{\\sqrt{2}} \\\\ -\\frac{1}{\\sqrt{2}}\\end{pmatrix} \\to |-\\rangle$ (normalized)  \n",
    "5. $\\begin{pmatrix} 3 \\\\ 7 \\end{pmatrix} \\to$ Not normalized. Normalized: $\\frac{1}{\\sqrt{58}} (3|0\\rangle + 7|1\\rangle)$  \n",
    "6. $\\begin{pmatrix} 2 \\\\ -3 \\end{pmatrix} \\to$ Not normalized. Normalized: $\\frac{1}{\\sqrt{13}} (2|0\\rangle - 3|1\\rangle)$  \n",
    "7. $\\begin{pmatrix} 1 \\\\ e^{-i \\frac{\\pi}{2}} \\end{pmatrix} = \\begin{pmatrix} 1 \\\\ -i \\end{pmatrix} \\to$ Not normalized. Normalized: $\\frac{1}{\\sqrt{2}} (|0\\rangle - i|1\\rangle)$  \n",
    "\n",
    "**B) States in vector notation:**\n",
    "\n",
    "1. $|+\\rangle \\to \\begin{pmatrix} \\dfrac{1}{\\sqrt{2}} \\\\ \\dfrac{1}{\\sqrt{2}} \\end{pmatrix}$  \n",
    "2. $|-\\rangle \\to \\begin{pmatrix} \\dfrac{1}{\\sqrt{2}} \\\\ -\\dfrac{1}{\\sqrt{2}} \\end{pmatrix}$  \n",
    "3. $\\dfrac{1}{\\sqrt{2}}(|+\\rangle - |-\\rangle) \\to \\begin{pmatrix} 0 \\\\ 1 \\end{pmatrix}$  \n",
    "4. $\\dfrac{1}{\\sqrt{2}}(|1\\rangle + |-\\rangle) \\to \\begin{pmatrix} \\dfrac{1}{2} \\\\ \\dfrac{\\sqrt{2} - 1}{2} \\end{pmatrix}$  "
   ]
  },
  {
   "cell_type": "markdown",
   "id": "3fd03220-1982-4565-bb8e-741e0139325a",
   "metadata": {},
   "source": [
    "### Inner Products\n",
    "\n",
    "Compute the following inner products. Let $|\\psi\\rangle = \\alpha|0\\rangle+\\beta|1\\rangle$ and $|\\phi\\rangle = \\gamma|0\\rangle+\\delta|1\\rangle$.\n",
    "\n",
    "1. $\\langle 0|+ \\rangle$\n",
    "\n",
    "$|+\\rangle = \\frac{1}{\\sqrt{2}}(|0\\rangle + |1\\rangle)$\n",
    "$\\langle 0|+ \\rangle = \\langle 0| \\left( \\frac{1}{\\sqrt{2}}|0\\rangle + \\frac{1}{\\sqrt{2}}|1\\rangle \\right) = \\frac{1}{\\sqrt{2}}\\langle 0|0\\rangle + \\frac{1}{\\sqrt{2}}\\langle 0|1\\rangle = \\frac{1}{\\sqrt{2}}(1) + \\frac{1}{\\sqrt{2}}(0) = \\boxed{\\dfrac{1}{\\sqrt{2}}}$\n",
    "\n",
    "2.  $\\langle -|+ \\rangle$\n",
    "\n",
    "$|-\\rangle = \\frac{1}{\\sqrt{2}}(|0\\rangle - |1\\rangle)$\n",
    "$\\langle -|+ \\rangle = \\left( \\frac{1}{\\sqrt{2}}\\langle 0| - \\frac{1}{\\sqrt{2}}\\langle 1| \\right) \\left( \\frac{1}{\\sqrt{2}}|0\\rangle + \\frac{1}{\\sqrt{2}}|1\\rangle \\right)$\n",
    "$= \\frac{1}{2}\\langle 0|0\\rangle + \\frac{1}{2}\\langle 0|1\\rangle - \\frac{1}{2}\\langle 1|0\\rangle - \\frac{1}{2}\\langle 1|1\\rangle = \\frac{1}{2}(1) + \\frac{1}{2}(0) - \\frac{1}{2}(0) - \\frac{1}{2}(1) = \\boxed{0}$\n",
    "\n",
    "\n",
    "3.   $\\langle 0|\\psi \\rangle$\n",
    "\n",
    "$|\\psi\\rangle = \\alpha|0\\rangle + \\beta|1\\rangle$\n",
    "$\\langle 0|\\psi \\rangle = \\langle 0|(\\alpha|0\\rangle + \\beta|1\\rangle) = \\alpha\\langle 0|0\\rangle + \\beta\\langle 0|1\\rangle = \\alpha(1) + \\beta(0) = \\boxed{\\alpha}$\n",
    "\n",
    "4.    $\\langle \\phi|\\psi \\rangle$\n",
    "\n",
    "$|\\phi\\rangle = \\gamma|0\\rangle + \\delta|1\\rangle$\n",
    "$\\langle \\phi| = \\gamma^*\\langle 0| + \\delta^*\\langle 1|$ (conjugate coefficients)\n",
    "$\\langle \\phi|\\psi \\rangle = (\\gamma^*\\langle 0| + \\delta^*\\langle 1|)(\\alpha|0\\rangle + \\beta|1\\rangle)$\n",
    "$= \\gamma^*\\alpha\\langle 0|0\\rangle + \\gamma^*\\beta\\langle 0|1\\rangle + \\delta^*\\alpha\\langle 1|0\\rangle + \\delta^*\\beta\\langle 1|1\\rangle$\n",
    "$= \\gamma^*\\alpha(1) + \\gamma^*\\beta(0) + \\delta^*\\alpha(0) + \\delta^*\\beta(1) = \\boxed{\\gamma^{*}\\alpha + \\delta^{*}\\beta}$"
   ]
  },
  {
   "cell_type": "markdown",
   "id": "81a8c720-e6f1-4750-8bb6-d54d786f0226",
   "metadata": {},
   "source": [
    "### Outer Products \n",
    "\n",
    "Compute the following outer products. Let $|\\psi\\rangle = \\alpha|0\\rangle+\\beta|1\\rangle$ and $|\\phi\\rangle = \\gamma|0\\rangle+\\delta|1\\rangle$.\n",
    "\n",
    "1. $|0\\rangle \\langle 0 |$\n",
    "\n",
    "$|0\\rangle = \\left( \\begin{array}{c} 1 \\ 0 \\end{array} \\right)$, $\\langle0| = \\left( \\begin{array}{cc} 1 & 0 \\end{array} \\right)$\n",
    "$|0\\rangle\\langle0| = \\left( \\begin{array}{cc} 1 & 0 \\ 0 & 0 \\end{array} \\right)$\n",
    "\n",
    "2. $|1\\rangle \\langle + |$\n",
    "\n",
    "$|1\\rangle = \\left( \\begin{array}{c} 0 \\ 1 \\end{array} \\right)$, $\\langle+| = \\frac{1}{\\sqrt{2}}\\left( \\begin{array}{cc} 1 & 1 \\end{array} \\right)$\n",
    "$|1\\rangle\\langle+| = \\frac{1}{\\sqrt{2}}\\left( \\begin{array}{cc} 0 & 0 \\ 1 & 1 \\end{array} \\right)$\n",
    "\n",
    "3. $|0\\rangle \\langle \\psi |$\n",
    "\n",
    "$|0\\rangle = \\left( \\begin{array}{c} 1 \\ 0 \\end{array} \\right)$, $\\langle\\psi| = \\left( \\begin{array}{cc} \\alpha^* & \\beta^* \\end{array} \\right)$\n",
    "$|0\\rangle\\langle\\psi| = \\left( \\begin{array}{cc} \\alpha^* & \\beta^* \\ 0 & 0 \\end{array} \\right)$\n",
    "\n",
    "4. $|\\phi\\rangle \\langle \\psi |$\n",
    "\n",
    "$|\\phi\\rangle = \\left( \\begin{array}{c} \\gamma \\ \\delta \\end{array} \\right)$, $\\langle\\psi| = \\left( \\begin{array}{cc} \\alpha^* & \\beta^* \\end{array} \\right)$\n",
    "$|\\phi\\rangle\\langle\\psi| = \\left( \\begin{array}{cc} \\gamma\\alpha^* & \\gamma\\beta^* \\ \\delta\\alpha^* & \\delta\\beta^* \\end{array} \\right)$"
   ]
  },
  {
   "cell_type": "markdown",
   "id": "e1522a68-366d-4306-92c4-6d1525e4171b",
   "metadata": {},
   "source": [
    "### Unitary and Hermitian Matrices\n",
    "\n",
    "A unitary matrix $U$ satisfies $UU^{\\dagger} = U^{\\dagger} U = \\mathbb{1}$, or in other words, $U^\\dagger = U^{-1}$. A unitary matrix preserves the norm (length) of a vector. A Hermitian matrix $A$ satisfies $A^\\dagger = A$.\n",
    "\n",
    "For each of the following matrices, say whether or not they are Hermitian, and then check by matrix multiplication if they are unitary.\n",
    "1. $\\begin{pmatrix}1 & 0\\\\0 & -1\\end{pmatrix}$\n",
    "\n",
    "- Hermitian: Yes\n",
    "- Unitary: Yes\n",
    "\n",
    "2. $\\begin{pmatrix}0 & i\\\\-i & 0\\end{pmatrix}$\n",
    "\n",
    "- Hermitian: Yes\n",
    "- Unitary: Yes\n",
    "\n",
    "3. $\\begin{pmatrix}1 & -i\\\\i & 1\\end{pmatrix}$\n",
    "\n",
    "- Hermitian: Yes\n",
    "- Unitary: No\n",
    "\n",
    "4. $\\begin{pmatrix}\\cos(\\theta) & \\sin(\\theta)\\\\ -\\sin(\\theta) & \\cos(\\theta)\\end{pmatrix}$\n",
    "\n",
    "- Hermitian: No\n",
    "- Unitary: Yes"
   ]
  },
  {
   "cell_type": "markdown",
   "id": "475967d0-6122-4740-844f-f6b567ef0c16",
   "metadata": {},
   "source": [
    "### Sneak Preview: Hadamard gate\n",
    "\n",
    "The following matrix is called the Hadamard gate: $H=\\tfrac{1}{\\sqrt{2}}\\begin{pmatrix}1 & 1\\\\1 & -1\\end{pmatrix}$  Recall that a gate is just an operator which maps one quantum state to another quantum state. In the language of linear algebra, it is just a matrix multiplication.\n",
    "\n",
    "Let's see how $H$ acts on our states. Compute the following:\n",
    "1. $H|0\\rangle$\n",
    "2. $H|1\\rangle$\n",
    "3. $H|+\\rangle$\n",
    "4. $H|-\\rangle$\n",
    "\n",
    "What can you say about the action of the Hadamard gate?"
   ]
  },
  {
   "cell_type": "code",
   "execution_count": 9,
   "id": "dc93d8a9",
   "metadata": {},
   "outputs": [],
   "source": [
    "from QuantumRingsLib import QuantumRingsProvider, QuantumRegister, ClassicalRegister, QuantumCircuit, job_monitor\n",
    "\n",
    "# Create registers\n",
    "q = QuantumRegister(1, 'q')\n",
    "c = ClassicalRegister(1, 'c')\n"
   ]
  },
  {
   "cell_type": "code",
   "execution_count": 11,
   "id": "325cb194",
   "metadata": {},
   "outputs": [
    {
     "name": "stdout",
     "output_type": "stream",
     "text": [
      "Job Running\n",
      "Job Done.\n",
      "Ending Job Monitor\n",
      "\n",
      "Circuit 1 results:\n",
      "{'0': 251, '1': 261}\n",
      "Using Engine: scarlet_quantum_rings\n"
     ]
    }
   ],
   "source": [
    "# Circuit for H|0>\n",
    "qc1 = QuantumCircuit(q, c)\n",
    "qc1.h(q[0])\n",
    "qc1.measure(q[0], c[0])\n",
    "\n",
    "\n",
    "job = backend.run(qc1, shots=512)\n",
    "job_monitor(job)\n",
    "result = job.result()\n",
    "counts = result.get_counts()\n",
    "print(f\"\\nCircuit {i+1} results:\")\n",
    "print(counts)"
   ]
  },
  {
   "cell_type": "code",
   "execution_count": 13,
   "id": "5f26f84a",
   "metadata": {},
   "outputs": [
    {
     "name": "stdout",
     "output_type": "stream",
     "text": [
      "Job Running\n",
      "Using Engine: scarlet_quantum_rings\n",
      "Job Done.\n",
      "Ending Job Monitor\n",
      "\n",
      "Circuit 2 results:\n",
      "{'0': 252, '1': 260}\n"
     ]
    }
   ],
   "source": [
    "# Circuit for H|1>\n",
    "qc2 = QuantumCircuit(q, c)\n",
    "qc2.x(q[0])       # Prepare |1> state\n",
    "qc2.h(q[0])\n",
    "qc2.measure(q[0], c[0])\n",
    "\n",
    "job = backend.run(qc2, shots=512)\n",
    "job_monitor(job)\n",
    "result = job.result()\n",
    "counts = result.get_counts()\n",
    "print(f\"\\nCircuit {2} results:\")\n",
    "print(counts)"
   ]
  },
  {
   "cell_type": "code",
   "execution_count": 15,
   "id": "1dc2d8af",
   "metadata": {},
   "outputs": [
    {
     "name": "stdout",
     "output_type": "stream",
     "text": [
      "Job Running\n",
      "Using Engine: scarlet_quantum_rings\n",
      "Job Done.\n",
      "Ending Job Monitor\n",
      "\n",
      "Circuit 3 results:\n",
      "{'0': 512}\n"
     ]
    }
   ],
   "source": [
    "# Circuit for H|+>\n",
    "qc3 = QuantumCircuit(q, c)\n",
    "qc3.h(q[0])       # Prepare |+> state (first H)\n",
    "qc3.h(q[0])       # Apply H to |+>\n",
    "qc3.measure(q[0], c[0])\n",
    "\n",
    "job = backend.run(qc3, shots=512)\n",
    "job_monitor(job)\n",
    "result = job.result()\n",
    "counts = result.get_counts()\n",
    "print(f\"\\nCircuit {3} results:\")\n",
    "print(counts)"
   ]
  },
  {
   "cell_type": "code",
   "execution_count": 16,
   "id": "f83722f4",
   "metadata": {},
   "outputs": [
    {
     "name": "stdout",
     "output_type": "stream",
     "text": [
      "Job RunningUsing Engine: scarlet_quantum_rings\n",
      "\n",
      "Job Done.\n",
      "Ending Job Monitor\n",
      "\n",
      "Circuit 4 results:\n",
      "{'1': 512}\n"
     ]
    }
   ],
   "source": [
    "# Circuit for H|->\n",
    "qc4 = QuantumCircuit(q, c)\n",
    "qc4.x(q[0])       # Prepare |1>\n",
    "qc4.h(q[0])       # Prepare |-> state (first H)\n",
    "qc4.h(q[0])       # Apply H to |->\n",
    "qc4.measure(q[0], c[0])\n",
    "\n",
    "job = backend.run(qc4, shots=512)\n",
    "job_monitor(job)\n",
    "result = job.result()\n",
    "counts = result.get_counts()\n",
    "print(f\"\\nCircuit {4} results:\")\n",
    "print(counts)"
   ]
  },
  {
   "cell_type": "markdown",
   "id": "31e4f764-c292-486b-99de-0bb7369377e5",
   "metadata": {},
   "source": [
    "----\n",
    "### Next Up\n",
    "**Episode 2: Single-Qubit Gates, Bloch Sphere & Measurement**\n",
    "\n",
    "We'll explore the Bloch sphere representation and see how various single-qubit gates manipulate states."
   ]
  }
 ],
 "metadata": {
  "kernelspec": {
   "display_name": "qrings",
   "language": "python",
   "name": "python3"
  },
  "language_info": {
   "codemirror_mode": {
    "name": "ipython",
    "version": 3
   },
   "file_extension": ".py",
   "mimetype": "text/x-python",
   "name": "python",
   "nbconvert_exporter": "python",
   "pygments_lexer": "ipython3",
   "version": "3.13.3"
  }
 },
 "nbformat": 4,
 "nbformat_minor": 5
}
