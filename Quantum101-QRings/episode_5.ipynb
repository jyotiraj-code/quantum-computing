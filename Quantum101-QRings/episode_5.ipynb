{
 "cells": [
  {
   "cell_type": "markdown",
   "id": "0b145155-4321-4c23-bae9-07a1f919dc57",
   "metadata": {},
   "source": [
    "<div style=\"background-color:rgba(78, 188, 130, 0.05); text-align:center; vertical-align: middle; padding:20px 0;border:3px; border-style:solid; padding: 0.5em; border-color: rgba(78, 188, 130, 1.0); color: #000000;\">\n",
    "\n",
    "<img src=\"figs/qr_logo.png\" width=\"700\"/>\n",
    "\n",
    "<h1><strong>Quantum Summer School</strong></h1>\n",
    "\n",
    "<h2><strong>Episode 5</strong></h2>\n",
    "\n",
    "<h3><strong>Building Blocks of Quantum Algorithms</strong></h3>\n",
    "\n",
    "</div>"
   ]
  },
  {
   "cell_type": "markdown",
   "id": "ddae8b51-ecd2-45e4-bd34-ed23ce60bb73",
   "metadata": {},
   "source": [
    "*In this session, we’ll explore the foundational building blocks of quantum oracles and amplitude amplification.*"
   ]
  },
  {
   "cell_type": "markdown",
   "id": "8c5639e9-6fa3-4329-9957-f6ae5dd5c4b1",
   "metadata": {
    "jp-MarkdownHeadingCollapsed": true
   },
   "source": [
    "<div style=\"background-color:rgba(255, 248, 240, 1.0); text-align:left; vertical-align: middle; padding:20px 0;border:3px; border-style:solid; padding: 0.5em; border-color: rgba(255, 142, 0, 1.0); color: #000000;\">\n",
    "\n",
    "## Objectives\n",
    "1. Understand what a quantum oracle is and why it's useful\n",
    "2. Understand how to construct addition and phase flip oracles\n",
    "3. Explore amplitude amplification\n",
    "\n",
    "<div/>"
   ]
  },
  {
   "cell_type": "markdown",
   "id": "96ddba20",
   "metadata": {},
   "source": [
    "## Setup & Imports"
   ]
  },
  {
   "cell_type": "code",
   "execution_count": 105,
   "id": "3c3ae3d5",
   "metadata": {},
   "outputs": [],
   "source": [
    "from QuantumRingsLib import QuantumRingsProvider, QuantumRegister, ClassicalRegister, QuantumCircuit, job_monitor\n",
    "# import qiskit versions of QuantumCircuit, QuantumRegister, ClassicalRegister so we can draw statevectors in latex\n",
    "from qiskit import QuantumCircuit as qkQuantumCircuit\n",
    "from qiskit import QuantumRegister as qkQuantumRegister\n",
    "from qiskit import ClassicalRegister as qkClassicalRegister\n",
    "from qiskit.circuit.library import GroverOperator, MCMT, ZGate\n",
    "from qiskit.visualization import plot_histogram\n",
    "from qiskit.quantum_info import Statevector\n",
    "import matplotlib.pyplot as plt\n",
    "import warnings\n",
    "warnings.filterwarnings('ignore')\n",
    "import numpy as np\n",
    "from jupyterquiz import display_quiz\n",
    "\n",
    "  \n",
    "provider = QuantumRingsProvider(\n",
    "    token='rings-128.RudMvYqCFOd2CE6mF7G4Xo5NANQKv54K',\n",
    "    name='i20ph049@phy.svnit.ac.in'\n",
    ")\n",
    "backend = provider.get_backend(\"scarlet_quantum_rings\")"
   ]
  },
  {
   "cell_type": "markdown",
   "id": "ffdde39f-6d8b-4a9f-988d-1d922dc89d8e",
   "metadata": {},
   "source": [
    "## Helper Functions"
   ]
  },
  {
   "cell_type": "markdown",
   "id": "5913b9af-6b97-4252-9785-4e06f0f3bf0f",
   "metadata": {},
   "source": [
    "Bit List: return a list of all bit strings of length num_bits"
   ]
  },
  {
   "cell_type": "code",
   "execution_count": 106,
   "id": "26d5a5bf-b1fd-4ee1-810a-f696bbedcbbb",
   "metadata": {},
   "outputs": [],
   "source": [
    "def bit_list(num_bits):\n",
    "    bit_strings = [bin(bit)[2:].zfill(num_bits) for bit in range(2**num_bits)]\n",
    "    bit_lists = []\n",
    "    for string in bit_strings:\n",
    "        bit_lists.append([int(bit) for bit in string])\n",
    "    return  bit_strings, bit_lists"
   ]
  },
  {
   "cell_type": "markdown",
   "id": "29a7d1e7-3404-436a-8c51-ff9a7f867aa2",
   "metadata": {},
   "source": [
    "Check Truth Table: supply an oracle which outputs $f(\\vec{x})\\oplus y$ for a register of length len_x ($\\vec{x}$), and use this to check across all possible inputs"
   ]
  },
  {
   "cell_type": "code",
   "execution_count": 107,
   "id": "bf176cb3-fed1-4f8f-8227-7aa630670bf5",
   "metadata": {},
   "outputs": [],
   "source": [
    "def check_truth_table(len_x, oracle):\n",
    "\n",
    "    print('Oracle:')\n",
    "    qx = qkQuantumRegister(len_x, 'x')\n",
    "    qy = qkQuantumRegister(1, 'y')\n",
    "    qc = qkQuantumCircuit(qy,qx)\n",
    "    oracle(qc, qx, qy)\n",
    "    display(qc.draw(reverse_bits=True))\n",
    "\n",
    "    print('Bit ordering is x_n,...,x_0,y \\n')\n",
    "\n",
    "    basis_states, _ = bit_list(len_x+1)\n",
    "    for state in basis_states:\n",
    "        qx = qkQuantumRegister(len_x, 'x')\n",
    "        qy = qkQuantumRegister(1, 'y')\n",
    "        qc = qkQuantumCircuit(qy,qx)\n",
    "        \n",
    "        for i in range(len_x+1):\n",
    "            if state[len_x-i] == '1':\n",
    "                qc.x(i)\n",
    "        \n",
    "        sv_in = Statevector(qc)\n",
    "\n",
    "        oracle(qc, qx, qy)\n",
    "    \n",
    "        sv = Statevector(qc)\n",
    "        print(f\"In: \\t {sv_in.draw('latex').data[4:4+len_x+1]} \\t Out: \\t {sv.draw('latex').data[4:4+len_x+1]} \\t f+y: \\t {sv.draw('latex').data[4+len_x]} \\n\")\n",
    "        "
   ]
  },
  {
   "cell_type": "markdown",
   "id": "a625da45-7696-49c3-b03c-73194be71f73",
   "metadata": {},
   "source": [
    "## 1. Practice with Conditional Gates"
   ]
  },
  {
   "cell_type": "markdown",
   "id": "3a8d3e80-d832-466e-8641-a573518f5a76",
   "metadata": {},
   "source": [
    "<div style=\"background-color:rgba(243, 248, 255, 1.0); text-align:left; vertical-align: middle; padding:20px 0;border:3px; border-style:solid; padding: 0.5em; border-color: rgba(101, 174, 247, 1.0); color: #000000;\">\n",
    "\n",
    "One of the key components of quantum algorithms is conditional gates. We want to apply *quantum logic* and manipulate bit strings. Remember that our quantum states for an n-qubit system can be expressed in terms of the bit strings of length n. For the case of two qubits, we have:\n",
    "\n",
    "$$ |\\psi\\rangle = c_0 |00\\rangle + c_1 |01\\rangle + c_2 |10\\rangle +c_3 |11\\rangle  $$\n",
    "\n",
    "More generally, we can express our quantum state as a sum:\n",
    "\n",
    "$$ |\\psi\\rangle = \\sum_{x\\in\\{0,1\\}^n}c_x |x\\rangle $$\n",
    "\n",
    "where $\\{0,1\\}^n$ is a compact notation for all the bit strings of length n. \n",
    "\n",
    "Let's practice applying some conditional logic to circuits. In each of the exercises, make sure to not alter the states of any qubits which we don't want altered! Remember that quantum gates are reversible, so you can always undo what you have done.\n",
    "\n",
    "</div>"
   ]
  },
  {
   "cell_type": "code",
   "execution_count": 108,
   "id": "fd7a3e88",
   "metadata": {},
   "outputs": [],
   "source": [
    "backend = provider.get_backend(\"scarlet_quantum_rings\")"
   ]
  },
  {
   "cell_type": "markdown",
   "id": "6cbcf9f1-0910-43b0-9c9f-df77d43aba7a",
   "metadata": {},
   "source": [
    "**A)** Make a 3-qubit circuit which applies an X gate to qubit 2 if and only if qubit 0 is 0 and qubit 1 is 1."
   ]
  },
  {
   "cell_type": "code",
   "execution_count": 109,
   "id": "89a3ca24-3e01-493e-99bd-aa46ec6ca593",
   "metadata": {},
   "outputs": [
    {
     "data": {
      "image/png": "[encoded data removed]",
      "text/plain": [
       "<Figure size 747.609x451.5 with 1 Axes>"
      ]
     },
     "execution_count": 109,
     "metadata": {},
     "output_type": "execute_result"
    }
   ],
   "source": [
    "from qiskit import QuantumCircuit\n",
    "\n",
    "qc = QuantumCircuit(3,2)\n",
    "\n",
    "qc.x(0)\n",
    "\n",
    "qc.ccx(0, 1, 2)\n",
    "\n",
    "qc.x(0)\n",
    "\n",
    "qc.measure_all()\n",
    "\n",
    "qc.draw(output = 'mpl')\n"
   ]
  },
  {
   "cell_type": "markdown",
   "id": "379b55a2-618f-4738-a346-71a4d0bf0037",
   "metadata": {},
   "source": [
    "**B)** Make a 3-qubit circuit which applies an X gate to qubit 1 if qubit 2 is in the $|+\\rangle$ state and then applies a Z gate to qubit 0 if qubit 1 is in the 1 state."
   ]
  },
  {
   "cell_type": "code",
   "execution_count": 110,
   "id": "4f5aee4d-b723-4509-b602-59385dec8c53",
   "metadata": {},
   "outputs": [
    {
     "data": {
      "image/png": "[encoded data removed]",
      "text/plain": [
       "<Figure size 914.831x367.889 with 1 Axes>"
      ]
     },
     "execution_count": 110,
     "metadata": {},
     "output_type": "execute_result"
    }
   ],
   "source": [
    "qc = QuantumCircuit(3)\n",
    "\n",
    "qc.h(2)\n",
    "qc.x(2)\n",
    "qc.cx(2,1)\n",
    "qc.x(2)\n",
    "qc.h(2)\n",
    "qc.cz(1,0)\n",
    "\n",
    "qc.measure_all()\n",
    "\n",
    "qc.draw('mpl')"
   ]
  },
  {
   "cell_type": "markdown",
   "id": "e2d6143d-37f8-4e83-829f-8d3e5951e8c8",
   "metadata": {},
   "source": [
    "# 2. Oracles"
   ]
  },
  {
   "cell_type": "markdown",
   "id": "dcf649ef-890e-43b2-af15-486f72f806b3",
   "metadata": {},
   "source": [
    "<div style=\"background-color:rgba(247, 255, 245, 1.0); text-align:left; vertical-align: middle; padding:20px 0;border:3px; border-style:solid; padding: 0.5em; border-color: rgba(0, 153, 51, 1.0); color: #000000;\">\n",
    "\n",
    "Oracles are an important building block for quantum computation. An oracle essentially acts as a black box which performs a computation or transforms a quantum state. For example, an oracle might perform addition or flip the phase of a certain basis state. We will explore both of these today.\n",
    "\n",
    "In future episodes, we will use oracles to help us perform complex quantum algorithms. For today, we want to focus on building an intuition for how an oracle works and why it's useful.\n",
    "\n",
    "</div>"
   ]
  },
  {
   "cell_type": "markdown",
   "id": "5673f52e-b24f-4795-a616-99a986c55603",
   "metadata": {},
   "source": [
    "## Addition Oracle"
   ]
  },
  {
   "cell_type": "markdown",
   "id": "f68a161f-8d91-46f2-807d-e18ffa97cbcb",
   "metadata": {},
   "source": [
    "Let's first consider the case where our oracle $U_f$ performs a classical computation. The possible inputs to the oracle are basis states (such as $|100\\rangle$) or superpositions of basis states:\n",
    "\n",
    "$$ |\\psi\\rangle = \\sum_{x\\in\\{0,1\\}^n}c_x |x\\rangle $$\n",
    "\n",
    "We use an auxillary qubit to help us, which we can call $|y\\rangle$. For a given bit string $x$, the oracle takes in $ |x\\rangle |y\\rangle$ and returns $ |x\\rangle |f(x)\\oplus y\\rangle$, where $\\oplus$ denotes binary addition. In more clear notation:\n",
    "\n",
    "$$ U_f |x\\rangle |y\\rangle = |x\\rangle |f(x)\\oplus y\\rangle $$\n",
    "\n",
    "We can practice constructing $U_f$ for single bit input $x$.\n",
    "\n",
    "**Example 1**\n",
    "\n",
    "Here is an example of a function $f$ which always outputs 0. The table summarizing for all possible bit combinations is here:\n",
    "\n",
    "| $x$ &nbsp; &nbsp; &nbsp; &nbsp; &nbsp; &nbsp; &nbsp; | $y$ &nbsp; &nbsp; &nbsp; &nbsp; &nbsp; &nbsp; &nbsp; |  $f(x)$ &nbsp; &nbsp; &nbsp; &nbsp; &nbsp; &nbsp; &nbsp; | $f(x)\\oplus y$ &nbsp; &nbsp; &nbsp; &nbsp; &nbsp;  |\n",
    "| :-------------------------------- | :-------------------------------- | :-------------------------------- |:-------------------------------- |\n",
    " |0 | 0 | 0 | 0 |\n",
    " |0| 1 | 0 | 1 | \n",
    " |1 | 0| 0 | 0 |\n",
    " |1| 1| 0 | 1 |\n",
    "\n",
    " How do we turn this into a quantum oracle?"
   ]
  },
  {
   "cell_type": "code",
   "execution_count": 111,
   "id": "33da2e0f-1490-4044-b692-ba9ae44129e1",
   "metadata": {},
   "outputs": [
    {
     "data": {
      "text/html": [
       "<pre style=\"word-wrap: normal;white-space: pre;background: #fff0;line-height: 1.1;font-family: &quot;Courier New&quot;,Courier,monospace\">   \n",
       "x: \n",
       "   \n",
       "y: \n",
       "   </pre>"
      ],
      "text/plain": [
       "   \n",
       "x: \n",
       "   \n",
       "y: \n",
       "   "
      ]
     },
     "execution_count": 111,
     "metadata": {},
     "output_type": "execute_result"
    }
   ],
   "source": [
    "## build two quantum registers\n",
    "qx = qkQuantumRegister(1, 'x')\n",
    "qy = qkQuantumRegister(1, 'y')\n",
    "\n",
    "qc = qkQuantumCircuit(qx, qy)\n",
    "\n",
    "\n",
    "## build oracle\n",
    "\n",
    "qc.draw()"
   ]
  },
  {
   "cell_type": "markdown",
   "id": "cbb25e60-a923-4060-bce4-df329cd3b5ad",
   "metadata": {},
   "source": [
    "We can check ourselves with a truthtable."
   ]
  },
  {
   "cell_type": "code",
   "execution_count": 112,
   "id": "735a2207-d653-4597-8c84-9bf7981921e0",
   "metadata": {},
   "outputs": [],
   "source": [
    "def oracle(qc, qx, qy):\n",
    "    # build oracle\n",
    "    pass"
   ]
  },
  {
   "cell_type": "code",
   "execution_count": 113,
   "id": "7b93f910-c53f-48dd-943b-4d22940917ed",
   "metadata": {},
   "outputs": [
    {
     "name": "stdout",
     "output_type": "stream",
     "text": [
      "Oracle:\n"
     ]
    },
    {
     "data": {
      "text/html": [
       "<pre style=\"word-wrap: normal;white-space: pre;background: #fff0;line-height: 1.1;font-family: &quot;Courier New&quot;,Courier,monospace\">   \n",
       "x: \n",
       "   \n",
       "y: \n",
       "   </pre>"
      ],
      "text/plain": [
       "   \n",
       "x: \n",
       "   \n",
       "y: \n",
       "   "
      ]
     },
     "metadata": {},
     "output_type": "display_data"
    },
    {
     "name": "stdout",
     "output_type": "stream",
     "text": [
      "Bit ordering is x_n,...,x_0,y \n",
      "\n",
      "In: \t 00 \t Out: \t 00 \t f+y: \t 0 \n",
      "\n",
      "In: \t 01 \t Out: \t 01 \t f+y: \t 1 \n",
      "\n",
      "In: \t 10 \t Out: \t 10 \t f+y: \t 0 \n",
      "\n",
      "In: \t 11 \t Out: \t 11 \t f+y: \t 1 \n",
      "\n"
     ]
    }
   ],
   "source": [
    "check_truth_table(len_x=1, oracle=oracle)"
   ]
  },
  {
   "cell_type": "markdown",
   "id": "cd241a2b-22f2-4e61-a85f-42352f611941",
   "metadata": {},
   "source": [
    "**Example 2**\n",
    "\n",
    "Here is an example which implements the following balanced $f$.\n",
    "\n",
    "| $x$ &nbsp; &nbsp; &nbsp; &nbsp; &nbsp; &nbsp; &nbsp; | $y$ &nbsp; &nbsp; &nbsp; &nbsp; &nbsp; &nbsp; &nbsp; |  $f(x)$ &nbsp; &nbsp; &nbsp; &nbsp; &nbsp; &nbsp; &nbsp; | $f(x)\\oplus y$ &nbsp; &nbsp; &nbsp; &nbsp; &nbsp;  |\n",
    "| :-------------------------------- | :-------------------------------- | :-------------------------------- |:-------------------------------- |\n",
    " |0 | 0 | 0 | 0 |\n",
    " |0| 1 | 0 | 1 | \n",
    " |1 | 0| 1 | 1 |\n",
    " |1| 1| 1 | 0 |\n",
    "\n",
    " And this can be implemented by the following circuit:"
   ]
  },
  {
   "cell_type": "code",
   "execution_count": 114,
   "id": "9fa415cb",
   "metadata": {},
   "outputs": [
    {
     "data": {
      "image/png": "[encoded data removed]",
      "text/plain": [
       "<Figure size 184.251x200.667 with 1 Axes>"
      ]
     },
     "execution_count": 114,
     "metadata": {},
     "output_type": "execute_result"
    }
   ],
   "source": [
    "## build two quantum registers\n",
    "qx = qkQuantumRegister(1, 'x')\n",
    "qy = qkQuantumRegister(1, 'y')\n",
    "\n",
    "qc = qkQuantumCircuit(qx, qy)\n",
    "\n",
    "## build oracle\n",
    "\n",
    "qc.cx(qx[0],qy[0])\n",
    "\n",
    "qc.draw(output = 'mpl')"
   ]
  },
  {
   "cell_type": "markdown",
   "id": "e00e924d-d562-43be-9124-9c63ffb09b07",
   "metadata": {},
   "source": [
    "We can check ourselves with a truthtable."
   ]
  },
  {
   "cell_type": "code",
   "execution_count": 115,
   "id": "0d5342d1-9cd8-4596-87f6-efaaa921e1de",
   "metadata": {},
   "outputs": [],
   "source": [
    "def oracle(qc, qx, qy):\n",
    "    # build oracle\n",
    "    qc.cx(qx[0],qy[0])"
   ]
  },
  {
   "cell_type": "code",
   "execution_count": 116,
   "id": "60477df1-f255-4373-b242-c869737dd9bd",
   "metadata": {},
   "outputs": [
    {
     "name": "stdout",
     "output_type": "stream",
     "text": [
      "Oracle:\n"
     ]
    },
    {
     "data": {
      "text/html": [
       "<pre style=\"word-wrap: normal;white-space: pre;background: #fff0;line-height: 1.1;font-family: &quot;Courier New&quot;,Courier,monospace\">        \n",
       "x: ──■──\n",
       "   ┌─┴─┐\n",
       "y: ┤ X ├\n",
       "   └───┘</pre>"
      ],
      "text/plain": [
       "        \n",
       "x: ──■──\n",
       "   ┌─┴─┐\n",
       "y: ┤ X ├\n",
       "   └───┘"
      ]
     },
     "metadata": {},
     "output_type": "display_data"
    },
    {
     "name": "stdout",
     "output_type": "stream",
     "text": [
      "Bit ordering is x_n,...,x_0,y \n",
      "\n",
      "In: \t 00 \t Out: \t 00 \t f+y: \t 0 \n",
      "\n",
      "In: \t 01 \t Out: \t 01 \t f+y: \t 1 \n",
      "\n",
      "In: \t 10 \t Out: \t 11 \t f+y: \t 1 \n",
      "\n",
      "In: \t 11 \t Out: \t 10 \t f+y: \t 0 \n",
      "\n"
     ]
    }
   ],
   "source": [
    "check_truth_table(len_x=1, oracle=oracle)"
   ]
  },
  {
   "cell_type": "markdown",
   "id": "105ecc27-353f-45e7-9f69-a5f3fabc700a",
   "metadata": {},
   "source": [
    "### Exercises\n",
    "\n",
    "**A)** Create a circuit which implements $U_f$ for the following $f$:\n",
    "\n",
    "| $x$ &nbsp; &nbsp; &nbsp; &nbsp; &nbsp; &nbsp; &nbsp; | $y$ &nbsp; &nbsp; &nbsp; &nbsp; &nbsp; &nbsp; &nbsp; |  $f(x)$ &nbsp; &nbsp; &nbsp; &nbsp; &nbsp; &nbsp; &nbsp; | $f(x)\\oplus y$ &nbsp; &nbsp; &nbsp; &nbsp; &nbsp;  |\n",
    "| :-------------------------------- | :-------------------------------- | :-------------------------------- |:-------------------------------- |\n",
    " |0 | 0 | 1 | 1 |\n",
    " |0| 1 | 1 | 0 | \n",
    " |1 | 0| 1 | 1 |\n",
    " |1| 1| 1 | 0 |"
   ]
  },
  {
   "cell_type": "code",
   "execution_count": 117,
   "id": "abcb54af",
   "metadata": {},
   "outputs": [
    {
     "data": {
      "image/png": "[encoded data removed]",
      "text/plain": [
       "<Figure size 142.445x200.667 with 1 Axes>"
      ]
     },
     "execution_count": 117,
     "metadata": {},
     "output_type": "execute_result"
    }
   ],
   "source": [
    "## build two quantum registers\n",
    "qx = qkQuantumRegister(1, 'x')\n",
    "qy = qkQuantumRegister(1, 'y')\n",
    "\n",
    "qc = qkQuantumCircuit(qx, qy)\n",
    "\n",
    "## build oracle\n",
    "\n",
    "## Write your code here\n",
    "\n",
    "qc.draw(output = 'mpl')"
   ]
  },
  {
   "cell_type": "code",
   "execution_count": 118,
   "id": "48b3d7d7-1ed3-48aa-b6af-ee44fd8c66ca",
   "metadata": {},
   "outputs": [],
   "source": [
    "def oracle(qc, qx, qy):\n",
    "    ## your oracle here\n",
    "    qc.x(qy[0])"
   ]
  },
  {
   "cell_type": "code",
   "execution_count": 119,
   "id": "cdcc0167-a437-45ae-9020-435eb7813e0b",
   "metadata": {},
   "outputs": [
    {
     "name": "stdout",
     "output_type": "stream",
     "text": [
      "Oracle:\n"
     ]
    },
    {
     "data": {
      "text/html": [
       "<pre style=\"word-wrap: normal;white-space: pre;background: #fff0;line-height: 1.1;font-family: &quot;Courier New&quot;,Courier,monospace\">        \n",
       "x: ─────\n",
       "   ┌───┐\n",
       "y: ┤ X ├\n",
       "   └───┘</pre>"
      ],
      "text/plain": [
       "        \n",
       "x: ─────\n",
       "   ┌───┐\n",
       "y: ┤ X ├\n",
       "   └───┘"
      ]
     },
     "metadata": {},
     "output_type": "display_data"
    },
    {
     "name": "stdout",
     "output_type": "stream",
     "text": [
      "Bit ordering is x_n,...,x_0,y \n",
      "\n",
      "In: \t 00 \t Out: \t 01 \t f+y: \t 1 \n",
      "\n",
      "In: \t 01 \t Out: \t 00 \t f+y: \t 0 \n",
      "\n",
      "In: \t 10 \t Out: \t 11 \t f+y: \t 1 \n",
      "\n",
      "In: \t 11 \t Out: \t 10 \t f+y: \t 0 \n",
      "\n"
     ]
    }
   ],
   "source": [
    "check_truth_table(len_x=1, oracle=oracle)"
   ]
  },
  {
   "cell_type": "markdown",
   "id": "de20cd1a-ada4-4bc6-917d-c97dc81a7414",
   "metadata": {},
   "source": [
    "**B)** Create a circuit which implements $U_f$ for the following $f$:\n",
    "\n",
    "| $x$ &nbsp; &nbsp; &nbsp; &nbsp; &nbsp; &nbsp; &nbsp; | $y$ &nbsp; &nbsp; &nbsp; &nbsp; &nbsp; &nbsp; &nbsp; |  $f(x)$ &nbsp; &nbsp; &nbsp; &nbsp; &nbsp; &nbsp; &nbsp; | $f(x)\\oplus y$ &nbsp; &nbsp; &nbsp; &nbsp; &nbsp;  |\n",
    "| :-------------------------------- | :-------------------------------- | :-------------------------------- |:-------------------------------- |\n",
    " |0 | 0 | 1 | 1 |\n",
    " |0| 1 | 1 | 0 | \n",
    " |1 | 0| 0 | 0 |\n",
    " |1| 1| 0 | 1 |"
   ]
  },
  {
   "cell_type": "code",
   "execution_count": 120,
   "id": "b486c38e",
   "metadata": {},
   "outputs": [
    {
     "data": {
      "image/png": "[encoded data removed]",
      "text/plain": [
       "<Figure size 267.862x200.667 with 1 Axes>"
      ]
     },
     "execution_count": 120,
     "metadata": {},
     "output_type": "execute_result"
    }
   ],
   "source": [
    "## build two quantum registers\n",
    "qx = qkQuantumRegister(1, 'x')\n",
    "qy = qkQuantumRegister(1, 'y')\n",
    "\n",
    "qc = qkQuantumCircuit(qx, qy)\n",
    "\n",
    "## build oracle\n",
    "\n",
    "qc.x(qx[0])\n",
    "qc.cx(qx[0],qy[0])\n",
    "\n",
    "## Write your code here\n",
    "\n",
    "qc.draw(output = 'mpl')"
   ]
  },
  {
   "cell_type": "code",
   "execution_count": 121,
   "id": "a4b77559-d515-47a4-b17d-52f2585ff260",
   "metadata": {},
   "outputs": [],
   "source": [
    "def oracle(qc, qx, qy):\n",
    "    ## your oracle here\n",
    "    qc.x(qx[0])\n",
    "    qc.cx(qx[0],qy[0])"
   ]
  },
  {
   "cell_type": "code",
   "execution_count": 122,
   "id": "d4555c12-68c9-4e2d-ab4c-71613efd7497",
   "metadata": {},
   "outputs": [
    {
     "name": "stdout",
     "output_type": "stream",
     "text": [
      "Oracle:\n"
     ]
    },
    {
     "data": {
      "text/html": [
       "<pre style=\"word-wrap: normal;white-space: pre;background: #fff0;line-height: 1.1;font-family: &quot;Courier New&quot;,Courier,monospace\">   ┌───┐     \n",
       "x: ┤ X ├──■──\n",
       "   └───┘┌─┴─┐\n",
       "y: ─────┤ X ├\n",
       "        └───┘</pre>"
      ],
      "text/plain": [
       "   ┌───┐     \n",
       "x: ┤ X ├──■──\n",
       "   └───┘┌─┴─┐\n",
       "y: ─────┤ X ├\n",
       "        └───┘"
      ]
     },
     "metadata": {},
     "output_type": "display_data"
    },
    {
     "name": "stdout",
     "output_type": "stream",
     "text": [
      "Bit ordering is x_n,...,x_0,y \n",
      "\n",
      "In: \t 00 \t Out: \t 11 \t f+y: \t 1 \n",
      "\n",
      "In: \t 01 \t Out: \t 10 \t f+y: \t 0 \n",
      "\n",
      "In: \t 10 \t Out: \t 00 \t f+y: \t 0 \n",
      "\n",
      "In: \t 11 \t Out: \t 01 \t f+y: \t 1 \n",
      "\n"
     ]
    }
   ],
   "source": [
    "check_truth_table(len_x=1, oracle=oracle)"
   ]
  },
  {
   "cell_type": "markdown",
   "id": "d5f1c7a2-8825-4873-ae1c-05f14739570a",
   "metadata": {},
   "source": [
    "<div style=\"background-color:rgba(252, 245, 255, 1.0); text-align:left; vertical-align: middle; padding:20px 0;border:3px; border-style:solid; padding: 0.5em; border-color: rgba(190, 111, 227, 1.0); color: #000000;\">\n",
    "\n",
    "### Challenge Problem: \n",
    "\n",
    "Can you build an oracle which implements $U_f$ for the following $f$?\n",
    "\n",
    "| $x_1$ &nbsp; &nbsp; &nbsp; &nbsp; &nbsp; &nbsp; &nbsp; |$x_0$ &nbsp; &nbsp; &nbsp; &nbsp; &nbsp; &nbsp; &nbsp; | $y$ &nbsp; &nbsp; &nbsp; &nbsp; &nbsp; &nbsp; &nbsp; |  $f(x_0,x_1)$ &nbsp; &nbsp; &nbsp; &nbsp; &nbsp; &nbsp; &nbsp; | $f(x_0,x_1)\\oplus y$ &nbsp; &nbsp; &nbsp; &nbsp; &nbsp;  |\n",
    "| :-------------------------------- | :-------------------------------- | :-------------------------------- |:-------------------------------- | :-------------------------------- |\n",
    " |0 |0 | 0 | 0 | 0 |\n",
    " |0 |0| 1 | 0 | 1 | \n",
    " |0 |1 | 0| 1 | 1 |\n",
    " |0 |1| 1| 1 | 0 |\n",
    " |1 |0 | 0 | 1 | 1 |\n",
    " |1 |0| 1 | 1 | 0 | \n",
    " |1 |1 | 0| 0 | 0 |\n",
    " |1 |1| 1| 0 | 1 |\n",
    "\n",
    "\n",
    "Keep in mind the default bit ordering in Qiskit / Quantum Rings. The least significant bit is bit 0 (the top line in our circuits).\n",
    "\n",
    "<div/>"
   ]
  },
  {
   "cell_type": "code",
   "execution_count": 123,
   "id": "b29f62c6",
   "metadata": {},
   "outputs": [
    {
     "data": {
      "image/png": "[encoded data removed]",
      "text/plain": [
       "<Figure size 202.481x284.278 with 1 Axes>"
      ]
     },
     "execution_count": 123,
     "metadata": {},
     "output_type": "execute_result"
    }
   ],
   "source": [
    "## build two quantum registers\n",
    "qx1 = qkQuantumRegister(1, 'x1')\n",
    "qx0 = qkQuantumRegister(1, 'x0')\n",
    "qy = qkQuantumRegister(1, 'y')\n",
    "\n",
    "qc = QuantumCircuit(qx1, qx0, qy)\n",
    "\n",
    "## build oracle\n",
    "\n",
    "qc.ccx(qx1[0], qx0[0], qy[0])\n",
    "\n",
    "\n",
    "\n",
    "## Write your code here\n",
    "\n",
    "qc.draw(output = 'mpl')"
   ]
  },
  {
   "cell_type": "code",
   "execution_count": 124,
   "id": "bad0f630-f90d-405f-82f8-ef0778a66464",
   "metadata": {},
   "outputs": [],
   "source": [
    "def oracle(qc, qx, qy):\n",
    "    ## your oracle here\n",
    "    qc.cx(qx,qy)"
   ]
  },
  {
   "cell_type": "code",
   "execution_count": 125,
   "id": "96248751-4d86-4cfc-8f95-864e06bc11d3",
   "metadata": {},
   "outputs": [
    {
     "name": "stdout",
     "output_type": "stream",
     "text": [
      "Oracle:\n"
     ]
    },
    {
     "data": {
      "text/html": [
       "<pre style=\"word-wrap: normal;white-space: pre;background: #fff0;line-height: 1.1;font-family: &quot;Courier New&quot;,Courier,monospace\">               \n",
       "x_1: ───────■──\n",
       "            │  \n",
       "x_0: ──■────┼──\n",
       "     ┌─┴─┐┌─┴─┐\n",
       "  y: ┤ X ├┤ X ├\n",
       "     └───┘└───┘</pre>"
      ],
      "text/plain": [
       "               \n",
       "x_1: ───────■──\n",
       "            │  \n",
       "x_0: ──■────┼──\n",
       "     ┌─┴─┐┌─┴─┐\n",
       "  y: ┤ X ├┤ X ├\n",
       "     └───┘└───┘"
      ]
     },
     "metadata": {},
     "output_type": "display_data"
    },
    {
     "name": "stdout",
     "output_type": "stream",
     "text": [
      "Bit ordering is x_n,...,x_0,y \n",
      "\n",
      "In: \t 000 \t Out: \t 000 \t f+y: \t 0 \n",
      "\n",
      "In: \t 001 \t Out: \t 001 \t f+y: \t 1 \n",
      "\n",
      "In: \t 010 \t Out: \t 011 \t f+y: \t 1 \n",
      "\n",
      "In: \t 011 \t Out: \t 010 \t f+y: \t 0 \n",
      "\n",
      "In: \t 100 \t Out: \t 101 \t f+y: \t 1 \n",
      "\n",
      "In: \t 101 \t Out: \t 100 \t f+y: \t 0 \n",
      "\n",
      "In: \t 110 \t Out: \t 110 \t f+y: \t 0 \n",
      "\n",
      "In: \t 111 \t Out: \t 111 \t f+y: \t 1 \n",
      "\n"
     ]
    }
   ],
   "source": [
    "num_qubits = 2\n",
    "check_truth_table(len_x=num_qubits, oracle=oracle)"
   ]
  },
  {
   "cell_type": "markdown",
   "id": "0006c445-f826-4e44-84e0-eecd9c130d28",
   "metadata": {},
   "source": [
    "## Phase flip oracle"
   ]
  },
  {
   "cell_type": "markdown",
   "id": "c14b46f6-d685-46ea-9245-143b8d968b36",
   "metadata": {
    "id": "2MloVxvWl3yy"
   },
   "source": [
    "A phase flip oracle, as the name suggests, flips the phase of a certain state. This is helpful because flipping the phase is a way of marking a state (for example, the correct answer).\n",
    "\n",
    "First things first, let's understand how a phase-flip oracle is made. Let's start by preparing an equal superposition state by applying a Hadamard to each qubit. Then let's build a phase-flip oracle step-by-step.\n",
    "\n",
    "Consider a two-qubit system with target state '01'."
   ]
  },
  {
   "cell_type": "code",
   "execution_count": 126,
   "id": "8cec7296-3252-4610-aed7-6faf703e4b25",
   "metadata": {
    "id": "PuOpMOx5l3yy"
   },
   "outputs": [],
   "source": [
    "target_state = '01'\n",
    "\n",
    "# Flip target bit-string to match Qiskit bit-ordering\n",
    "rev_target = target_state[::-1]\n",
    "\n",
    "num_qubits = len(target_state)"
   ]
  },
  {
   "cell_type": "markdown",
   "id": "6ca74f4e-c148-43fe-88e8-03b3755f0f25",
   "metadata": {
    "id": "pjhUkG_Cl3yy"
   },
   "source": [
    "We first apply an X gate to the location of any zeros in our target state. We will still have an equal superposition state after this."
   ]
  },
  {
   "cell_type": "code",
   "execution_count": 127,
   "id": "f9eba1dd-a573-461a-bc7d-6eab8fde1612",
   "metadata": {
    "id": "G8xZCG9Bl3yz"
   },
   "outputs": [
    {
     "data": {
      "text/html": [
       "<pre style=\"word-wrap: normal;white-space: pre;background: #fff0;line-height: 1.1;font-family: &quot;Courier New&quot;,Courier,monospace\">     ┌───┐     \n",
       "q_0: ┤ H ├─────\n",
       "     ├───┤┌───┐\n",
       "q_1: ┤ H ├┤ X ├\n",
       "     └───┘└───┘</pre>"
      ],
      "text/plain": [
       "     ┌───┐     \n",
       "q_0: ┤ H ├─────\n",
       "     ├───┤┌───┐\n",
       "q_1: ┤ H ├┤ X ├\n",
       "     └───┘└───┘"
      ]
     },
     "execution_count": 127,
     "metadata": {},
     "output_type": "execute_result"
    }
   ],
   "source": [
    "qc = qkQuantumCircuit(num_qubits)\n",
    "\n",
    "# apply Hadamard to all qubits to be in complete superposition state\n",
    "qc.h(range(num_qubits))\n",
    "# Find the indices of all the '0' elements in bit-string and flip\n",
    "qc.x(1)\n",
    "\n",
    "qc.draw()"
   ]
  },
  {
   "cell_type": "markdown",
   "id": "3424661e-43f2-46a5-9c1f-d5af78e68ee3",
   "metadata": {
    "id": "27px3nxml3yz"
   },
   "source": [
    "We can print out the state vector at the end of the circuit to see what is going on."
   ]
  },
  {
   "cell_type": "code",
   "execution_count": 128,
   "id": "c02a04d3-e4ba-4789-97af-ee6fd94ed7e0",
   "metadata": {
    "id": "dM1cJZltl3yz"
   },
   "outputs": [
    {
     "data": {
      "text/latex": [
       "$$\\frac{1}{2} |00\\rangle+\\frac{1}{2} |01\\rangle+\\frac{1}{2} |10\\rangle+\\frac{1}{2} |11\\rangle$$"
      ],
      "text/plain": [
       "<IPython.core.display.Latex object>"
      ]
     },
     "metadata": {},
     "output_type": "display_data"
    }
   ],
   "source": [
    "display(Statevector(qc).draw('latex'))"
   ]
  },
  {
   "cell_type": "markdown",
   "id": "a9a41e37-e11c-4b53-a979-5d724c3f3f3e",
   "metadata": {
    "id": "V6CjFpO7l3yz"
   },
   "source": [
    "Now, let's add a multi-controlled Z gate, which is controlled on the first first qubit and targeted on the second qubit. In practice, it does not matter which qubit is the target or control because the CZ gate behaves symmetrically. The effect of this is it flips the phase of the state with all 1's. This is because we need the first qubit to be 1 for the control condition to be satisfied, and we need the last qubit to be 1 for the Z gate to have a phase flip effect."
   ]
  },
  {
   "cell_type": "code",
   "execution_count": 129,
   "id": "1dac6920-16b7-4812-a75f-b7ee429375ce",
   "metadata": {
    "id": "vcIsnNawl3yz"
   },
   "outputs": [
    {
     "data": {
      "text/html": [
       "<pre style=\"word-wrap: normal;white-space: pre;background: #fff0;line-height: 1.1;font-family: &quot;Courier New&quot;,Courier,monospace\">     ┌───┐        \n",
       "q_0: ┤ H ├──────■─\n",
       "     ├───┤┌───┐ │ \n",
       "q_1: ┤ H ├┤ X ├─■─\n",
       "     └───┘└───┘   </pre>"
      ],
      "text/plain": [
       "     ┌───┐        \n",
       "q_0: ┤ H ├──────■─\n",
       "     ├───┤┌───┐ │ \n",
       "q_1: ┤ H ├┤ X ├─■─\n",
       "     └───┘└───┘   "
      ]
     },
     "execution_count": 129,
     "metadata": {},
     "output_type": "execute_result"
    }
   ],
   "source": [
    "qc = qkQuantumCircuit(num_qubits)\n",
    "\n",
    "# apply Hadamard to all qubits to be in complete superposition state\n",
    "qc.h(range(num_qubits))\n",
    "# Find the indices of all the '0' elements in bit-string and flip\n",
    "qc.x(1)\n",
    "\n",
    "# apply CZ\n",
    "qc.cz(0,1)\n",
    "\n",
    "qc.draw()"
   ]
  },
  {
   "cell_type": "code",
   "execution_count": 130,
   "id": "f236cb59-c628-4b27-bcda-7364221ff44d",
   "metadata": {
    "id": "AjT3HPGCl3yz"
   },
   "outputs": [
    {
     "data": {
      "text/latex": [
       "$$\\frac{1}{2} |00\\rangle+\\frac{1}{2} |01\\rangle+\\frac{1}{2} |10\\rangle- \\frac{1}{2} |11\\rangle$$"
      ],
      "text/plain": [
       "<IPython.core.display.Latex object>"
      ]
     },
     "metadata": {},
     "output_type": "display_data"
    }
   ],
   "source": [
    "display(Statevector(qc).draw('latex'))"
   ]
  },
  {
   "cell_type": "markdown",
   "id": "14ec4419-e5c8-4f95-afad-46975bba3c2f",
   "metadata": {
    "id": "sscnbrzPl3yz"
   },
   "source": [
    "We can see that the $|11\\rangle$ state has been phase flipped, as expected.\n",
    "\n",
    "Now we can apply X gates again to any location of 0 in the target state. This ensures the phase flip is moved back to the target state (instead of staying on $|11\\rangle$)."
   ]
  },
  {
   "cell_type": "code",
   "execution_count": 131,
   "id": "d09af759-64d6-4cf1-9b25-ffe98874c030",
   "metadata": {
    "id": "4AkxjJHzl3yz"
   },
   "outputs": [
    {
     "data": {
      "text/html": [
       "<pre style=\"word-wrap: normal;white-space: pre;background: #fff0;line-height: 1.1;font-family: &quot;Courier New&quot;,Courier,monospace\">     ┌───┐             \n",
       "q_0: ┤ H ├──────■──────\n",
       "     ├───┤┌───┐ │ ┌───┐\n",
       "q_1: ┤ H ├┤ X ├─■─┤ X ├\n",
       "     └───┘└───┘   └───┘</pre>"
      ],
      "text/plain": [
       "     ┌───┐             \n",
       "q_0: ┤ H ├──────■──────\n",
       "     ├───┤┌───┐ │ ┌───┐\n",
       "q_1: ┤ H ├┤ X ├─■─┤ X ├\n",
       "     └───┘└───┘   └───┘"
      ]
     },
     "execution_count": 131,
     "metadata": {},
     "output_type": "execute_result"
    }
   ],
   "source": [
    "qc = qkQuantumCircuit(num_qubits)\n",
    "\n",
    "# apply Hadamard to all qubits to be in complete superposition state\n",
    "qc.h(range(num_qubits))\n",
    "# Find the indices of all the '0' elements in bit-string and flip\n",
    "qc.x(1)\n",
    "\n",
    "# apply CZ\n",
    "qc.cz(0,1)\n",
    "\n",
    "# flip all '0' elements again\n",
    "qc.x(1)\n",
    "\n",
    "qc.draw()"
   ]
  },
  {
   "cell_type": "code",
   "execution_count": 132,
   "id": "a9a186d0-b2de-4354-b572-421ec9fdf8a7",
   "metadata": {
    "id": "UuXgPduGl3yz"
   },
   "outputs": [
    {
     "data": {
      "text/latex": [
       "$$\\frac{1}{2} |00\\rangle- \\frac{1}{2} |01\\rangle+\\frac{1}{2} |10\\rangle+\\frac{1}{2} |11\\rangle$$"
      ],
      "text/plain": [
       "<IPython.core.display.Latex object>"
      ]
     },
     "metadata": {},
     "output_type": "display_data"
    }
   ],
   "source": [
    "display(Statevector(qc).draw('latex'))"
   ]
  },
  {
   "cell_type": "markdown",
   "id": "4d4469f9-6a2c-45a3-98aa-fe74617f573a",
   "metadata": {
    "id": "i_3REXEDl3yz"
   },
   "source": [
    "Ok, great, it works! We got a phase flip on just our target state. So we have successfully built a phase-flip oracle for two qubits."
   ]
  },
  {
   "cell_type": "markdown",
   "id": "db491df2-f5eb-477e-8c81-ded591dda00b",
   "metadata": {},
   "source": [
    "### Exercise \n",
    "\n",
    "**A)** Following the same approach as above, construct an oracle for the target state 00. You can check your work by putting Hadamards on all qubits, then your oracle, and then printing out the final statevector."
   ]
  },
  {
   "cell_type": "code",
   "execution_count": 133,
   "id": "58907742-0ca4-4317-a9b6-2fc102270cc7",
   "metadata": {},
   "outputs": [
    {
     "data": {
      "text/html": [
       "<pre style=\"word-wrap: normal;white-space: pre;background: #fff0;line-height: 1.1;font-family: &quot;Courier New&quot;,Courier,monospace\">     ┌───┐   ┌───┐\n",
       "q_0: ┤ H ├─■─┤ X ├\n",
       "     ├───┤ │ ├───┤\n",
       "q_1: ┤ H ├─■─┤ X ├\n",
       "     └───┘   └───┘</pre>"
      ],
      "text/plain": [
       "     ┌───┐   ┌───┐\n",
       "q_0: ┤ H ├─■─┤ X ├\n",
       "     ├───┤ │ ├───┤\n",
       "q_1: ┤ H ├─■─┤ X ├\n",
       "     └───┘   └───┘"
      ]
     },
     "metadata": {},
     "output_type": "display_data"
    }
   ],
   "source": [
    "qc2 = qkQuantumCircuit(2)\n",
    "\n",
    "# your code here\n",
    "qc2.h(range(2))\n",
    "\n",
    "qc2.cz(0, 1)\n",
    "\n",
    "qc2.x(0)\n",
    "\n",
    "qc2.x(1)\n",
    "\n",
    "display(qc2.draw())"
   ]
  },
  {
   "cell_type": "code",
   "execution_count": 134,
   "id": "5582b7e7",
   "metadata": {},
   "outputs": [
    {
     "data": {
      "text/latex": [
       "$$- \\frac{1}{2} |00\\rangle+\\frac{1}{2} |01\\rangle+\\frac{1}{2} |10\\rangle+\\frac{1}{2} |11\\rangle$$"
      ],
      "text/plain": [
       "<IPython.core.display.Latex object>"
      ]
     },
     "metadata": {},
     "output_type": "display_data"
    }
   ],
   "source": [
    "display(Statevector(qc2).draw('latex'))"
   ]
  },
  {
   "cell_type": "markdown",
   "id": "7767b498-9106-4b9f-9e9a-ee01fa68ca6d",
   "metadata": {},
   "source": [
    "**B)** Following the same approach as above, but for a 3 qubit system, construct an oracle for the target state 011."
   ]
  },
  {
   "cell_type": "code",
   "execution_count": 135,
   "id": "0a3e4063-f9da-4a99-9f38-93c49b01c10c",
   "metadata": {},
   "outputs": [
    {
     "data": {
      "text/html": [
       "<pre style=\"word-wrap: normal;white-space: pre;background: #fff0;line-height: 1.1;font-family: &quot;Courier New&quot;,Courier,monospace\">     ┌───┐        \n",
       "q_0: ┤ H ├─■──────\n",
       "     ├───┤ │      \n",
       "q_1: ┤ H ├─■──────\n",
       "     ├───┤ │ ┌───┐\n",
       "q_2: ┤ H ├─■─┤ X ├\n",
       "     └───┘   └───┘</pre>"
      ],
      "text/plain": [
       "     ┌───┐        \n",
       "q_0: ┤ H ├─■──────\n",
       "     ├───┤ │      \n",
       "q_1: ┤ H ├─■──────\n",
       "     ├───┤ │ ┌───┐\n",
       "q_2: ┤ H ├─■─┤ X ├\n",
       "     └───┘   └───┘"
      ]
     },
     "metadata": {},
     "output_type": "display_data"
    }
   ],
   "source": [
    "qc3 = qkQuantumCircuit(3)\n",
    "\n",
    "# your code here\n",
    "qc3.h(range(3))\n",
    "\n",
    "\n",
    "qc3.ccz(0, 1, 2)\n",
    "\n",
    "qc3.x(2)\n",
    "\n",
    "\n",
    "display(qc3.draw())"
   ]
  },
  {
   "cell_type": "code",
   "execution_count": 136,
   "id": "77a6e688",
   "metadata": {},
   "outputs": [
    {
     "data": {
      "text/latex": [
       "$$\\frac{\\sqrt{2}}{4} |000\\rangle+\\frac{\\sqrt{2}}{4} |001\\rangle+\\frac{\\sqrt{2}}{4} |010\\rangle- \\frac{\\sqrt{2}}{4} |011\\rangle+\\frac{\\sqrt{2}}{4} |100\\rangle+\\frac{\\sqrt{2}}{4} |101\\rangle+\\frac{\\sqrt{2}}{4} |110\\rangle+\\frac{\\sqrt{2}}{4} |111\\rangle$$"
      ],
      "text/plain": [
       "<IPython.core.display.Latex object>"
      ]
     },
     "metadata": {},
     "output_type": "display_data"
    }
   ],
   "source": [
    "display(Statevector(qc3).draw('latex'))"
   ]
  },
  {
   "cell_type": "markdown",
   "id": "4415a0a7-87d9-4b0c-bcad-cb358fabf47e",
   "metadata": {},
   "source": [
    "<div style=\"background-color:rgba(252, 245, 255, 1.0); text-align:left; vertical-align: middle; padding:20px 0;border:3px; border-style:solid; padding: 0.5em; border-color: rgba(190, 111, 227, 1.0); color: #000000;\">\n",
    "\n",
    "### Challenge Problem: \n",
    "\n",
    "Can you make an oracle which flips the phase of two states? See if you can make one which flips the phases of the states encoding bit strings '001' and '101'.\n",
    "\n",
    "<div/>"
   ]
  },
  {
   "cell_type": "code",
   "execution_count": 173,
   "id": "537a54a0-dfe0-4b52-9471-88952ad21923",
   "metadata": {},
   "outputs": [
    {
     "data": {
      "text/html": [
       "<pre style=\"word-wrap: normal;white-space: pre;background: #fff0;line-height: 1.1;font-family: &quot;Courier New&quot;,Courier,monospace\">     ┌───┐             \n",
       "q_0: ┤ H ├──────■──────\n",
       "     ├───┤┌───┐ │ ┌───┐\n",
       "q_1: ┤ H ├┤ X ├─■─┤ X ├\n",
       "     ├───┤└───┘   └───┘\n",
       "q_2: ┤ H ├─────────────\n",
       "     └───┘             </pre>"
      ],
      "text/plain": [
       "     ┌───┐             \n",
       "q_0: ┤ H ├──────■──────\n",
       "     ├───┤┌───┐ │ ┌───┐\n",
       "q_1: ┤ H ├┤ X ├─■─┤ X ├\n",
       "     ├───┤└───┘   └───┘\n",
       "q_2: ┤ H ├─────────────\n",
       "     └───┘             "
      ]
     },
     "metadata": {},
     "output_type": "display_data"
    }
   ],
   "source": [
    "qc3 = QuantumCircuit(3)\n",
    "\n",
    "qc3.h(range(3))  # Apply Hadamard to all qubits to create superposition\n",
    "\n",
    "qc3.x(1)        # Apply X to q1 to make q1=0 become q1=1\n",
    "qc3.cz(1, 0)    # Apply CZ with control q1 and target q0; Z on q0 when q1=1 (original q1=0)\n",
    "qc3.x(1)        # Apply X to q1 again to revert q1 to its original state\n",
    "\n",
    "display(qc3.draw())"
   ]
  },
  {
   "cell_type": "code",
   "execution_count": 174,
   "id": "c0d57cff",
   "metadata": {},
   "outputs": [
    {
     "data": {
      "text/latex": [
       "$$\\frac{\\sqrt{2}}{4} |000\\rangle- \\frac{\\sqrt{2}}{4} |001\\rangle+\\frac{\\sqrt{2}}{4} |010\\rangle+\\frac{\\sqrt{2}}{4} |011\\rangle+\\frac{\\sqrt{2}}{4} |100\\rangle- \\frac{\\sqrt{2}}{4} |101\\rangle+\\frac{\\sqrt{2}}{4} |110\\rangle+\\frac{\\sqrt{2}}{4} |111\\rangle$$"
      ],
      "text/plain": [
       "<IPython.core.display.Latex object>"
      ]
     },
     "metadata": {},
     "output_type": "display_data"
    }
   ],
   "source": [
    "display(Statevector(qc3).draw('latex'))"
   ]
  },
  {
   "cell_type": "markdown",
   "id": "c9fc9a2a-feef-4207-b6bb-75a49d253c82",
   "metadata": {},
   "source": [
    "# 2. Amplitude Amplification"
   ]
  },
  {
   "cell_type": "markdown",
   "id": "7e6a5a14-4e16-4b25-b906-d068115ec37c",
   "metadata": {},
   "source": [
    "<div style=\"background-color:rgba(255, 245, 253, 1.0); text-align:left; vertical-align: middle; padding:20px 0;border:3px; border-style:solid; padding: 0.5em; border-color: rgba(255, 142, 235, 1.0); color: #000000;\">\n",
    "\n",
    "In quantum computing, we know that our final measurement result from our quantum cirucit is *probabalistic*. When we give something to a classical computer to compute, like multiplying two large numbers, it will give us the same answer every time. This is not so for a quantum computer. The goal of a quantum algorithm is to make the amplitude of the correct answer as large as possible and the amplitudes of the wrong answers as small as possible. \n",
    "\n",
    "This brings us to another important building block for quantum algorithms: amplitude amplification. It's exactly what it sounds like, it's a step in our quantum algorithm that amplifies the amplitude of the correct answer. And lucky for us, one key ingredient we need for our amplitude amplification is a phase flip oracle!\n",
    "\n",
    "<div/>"
   ]
  },
  {
   "cell_type": "code",
   "execution_count": 142,
   "id": "ba996096",
   "metadata": {},
   "outputs": [
    {
     "data": {
      "text/html": [
       "<pre style=\"word-wrap: normal;white-space: pre;background: #fff0;line-height: 1.1;font-family: &quot;Courier New&quot;,Courier,monospace\">      ┌───┐ ░  ░ ┌───┐┌───┐          ┌───┐┌───┐      ░ ┌─┐      \n",
       "q3_0: ┤ H ├─░──░─┤ H ├┤ X ├───────■──┤ X ├┤ H ├──────░─┤M├──────\n",
       "      ├───┤ ░  ░ ├───┤├───┤       │  ├───┤├───┤      ░ └╥┘┌─┐   \n",
       "q3_1: ┤ H ├─░──░─┤ H ├┤ X ├───────■──┤ X ├┤ H ├──────░──╫─┤M├───\n",
       "      ├───┤ ░  ░ ├───┤├───┤┌───┐┌─┴─┐├───┤├───┤┌───┐ ░  ║ └╥┘┌─┐\n",
       "q3_2: ┤ H ├─░──░─┤ H ├┤ X ├┤ H ├┤ X ├┤ H ├┤ X ├┤ H ├─░──╫──╫─┤M├\n",
       "      └───┘ ░  ░ └───┘└───┘└───┘└───┘└───┘└───┘└───┘ ░  ║  ║ └╥┘\n",
       "c3: 3/══════════════════════════════════════════════════╩══╩══╩═\n",
       "                                                        0  1  2 </pre>"
      ],
      "text/plain": [
       "      ┌───┐ ░  ░ ┌───┐┌───┐          ┌───┐┌───┐      ░ ┌─┐      \n",
       "q3_0: ┤ H ├─░──░─┤ H ├┤ X ├───────■──┤ X ├┤ H ├──────░─┤M├──────\n",
       "      ├───┤ ░  ░ ├───┤├───┤       │  ├───┤├───┤      ░ └╥┘┌─┐   \n",
       "q3_1: ┤ H ├─░──░─┤ H ├┤ X ├───────■──┤ X ├┤ H ├──────░──╫─┤M├───\n",
       "      ├───┤ ░  ░ ├───┤├───┤┌───┐┌─┴─┐├───┤├───┤┌───┐ ░  ║ └╥┘┌─┐\n",
       "q3_2: ┤ H ├─░──░─┤ H ├┤ X ├┤ H ├┤ X ├┤ H ├┤ X ├┤ H ├─░──╫──╫─┤M├\n",
       "      └───┘ ░  ░ └───┘└───┘└───┘└───┘└───┘└───┘└───┘ ░  ║  ║ └╥┘\n",
       "c3: 3/══════════════════════════════════════════════════╩══╩══╩═\n",
       "                                                        0  1  2 "
      ]
     },
     "execution_count": 142,
     "metadata": {},
     "output_type": "execute_result"
    }
   ],
   "source": [
    "from qiskit import QuantumCircuit, QuantumRegister, ClassicalRegister\n",
    "\n",
    "qr = QuantumRegister(3)\n",
    "cr = ClassicalRegister(3)\n",
    "\n",
    "qc = QuantumCircuit(qr, cr, name='QSS5.1_amplitude_amp')\n",
    "\n",
    "qc.h((qr))\n",
    "\n",
    "qc.barrier()\n",
    "\n",
    "# phase flip oracle\n",
    "\n",
    "qc.barrier()\n",
    "\n",
    "# diffusion operator\n",
    "qc.h(qr)\n",
    "qc.x(qr)\n",
    "qc.h(2)\n",
    "qc.ccx(0,1,2)\n",
    "qc.h(2)\n",
    "qc.x(qr)\n",
    "qc.h(qr)\n",
    "\n",
    "qc.barrier()\n",
    "\n",
    "# measure\n",
    "qc.measure(qr,cr)\n",
    "\n",
    "qc.draw()"
   ]
  },
  {
   "cell_type": "code",
   "execution_count": 161,
   "id": "9d9ab5c2-100e-45e0-b47d-6f089652e273",
   "metadata": {},
   "outputs": [
    {
     "data": {
      "text/html": [
       "<pre style=\"word-wrap: normal;white-space: pre;background: #fff0;line-height: 1.1;font-family: &quot;Courier New&quot;,Courier,monospace\">       ┌───┐ ░               ░ ┌───┐┌───┐          ┌───┐┌───┐      ░ ┌─┐      \n",
       "q12_0: ┤ H ├─░───────■───────░─┤ H ├┤ X ├───────■──┤ X ├┤ H ├──────░─┤M├──────\n",
       "       ├───┤ ░ ┌───┐ │ ┌───┐ ░ ├───┤├───┤       │  ├───┤├───┤      ░ └╥┘┌─┐   \n",
       "q12_1: ┤ H ├─░─┤ X ├─■─┤ X ├─░─┤ H ├┤ X ├───────■──┤ X ├┤ H ├──────░──╫─┤M├───\n",
       "       ├───┤ ░ └───┘ │ └───┘ ░ ├───┤├───┤┌───┐┌─┴─┐├───┤├───┤┌───┐ ░  ║ └╥┘┌─┐\n",
       "q12_2: ┤ H ├─░───────■───────░─┤ H ├┤ X ├┤ H ├┤ X ├┤ H ├┤ X ├┤ H ├─░──╫──╫─┤M├\n",
       "       └───┘ ░               ░ └───┘└───┘└───┘└───┘└───┘└───┘└───┘ ░  ║  ║ └╥┘\n",
       "c11: 3/═══════════════════════════════════════════════════════════════╩══╩══╩═\n",
       "                                                                      0  1  2 </pre>"
      ],
      "text/plain": [
       "       ┌───┐ ░               ░ ┌───┐┌───┐          ┌───┐┌───┐      ░ ┌─┐      \n",
       "q12_0: ┤ H ├─░───────■───────░─┤ H ├┤ X ├───────■──┤ X ├┤ H ├──────░─┤M├──────\n",
       "       ├───┤ ░ ┌───┐ │ ┌───┐ ░ ├───┤├───┤       │  ├───┤├───┤      ░ └╥┘┌─┐   \n",
       "q12_1: ┤ H ├─░─┤ X ├─■─┤ X ├─░─┤ H ├┤ X ├───────■──┤ X ├┤ H ├──────░──╫─┤M├───\n",
       "       ├───┤ ░ └───┘ │ └───┘ ░ ├───┤├───┤┌───┐┌─┴─┐├───┤├───┤┌───┐ ░  ║ └╥┘┌─┐\n",
       "q12_2: ┤ H ├─░───────■───────░─┤ H ├┤ X ├┤ H ├┤ X ├┤ H ├┤ X ├┤ H ├─░──╫──╫─┤M├\n",
       "       └───┘ ░               ░ └───┘└───┘└───┘└───┘└───┘└───┘└───┘ ░  ║  ║ └╥┘\n",
       "c11: 3/═══════════════════════════════════════════════════════════════╩══╩══╩═\n",
       "                                                                      0  1  2 "
      ]
     },
     "execution_count": 161,
     "metadata": {},
     "output_type": "execute_result"
    }
   ],
   "source": [
    "from qiskit_aer import Aer\n",
    "\n",
    "qr = qkQuantumRegister(3)\n",
    "cr = qkClassicalRegister(3)\n",
    "qc = qkQuantumCircuit(qr,cr, name='QSS5.1_amplitude_amp')\n",
    "\n",
    "# create an equal superposition of all basis states\n",
    "qc.h((qr))\n",
    "\n",
    "qc.barrier()\n",
    "\n",
    "# phase flip oracle\n",
    "qc.x(1)\n",
    "qc.ccz(0,1,2)\n",
    "qc.x(1)\n",
    "\n",
    "qc.barrier()\n",
    "\n",
    "# diffusion operator\n",
    "qc.h(qr)\n",
    "qc.x(qr)\n",
    "qc.h(2)\n",
    "qc.ccx(0,1,2)\n",
    "qc.h(2)\n",
    "qc.x(qr)\n",
    "qc.h(qr)\n",
    "\n",
    "qc.barrier()\n",
    "\n",
    "# measure\n",
    "qc.measure(qr,cr)\n",
    "\n",
    "qc.draw()"
   ]
  },
  {
   "cell_type": "code",
   "execution_count": 162,
   "id": "e8034694-f4a6-45f4-b0ab-3205eca6fc90",
   "metadata": {},
   "outputs": [
    {
     "data": {
      "image/png": "[encoded data removed]",
      "text/plain": [
       "<Figure size 640x480 with 1 Axes>"
      ]
     },
     "execution_count": 162,
     "metadata": {},
     "output_type": "execute_result"
    }
   ],
   "source": [
    "backend = Aer.get_backend('aer_simulator')\n",
    "job = backend.run(qc, shots=1024)\n",
    "result = job.result()\n",
    "counts = result.get_counts()\n",
    "plot_histogram(counts)"
   ]
  },
  {
   "cell_type": "markdown",
   "id": "0e85b41d-00e7-4cb5-bbda-3d2cd4e24f9a",
   "metadata": {},
   "source": [
    "**Question:** What happens if we repeat the amplitude amplification process again?"
   ]
  },
  {
   "cell_type": "code",
   "execution_count": null,
   "id": "71541576-ad63-403d-8361-767951c291d2",
   "metadata": {},
   "outputs": [
    {
     "data": {
      "text/html": [
       "<pre style=\"word-wrap: normal;white-space: pre;background: #fff0;line-height: 1.1;font-family: &quot;Courier New&quot;,Courier,monospace\">       ┌───┐ ░               ░ ┌───┐┌───┐          ┌───┐┌───┐      ░         »\n",
       "q13_0: ┤ H ├─░───────■───────░─┤ H ├┤ X ├───────■──┤ X ├┤ H ├──────░───────■─»\n",
       "       ├───┤ ░ ┌───┐ │ ┌───┐ ░ ├───┤├───┤       │  ├───┤├───┤      ░ ┌───┐ │ »\n",
       "q13_1: ┤ H ├─░─┤ X ├─■─┤ X ├─░─┤ H ├┤ X ├───────■──┤ X ├┤ H ├──────░─┤ X ├─■─»\n",
       "       ├───┤ ░ └───┘ │ └───┘ ░ ├───┤├───┤┌───┐┌─┴─┐├───┤├───┤┌───┐ ░ └───┘ │ »\n",
       "q13_2: ┤ H ├─░───────■───────░─┤ H ├┤ X ├┤ H ├┤ X ├┤ H ├┤ X ├┤ H ├─░───────■─»\n",
       "       └───┘ ░               ░ └───┘└───┘└───┘└───┘└───┘└───┘└───┘ ░         »\n",
       "c12: 3/══════════════════════════════════════════════════════════════════════»\n",
       "                                                                             »\n",
       "«             ░ ┌───┐┌───┐          ┌───┐┌───┐      ░ ┌─┐      \n",
       "«q13_0: ──────░─┤ H ├┤ X ├───────■──┤ X ├┤ H ├──────░─┤M├──────\n",
       "«       ┌───┐ ░ ├───┤├───┤       │  ├───┤├───┤      ░ └╥┘┌─┐   \n",
       "«q13_1: ┤ X ├─░─┤ H ├┤ X ├───────■──┤ X ├┤ H ├──────░──╫─┤M├───\n",
       "«       └───┘ ░ ├───┤├───┤┌───┐┌─┴─┐├───┤├───┤┌───┐ ░  ║ └╥┘┌─┐\n",
       "«q13_2: ──────░─┤ H ├┤ X ├┤ H ├┤ X ├┤ H ├┤ X ├┤ H ├─░──╫──╫─┤M├\n",
       "«             ░ └───┘└───┘└───┘└───┘└───┘└───┘└───┘ ░  ║  ║ └╥┘\n",
       "«c12: 3/═══════════════════════════════════════════════╩══╩══╩═\n",
       "«                                                      0  1  2 </pre>"
      ],
      "text/plain": [
       "       ┌───┐ ░               ░ ┌───┐┌───┐          ┌───┐┌───┐      ░         »\n",
       "q13_0: ┤ H ├─░───────■───────░─┤ H ├┤ X ├───────■──┤ X ├┤ H ├──────░───────■─»\n",
       "       ├───┤ ░ ┌───┐ │ ┌───┐ ░ ├───┤├───┤       │  ├───┤├───┤      ░ ┌───┐ │ »\n",
       "q13_1: ┤ H ├─░─┤ X ├─■─┤ X ├─░─┤ H ├┤ X ├───────■──┤ X ├┤ H ├──────░─┤ X ├─■─»\n",
       "       ├───┤ ░ └───┘ │ └───┘ ░ ├───┤├───┤┌───┐┌─┴─┐├───┤├───┤┌───┐ ░ └───┘ │ »\n",
       "q13_2: ┤ H ├─░───────■───────░─┤ H ├┤ X ├┤ H ├┤ X ├┤ H ├┤ X ├┤ H ├─░───────■─»\n",
       "       └───┘ ░               ░ └───┘└───┘└───┘└───┘└───┘└───┘└───┘ ░         »\n",
       "c12: 3/══════════════════════════════════════════════════════════════════════»\n",
       "                                                                             »\n",
       "«             ░ ┌───┐┌───┐          ┌───┐┌───┐      ░ ┌─┐      \n",
       "«q13_0: ──────░─┤ H ├┤ X ├───────■──┤ X ├┤ H ├──────░─┤M├──────\n",
       "«       ┌───┐ ░ ├───┤├───┤       │  ├───┤├───┤      ░ └╥┘┌─┐   \n",
       "«q13_1: ┤ X ├─░─┤ H ├┤ X ├───────■──┤ X ├┤ H ├──────░──╫─┤M├───\n",
       "«       └───┘ ░ ├───┤├───┤┌───┐┌─┴─┐├───┤├───┤┌───┐ ░  ║ └╥┘┌─┐\n",
       "«q13_2: ──────░─┤ H ├┤ X ├┤ H ├┤ X ├┤ H ├┤ X ├┤ H ├─░──╫──╫─┤M├\n",
       "«             ░ └───┘└───┘└───┘└───┘└───┘└───┘└───┘ ░  ║  ║ └╥┘\n",
       "«c12: 3/═══════════════════════════════════════════════╩══╩══╩═\n",
       "«                                                      0  1  2 "
      ]
     },
     "execution_count": 163,
     "metadata": {},
     "output_type": "execute_result"
    }
   ],
   "source": [
    "from qiskit_aer import Aer\n",
    "\n",
    "qr = qkQuantumRegister(3)\n",
    "cr = qkClassicalRegister(3)\n",
    "qc = qkQuantumCircuit(qr,cr, name='QSS5.1_amplitude_amp')\n",
    "\n",
    "# create an equal superposition of all basis states\n",
    "qc.h((qr))\n",
    "\n",
    "qc.barrier()\n",
    "\n",
    "# phase flip oracle\n",
    "qc.x(1)\n",
    "qc.ccz(0,1,2)\n",
    "qc.x(1)\n",
    "\n",
    "qc.barrier()\n",
    "\n",
    "# diffusion operator\n",
    "qc.h(qr)\n",
    "qc.x(qr)\n",
    "qc.h(2)\n",
    "qc.ccx(0,1,2)\n",
    "qc.h(2)\n",
    "qc.x(qr)\n",
    "qc.h(qr)\n",
    "\n",
    "qc.barrier()\n",
    "\n",
    "# Again repeat this (second time)\n",
    "\n",
    "# phase flip oracle\n",
    "qc.x(1)\n",
    "qc.ccz(0,1,2)\n",
    "qc.x(1)\n",
    "\n",
    "qc.barrier()\n",
    "\n",
    "# diffusion operator\n",
    "qc.h(qr)\n",
    "qc.x(qr)\n",
    "qc.h(2)\n",
    "qc.ccx(0,1,2)\n",
    "qc.h(2)\n",
    "qc.x(qr)\n",
    "qc.h(qr)\n",
    "\n",
    "qc.barrier()\n",
    "\n",
    "# measure\n",
    "qc.measure(qr,cr)\n",
    "\n",
    "qc.draw()"
   ]
  },
  {
   "cell_type": "code",
   "execution_count": 164,
   "id": "041c9a70-9832-43f5-98f5-d8648e59ccb3",
   "metadata": {},
   "outputs": [
    {
     "data": {
      "image/png": "[encoded data removed]",
      "text/plain": [
       "<Figure size 640x480 with 1 Axes>"
      ]
     },
     "execution_count": 164,
     "metadata": {},
     "output_type": "execute_result"
    }
   ],
   "source": [
    "job = backend.run(qc, shots=1024)\n",
    "result = job.result()\n",
    "counts = result.get_counts()\n",
    "plot_histogram(counts)"
   ]
  },
  {
   "cell_type": "markdown",
   "id": "6ed78344-8d39-433d-adfd-7a1e1e1bc6c0",
   "metadata": {},
   "source": [
    "<div style=\"background-color:rgba(252, 245, 255, 1.0); text-align:left; vertical-align: middle; padding:20px 0;border:3px; border-style:solid; padding: 0.5em; border-color: rgba(190, 111, 227, 1.0); color: #000000;\">\n",
    "\n",
    "### Challenge Problem: \n",
    "\n",
    "What happens if you repeat the amplitude amplification three times? Try it out!\n",
    "\n",
    "<div/>"
   ]
  },
  {
   "cell_type": "code",
   "execution_count": 182,
   "id": "2f221e4b",
   "metadata": {},
   "outputs": [
    {
     "name": "stdout",
     "output_type": "stream",
     "text": [
      "     ┌───┐              ░ ┌───┐┌───┐          ┌───┐┌───┐      ░              »\n",
      "q_0: ┤ H ├──────■───────░─┤ H ├┤ X ├───────■──┤ X ├┤ H ├──────░───────■──────»\n",
      "     ├───┤┌───┐ │ ┌───┐ ░ ├───┤├───┤       │  ├───┤├───┤      ░ ┌───┐ │ ┌───┐»\n",
      "q_1: ┤ H ├┤ X ├─■─┤ X ├─░─┤ H ├┤ X ├───────■──┤ X ├┤ H ├──────░─┤ X ├─■─┤ X ├»\n",
      "     ├───┤└───┘ │ └───┘ ░ ├───┤├───┤┌───┐┌─┴─┐├───┤├───┤┌───┐ ░ └───┘ │ └───┘»\n",
      "q_2: ┤ H ├──────■───────░─┤ H ├┤ X ├┤ H ├┤ X ├┤ H ├┤ X ├┤ H ├─░───────■──────»\n",
      "     └───┘              ░ └───┘└───┘└───┘└───┘└───┘└───┘└───┘ ░              »\n",
      "c: 3/════════════════════════════════════════════════════════════════════════»\n",
      "                                                                             »\n",
      "«      ░ ┌───┐┌───┐          ┌───┐┌───┐      ░               ░ ┌───┐┌───┐     »\n",
      "«q_0: ─░─┤ H ├┤ X ├───────■──┤ X ├┤ H ├──────░───────■───────░─┤ H ├┤ X ├─────»\n",
      "«      ░ ├───┤├───┤       │  ├───┤├───┤      ░ ┌───┐ │ ┌───┐ ░ ├───┤├───┤     »\n",
      "«q_1: ─░─┤ H ├┤ X ├───────■──┤ X ├┤ H ├──────░─┤ X ├─■─┤ X ├─░─┤ H ├┤ X ├─────»\n",
      "«      ░ ├───┤├───┤┌───┐┌─┴─┐├───┤├───┤┌───┐ ░ └───┘ │ └───┘ ░ ├───┤├───┤┌───┐»\n",
      "«q_2: ─░─┤ H ├┤ X ├┤ H ├┤ X ├┤ H ├┤ X ├┤ H ├─░───────■───────░─┤ H ├┤ X ├┤ H ├»\n",
      "«      ░ └───┘└───┘└───┘└───┘└───┘└───┘└───┘ ░               ░ └───┘└───┘└───┘»\n",
      "«c: 3/════════════════════════════════════════════════════════════════════════»\n",
      "«                                                                             »\n",
      "«          ┌───┐┌───┐      ░ ┌─┐      \n",
      "«q_0: ──■──┤ X ├┤ H ├──────░─┤M├──────\n",
      "«       │  ├───┤├───┤      ░ └╥┘┌─┐   \n",
      "«q_1: ──■──┤ X ├┤ H ├──────░──╫─┤M├───\n",
      "«     ┌─┴─┐├───┤├───┤┌───┐ ░  ║ └╥┘┌─┐\n",
      "«q_2: ┤ X ├┤ H ├┤ X ├┤ H ├─░──╫──╫─┤M├\n",
      "«     └───┘└───┘└───┘└───┘ ░  ║  ║ └╥┘\n",
      "«c: 3/════════════════════════╩══╩══╩═\n",
      "«                             0  1  2 \n"
     ]
    }
   ],
   "source": [
    "from qiskit import QuantumRegister, ClassicalRegister, QuantumCircuit\n",
    "\n",
    "# Create quantum and classical registers\n",
    "qr = QuantumRegister(3, 'q')\n",
    "cr = ClassicalRegister(3, 'c')\n",
    "qc = QuantumCircuit(qr, cr, name='amplitude_amplification')\n",
    "\n",
    "# Step 1: Initial superposition\n",
    "qc.h(qr)\n",
    "\n",
    "# Step 2: Apply amplitude amplification n times\n",
    "def amplitude_amplification(qc, qr, n):\n",
    "    for _ in range(n):\n",
    "        # Phase flip oracle\n",
    "        qc.x(1)\n",
    "        qc.ccz(0, 1, 2)\n",
    "        qc.x(1)\n",
    "        \n",
    "        # Optional barrier for visualization\n",
    "        qc.barrier()\n",
    "        \n",
    "        # Diffusion operator\n",
    "        qc.h(qr)\n",
    "        qc.x(qr)\n",
    "        qc.h(2)\n",
    "        qc.ccx(0, 1, 2)\n",
    "        qc.h(2)\n",
    "        qc.x(qr)\n",
    "        qc.h(qr)\n",
    "        \n",
    "        # Optional barrier for visualization\n",
    "        qc.barrier()\n",
    "\n",
    "# Example: Apply amplitude amplification for n repetitions\n",
    "n = 3  # Replace with desired number of repetitions\n",
    "amplitude_amplification(qc, qr, n)\n",
    "\n",
    "# Step 3: Measure\n",
    "qc.measure(qr, cr)\n",
    "\n",
    "# Optional: Draw the circuit\n",
    "print(qc.draw())"
   ]
  },
  {
   "cell_type": "code",
   "execution_count": 183,
   "id": "9bfb9205",
   "metadata": {},
   "outputs": [
    {
     "data": {
      "image/png": "[encoded data removed]",
      "text/plain": [
       "<Figure size 640x480 with 1 Axes>"
      ]
     },
     "execution_count": 183,
     "metadata": {},
     "output_type": "execute_result"
    }
   ],
   "source": [
    "job = backend.run(qc, shots=1024)\n",
    "result = job.result()\n",
    "counts = result.get_counts()\n",
    "plot_histogram(counts)"
   ]
  },
  {
   "cell_type": "markdown",
   "id": "0a405c73-6ea5-41bb-b75a-9205e0a2c5ac",
   "metadata": {},
   "source": [
    "### Check your understanding"
   ]
  },
  {
   "cell_type": "markdown",
   "id": "eb4010f0-ff11-4af9-a8b5-5423a9ec53a8",
   "metadata": {},
   "source": [
    "<div class=\"ques1\" style=\"display:none\">\n",
    "[\n",
    "  {\n",
    "    \"question\": \"What is the role of an oracle in quantum computing?\",\n",
    "    \"type\": \"multiple_choice\",\n",
    "    \"answers\": [\n",
    "      {\"answer\":\"Performing a computation or transforming a quantum state\",\"correct\":true,  \"feedback\":\"✅ We saw example of each of these today\"},\n",
    "      {\"answer\":\"Predicting the future\",\"correct\":false, \"feedback\":\"❌\"},\n",
    "        {\"answer\":\"Flipping the phase of a desired state\",\"correct\":false, \"feedback\":\"❌ This could be an example of an oracle, but you can use oracles for all kinds of things\"},\n",
    "    {\"answer\":\"Measuring the quantum state\",\"correct\":false, \"feedback\":\"❌\"}\n",
    "    ]\n",
    "  }   \n",
    "]\n",
    "</div>\n",
    "\n",
    "<div class=\"ques2\" style=\"display:none\">\n",
    "[\n",
    "  {\n",
    "    \"question\": \"Is a quantum oracle a unitary operation?\",\n",
    "    \"type\": \"multiple_choice\",\n",
    "    \"answers\": [\n",
    "      {\"answer\":\"Yes\",\"correct\":true,  \"feedback\":\"✅ An oracle transforms one quantum state to another using quantum gates, so it must be reversible (and unitary).\"},\n",
    "      {\"answer\":\"No\",\"correct\":false, \"feedback\":\"❌\"}\n",
    "    ]\n",
    "  }   \n",
    "]\n",
    "</div>\n",
    "\n",
    "<div class=\"ques3\" style=\"display:none\">\n",
    "[\n",
    "  {\n",
    "    \"question\": \"What happens if you keep doing amplitude amplification?\",\n",
    "    \"type\": \"multiple_choice\",\n",
    "    \"answers\": [\n",
    "      {\"answer\":\"The correct state will increase in amplitude but then decrease again after it reaches its peak amplitude\",\"correct\":true,  \"feedback\":\"✅ Amplitude amplification is a reflection about the mean amplitude. If we keep doing it too much, the largest amplitude state will start decreasing again.\"},\n",
    "      {\"answer\":\"Eventually, the correct state will have amplitude 1 and all others will have amplitude 0\",\"correct\":false, \"feedback\":\"❌\"},\n",
    "    {\"answer\":\"The correct state reaches some amplitude close to one but plateaus and can never reach one.\",\"correct\":false, \"feedback\":\"❌\"},\n",
    "    {\"answer\":\"Eventually the amplitudes of all states will be equal\",\"correct\":false, \"feedback\":\"❌\"}\n",
    "    ]\n",
    "  }   \n",
    "]\n",
    "</div>"
   ]
  },
  {
   "cell_type": "code",
   "execution_count": null,
   "id": "4ac19d3f",
   "metadata": {},
   "outputs": [],
   "source": [
    "display_quiz(\"#ques1\")\n",
    "display_quiz(\"#ques2\")\n",
    "display_quiz(\"#ques3\")"
   ]
  }
 ],
 "metadata": {
  "kernelspec": {
   "display_name": "qrings",
   "language": "python",
   "name": "python3"
  },
  "language_info": {
   "codemirror_mode": {
    "name": "ipython",
    "version": 3
   },
   "file_extension": ".py",
   "mimetype": "text/x-python",
   "name": "python",
   "nbconvert_exporter": "python",
   "pygments_lexer": "ipython3",
   "version": "3.13.3"
  }
 },
 "nbformat": 4,
 "nbformat_minor": 5
}
