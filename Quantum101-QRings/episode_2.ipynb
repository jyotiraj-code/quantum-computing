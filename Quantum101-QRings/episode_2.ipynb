{
 "cells": [
  {
   "cell_type": "markdown",
   "id": "6a902789-fd8c-43f5-9d2f-1f2be6aed7ba",
   "metadata": {},
   "source": [
    "<div style=\"background-color:rgba(78, 188, 130, 0.05); text-align:center; vertical-align: middle; padding:20px 0;border:3px; border-style:solid; padding: 0.5em; border-color: rgba(78, 188, 130, 1.0); color: #000000;\">\n",
    "\n",
    "<img src=\"figs/qr_logo.png\" width=\"700\"/>\n",
    "\n",
    "<h1><strong>Quantum Summer School</strong></h1>\n",
    "\n",
    "<h2><strong>Episode 2</strong></h2>\n",
    "\n",
    "<h3><strong>Single-Qubit Gates, Bloch Sphere & Measurement (Qiskit Toolkit)</strong></h3>\n",
    "\n",
    "</div>"
   ]
  },
  {
   "cell_type": "markdown",
   "id": "674fd469",
   "metadata": {},
   "source": [
    "*In this session, we’ll explore single-qubit gates using Qiskit & Quantum Rings Toolkit, visualize states on the Bloch sphere, and measure outcomes. We will also explore a quantum key distribution protocol called BB84.*\n",
    "\n",
    "**NOTE:** There are quizzes throughout the notebook which you can use to check your understanding. Run the cells with the function display_quiz() to see them.\n",
    "\n",
    "**NOTE:** Successful completion of this course will depend upon your engagement. The circuits in the coding notebooks have names which can be tracked in your execution history in Quantum Rings. We will verify your participation before you can earn a badge."
   ]
  },
  {
   "cell_type": "markdown",
   "id": "d1082cc1",
   "metadata": {},
   "source": [
    "<div style=\"background-color:rgba(255, 248, 240, 1.0); text-align:left; vertical-align: middle; padding:20px 0;border:3px; border-style:solid; padding: 0.5em; border-color: rgba(255, 142, 0, 1.0); color: #000000;\">\n",
    "\n",
    "## Objectives\n",
    "1. Apply X, Y, Z, H, S, and T gates using Qiskit circuits<br/>\n",
    "\n",
    "2. Execute circuits on the Quantum Rings noise-free backend via the Toolkit<br/>\n",
    "\n",
    "3. Visualize resulting states on the Bloch sphere with Qiskit visualization\n",
    "\n",
    "4. Explore the BB84 QKD Protocol\n",
    "\n",
    "<div/>"
   ]
  },
  {
   "cell_type": "code",
   "execution_count": 2,
   "id": "61d5103b-9fc0-4784-99d9-4a4a2d6a7adc",
   "metadata": {},
   "outputs": [],
   "source": [
    "# === 1. Setup & Imports\n",
    "from QuantumRingsLib import QuantumRingsProvider\n",
    "from quantumrings.toolkit.qiskit import QrBackendV2\n",
    "from qiskit import QuantumCircuit, QuantumRegister, ClassicalRegister\n",
    "from qiskit.visualization import plot_bloch_multivector, plot_histogram\n",
    "from qiskit.quantum_info import Statevector\n",
    "from qiskit.visualization.bloch import Bloch\n",
    "import matplotlib.pyplot as plt\n",
    "import warnings\n",
    "warnings.filterwarnings('ignore')\n",
    "import numpy as np\n",
    "import copy\n",
    "from qiskit.circuit.library import RVGate, StatePreparation\n",
    "from io import BytesIO\n",
    "from IPython.display import HTML\n",
    "from PIL import Image\n",
    "from matplotlib.animation import FuncAnimation\n",
    "from jupyterquiz import display_quiz\n",
    "\n",
    "# Load saved account and select noise-free backend\n",
    "provider = QuantumRingsProvider(\n",
    "    token='rings-128.RudMvYqCFOd2CE6mF7G4Xo5NANQKv54K',\n",
    "    name='i20ph049@phy.svnit.ac.in'\n",
    ")\n",
    "backend = provider.get_backend(\"scarlet_quantum_rings\")"
   ]
  },
  {
   "cell_type": "markdown",
   "id": "7702e967-d15b-4610-b30c-8246e98f06be",
   "metadata": {},
   "source": [
    "## Helper Functions"
   ]
  },
  {
   "cell_type": "markdown",
   "id": "277163b1",
   "metadata": {},
   "source": [
    "### Helper Function: Run & Plot\n",
    "This function runs on the QR backend (counts) and shows a Bloch sphere of the pre-measurement state."
   ]
  },
  {
   "cell_type": "code",
   "execution_count": null,
   "id": "05a1a6b7",
   "metadata": {},
   "outputs": [],
   "source": [
    "def run_and_plot(qc: QuantumCircuit, label: str):\n",
    "    # a) Initialize a QrBackendV2 for exactly the size of your circuit\n",
    "    num_qubits = qc.num_qubits\n",
    "    qr_backend = QrBackendV2(provider=provider, num_qubits=num_qubits+1)\n",
    "\n",
    "    # b) Execute on Quantum Rings\n",
    "    job    = qr_backend.run(qc, shots=1024)\n",
    "    result = job.result()\n",
    "    print(f\"{label} counts: {result.get_counts()}\")\n",
    "\n",
    "    # c) Strip measurements for statevector simulation\n",
    "    qc_sv = qc.remove_final_measurements(inplace=False)\n",
    "    sv    = Statevector.from_instruction(qc_sv)\n",
    "\n",
    "    # d) Plot Bloch sphere for a single qubit\n",
    "    fig = plot_bloch_multivector(sv.data, title=f\"{label} — Bloch Sphere\")\n",
    "    display(fig)"
   ]
  },
  {
   "cell_type": "markdown",
   "id": "92876df6-3e9a-4788-a9b9-c01d9b85e66a",
   "metadata": {},
   "source": [
    "### Helper Function: Gate Animations\n",
    "\n",
    "This function uses Qiskit visualization for an arbitrary quantum gate, defined by a rotation axis and angle of rotation."
   ]
  },
  {
   "cell_type": "code",
   "execution_count": null,
   "id": "378cb053-e95f-4e3a-b42c-269a2e71bcc6",
   "metadata": {},
   "outputs": [],
   "source": [
    "def gate(initial_state, rotation_axis, t):\n",
    "    \n",
    "    qc = QuantumCircuit(1)\n",
    "\n",
    "    stateprep = StatePreparation(initial_state)\n",
    "    qc.append(stateprep, [0])\n",
    "\n",
    "    # rescale by time\n",
    "    vector = 2*np.pi*t * rotation_axis\n",
    "\n",
    "    gate = RVGate(vector[0],vector[1],vector[2])\n",
    "\n",
    "    qc.append(gate, [0])\n",
    "    \n",
    "    sv = Statevector.from_instruction(qc)\n",
    "\n",
    "    return sv\n",
    "\n",
    "def gate_animation(rotation_axis, initial_state=[1,0], rotation_angle=np.pi, \n",
    "                   num_frames=21, interval=100, repeat=False):\n",
    "\n",
    "    # normalize\n",
    "    rotation_axis = np.array(rotation_axis)\n",
    "    length = np.sqrt(np.sum(rotation_axis**2))\n",
    "    normalized_axis = rotation_axis/length\n",
    "\n",
    "    # Generate all Bloch vector images\n",
    "    frames = []\n",
    "    for i in range(0, num_frames+1):\n",
    "        t = i / num_frames\n",
    "        bloch = gate(initial_state, normalized_axis, t * rotation_angle/(2*np.pi))\n",
    "\n",
    "        alpha, beta = bloch.data  # amplitudes for |0> and |1>\n",
    "\n",
    "        # Compute Bloch vector\n",
    "        x = 2 * np.real(np.conj(alpha) * beta)\n",
    "        y = 2 * np.imag(np.conj(alpha) * beta)\n",
    "        z = np.abs(alpha)**2 - np.abs(beta)**2\n",
    "        \n",
    "        bloch_vector = [x, y, z]\n",
    "        \n",
    "        fig = plot_bloch_multivector(bloch)\n",
    "        b = Bloch()\n",
    "        b.add_vectors(normalized_axis)  # add the rotation axis vector\n",
    "        b.add_annotation(rotation_axis, \"Rotation Axis\", fontsize=16)\n",
    "        b.add_vectors(bloch_vector)  # add the state vector\n",
    "        \n",
    "        buf = BytesIO()\n",
    "        b.save(name=buf)\n",
    "        buf.seek(0)\n",
    "        img = Image.open(buf)\n",
    "        frames.append(img.copy())\n",
    "        plt.close(fig)\n",
    "\n",
    "    # Convert PIL Images to NumPy arrays\n",
    "    frame_arrays = [np.asarray(img) for img in frames]\n",
    "    \n",
    "    # Set up figure\n",
    "    fig, ax = plt.subplots()\n",
    "    im = ax.imshow(frame_arrays[0])\n",
    "    ax.axis('off')  # Optional: hide axes\n",
    "    \n",
    "    # Update function for animation\n",
    "    def update(frame_index):\n",
    "        im.set_array(frame_arrays[frame_index])\n",
    "        return [im]\n",
    "    \n",
    "    # Create the animation\n",
    "    ani = FuncAnimation(fig, update, frames=len(frame_arrays), interval=interval, repeat=repeat)\n",
    "    \n",
    "    # Display inline\n",
    "    plt.close(fig)\n",
    "    return HTML(ani.to_jshtml())"
   ]
  },
  {
   "cell_type": "markdown",
   "id": "c18b0e68-9dff-4c4b-97fb-26173ffc4c6d",
   "metadata": {},
   "source": [
    "### Helper function: Convert to Basis String\n",
    "\n",
    "This function converts a string of bits (0 or 1) to a string of bases (Z or X) for the BB84 protocol."
   ]
  },
  {
   "cell_type": "code",
   "execution_count": null,
   "id": "acd3fec1-b45c-4324-947d-dc09c214babb",
   "metadata": {},
   "outputs": [],
   "source": [
    "def convert_to_basis_string(arr):\n",
    "\n",
    "    arr = copy.deepcopy(arr)\n",
    "    arr = np.array(arr, dtype=object)\n",
    "    arr[arr == 0] = 'Z'\n",
    "    arr[arr == 1] = 'X'\n",
    "\n",
    "    return arr"
   ]
  },
  {
   "cell_type": "markdown",
   "id": "25acdac4",
   "metadata": {},
   "source": [
    "## 1. Single Qubit Gates"
   ]
  },
  {
   "cell_type": "markdown",
   "id": "203f7b1c-458a-4f55-82b4-712429c3b6b4",
   "metadata": {},
   "source": [
    "<div style=\"background-color:rgba(236, 250, 255, 1.0); text-align:left; vertical-align: middle; padding:20px 0;border:3px; border-style:solid; padding: 0.5em; border-color: rgba(35, 175, 219, 1.0); color: #000000;\">\n",
    "\n",
    "We learned about 6 single qubit gates today. The X, Y, and Z gates are 180° rotations about their respective axes. The Hadamard gate is a 180° rotation around the axis which lies at 45° in the XZ-plane. The S and T gates are $\\pi$/2 and $\\pi$/4 rotations around the Z axis.\n",
    "\n",
    "Their matrix representations are as follows:\n",
    "\n",
    "$$ X = \\begin{pmatrix} 0 & 1 \\\\ 1 & 0 \\end{pmatrix} $$\n",
    "\n",
    "$$ Y = \\begin{pmatrix} 0 & -i \\\\ i & 0 \\end{pmatrix} $$\n",
    "\n",
    "$$ Z = \\begin{pmatrix} 1 & 0 \\\\ 0 & -1 \\end{pmatrix} $$\n",
    "\n",
    "$$ H = \\frac{1}{\\sqrt{2}} \\begin{pmatrix} 1 & 1 \\\\ 1 & -1 \\end{pmatrix} $$\n",
    "\n",
    "$$ S = \\begin{pmatrix} 1 & 0 \\\\ 0 & i \\end{pmatrix} $$\n",
    "\n",
    "$$ T = \\begin{pmatrix} 1 & 0 \\\\ 0 & e^{i\\pi/4} \\end{pmatrix} $$\n",
    "\n",
    "Generally speaking, every single qubit gate is a rotation. Our allowed qubit states lie on the surface of the Bloch sphere, so any qubit state can be transformed to any other via a rotation (a.k.a. a gate).\n",
    "\n",
    "<div/>"
   ]
  },
  {
   "cell_type": "markdown",
   "id": "b3134112-3cba-4078-8e68-8f09c77eb2e3",
   "metadata": {},
   "source": [
    "### Check your understanding: Unitary and Hermitian Matrices\n",
    "\n",
    "Recall that unitary matrices satisfy $UU^\\dagger = U^\\dagger U = \\mathbb{1}$ and Hermitian matrices satisfy $A = A^\\dagger$."
   ]
  },
  {
   "cell_type": "markdown",
   "id": "e1a6dbef-c76f-47d9-aeb1-5d93c4f05c1b",
   "metadata": {},
   "source": [
    "<div class=\"sec1_ques1\" style=\"display:none\">\n",
    "[\n",
    "  {\n",
    "    \"question\": \"Of the six gates shown above, which are unitary?\",\n",
    "    \"type\": \"multiple_choice\",\n",
    "    \"answers\": [\n",
    "      {\"answer\":\"All of them.\",\"correct\":true,  \"feedback\":\"✅ All gates need to be unitary because they need to preserve the norm of a qubit state.\"},\n",
    "      {\"answer\":\"Only X, Y, and Z.\",\"correct\":false, \"feedback\":\"❌\"},\n",
    "      {\"answer\":\"Only X, Y, Z, and H\",\"correct\":false, \"feedback\":\"❌\"},\n",
    "    {\"answer\":\"Only S and T\",\"correct\":false, \"feedback\":\"❌\"}\n",
    "    ]\n",
    "  }\n",
    "]\n",
    "</div>\n",
    "\n",
    "<div class=\"sec1_ques2\" style=\"display:none\">\n",
    "[\n",
    "  {\n",
    "    \"question\": \"Of the six gates shown above, which are Hermitian?\",\n",
    "    \"type\": \"multiple_choice\",\n",
    "    \"answers\": [\n",
    "      {\"answer\":\"All of them.\",\"correct\":false,  \"feedback\":\"❌\"},\n",
    "      {\"answer\":\"Only X, Y, and Z.\",\"correct\":false, \"feedback\":\"❌\"},\n",
    "      {\"answer\":\"Only X, Y, Z, and H\",\"correct\":true, \"feedback\":\"✅ S and T are not equal to their Hermitian conjugates. Only operators which correspond to physical observables need to be Hermitian, which S and T are not.\"},\n",
    "    {\"answer\":\"Only S and T\",\"correct\":false, \"feedback\":\"❌\"}\n",
    "    ]\n",
    "  }\n",
    "]\n",
    "</div>\n",
    "\n",
    "<div class=\"sec1_ques3\" style=\"display:none\">\n",
    "[\n",
    "  {\n",
    "    \"question\": \"Which gate is the 'bit flip' gate?\",\n",
    "    \"type\": \"multiple_choice\",\n",
    "    \"answers\": [\n",
    "      {\"answer\":\"X\",\"correct\":true,  \"feedback\":\"✅\"},\n",
    "      {\"answer\":\"Y\",\"correct\":false, \"feedback\":\"❌\"},\n",
    "      {\"answer\":\"Z\",\"correct\":false, \"feedback\":\"❌\"},\n",
    "    {\"answer\":\"H\",\"correct\":false, \"feedback\":\"❌\"}\n",
    "    ]\n",
    "  }\n",
    "]\n",
    "</div>\n",
    "\n",
    "<div class=\"sec1_ques4\" style=\"display:none\">\n",
    "[\n",
    "  {\n",
    "    \"question\": \"Which gate is the 'phase flip' gate?\",\n",
    "    \"type\": \"multiple_choice\",\n",
    "    \"answers\": [\n",
    "      {\"answer\":\"Z\",\"correct\":true,  \"feedback\":\"✅\"},\n",
    "      {\"answer\":\"Y\",\"correct\":false, \"feedback\":\"❌\"},\n",
    "      {\"answer\":\"X\",\"correct\":false, \"feedback\":\"❌\"},\n",
    "    {\"answer\":\"H\",\"correct\":false, \"feedback\":\"❌\"}\n",
    "    ]\n",
    "  }\n",
    "]\n",
    "</div>\n",
    "\n",
    "<div class=\"sec1_ques5\" style=\"display:none\">\n",
    "[\n",
    "  {\n",
    "    \"question\": \"Which gate puts the 0 state into an equal superposition of 0 and 1?\",\n",
    "    \"type\": \"multiple_choice\",\n",
    "    \"answers\": [\n",
    "      {\"answer\":\"H\",\"correct\":true,  \"feedback\":\"✅\"},\n",
    "      {\"answer\":\"Y\",\"correct\":false, \"feedback\":\"❌\"},\n",
    "      {\"answer\":\"Z\",\"correct\":false, \"feedback\":\"❌\"},\n",
    "    {\"answer\":\"X\",\"correct\":false, \"feedback\":\"❌\"}\n",
    "    ]\n",
    "  }\n",
    "]\n",
    "</div>"
   ]
  },
  {
   "cell_type": "code",
   "execution_count": null,
   "id": "a067f965-b1cc-4532-b9ea-eda66d2e7894",
   "metadata": {},
   "outputs": [],
   "source": [
    "display_quiz(\"#sec1_ques1\")\n",
    "display_quiz(\"#sec1_ques2\")\n",
    "display_quiz(\"#sec1_ques3\")\n",
    "display_quiz(\"#sec1_ques4\")\n",
    "display_quiz(\"#sec1_ques5\")"
   ]
  },
  {
   "cell_type": "markdown",
   "id": "c0d6b4f3-a36c-4fa0-8dd5-309c9e8cd876",
   "metadata": {},
   "source": [
    "## 2. Gate Demonstrations"
   ]
  },
  {
   "cell_type": "markdown",
   "id": "5e92aecf-6629-444c-bd1b-f7b48b391361",
   "metadata": {},
   "source": [
    "We can use Qiskit to apply gates and visualize the action of those gates. The function run_and_plot() shows us the final state of a quantum circuit. Note that by default, our qubit starts in the 0 state."
   ]
  },
  {
   "cell_type": "code",
   "execution_count": null,
   "id": "687d9ff1",
   "metadata": {},
   "outputs": [],
   "source": [
    "# X gate demo\n",
    "qc_x = QuantumCircuit(1,1, name='qss25.2 X')\n",
    "qc_x.x(0)\n",
    "qc_x.measure(0,0)\n",
    "run_and_plot(qc_x, 'X gate')"
   ]
  },
  {
   "cell_type": "code",
   "execution_count": null,
   "id": "45ab6cb0",
   "metadata": {},
   "outputs": [],
   "source": [
    "# Y gate \n",
    "qc_y = QuantumCircuit(1, 1)\n",
    "# ___\n",
    "qc_y.measure(0, 0)\n",
    "run_and_plot(qc_y, 'Y gate')"
   ]
  },
  {
   "cell_type": "code",
   "execution_count": null,
   "id": "1a5982d4",
   "metadata": {},
   "outputs": [],
   "source": [
    "# Z gate \n",
    "qc_z = QuantumCircuit(1, 1)\n",
    "# ___\n",
    "qc_z.measure(0, 0)\n",
    "run_and_plot(qc_z, 'Z gate')"
   ]
  },
  {
   "cell_type": "code",
   "execution_count": null,
   "id": "b1b76946",
   "metadata": {},
   "outputs": [],
   "source": [
    "# Hadamard gate prepares |+> superposition\n",
    "qc_h = QuantumCircuit(1, 1)\n",
    "# ___\n",
    "qc_h.measure(0, 0)\n",
    "run_and_plot(qc_h, 'H gate (|+>)')"
   ]
  },
  {
   "cell_type": "code",
   "execution_count": null,
   "id": "fb0ab309-973c-40aa-8353-a03a18d649c1",
   "metadata": {},
   "outputs": [],
   "source": [
    "# Now check the action of the Z gate on the |+> state.\n",
    "\n"
   ]
  },
  {
   "cell_type": "code",
   "execution_count": null,
   "id": "26ae9a56-dd44-4991-9910-f8d8d162cff3",
   "metadata": {},
   "outputs": [],
   "source": [
    "# S and T gates (phase shifts) on |+>\n",
    "qc_s = QuantumCircuit(1, 1)\n",
    "# ___\n",
    "# ___\n",
    "qc_s.measure(0, 0)\n",
    "run_and_plot(qc_s, 'S gate')"
   ]
  },
  {
   "cell_type": "code",
   "execution_count": null,
   "id": "9e3be153-8942-4fcd-8fb9-e9ae65cd753a",
   "metadata": {},
   "outputs": [],
   "source": [
    "qc_t = QuantumCircuit(1, 1)\n",
    "# ___\n",
    "# ___\n",
    "qc_t.measure(0, 0)\n",
    "run_and_plot(qc_t, 'T gate')"
   ]
  },
  {
   "cell_type": "markdown",
   "id": "b8615977-76bd-4bab-b88f-d5685e490500",
   "metadata": {},
   "source": [
    "### Check your understanding: Single Qubit Gates"
   ]
  },
  {
   "cell_type": "markdown",
   "id": "320cab88-0010-459b-94bd-c73d46abd3d5",
   "metadata": {},
   "source": [
    "<div class=\"sec2_ques1\" style=\"display:none\">\n",
    "[\n",
    "  {\n",
    "    \"question\": \"If you apply HZH, which gate is that equivalent to? Think about the result of HZH|0> and HZH|1>.\",\n",
    "    \"type\": \"multiple_choice\",\n",
    "    \"answers\": [\n",
    "      {\"answer\":\"X\",\"correct\":true,  \"feedback\":\"✅\"},\n",
    "      {\"answer\":\"Y\",\"correct\":false, \"feedback\":\"❌\"},\n",
    "      {\"answer\":\"S\",\"correct\":false, \"feedback\":\"❌\"},\n",
    "    {\"answer\":\"T\",\"correct\":false, \"feedback\":\"❌\"}\n",
    "    ]\n",
    "  }\n",
    "]\n",
    "</div>\n",
    "\n",
    "<div class=\"sec2_ques2\" style=\"display:none\">\n",
    "[\n",
    "  {\n",
    "    \"question\": \"How can you prepare the state |+i>?\",\n",
    "    \"type\": \"multiple_choice\",\n",
    "    \"answers\": [\n",
    "      {\"answer\":\"SH|0>\",\"correct\":true,  \"feedback\":\"✅\"},\n",
    "      {\"answer\":\"SZHX|0>\",\"correct\":true, \"feedback\":\"✅\"},\n",
    "      {\"answer\":\"TH|0>\",\"correct\":false, \"feedback\":\"❌\"},\n",
    "    {\"answer\":\"TTHX|0>\",\"correct\":false, \"feedback\":\"❌\"}\n",
    "    ]\n",
    "  }\n",
    "]\n",
    "</div>"
   ]
  },
  {
   "cell_type": "code",
   "execution_count": null,
   "id": "5bc4da8e-e2f8-4340-b684-a334c118cd72",
   "metadata": {},
   "outputs": [],
   "source": [
    "display_quiz(\"#sec2_ques1\")\n",
    "display_quiz(\"#sec2_ques2\")"
   ]
  },
  {
   "cell_type": "markdown",
   "id": "c1bb9999-458a-4527-a801-a099c6044322",
   "metadata": {},
   "source": [
    "## 3. Gate Animations"
   ]
  },
  {
   "cell_type": "markdown",
   "id": "22873155-34cf-472e-a478-6f0445d4c962",
   "metadata": {},
   "source": [
    "We can also make animations of the gate over time. In practice, quantum gates are not applied instantaneously, but over a period of time as a rotation. We call this unitary evolution, because our quantum state is evolving under a unitary operator.\n",
    "\n",
    "Below, you can make animations of an arbitrary rotation, just specify the axis of rotation, the angle to rotate, and the initial state. Note: the initial state needs to be a valid quantum state (i.e. norm of 1). Please be patient as the animations may take a bit to render.\n",
    "\n",
    "**Recreate the X gate:** Define the X gate, but starting from the state $|+i\\rangle$."
   ]
  },
  {
   "cell_type": "code",
   "execution_count": null,
   "id": "edda48e8-e4d5-410e-920d-b273e2bec984",
   "metadata": {},
   "outputs": [],
   "source": [
    "axis = # ___\n",
    "rotation_angle = # ___\n",
    "initial_state = # ___\n",
    "\n",
    "gate_animation(axis, initial_state=initial_state, rotation_angle=rotation_angle)"
   ]
  },
  {
   "cell_type": "markdown",
   "id": "a592d8a9-2ac0-42ab-be9c-03c614f9aada",
   "metadata": {},
   "source": [
    "**Get creative!** Try defining your own rotation axes and angles and see how your gate looks!"
   ]
  },
  {
   "cell_type": "code",
   "execution_count": null,
   "id": "5e59a753-3eea-4a7b-bc98-5bb1e925bdcf",
   "metadata": {},
   "outputs": [],
   "source": [
    "## Your code here!"
   ]
  },
  {
   "cell_type": "markdown",
   "id": "c298d37b-432c-4e45-ac7f-b4d57e6f570b",
   "metadata": {},
   "source": [
    "## 4. Measurement"
   ]
  },
  {
   "cell_type": "markdown",
   "id": "b2c533a7-d6e2-42b6-9856-7880fb269a93",
   "metadata": {},
   "source": [
    "Let's explore the nature of quantum measurement. We know that our qubit exists in a superposition state prior to measurement, but the **only possible measurement results** are 0 and 1. Let's think about what we can learn from measuring a qubit."
   ]
  },
  {
   "cell_type": "code",
   "execution_count": null,
   "id": "c62d8414-7c81-4f57-aefe-fcf2d7645e49",
   "metadata": {},
   "outputs": [],
   "source": [
    "# Quantum Rings backend to use throughout this section\n",
    "backend = QrBackendV2(provider=provider, num_qubits=2) # num_qubits is plus one from physical number"
   ]
  },
  {
   "cell_type": "markdown",
   "id": "7359f63a-bcad-476e-88d7-a2904ab59e64",
   "metadata": {},
   "source": [
    "**A) $|+\\rangle$ vs. $|-\\rangle$**\n",
    "\n",
    "Let's make a circuit which prepares the $|+\\rangle$ state and measures the qubit, and let's repeat the measurement 1000 times."
   ]
  },
  {
   "cell_type": "code",
   "execution_count": null,
   "id": "f6bca047-c49d-43ea-a1cf-9e7dceacf4cd",
   "metadata": {},
   "outputs": [],
   "source": [
    "qc = QuantumCircuit(1, 1, name='qss25.2 plus_measurement')\n",
    "\n",
    "# prepare |+ >\n",
    "# ___\n",
    "\n",
    "qc.measure(0, 0)\n",
    "\n",
    "job = backend.run(qc, shots=1000)\n",
    "result = job.result()\n",
    "counts = result.get_counts()\n",
    "plot_histogram(counts)"
   ]
  },
  {
   "cell_type": "markdown",
   "id": "bb889a7f-6c72-4493-984d-66042648a10c",
   "metadata": {},
   "source": [
    "Now let's make a circuit which prepares the $|-\\rangle$ state and measures the qubit, and let's repeat the measurement 1000 times."
   ]
  },
  {
   "cell_type": "code",
   "execution_count": null,
   "id": "1a362c63-216b-45ca-bde0-637aa9124c07",
   "metadata": {},
   "outputs": [],
   "source": [
    "qc = QuantumCircuit(1, 1, name='qss25.2 minus_measurement')\n",
    "\n",
    "# prepare |- >\n",
    "# ___\n",
    "# ___\n",
    "\n",
    "qc.measure(0, 0)\n",
    "\n",
    "job = backend.run(qc, shots=1000)\n",
    "result = job.result()\n",
    "counts = result.get_counts()\n",
    "plot_histogram(counts)"
   ]
  },
  {
   "cell_type": "markdown",
   "id": "329cb9cc-11f6-4909-b3f3-c367375d69cc",
   "metadata": {},
   "source": [
    "**Question:** Can we tell the $|+\\rangle$ and $|-\\rangle$ states apart based upon these measurements? If not, what information do we learn?"
   ]
  },
  {
   "cell_type": "markdown",
   "id": "49972fb9-18a7-43a8-90ec-f07dca5a6608",
   "metadata": {},
   "source": [
    "**Question:** What can we do before measurement to be able to distinguish (with 100% certainty!) between the $|+\\rangle$ and $|-\\rangle$ states?"
   ]
  },
  {
   "cell_type": "code",
   "execution_count": null,
   "id": "76298d0f-512a-452c-a4b7-4e64a8ae710b",
   "metadata": {},
   "outputs": [],
   "source": [
    "qc = QuantumCircuit(1, 1, name = 'qss25.2 X basis 1')\n",
    "\n",
    "# prepare |+ >\n",
    "qc.h(0)\n",
    "\n",
    "# Rotate into the X basis\n",
    "## ___\n",
    "\n",
    "qc.measure(0, 0)\n",
    "\n",
    "job = backend.run(qc, shots=1000)\n",
    "result = job.result()\n",
    "counts = result.get_counts()\n",
    "plot_histogram(counts)"
   ]
  },
  {
   "cell_type": "code",
   "execution_count": null,
   "id": "6a6a3664-7b86-4b6c-940c-fe9e6649dda6",
   "metadata": {},
   "outputs": [],
   "source": [
    "qc = QuantumCircuit(1, 1, name = 'qss25.2 X basis 2')\n",
    "\n",
    "# prepare |- >\n",
    "qc.x(0)\n",
    "qc.h(0)\n",
    "\n",
    "# Rotate into the X basis\n",
    "## ___\n",
    "\n",
    "qc.measure(0, 0)\n",
    "\n",
    "job = backend.run(qc, shots=1000)\n",
    "result = job.result()\n",
    "counts = result.get_counts()\n",
    "plot_histogram(counts)"
   ]
  },
  {
   "cell_type": "markdown",
   "id": "796def1f-bc59-4076-a816-19c6a7e7ef76",
   "metadata": {},
   "source": [
    "<div style=\"background-color:rgba(252, 245, 255, 1.0); text-align:left; vertical-align: middle; padding:20px 0;border:3px; border-style:solid; padding: 0.5em; border-color: rgba(190, 111, 227, 1.0); color: #000000;\">\n",
    "\n",
    "### Challenge Problem: \n",
    "\n",
    "Can you come up with a protocol for measurement which can distinguish between the $|+i\\rangle$ and $|-i\\rangle$ states? Check if it works by making circuits which prepare the $|+i\\rangle$ and $|-i\\rangle$ states and apply your protocol.\n",
    "\n",
    "<div/>"
   ]
  },
  {
   "cell_type": "markdown",
   "id": "b6a6f741-2354-4b87-89c5-521fab738696",
   "metadata": {},
   "source": [
    "### Check your understanding: Measurement"
   ]
  },
  {
   "cell_type": "markdown",
   "id": "0111bf6b-543d-4eff-8e1f-3dac924577f6",
   "metadata": {},
   "source": [
    "<div class=\"sec5_ques1\" style=\"display:none\">\n",
    "[\n",
    "  {\n",
    "    \"question\": \"Suppose you measure your qubit and get 0 as your result. You leave the qubit as is and come back later and measure again. What will you get?\",\n",
    "    \"type\": \"multiple_choice\",\n",
    "    \"answers\": [\n",
    "      {\"answer\":\"0\",\"correct\":true,  \"feedback\":\"✅ The qubit state stays collapsed in the 0 state after measurement.\"},\n",
    "      {\"answer\":\"1\",\"correct\":false, \"feedback\":\"❌\"},\n",
    "      {\"answer\":\"It could be 0 or 1.\",\"correct\":false, \"feedback\":\"❌\"}\n",
    "    ]\n",
    "  }\n",
    "]\n",
    "</div>\n",
    "\n",
    "<div class=\"sec5_ques2\" style=\"display:none\">\n",
    "[\n",
    "  {\n",
    "    \"question\": \"Can you tell the difference between the 0 and + states with 100% certainty with one measurement?\",\n",
    "    \"type\": \"multiple_choice\",\n",
    "    \"answers\": [\n",
    "      {\"answer\":\"No\",\"correct\":true,  \"feedback\":\"✅ The 0 and + states have nonzero overlap, so you can't tell them apart from one measurement.\"},\n",
    "      {\"answer\":\"Yes\",\"correct\":false, \"feedback\":\"❌\"}\n",
    "    ]\n",
    "  }\n",
    "]\n",
    "</div>\n",
    "\n",
    "<div class=\"sec5_ques3\" style=\"display:none\">\n",
    "[\n",
    "  {\n",
    "    \"question\": \"Can you tell the difference between the + and +i states with 100% certainty with one measurement?\",\n",
    "    \"type\": \"multiple_choice\",\n",
    "    \"answers\": [\n",
    "      {\"answer\":\"No\",\"correct\":true,  \"feedback\":\"✅ The + and +i states have nonzero overlap, so you can't tell them apart from one measurement.\"},\n",
    "      {\"answer\":\"Yes\",\"correct\":false, \"feedback\":\"❌\"}\n",
    "    ]\n",
    "  }\n",
    "]\n",
    "</div>"
   ]
  },
  {
   "cell_type": "code",
   "execution_count": null,
   "id": "3b0d81fd-c789-464e-b0dd-8a54121fd8f1",
   "metadata": {},
   "outputs": [],
   "source": [
    "display_quiz(\"#sec5_ques1\")\n",
    "display_quiz(\"#sec5_ques2\")\n",
    "display_quiz(\"#sec5_ques3\")"
   ]
  },
  {
   "cell_type": "markdown",
   "id": "c8334de6-546c-425a-b43f-d90de505224c",
   "metadata": {},
   "source": [
    "## 5. BB84 protocol"
   ]
  },
  {
   "cell_type": "markdown",
   "id": "bd0ddca0-3246-4589-a8c6-76e29f7f9e85",
   "metadata": {},
   "source": [
    "We learned today about a QKD (quantum key distribution) protocol called BB84, which leverages quantum superposition to securely create a shared key between two users (who we often call Alice and Bob). Alice and Bob will also be able to detect if anyone tries to \"eavesdrop\" to learn the key. All that is required for BB84 is a quantum channel and a classical communication channel, neither of which need to be secure. We summarize the steps of the protocol here:\n",
    "\n",
    "<div style=\"background-color:rgba(247, 255, 245, 1.0); text-align:left; vertical-align: middle; padding:20px 0;border:3px; border-style:solid; padding: 0.5em; border-color: rgba(0, 153, 51, 1.0); color: #000000;\">\n",
    "\n",
    "1. Alice randomly chooses a bit string of length $n$: $b_1 b_2 \\cdots b_n$\n",
    "2. Alice randomly chooses measurement basis $Z$ or $X$ for each of the $n$ bits. \n",
    "3. Bob randomly chooses measurement basis $Z$ or $X$ for each of the $n$ bits. \n",
    "4. Repeat the following steps for $i$ in $1,2,\\dots n$:\n",
    "\n",
    "    - Alice prepares the state $|b_i\\rangle$ in the basis she has chosen for the ith bit.\n",
    "    - Alice sends the qubit to Bob via a quantum channel.\n",
    "    - Bob measures the qubit in the basis he has chosen for the ith bit to obtain a measured bit $m_i$. \n",
    "\n",
    "\n",
    "5. Alice and Bob compare their choice of bases, over a classical channel. For each $i$ in $1,2,\\dots n$, if their choice of basis agrees, Alice adds $b_i$ to her version of the shared key and Bob adds $m_i$ to his version of the shared key. Otherwise, they discard the bit.\n",
    "\n",
    "6. Finally, they choose some fraction of the bits in their shared key and compare them over a classical channel. (Note: these bits can no longer be used in the shared key.) If they are in agreement, they keep the remaining bits as their shared key. If there are any discrepancies, they know that someone tried to eavesdrop and they discard their keys.\n",
    "\n",
    "</div>"
   ]
  },
  {
   "cell_type": "markdown",
   "id": "03bec9a3-4afc-4d66-bd94-01a66f048322",
   "metadata": {},
   "source": [
    "We can summarize all 8 possibilities (per qubit) in the following chart:\n",
    "\n",
    "| Alice's bit &nbsp; &nbsp; &nbsp; &nbsp; &nbsp; &nbsp; &nbsp; &nbsp; &nbsp; &nbsp; | Alice's Basis &nbsp; &nbsp; &nbsp; &nbsp; &nbsp; &nbsp; &nbsp; &nbsp; &nbsp; &nbsp; | Bob's Basis &nbsp; &nbsp; &nbsp; &nbsp; &nbsp; &nbsp; &nbsp; &nbsp; &nbsp; &nbsp; | Bit added to shared key? &nbsp; &nbsp; &nbsp; &nbsp; &nbsp; &nbsp; &nbsp; &nbsp; &nbsp; &nbsp; |\n",
    "| :-------------------------------- | :-------------------------------- | :-------------------------------- |:-------------------------------- |\n",
    "| 0  |  Z  | Z | Yes |\n",
    "| 1  |  Z  | Z | Yes |\n",
    "| 0  |  X  | Z | No |\n",
    "| 1  |  X  | Z | No |\n",
    "| 0  |  Z  | X | No |\n",
    "| 1  |  Z  | X | No |\n",
    "| 0  |  X  | X | Yes |\n",
    "| 1  |  X  | X | Yes |"
   ]
  },
  {
   "cell_type": "code",
   "execution_count": null,
   "id": "6a1fd604-1da8-4279-bf52-bbbfce65dabd",
   "metadata": {},
   "outputs": [],
   "source": [
    "# BB84 Protocol\n",
    "\n",
    "n = 5 # number of bits\n",
    "\n",
    "# randomly choose Alice's bits and bases, and Bob's bases\n",
    "alice_bits = np.random.choice([0,1], n)\n",
    "alice_bases = np.random.choice([0,1], n)\n",
    "bob_bases = np.random.choice([0,1], n)\n",
    "\n",
    "bob_bits = np.zeros(len(alice_bits), dtype=int) # list to store Bob's measurement results\n",
    "\n",
    "# simulator backend\n",
    "backend = QrBackendV2(provider=provider, num_qubits=2)\n",
    "\n",
    "# loop through all bits\n",
    "for i in range(n):\n",
    "    \n",
    "    print(f\"Bit #{i+1}\")\n",
    "    print(f\"Alice Bit: {alice_bits[i]}, Alice Basis: {'Z' if alice_bases[i]==0 else 'X'}, Bob Basis: {'Z' if bob_bases[i]==0 else 'X'}\" )\n",
    "\n",
    "    qc = QuantumCircuit(1,0,name='qss25.2 BB84') # 1 QB circuit\n",
    "    \n",
    "    # bit flip if preparing the |1> state\n",
    "    # ___\n",
    "        \n",
    "    # H gate if X basis\n",
    "    # ___\n",
    "        \n",
    "    qc.barrier() # visual barrier between Alice and Bob's steps\n",
    "        \n",
    "    # H gate if X basis\n",
    "    # ___\n",
    "        \n",
    "    qc.measure_all()\n",
    "        \n",
    "    display(qc.draw())\n",
    "\n",
    "    # simulate for 1 shot\n",
    "    job = backend.run(qc, shots=1)\n",
    "    result = job.result()\n",
    "    counts = result.get_counts()\n",
    "    \n",
    "    # save Bob's measurement result\n",
    "    bob_bits[i] = 0 if '0' in counts.keys() else 1\n",
    "    \n",
    "    print(f\"Bob measured {bob_bits[i]:.0f}\")\n",
    "    print()\n",
    "    "
   ]
  },
  {
   "cell_type": "markdown",
   "id": "4432a51c-6a93-4854-a4cc-d4ca191b5a30",
   "metadata": {},
   "source": [
    "### Comprehension Questions:\n",
    "\n",
    "Run the above code a few times to get a sense for how the protocol works, then consider the following questions.\n",
    "\n",
    "**A)** When Alice and Bob's bases are the same, does Bob's measured bit always match Alice's? \n",
    "\n",
    "**B)** When Alice and Bob's bases differ, does Bob's measured bit always match Alice's?"
   ]
  },
  {
   "cell_type": "markdown",
   "id": "c83cfaaf-3f35-477f-9229-ccbc81d6797c",
   "metadata": {},
   "source": [
    "**Full Protocol**"
   ]
  },
  {
   "cell_type": "code",
   "execution_count": null,
   "id": "2d2cc540-a636-4885-8141-7a6ca1e2a07e",
   "metadata": {},
   "outputs": [],
   "source": [
    "# BB84 Protocol\n",
    "\n",
    "n = 20 # number of bits\n",
    "\n",
    "# randomly choose Alice's bits and bases, and Bob's bases\n",
    "alice_bits = np.random.choice([0,1], n)\n",
    "alice_bases = np.random.choice([0,1], n)\n",
    "bob_bases = np.random.choice([0,1], n)\n",
    "\n",
    "bob_bits = np.zeros(len(alice_bits), dtype=int) # list to store Bob's measurement results\n",
    "\n",
    "# simulator backend\n",
    "backend = QrBackendV2(provider=provider, num_qubits=2)\n",
    "\n",
    "# loop through all bits\n",
    "for i in range(n):\n",
    "    \n",
    "    qc = QuantumCircuit(1,0,name='qss25.2 BB84') # 1 QB circuit\n",
    "    \n",
    "    # bit flip if preparing the |1> state\n",
    "    if alice_bits[i] == 1:\n",
    "        qc.x(0)\n",
    "        \n",
    "    # H gate if X basis\n",
    "    if alice_bases[i] == 1:\n",
    "        qc.h(0)\n",
    "        \n",
    "    qc.barrier() # visual barrier between Alice and Bob's steps\n",
    "        \n",
    "    # H gate if X basis\n",
    "    if bob_bases[i] == 1:\n",
    "        qc.h(0)\n",
    "        \n",
    "    qc.measure_all()\n",
    "\n",
    "    # simulate for 1 shot\n",
    "    job = backend.run(qc, shots=1)\n",
    "    result = job.result()\n",
    "    counts = result.get_counts()\n",
    "    \n",
    "    # save Bob's measurement result\n",
    "    bob_bits[i] = 0 if '0' in counts.keys() else 1\n",
    "\n",
    "\n",
    "# Post-selection\n",
    "print(\"Measurement Results:\")\n",
    "print(f\"Alice's bitstring: {alice_bits}\")\n",
    "print(f\"  Bob's bitstring: {bob_bits}\")\n",
    "print()\n",
    "print(\"Basis Comparison:\")\n",
    "print(f\"Alice's bases: {convert_to_basis_string(alice_bases)}\")\n",
    "print(f\"  Bob's bases: {convert_to_basis_string(bob_bases)}\")\n",
    "print()\n",
    "\n",
    "# only keep bits where the basis is in agreement\n",
    "keep_idxs = alice_bases == bob_bases\n",
    "alice_key = alice_bits[keep_idxs]\n",
    "bob_key = bob_bits[keep_idxs]\n",
    "\n",
    "print(\"Keys:\")\n",
    "print(f\"Alice's key: {alice_key}\")\n",
    "print(f\"  Bob's key: {bob_key}\")\n",
    "print()"
   ]
  },
  {
   "cell_type": "markdown",
   "id": "042a04fd-fb9c-4f56-9608-a618e6d5a5fb",
   "metadata": {},
   "source": [
    "**Adding in Eve:** Now let's add an eavesdropper to the mix. Our eavesdropper called Eve will try to learn Alice and Bob's key. Her attack will be to simply intercept and measure the qubit as it's going in the quantum channel between Alice and Bob. After measurement, she sends the qubit to Bob, hoping they won't notice..."
   ]
  },
  {
   "cell_type": "code",
   "execution_count": null,
   "id": "3238e650-7908-479e-9c5d-ed6a458a0767",
   "metadata": {},
   "outputs": [],
   "source": [
    "# BB84 Protocol with Eve (simple measurement attack)\n",
    "\n",
    "n = 3 # number of bits\n",
    "\n",
    "# randomly choose Alice's bits and bases, and Bob's bases\n",
    "alice_bits = np.random.choice([0,1], n)\n",
    "alice_bases = np.random.choice([0,1], n)\n",
    "bob_bases = np.random.choice([0,1], n)\n",
    "bob_bits = np.zeros(len(alice_bits), dtype=int) # list to store Bob's measurement results\n",
    "eve_bits = np.zeros(len(alice_bits), dtype=int) # list to store Eve's measurement results\n",
    "\n",
    "# simulator backend\n",
    "backend = QrBackendV2(provider=provider, num_qubits=2)\n",
    "\n",
    "# quantum register for our qubit\n",
    "qr = QuantumRegister(1, name=\"Qubit\")\n",
    "# create classical register with two bits -- one for Bob's measurement and one for Eve's\n",
    "cr = ClassicalRegister(2)\n",
    "\n",
    "# loop through all bits\n",
    "for i in range(n):\n",
    "    \n",
    "    print(f\"Bit #{i+1}\")\n",
    "    print(f\"Alice Bit: {alice_bits[i]}, Alice Basis: {'Z' if alice_bases[i]==0 else 'X'}, Bob Basis: {'Z' if bob_bases[i]==0 else 'X'}\" )\n",
    "    \n",
    "    qc = QuantumCircuit(qr, cr, name='qss25.2 BB84 with Eve') # 1 QB circuit\n",
    "    \n",
    "    # bit flip if preparing the |1> state\n",
    "    if alice_bits[i] == 1:\n",
    "        qc.x(0)\n",
    "        \n",
    "    # H gate if X basis\n",
    "    if alice_bases[i] == 1:\n",
    "        qc.h(0)\n",
    "        \n",
    "    qc.barrier() # visual barrier between Alice and Eve's steps\n",
    "    \n",
    "    # Eve measures the qubit\n",
    "    qc.measure(qr, cr[0]) \n",
    "    \n",
    "    qc.barrier() # visual barrier between Eve and Bob's steps\n",
    "        \n",
    "    # H gate if X basis\n",
    "    if bob_bases[i] == 1:\n",
    "        qc.h(0)\n",
    "        \n",
    "    qc.measure(qr, cr[1])\n",
    "        \n",
    "    display(qc.draw())\n",
    "\n",
    "    # simulate for 1 shot\n",
    "    job = backend.run(qc, shots=1)\n",
    "    result = job.result()\n",
    "    counts = result.get_counts()\n",
    "    # extract counts -- the 0th index is right-most (potentially counterintuitive ordering)\n",
    "    bob_counts = {key[0]: value for key, value in counts.items()} \n",
    "    eve_counts = {key[-1]: value for key, value in counts.items()} \n",
    "    \n",
    "    # save Bob and Eve's measurement results\n",
    "    bob_bits[i] = 0 if '0' in bob_counts.keys() else 1\n",
    "    eve_bits[i] = 0 if '0' in eve_counts.keys() else 1\n",
    "    \n",
    "    print(f\"Bob measured {bob_bits[i]:.0f}\")\n",
    "    print(f\"Eve measured {eve_bits[i]:.0f}\")\n",
    "    print()\n",
    "    "
   ]
  },
  {
   "cell_type": "markdown",
   "id": "c391eec1-7915-4e3f-9d3e-51a79eaaee04",
   "metadata": {},
   "source": [
    "### Comprehension Questions:\n",
    "\n",
    "Run the above code a few times to get a sense for how Eve's attack works, then consider the following questions.\n",
    "\n",
    "**A)** When Alice and Bob's bases are the same, does Bob's measured bit always match Alice's? \n",
    "\n",
    "**B)** When Alice and Bob's bases differ, does Bob's measured bit always match Alice's?\n",
    "\n",
    "**C)** How does Eve's measurement result compare to Alice's bit and Bob's measured bit?\n",
    "\n",
    "**D)** Is Eve's method effective? Under what combo of bases for Alice and Bob can Eve go undetected?"
   ]
  },
  {
   "cell_type": "markdown",
   "id": "aaafd2d8-6547-4790-b55d-3cdc847eed55",
   "metadata": {},
   "source": [
    "**Full Protocol with Attack**"
   ]
  },
  {
   "cell_type": "code",
   "execution_count": null,
   "id": "5b0acc0e-6991-4cb7-bf10-0f43148c5367",
   "metadata": {},
   "outputs": [],
   "source": [
    "# BB84 Protocol\n",
    "\n",
    "n = 20 # number of bits\n",
    "\n",
    "# randomly choose Alice's bits and bases, and Bob's bases\n",
    "alice_bits = np.random.choice([0,1], n)\n",
    "alice_bases = np.random.choice([0,1], n)\n",
    "bob_bases = np.random.choice([0,1], n)\n",
    "bob_bits = np.zeros(len(alice_bits), dtype=int) # list to store Bob's measurement results\n",
    "eve_bits = np.zeros(len(alice_bits), dtype=int) # list to store Eve's measurement results\n",
    "\n",
    "# quantum register for our qubit\n",
    "qr = QuantumRegister(1, name=\"Qubit\")\n",
    "# create classical register with two bits -- one for Bob's measurement and one for Eve's\n",
    "cr = ClassicalRegister(2)\n",
    "\n",
    "# loop through all bits\n",
    "for i in range(n):\n",
    "    \n",
    "    qc = QuantumCircuit(qr, cr) # 1 QB circuit\n",
    "    \n",
    "    # bit flip if preparing the |1> state\n",
    "    if alice_bits[i] == 1:\n",
    "        qc.x(0)\n",
    "        \n",
    "    # H gate if X basis\n",
    "    if alice_bases[i] == 1:\n",
    "        qc.h(0)\n",
    "        \n",
    "    qc.barrier() # visual barrier between Alice and Eve's steps\n",
    "    \n",
    "    # Eve measures the qubit\n",
    "    qc.measure(qr, cr[0]) \n",
    "    \n",
    "    qc.barrier() # visual barrier between Eve and Bob's steps\n",
    "        \n",
    "    # H gate if X basis\n",
    "    if bob_bases[i] == 1:\n",
    "        qc.h(0)\n",
    "        \n",
    "    qc.measure(qr, cr[1])\n",
    "\n",
    "    # simulate for 1 shot\n",
    "    job = backend.run(qc, shots=1)\n",
    "    result = job.result()\n",
    "    counts = result.get_counts()\n",
    "    # extract counts -- the 0th index is right-most (potentially counterintuitive ordering)\n",
    "    bob_counts = {key[0]: value for key, value in counts.items()} \n",
    "    eve_counts = {key[-1]: value for key, value in counts.items()} \n",
    "    \n",
    "    # save Bob and Eve's measurement results\n",
    "    bob_bits[i] = 0 if '0' in bob_counts.keys() else 1\n",
    "    eve_bits[i] = 0 if '0' in eve_counts.keys() else 1\n",
    "\n",
    "    \n",
    "# Post-selection\n",
    "print(\"Measurement Results:\")\n",
    "print(f\"Alice's bitstring: {alice_bits}\")\n",
    "print(f\"  Bob's bitstring: {bob_bits}\")\n",
    "print(f\"  Eve's bitstring: {eve_bits}\")\n",
    "print()\n",
    "print(\"Basis Comparison:\")\n",
    "print(f\"Alice's bases: {convert_to_basis_string(alice_bases)}\")\n",
    "print(f\"  Bob's bases: {convert_to_basis_string(bob_bases)}\")\n",
    "print()\n",
    "\n",
    "# only keep bits where the basis is in agreement\n",
    "keep_idxs = alice_bases == bob_bases\n",
    "alice_key = alice_bits[keep_idxs]\n",
    "bob_key = bob_bits[keep_idxs]\n",
    "# bases are compared over a public channel, so eve keeps the same indexed bits\n",
    "eve_key = eve_bits[keep_idxs]\n",
    "\n",
    "print(\"Keys:\")\n",
    "print(f\"Alice's key: {alice_key}\")\n",
    "print(f\"  Bob's key: {bob_key}\")\n",
    "print(f\"  Eve's key: {eve_key}\")\n",
    "print()"
   ]
  },
  {
   "cell_type": "markdown",
   "id": "dca97f7d-4469-450a-8a8e-e9f3d11e7552",
   "metadata": {},
   "source": [
    "**Challenge:** Another attack that Eve could try is the mimicry attack. She will pretend to be Bob! For each bit, Eve will also choose a basis. If she chooses Z, she simply measures the qubit like before. If she chooses X, she will apply a Hadamard before AND after measurement. Try implementing this version of the attack!"
   ]
  },
  {
   "cell_type": "code",
   "execution_count": null,
   "id": "42c9fcd7-330a-4345-8fe3-0e1967d7a4a3",
   "metadata": {},
   "outputs": [],
   "source": [
    "## Your code here!"
   ]
  },
  {
   "cell_type": "markdown",
   "id": "84a3ea03-3252-4e27-aed2-ba6e89af80ef",
   "metadata": {},
   "source": [
    "**Challenge** Are there any other attacks you can think of? Why won't any of these approaches work for Eve?"
   ]
  },
  {
   "cell_type": "markdown",
   "id": "b18f0f60",
   "metadata": {},
   "source": [
    "----\n",
    "### Next Up\n",
    "**Episode 3: Entanglement & Multi-Qubit Gates**\n",
    "\n",
    "We’ll create Bell pairs, GHZ states, and explore multi-qubit interactions."
   ]
  }
 ],
 "metadata": {
  "kernelspec": {
   "display_name": "qrings",
   "language": "python",
   "name": "python3"
  },
  "language_info": {
   "codemirror_mode": {
    "name": "ipython",
    "version": 3
   },
   "file_extension": ".py",
   "mimetype": "text/x-python",
   "name": "python",
   "nbconvert_exporter": "python",
   "pygments_lexer": "ipython3",
   "version": "3.13.3"
  }
 },
 "nbformat": 4,
 "nbformat_minor": 5
}
