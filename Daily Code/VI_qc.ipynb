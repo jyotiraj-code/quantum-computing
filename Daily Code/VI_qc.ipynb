{
 "cells": [
  {
   "cell_type": "code",
   "execution_count": 7,
   "metadata": {},
   "outputs": [
    {
     "name": "stdout",
     "output_type": "stream",
     "text": [
      "The angle picked:  4.838052686528282 radians\n",
      "a =  0.125  b =  -0.992\n",
      "\n",
      "a*a =  0.016  b*b =  0.984\n"
     ]
    },
    {
     "data": {
      "image/png": "[encoded data removed]",
      "text/plain": [
       "<Figure size 586.406x367.889 with 1 Axes>"
      ]
     },
     "metadata": {},
     "output_type": "display_data"
    },
    {
     "name": "stdout",
     "output_type": "stream",
     "text": [
      "The state vector is: \n",
      "0.0\n",
      "-0.0\n",
      "-0.0\n",
      "0.0\n",
      "0.12533323356430423\n",
      "0.9921147013144779\n",
      "0.0\n",
      "0.0\n",
      "\n",
      "The classical outcome is:  10\n",
      "\n",
      "the new quantum state is |10>(0.125|0>+0.992|1>)\n",
      "the new quantum state is |10>(+a|0>-b|1>)\n"
     ]
    },
    {
     "name": "stderr",
     "output_type": "stream",
     "text": [
      "C:\\Users\\jrnat\\AppData\\Local\\Temp\\ipykernel_2564\\3136544620.py:48: DeprecationWarning: The function ``qiskit.execute_function.execute()`` is deprecated as of qiskit 0.46.0. It will be removed in the Qiskit 1.0 release. This function combines ``transpile`` and ``backend.run``, which is covered by ``Sampler`` :mod:`~qiskit.primitives`. Alternatively, you can also run :func:`.transpile` followed by ``backend.run()``.\n",
      "  job = execute(qc,Aer.get_backend('statevector_simulator'),optimization_level = 0, shots = 1)\n"
     ]
    }
   ],
   "source": [
    "#To learn about Quantum Teleportation\n",
    "\n",
    "#Importing depenedencies\n",
    "\n",
    "from qiskit import QuantumRegister, QuantumCircuit, ClassicalRegister, Aer, execute\n",
    "from math import pi,cos,sin\n",
    "from random import randrange\n",
    "\n",
    "#Creating the quantum circuit\n",
    "\n",
    "q  = QuantumRegister(3,\"qreg\")\n",
    "c = ClassicalRegister(3,\"creg\")\n",
    "qc = QuantumCircuit(q,c)\n",
    "\n",
    "\n",
    "#Rotating up the qubit state q[2]\n",
    "r = randrange(100)\n",
    "theta = 2*pi*(r/100)\n",
    "print(\"The angle picked: \",theta, \"radians\")\n",
    "\n",
    "a = cos(theta)\n",
    "b = sin(theta)\n",
    "print(\"a = \",round(a,3), \" b = \",round(b,3))\n",
    "print()\n",
    "print(\"a*a = \",round(a**2,3), \" b*b = \",round(b**2,3))\n",
    "qc.ry(2*theta, q[2])\n",
    "\n",
    "#Creating an entanglement between q[1] and q[0]\n",
    "qc.h(q[1])\n",
    "qc.cx(q[1],q[0])\n",
    "\n",
    "#CNOT operator on the q[2] Control qubit of Asja\n",
    "qc.cx(q[2],q[1])\n",
    "\n",
    "#Hadamard operator by Asja on q[2]\n",
    "qc.h(q[2])\n",
    "\n",
    "#Measuring the results\n",
    "qc.measure(q[2],c[2])\n",
    "qc.measure(q[1],c[1])\n",
    "\n",
    "#Drawing the circuit\n",
    "display(qc.draw(output = 'mpl', reverse_bits = True))\n",
    "\n",
    "\n",
    "#Reading the statevector\n",
    "\n",
    "job = execute(qc,Aer.get_backend('statevector_simulator'),optimization_level = 0, shots = 1)\n",
    "\n",
    "current_quantum_state = job.result().get_statevector(qc).data\n",
    "\n",
    "print(\"The state vector is: \")\n",
    "\n",
    "for i in range(len(current_quantum_state)):\n",
    "    print(current_quantum_state[i].real)\n",
    "print()\n",
    "\n",
    "\n",
    "classical_outcomes = ['00','01','10','11']\n",
    "\n",
    "for i in range(4):\n",
    "    if (current_quantum_state[2*i].real !=0) or (current_quantum_state[2*i+1].real != 0):\n",
    "        print(\"The classical outcome is: \",classical_outcomes[i])\n",
    "        classical_outcome = classical_outcomes[i]\n",
    "        balvis_state = [ current_quantum_state[2*i].real,current_quantum_state[2*i+1].real ]\n",
    "\n",
    "print()\n",
    "\n",
    "readable_quantum_state = \"|\"+classical_outcome+\">\"\n",
    "readable_quantum_state += \"(\"+str(round(balvis_state[0],3))+\"|0>+\"+str(round(balvis_state[1],3))+\"|1>)\"\n",
    "print(\"the new quantum state is\",readable_quantum_state)\n",
    "\n",
    "\n",
    "all_states = ['000','001','010','011','100','101','110','111']\n",
    "\n",
    "        \n",
    "balvis_state_str = \"|\"+classical_outcome+\">(\"\n",
    "for i in range(len(current_quantum_state)):\n",
    "    if abs(current_quantum_state[i].real-a)<0.000001: \n",
    "        balvis_state_str += \"+a|\"+ all_states[i][2]+\">\"\n",
    "    elif abs(current_quantum_state[i].real+a)<0.000001:\n",
    "        balvis_state_str += \"-a|\"+ all_states[i][2]+\">\"\n",
    "    elif abs(current_quantum_state[i].real-b)<0.000001: \n",
    "        balvis_state_str += \"+b|\"+ all_states[i][2]+\">\"\n",
    "    elif abs(current_quantum_state[i].real+b)<0.000001: \n",
    "        balvis_state_str += \"-b|\"+ all_states[i][2]+\">\"\n",
    "balvis_state_str += \")\"        \n",
    "print(\"the new quantum state is\",balvis_state_str)\n"
   ]
  },
  {
   "cell_type": "code",
   "execution_count": null,
   "metadata": {},
   "outputs": [],
   "source": []
  }
 ],
 "metadata": {
  "kernelspec": {
   "display_name": "Python 3",
   "language": "python",
   "name": "python3"
  },
  "language_info": {
   "codemirror_mode": {
    "name": "ipython",
    "version": 3
   },
   "file_extension": ".py",
   "mimetype": "text/x-python",
   "name": "python",
   "nbconvert_exporter": "python",
   "pygments_lexer": "ipython3",
   "version": "3.11.1"
  }
 },
 "nbformat": 4,
 "nbformat_minor": 2
}
