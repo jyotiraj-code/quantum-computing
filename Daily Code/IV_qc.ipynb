{
 "cells": [
  {
   "cell_type": "code",
   "execution_count": 3,
   "metadata": {},
   "outputs": [
    {
     "name": "stdout",
     "output_type": "stream",
     "text": [
      "Matrix A before normalization: \n",
      "[92, 21, 82]\n",
      "[90, 70, 36]\n",
      "[43, 30, 21]\n",
      "\n",
      "Matrix A after normalization: \n",
      "[0.4088888888888889, 0.17355371900826447, 0.5899280575539568]\n",
      "[0.4, 0.5785123966942148, 0.2589928057553957]\n",
      "[0.19111111111111112, 0.24793388429752067, 0.1510791366906475]\n",
      "\n",
      "the column summations must be 1\n",
      "[1.0, 1.0, 1.0]\n"
     ]
    }
   ],
   "source": [
    "#The codes are here to study about the probabilistic operators\n",
    "\n",
    "A = [\n",
    "    [0,0,0],\n",
    "    [0,0,0],\n",
    "    [0,0,0]\n",
    "]\n",
    "\n",
    "\n",
    "#importing dependencies\n",
    "from random import randrange\n",
    "\n",
    "normalization_factor = [0,0,0]\n",
    "\n",
    "for j in range(3):\n",
    "    normalization_factor[j] = 0\n",
    "    while normalization_factor[j] == 0:\n",
    "        for i in range(3):\n",
    "            A[i][j] = randrange(101)\n",
    "            normalization_factor[j] += A[i][j]\n",
    "\n",
    "print(\"Matrix A before normalization: \")\n",
    "for i in range(3):\n",
    "    print(A[i])\n",
    "\n",
    "\n",
    "#Now let's normalize each column\n",
    "\n",
    "for j in range(3):\n",
    "    for i in range(3):\n",
    "        A[i][j] /= normalization_factor[j]\n",
    "\n",
    "print()\n",
    "print(\"Matrix A after normalization: \")\n",
    "for i in range(3):\n",
    "    print(A[i])\n",
    "\n",
    "print()\n",
    "print(\"the column summations must be 1\")\n",
    "\n",
    "sum = [0,0,0]\n",
    "for j in range(3):\n",
    "    for i in range(3):\n",
    "        sum[j] += A[i][j]\n",
    "\n",
    "print(sum) \n"
   ]
  }
 ],
 "metadata": {
  "kernelspec": {
   "display_name": "Python 3",
   "language": "python",
   "name": "python3"
  },
  "language_info": {
   "codemirror_mode": {
    "name": "ipython",
    "version": 3
   },
   "file_extension": ".py",
   "mimetype": "text/x-python",
   "name": "python",
   "nbconvert_exporter": "python",
   "pygments_lexer": "ipython3",
   "version": "3.11.1"
  }
 },
 "nbformat": 4,
 "nbformat_minor": 2
}
