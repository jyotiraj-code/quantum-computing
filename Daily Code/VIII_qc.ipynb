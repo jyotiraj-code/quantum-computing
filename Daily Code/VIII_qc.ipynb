{
 "cells": [
  {
   "cell_type": "code",
   "execution_count": 7,
   "metadata": {},
   "outputs": [],
   "source": [
    "%run quantum.py"
   ]
  },
  {
   "cell_type": "code",
   "execution_count": 9,
   "metadata": {},
   "outputs": [
    {
     "name": "stdout",
     "output_type": "stream",
     "text": [
      "  1.0  0.0  0.0  0.0\n",
      "  0.0  1.0  0.0  0.0\n",
      "  0.0  0.0  1.0  0.0\n",
      "  0.0  0.0  0.0 -1.0\n"
     ]
    },
    {
     "name": "stderr",
     "output_type": "stream",
     "text": [
      "C:\\Users\\jrnat\\AppData\\Local\\Temp\\ipykernel_18532\\1610014059.py:24: DeprecationWarning: The function ``qiskit.execute_function.execute()`` is deprecated as of qiskit 0.46.0. It will be removed in the Qiskit 1.0 release. This function combines ``transpile`` and ``backend.run``, which is covered by ``Sampler`` :mod:`~qiskit.primitives`. Alternatively, you can also run :func:`.transpile` followed by ``backend.run()``.\n",
      "  job = execute(qc,Aer.get_backend('unitary_simulator'))\n",
      "c:\\Users\\jrnat\\AppData\\Local\\Programs\\Python\\Python311\\Lib\\site-packages\\qiskit\\visualization\\circuit\\matplotlib.py:266: FutureWarning: The default matplotlib drawer scheme will be changed to \"iqp\" in a following release. To silence this warning, specify the current default explicitly as style=\"clifford\", or the new default as style=\"iqp\".\n",
      "  self._style, def_font_ratio = load_style(self._style)\n"
     ]
    },
    {
     "data": {
      "image/png": "[encoded data removed]",
      "text/plain": [
       "<Figure size 574.993x284.278 with 1 Axes>"
      ]
     },
     "execution_count": 9,
     "metadata": {},
     "output_type": "execute_result"
    }
   ],
   "source": [
    "#Importing the dependencies\n",
    "from qiskit import QuantumCircuit, QuantumRegister, ClassicalRegister, execute, AerWrapper\n",
    "\n",
    "#Defining the circuit\n",
    "qreg = QuantumRegister(3)\n",
    "\n",
    "qc = QuantumCircuit(qreg)\n",
    "\n",
    "#Implementing the algortihm\n",
    "\n",
    "#Setting ancilla\n",
    "qc.x(qreg[2])\n",
    "qc.h(qreg[2])\n",
    "\n",
    "\n",
    "Uf(qc, qreg)\n",
    "\n",
    "\n",
    "#Setting ancilla back\n",
    "qc.h(qreg[2])\n",
    "qc.x(qreg[2])\n",
    "\n",
    "#Running the circuit \n",
    "job = execute(qc,Aer.get_backend('unitary_simulator'))\n",
    "u = job.result().get_unitary(qc, decimals = 3).data\n",
    "\n",
    "#We are interested in the top-left 4x4 part\n",
    "for i in range(4):\n",
    "    s=\"\"\n",
    "    for j in range(4):\n",
    "        val = str(u[i][j].real)\n",
    "        while(len(val)<5): val  = \" \"+val\n",
    "        s = s + val\n",
    "    print(s)\n",
    "    \n",
    "\n",
    "qc.draw(output='mpl')\n",
    "\n",
    "\n",
    "\n",
    "\n"
   ]
  },
  {
   "cell_type": "code",
   "execution_count": 10,
   "metadata": {},
   "outputs": [],
   "source": [
    "#Defining ancilla operator with additional qubits\n",
    "\n",
    "def inversion(qc, qreg):\n",
    "\n",
    "    #step - 1\n",
    "    qc.h(qreg[1])\n",
    "    qc.x(qreg[0])\n",
    "\n",
    "    #step - 2\n",
    "    qc.x(qreg[1])\n",
    "    qc.x(qreg[0])\n",
    "\n",
    "    #step - 3\n",
    "    qc.ccx(qreg[1],qreg[0],qreg[2]) #basically the Uf\n",
    "\n",
    "    #step - 4\n",
    "    qc.x(qreg[1])\n",
    "    qc.x(qreg[0])\n",
    "\n",
    "    #step - 5\n",
    "    qc.x(qreg[2])\n",
    "\n",
    "    #step - 6 \n",
    "    qc.h(qreg[1])\n",
    "    qc.h(qreg[0])\n",
    "    \n",
    "\n"
   ]
  },
  {
   "cell_type": "code",
   "execution_count": 11,
   "metadata": {},
   "outputs": [
    {
     "name": "stdout",
     "output_type": "stream",
     "text": [
      "-0.707  0.0 -0.00.707\n",
      "0.707  0.0  0.00.707\n",
      " -0.00.707-0.707  0.0\n",
      "  0.00.7070.707  0.0\n"
     ]
    },
    {
     "name": "stderr",
     "output_type": "stream",
     "text": [
      "C:\\Users\\jrnat\\AppData\\Local\\Temp\\ipykernel_18532\\2322490633.py:21: DeprecationWarning: The function ``qiskit.execute_function.execute()`` is deprecated as of qiskit 0.46.0. It will be removed in the Qiskit 1.0 release. This function combines ``transpile`` and ``backend.run``, which is covered by ``Sampler`` :mod:`~qiskit.primitives`. Alternatively, you can also run :func:`.transpile` followed by ``backend.run()``.\n",
      "  job  = execute(qc,Aer.get_backend('unitary_simulator'))\n",
      "c:\\Users\\jrnat\\AppData\\Local\\Programs\\Python\\Python311\\Lib\\site-packages\\qiskit\\visualization\\circuit\\matplotlib.py:266: FutureWarning: The default matplotlib drawer scheme will be changed to \"iqp\" in a following release. To silence this warning, specify the current default explicitly as style=\"clifford\", or the new default as style=\"iqp\".\n",
      "  self._style, def_font_ratio = load_style(self._style)\n"
     ]
    },
    {
     "data": {
      "image/png": "[encoded data removed]",
      "text/plain": [
       "<Figure size 658.604x284.278 with 1 Axes>"
      ]
     },
     "execution_count": 11,
     "metadata": {},
     "output_type": "execute_result"
    }
   ],
   "source": [
    "#Now we will implement the function of inversion here\n",
    "\n",
    "#dependencies\n",
    "from qiskit import QuantumCircuit, QuantumRegister, ClassicalRegister, Aer, execute\n",
    "\n",
    "qreg =  QuantumRegister(3)\n",
    "qc = QuantumCircuit(qreg)\n",
    "\n",
    "\n",
    "#Setting the ancilla\n",
    "qc.x(qreg[2])\n",
    "qc.h(qreg[2])\n",
    "\n",
    "inversion(qc, qreg)\n",
    "\n",
    "#setting the ancilla back\n",
    "qc.h(qreg[2])\n",
    "qc.x(qreg[2])\n",
    "\n",
    "#Running the circuit\n",
    "job  = execute(qc,Aer.get_backend('unitary_simulator'))\n",
    "\n",
    "u = job.result().get_unitary(qc,decimals = 3).data\n",
    "\n",
    "for i in range(4):\n",
    "    s=\"\"\n",
    "    for j in range(4):\n",
    "        val = str(u[i][j].real)\n",
    "        while(len(val)<5): val  = \" \"+val\n",
    "        s = s + val\n",
    "    print(s)\n",
    "    \n",
    "qc.draw(output='mpl')\n"
   ]
  },
  {
   "cell_type": "code",
   "execution_count": 13,
   "metadata": {},
   "outputs": [],
   "source": [
    "%run quantum.py"
   ]
  },
  {
   "cell_type": "code",
   "execution_count": 14,
   "metadata": {},
   "outputs": [
    {
     "name": "stdout",
     "output_type": "stream",
     "text": [
      "00 is observed 531 times\n",
      "11 is observed 469 times\n"
     ]
    },
    {
     "name": "stderr",
     "output_type": "stream",
     "text": [
      "C:\\Users\\jrnat\\AppData\\Local\\Temp\\ipykernel_18532\\1282798433.py:45: DeprecationWarning: The function ``qiskit.execute_function.execute()`` is deprecated as of qiskit 0.46.0. It will be removed in the Qiskit 1.0 release. This function combines ``transpile`` and ``backend.run``, which is covered by ``Sampler`` :mod:`~qiskit.primitives`. Alternatively, you can also run :func:`.transpile` followed by ``backend.run()``.\n",
      "  job = execute(qc, Aer.get_backend('qasm_simulator'), shots = 1000)\n",
      "c:\\Users\\jrnat\\AppData\\Local\\Programs\\Python\\Python311\\Lib\\site-packages\\qiskit\\visualization\\circuit\\matplotlib.py:266: FutureWarning: The default matplotlib drawer scheme will be changed to \"iqp\" in a following release. To silence this warning, specify the current default explicitly as style=\"clifford\", or the new default as style=\"iqp\".\n",
      "  self._style, def_font_ratio = load_style(self._style)\n"
     ]
    },
    {
     "data": {
      "image/png": "[encoded data removed]",
      "text/plain": [
       "<Figure size 556.762x284.278 with 1 Axes>"
      ]
     },
     "execution_count": 14,
     "metadata": {},
     "output_type": "execute_result"
    }
   ],
   "source": [
    "#Now we will be testing the Grover's search\n",
    "\n",
    "#dependencies\n",
    "from qiskit import QuantumRegister, ClassicalRegister, QuantumCircuit, execute, Aer\n",
    "\n",
    "qreg = QuantumRegister(3)\n",
    "creg = ClassicalRegister(2)\n",
    "qc = QuantumCircuit(qreg, creg)\n",
    "\n",
    "#Grover algorithm\n",
    "\n",
    "#initial - equal superposition\n",
    "\n",
    "for i in range(2):\n",
    "    qc.h(qreg[i])\n",
    "\n",
    "#setting ancilla\n",
    "qc.x(qreg[2])\n",
    "qc.h(qreg[2])\n",
    "\n",
    "qc.barrier()\n",
    "\n",
    "#Changing the number of iterations\n",
    "iterations = 1\n",
    "\n",
    "for i in range(iterations):\n",
    "    \n",
    "    #query\n",
    "    Uf(qc,qreg)\n",
    "    qc.barrier()\n",
    "    inversion(qc,qreg)\n",
    "    qc.barrier()\n",
    "\n",
    "#Setting the ancilla back\n",
    "qc.h(qreg[2])\n",
    "qc.x(qreg[2])\n",
    "qc.barrier()\n",
    "\n",
    "#Measuring the circuit\n",
    "qc.measure(qreg[0],creg[0])\n",
    "qc.measure(qreg[1],creg[1])\n",
    "\n",
    "\n",
    "#Running the circuit\n",
    "job = execute(qc, Aer.get_backend('qasm_simulator'), shots = 1000)\n",
    "counts = job.result().get_counts(qc)\n",
    "\n",
    "# print the outcome\n",
    "for outcome in counts:\n",
    "    print(outcome,\"is observed\",counts[outcome],\"times\")\n",
    "\n",
    "mycircuit.draw(output='mpl')"
   ]
  },
  {
   "cell_type": "code",
   "execution_count": null,
   "metadata": {},
   "outputs": [],
   "source": []
  }
 ],
 "metadata": {
  "kernelspec": {
   "display_name": "Python 3",
   "language": "python",
   "name": "python3"
  },
  "language_info": {
   "codemirror_mode": {
    "name": "ipython",
    "version": 3
   },
   "file_extension": ".py",
   "mimetype": "text/x-python",
   "name": "python",
   "nbconvert_exporter": "python",
   "pygments_lexer": "ipython3",
   "version": "3.11.1"
  }
 },
 "nbformat": 4,
 "nbformat_minor": 2
}
