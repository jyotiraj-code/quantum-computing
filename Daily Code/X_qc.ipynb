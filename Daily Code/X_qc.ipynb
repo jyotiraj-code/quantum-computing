{
 "cells": [
  {
   "cell_type": "code",
   "execution_count": 2,
   "metadata": {},
   "outputs": [
    {
     "name": "stdout",
     "output_type": "stream",
     "text": [
      "Message =  00000000001110010100000101001101\n",
      "key =  00110000001100010100010110101101\n",
      "Ciphertext =  00110000000010000000010011100000\n",
      "Decryted Message =  00000000001110010100000101001101\n"
     ]
    }
   ],
   "source": [
    "from random import randrange\n",
    "#Generating a key\n",
    "\n",
    "lst = []\n",
    "i = 0\n",
    "\n",
    "while i<31:\n",
    "    lst.append(randrange(2))\n",
    "    i = i + 1\n",
    "\n",
    "key = int(''.join(map(str, lst)), 2) #Here we will be converting binary format to integer\n",
    "\n",
    "m = '00000000001110010100000101001101' #message in binary\n",
    "\n",
    "message  = int(m , 2) #Convert message to integer to apply xor operation\n",
    "\n",
    "#Encryption\n",
    "ciphertext = message^key #encrypt the message using generated random key by applying xor operator\n",
    "\n",
    "print('Message = ', bin(message)[2:].zfill(32))\n",
    "print('key = ', bin(key)[2:].zfill(32))\n",
    "print('Ciphertext = ', bin(ciphertext)[2:].zfill(32))\n",
    "\n",
    "\n",
    "\n",
    "#Balvis can decrypt the ciphertext by applying pre shared key again\n",
    "\n",
    "decryption = ciphertext^key\n",
    "\n",
    "print('Decryted Message = ', bin(decryption)[2:].zfill(32))\n"
   ]
  },
  {
   "cell_type": "code",
   "execution_count": null,
   "metadata": {},
   "outputs": [],
   "source": []
  }
 ],
 "metadata": {
  "kernelspec": {
   "display_name": "Python 3",
   "language": "python",
   "name": "python3"
  },
  "language_info": {
   "codemirror_mode": {
    "name": "ipython",
    "version": 3
   },
   "file_extension": ".py",
   "mimetype": "text/x-python",
   "name": "python",
   "nbconvert_exporter": "python",
   "pygments_lexer": "ipython3",
   "version": "3.11.1"
  }
 },
 "nbformat": 4,
 "nbformat_minor": 2
}
