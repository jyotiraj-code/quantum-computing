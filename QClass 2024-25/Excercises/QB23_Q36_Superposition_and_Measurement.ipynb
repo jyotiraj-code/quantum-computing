{
  "cells": [
    {
      "cell_type": "markdown",
      "metadata": {
        "id": "-EZYj-p0AeGX"
      },
      "source": [
        "<a href=\"https://qworld.net\" target=\"_blank\" align=\"left\"><img src=\"https://gitlab.com/qworld/qeducation/qbook101/raw/main/qworld/images/header.jpg\" align=\"left\"></a>\n",
        "$ \\newcommand{\\bra}[1]{\\langle #1|} $\n",
        "$ \\newcommand{\\ket}[1]{|#1\\rangle} $\n",
        "$ \\newcommand{\\braket}[2]{\\langle #1|#2\\rangle} $\n",
        "$ \\newcommand{\\dot}[2]{ #1 \\cdot #2} $\n",
        "$ \\newcommand{\\biginner}[2]{\\left\\langle #1,#2\\right\\rangle} $\n",
        "$ \\newcommand{\\mymatrix}[2]{\\left( \\begin{array}{#1} #2\\end{array} \\right)} $\n",
        "$ \\newcommand{\\myvector}[1]{\\mymatrix{c}{#1}} $\n",
        "$ \\newcommand{\\myrvector}[1]{\\mymatrix{r}{#1}} $\n",
        "$ \\newcommand{\\mypar}[1]{\\left( #1 \\right)} $\n",
        "$ \\newcommand{\\mybigpar}[1]{ \\Big( #1 \\Big)} $\n",
        "$ \\newcommand{\\sqrttwo}{\\frac{1}{\\sqrt{2}}} $\n",
        "$ \\newcommand{\\dsqrttwo}{\\dfrac{1}{\\sqrt{2}}} $\n",
        "$ \\newcommand{\\onehalf}{\\frac{1}{2}} $\n",
        "$ \\newcommand{\\donehalf}{\\dfrac{1}{2}} $\n",
        "$ \\newcommand{\\hadamard}{ \\mymatrix{rr}{ \\sqrttwo & \\sqrttwo \\\\ \\sqrttwo & -\\sqrttwo }} $\n",
        "$ \\newcommand{\\vzero}{\\myvector{1\\\\0}} $\n",
        "$ \\newcommand{\\vone}{\\myvector{0\\\\1}} $\n",
        "$ \\newcommand{\\stateplus}{\\myvector{ \\sqrttwo \\\\  \\sqrttwo } } $\n",
        "$ \\newcommand{\\stateminus}{ \\myrvector{ \\sqrttwo \\\\ -\\sqrttwo } } $\n",
        "$ \\newcommand{\\myarray}[2]{ \\begin{array}{#1}#2\\end{array}} $\n",
        "$ \\newcommand{\\X}{ \\mymatrix{cc}{0 & 1 \\\\ 1 & 0}  } $\n",
        "$ \\newcommand{\\I}{ \\mymatrix{rr}{1 & 0 \\\\ 0 & 1}  } $\n",
        "$ \\newcommand{\\Z}{ \\mymatrix{rr}{1 & 0 \\\\ 0 & -1}  } $\n",
        "$ \\newcommand{\\Htwo}{ \\mymatrix{rrrr}{ \\frac{1}{2} & \\frac{1}{2} & \\frac{1}{2} & \\frac{1}{2} \\\\ \\frac{1}{2} & -\\frac{1}{2} & \\frac{1}{2} & -\\frac{1}{2} \\\\ \\frac{1}{2} & \\frac{1}{2} & -\\frac{1}{2} & -\\frac{1}{2} \\\\ \\frac{1}{2} & -\\frac{1}{2} & -\\frac{1}{2} & \\frac{1}{2} } } $\n",
        "$ \\newcommand{\\CNOT}{ \\mymatrix{cccc}{1 & 0 & 0 & 0 \\\\ 0 & 1 & 0 & 0 \\\\ 0 & 0 & 0 & 1 \\\\ 0 & 0 & 1 & 0} } $\n",
        "$ \\newcommand{\\norm}[1]{ \\left\\lVert #1 \\right\\rVert } $\n",
        "$ \\newcommand{\\pstate}[1]{ \\lceil \\mspace{-1mu} #1 \\mspace{-1.5mu} \\rfloor } $\n",
        "$ \\newcommand{\\greenbit}[1] {\\mathbf{{\\color{green}#1}}} $\n",
        "$ \\newcommand{\\bluebit}[1] {\\mathbf{{\\color{blue}#1}}} $\n",
        "$ \\newcommand{\\redbit}[1] {\\mathbf{{\\color{red}#1}}} $\n",
        "$ \\newcommand{\\brownbit}[1] {\\mathbf{{\\color{brown}#1}}} $\n",
        "$ \\newcommand{\\blackbit}[1] {\\mathbf{{\\color{black}#1}}} $"
      ]
    },
    {
      "cell_type": "markdown",
      "metadata": {
        "id": "w7bBRJYbAeGa"
      },
      "source": [
        "_prepared by Abuzer Yakaryilmaz_"
      ]
    },
    {
      "cell_type": "markdown",
      "metadata": {
        "id": "QwwkSEiMAeGa"
      },
      "source": [
        "<font size=\"28px\" style=\"font-size:28px;\" align=\"left\"><b> Superposition </b></font>\n",
        "<br>\n",
        "<br><br>\n",
        "[<img src=\"https://gitlab.com/qworld/qeducation/qbook101/raw/main/qworld/images/watch_lecture.jpg\" align=\"left\">](https://youtu.be/uJZtxWHAlPI)\n",
        "<br><br><br>"
      ]
    },
    {
      "cell_type": "markdown",
      "metadata": {
        "jp-MarkdownHeadingCollapsed": true,
        "id": "bwNhlQXWAeGa"
      },
      "source": [
        "##### <font color=\"#08b806\">Please execute the following cell, it is necessary to distinguish between your local environment and Google Colab's"
      ]
    },
    {
      "cell_type": "code",
      "execution_count": 5,
      "metadata": {
        "id": "c71hfML1AeGb",
        "outputId": "e55f707f-1462-42d8-8a2b-d5185f4cfe8f",
        "colab": {
          "base_uri": "https://localhost:8080/",
          "height": 0
        }
      },
      "outputs": [
        {
          "output_type": "stream",
          "name": "stdout",
          "text": [
            "Collecting qiskit==0.43.3 (from qiskit[visualization]==0.43.3)\n",
            "  Downloading qiskit-0.43.3.tar.gz (9.1 kB)\n",
            "  Installing build dependencies ... \u001b[?25l\u001b[?25hdone\n",
            "  Getting requirements to build wheel ... \u001b[?25l\u001b[?25hdone\n",
            "  Preparing metadata (pyproject.toml) ... \u001b[?25l\u001b[?25hdone\n",
            "Collecting qiskit-terra==0.24.2 (from qiskit==0.43.3->qiskit[visualization]==0.43.3)\n",
            "  Downloading qiskit_terra-0.24.2-cp310-cp310-manylinux_2_17_x86_64.manylinux2014_x86_64.whl.metadata (9.6 kB)\n",
            "Collecting qiskit-aer==0.12.2 (from qiskit==0.43.3->qiskit[visualization]==0.43.3)\n",
            "  Downloading qiskit_aer-0.12.2-cp310-cp310-manylinux_2_17_x86_64.manylinux2014_x86_64.whl.metadata (6.3 kB)\n",
            "Collecting qiskit-ibmq-provider==0.20.2 (from qiskit==0.43.3->qiskit[visualization]==0.43.3)\n",
            "  Downloading qiskit_ibmq_provider-0.20.2-py3-none-any.whl.metadata (14 kB)\n",
            "Requirement already satisfied: matplotlib>=2.1 in /usr/local/lib/python3.10/dist-packages (from qiskit[visualization]==0.43.3) (3.7.1)\n",
            "Requirement already satisfied: ipywidgets>=7.3.0 in /usr/local/lib/python3.10/dist-packages (from qiskit[visualization]==0.43.3) (7.7.1)\n",
            "Requirement already satisfied: pydot in /usr/local/lib/python3.10/dist-packages (from qiskit[visualization]==0.43.3) (3.0.2)\n",
            "Requirement already satisfied: pillow>=4.2.1 in /usr/local/lib/python3.10/dist-packages (from qiskit[visualization]==0.43.3) (10.4.0)\n",
            "Collecting pylatexenc>=1.4 (from qiskit[visualization]==0.43.3)\n",
            "  Downloading pylatexenc-2.10.tar.gz (162 kB)\n",
            "\u001b[2K     \u001b[90m━━━━━━━━━━━━━━━━━━━━━━━━━━━━━━━━━━━━━━━━\u001b[0m \u001b[32m162.6/162.6 kB\u001b[0m \u001b[31m4.2 MB/s\u001b[0m eta \u001b[36m0:00:00\u001b[0m\n",
            "\u001b[?25h  Preparing metadata (setup.py) ... \u001b[?25l\u001b[?25hdone\n",
            "Requirement already satisfied: seaborn>=0.9.0 in /usr/local/lib/python3.10/dist-packages (from qiskit[visualization]==0.43.3) (0.13.1)\n",
            "Requirement already satisfied: pygments>=2.4 in /usr/local/lib/python3.10/dist-packages (from qiskit[visualization]==0.43.3) (2.18.0)\n",
            "Requirement already satisfied: numpy>=1.16.3 in /usr/local/lib/python3.10/dist-packages (from qiskit-aer==0.12.2->qiskit==0.43.3->qiskit[visualization]==0.43.3) (1.26.4)\n",
            "Requirement already satisfied: scipy>=1.0 in /usr/local/lib/python3.10/dist-packages (from qiskit-aer==0.12.2->qiskit==0.43.3->qiskit[visualization]==0.43.3) (1.13.1)\n",
            "Requirement already satisfied: requests>=2.19 in /usr/local/lib/python3.10/dist-packages (from qiskit-ibmq-provider==0.20.2->qiskit==0.43.3->qiskit[visualization]==0.43.3) (2.32.3)\n",
            "Collecting requests-ntlm<=1.1.0 (from qiskit-ibmq-provider==0.20.2->qiskit==0.43.3->qiskit[visualization]==0.43.3)\n",
            "  Downloading requests_ntlm-1.1.0-py2.py3-none-any.whl.metadata (938 bytes)\n",
            "Collecting numpy>=1.16.3 (from qiskit-aer==0.12.2->qiskit==0.43.3->qiskit[visualization]==0.43.3)\n",
            "  Downloading numpy-1.23.5-cp310-cp310-manylinux_2_17_x86_64.manylinux2014_x86_64.whl.metadata (2.3 kB)\n",
            "Requirement already satisfied: urllib3>=1.21.1 in /usr/local/lib/python3.10/dist-packages (from qiskit-ibmq-provider==0.20.2->qiskit==0.43.3->qiskit[visualization]==0.43.3) (2.2.3)\n",
            "Requirement already satisfied: python-dateutil>=2.8.0 in /usr/local/lib/python3.10/dist-packages (from qiskit-ibmq-provider==0.20.2->qiskit==0.43.3->qiskit[visualization]==0.43.3) (2.8.2)\n",
            "Requirement already satisfied: websocket-client>=1.5.1 in /usr/local/lib/python3.10/dist-packages (from qiskit-ibmq-provider==0.20.2->qiskit==0.43.3->qiskit[visualization]==0.43.3) (1.8.0)\n",
            "Collecting websockets>=10.0 (from qiskit-ibmq-provider==0.20.2->qiskit==0.43.3->qiskit[visualization]==0.43.3)\n",
            "  Downloading websockets-13.1-cp310-cp310-manylinux_2_5_x86_64.manylinux1_x86_64.manylinux_2_17_x86_64.manylinux2014_x86_64.whl.metadata (6.8 kB)\n",
            "Requirement already satisfied: rustworkx>=0.12.0 in /usr/local/lib/python3.10/dist-packages (from qiskit-terra==0.24.2->qiskit==0.43.3->qiskit[visualization]==0.43.3) (0.15.1)\n",
            "Collecting ply>=3.10 (from qiskit-terra==0.24.2->qiskit==0.43.3->qiskit[visualization]==0.43.3)\n",
            "  Downloading ply-3.11-py2.py3-none-any.whl.metadata (844 bytes)\n",
            "Requirement already satisfied: psutil>=5 in /usr/local/lib/python3.10/dist-packages (from qiskit-terra==0.24.2->qiskit==0.43.3->qiskit[visualization]==0.43.3) (5.9.5)\n",
            "Requirement already satisfied: sympy>=1.3 in /usr/local/lib/python3.10/dist-packages (from qiskit-terra==0.24.2->qiskit==0.43.3->qiskit[visualization]==0.43.3) (1.13.3)\n",
            "Requirement already satisfied: dill>=0.3 in /usr/local/lib/python3.10/dist-packages (from qiskit-terra==0.24.2->qiskit==0.43.3->qiskit[visualization]==0.43.3) (0.3.9)\n",
            "Requirement already satisfied: stevedore>=3.0.0 in /usr/local/lib/python3.10/dist-packages (from qiskit-terra==0.24.2->qiskit==0.43.3->qiskit[visualization]==0.43.3) (5.3.0)\n",
            "Collecting symengine<0.10,>=0.9 (from qiskit-terra==0.24.2->qiskit==0.43.3->qiskit[visualization]==0.43.3)\n",
            "  Downloading symengine-0.9.2-cp310-cp310-manylinux2010_x86_64.whl.metadata (1.1 kB)\n",
            "Requirement already satisfied: ipykernel>=4.5.1 in /usr/local/lib/python3.10/dist-packages (from ipywidgets>=7.3.0->qiskit[visualization]==0.43.3) (5.5.6)\n",
            "Requirement already satisfied: ipython-genutils~=0.2.0 in /usr/local/lib/python3.10/dist-packages (from ipywidgets>=7.3.0->qiskit[visualization]==0.43.3) (0.2.0)\n",
            "Requirement already satisfied: traitlets>=4.3.1 in /usr/local/lib/python3.10/dist-packages (from ipywidgets>=7.3.0->qiskit[visualization]==0.43.3) (5.7.1)\n",
            "Requirement already satisfied: widgetsnbextension~=3.6.0 in /usr/local/lib/python3.10/dist-packages (from ipywidgets>=7.3.0->qiskit[visualization]==0.43.3) (3.6.9)\n",
            "Requirement already satisfied: ipython>=4.0.0 in /usr/local/lib/python3.10/dist-packages (from ipywidgets>=7.3.0->qiskit[visualization]==0.43.3) (7.34.0)\n",
            "Requirement already satisfied: jupyterlab-widgets>=1.0.0 in /usr/local/lib/python3.10/dist-packages (from ipywidgets>=7.3.0->qiskit[visualization]==0.43.3) (3.0.13)\n",
            "Requirement already satisfied: contourpy>=1.0.1 in /usr/local/lib/python3.10/dist-packages (from matplotlib>=2.1->qiskit[visualization]==0.43.3) (1.3.0)\n",
            "Requirement already satisfied: cycler>=0.10 in /usr/local/lib/python3.10/dist-packages (from matplotlib>=2.1->qiskit[visualization]==0.43.3) (0.12.1)\n",
            "Requirement already satisfied: fonttools>=4.22.0 in /usr/local/lib/python3.10/dist-packages (from matplotlib>=2.1->qiskit[visualization]==0.43.3) (4.54.1)\n",
            "Requirement already satisfied: kiwisolver>=1.0.1 in /usr/local/lib/python3.10/dist-packages (from matplotlib>=2.1->qiskit[visualization]==0.43.3) (1.4.7)\n",
            "Requirement already satisfied: packaging>=20.0 in /usr/local/lib/python3.10/dist-packages (from matplotlib>=2.1->qiskit[visualization]==0.43.3) (24.1)\n",
            "Requirement already satisfied: pyparsing>=2.3.1 in /usr/local/lib/python3.10/dist-packages (from matplotlib>=2.1->qiskit[visualization]==0.43.3) (3.1.4)\n",
            "Requirement already satisfied: pandas>=1.2 in /usr/local/lib/python3.10/dist-packages (from seaborn>=0.9.0->qiskit[visualization]==0.43.3) (2.2.2)\n",
            "Requirement already satisfied: jupyter-client in /usr/local/lib/python3.10/dist-packages (from ipykernel>=4.5.1->ipywidgets>=7.3.0->qiskit[visualization]==0.43.3) (6.1.12)\n",
            "Requirement already satisfied: tornado>=4.2 in /usr/local/lib/python3.10/dist-packages (from ipykernel>=4.5.1->ipywidgets>=7.3.0->qiskit[visualization]==0.43.3) (6.3.3)\n",
            "Requirement already satisfied: setuptools>=18.5 in /usr/local/lib/python3.10/dist-packages (from ipython>=4.0.0->ipywidgets>=7.3.0->qiskit[visualization]==0.43.3) (71.0.4)\n",
            "Collecting jedi>=0.16 (from ipython>=4.0.0->ipywidgets>=7.3.0->qiskit[visualization]==0.43.3)\n",
            "  Using cached jedi-0.19.1-py2.py3-none-any.whl.metadata (22 kB)\n",
            "Requirement already satisfied: decorator in /usr/local/lib/python3.10/dist-packages (from ipython>=4.0.0->ipywidgets>=7.3.0->qiskit[visualization]==0.43.3) (4.4.2)\n",
            "Requirement already satisfied: pickleshare in /usr/local/lib/python3.10/dist-packages (from ipython>=4.0.0->ipywidgets>=7.3.0->qiskit[visualization]==0.43.3) (0.7.5)\n",
            "Requirement already satisfied: prompt-toolkit!=3.0.0,!=3.0.1,<3.1.0,>=2.0.0 in /usr/local/lib/python3.10/dist-packages (from ipython>=4.0.0->ipywidgets>=7.3.0->qiskit[visualization]==0.43.3) (3.0.48)\n",
            "Requirement already satisfied: backcall in /usr/local/lib/python3.10/dist-packages (from ipython>=4.0.0->ipywidgets>=7.3.0->qiskit[visualization]==0.43.3) (0.2.0)\n",
            "Requirement already satisfied: matplotlib-inline in /usr/local/lib/python3.10/dist-packages (from ipython>=4.0.0->ipywidgets>=7.3.0->qiskit[visualization]==0.43.3) (0.1.7)\n",
            "Requirement already satisfied: pexpect>4.3 in /usr/local/lib/python3.10/dist-packages (from ipython>=4.0.0->ipywidgets>=7.3.0->qiskit[visualization]==0.43.3) (4.9.0)\n",
            "Requirement already satisfied: pytz>=2020.1 in /usr/local/lib/python3.10/dist-packages (from pandas>=1.2->seaborn>=0.9.0->qiskit[visualization]==0.43.3) (2024.2)\n",
            "Requirement already satisfied: tzdata>=2022.7 in /usr/local/lib/python3.10/dist-packages (from pandas>=1.2->seaborn>=0.9.0->qiskit[visualization]==0.43.3) (2024.2)\n",
            "Requirement already satisfied: six>=1.5 in /usr/local/lib/python3.10/dist-packages (from python-dateutil>=2.8.0->qiskit-ibmq-provider==0.20.2->qiskit==0.43.3->qiskit[visualization]==0.43.3) (1.16.0)\n",
            "Requirement already satisfied: charset-normalizer<4,>=2 in /usr/local/lib/python3.10/dist-packages (from requests>=2.19->qiskit-ibmq-provider==0.20.2->qiskit==0.43.3->qiskit[visualization]==0.43.3) (3.3.2)\n",
            "Requirement already satisfied: idna<4,>=2.5 in /usr/local/lib/python3.10/dist-packages (from requests>=2.19->qiskit-ibmq-provider==0.20.2->qiskit==0.43.3->qiskit[visualization]==0.43.3) (3.10)\n",
            "Requirement already satisfied: certifi>=2017.4.17 in /usr/local/lib/python3.10/dist-packages (from requests>=2.19->qiskit-ibmq-provider==0.20.2->qiskit==0.43.3->qiskit[visualization]==0.43.3) (2024.8.30)\n",
            "Collecting ntlm-auth>=1.0.2 (from requests-ntlm<=1.1.0->qiskit-ibmq-provider==0.20.2->qiskit==0.43.3->qiskit[visualization]==0.43.3)\n",
            "  Downloading ntlm_auth-1.5.0-py2.py3-none-any.whl.metadata (10 kB)\n",
            "Requirement already satisfied: cryptography>=1.3 in /usr/local/lib/python3.10/dist-packages (from requests-ntlm<=1.1.0->qiskit-ibmq-provider==0.20.2->qiskit==0.43.3->qiskit[visualization]==0.43.3) (43.0.1)\n",
            "Requirement already satisfied: pbr>=2.0.0 in /usr/local/lib/python3.10/dist-packages (from stevedore>=3.0.0->qiskit-terra==0.24.2->qiskit==0.43.3->qiskit[visualization]==0.43.3) (6.1.0)\n",
            "Requirement already satisfied: mpmath<1.4,>=1.1.0 in /usr/local/lib/python3.10/dist-packages (from sympy>=1.3->qiskit-terra==0.24.2->qiskit==0.43.3->qiskit[visualization]==0.43.3) (1.3.0)\n",
            "Requirement already satisfied: notebook>=4.4.1 in /usr/local/lib/python3.10/dist-packages (from widgetsnbextension~=3.6.0->ipywidgets>=7.3.0->qiskit[visualization]==0.43.3) (6.5.5)\n",
            "Requirement already satisfied: cffi>=1.12 in /usr/local/lib/python3.10/dist-packages (from cryptography>=1.3->requests-ntlm<=1.1.0->qiskit-ibmq-provider==0.20.2->qiskit==0.43.3->qiskit[visualization]==0.43.3) (1.17.1)\n",
            "Requirement already satisfied: parso<0.9.0,>=0.8.3 in /usr/local/lib/python3.10/dist-packages (from jedi>=0.16->ipython>=4.0.0->ipywidgets>=7.3.0->qiskit[visualization]==0.43.3) (0.8.4)\n",
            "Requirement already satisfied: jinja2 in /usr/local/lib/python3.10/dist-packages (from notebook>=4.4.1->widgetsnbextension~=3.6.0->ipywidgets>=7.3.0->qiskit[visualization]==0.43.3) (3.1.4)\n",
            "Requirement already satisfied: pyzmq<25,>=17 in /usr/local/lib/python3.10/dist-packages (from notebook>=4.4.1->widgetsnbextension~=3.6.0->ipywidgets>=7.3.0->qiskit[visualization]==0.43.3) (24.0.1)\n",
            "Requirement already satisfied: argon2-cffi in /usr/local/lib/python3.10/dist-packages (from notebook>=4.4.1->widgetsnbextension~=3.6.0->ipywidgets>=7.3.0->qiskit[visualization]==0.43.3) (23.1.0)\n",
            "Requirement already satisfied: jupyter-core>=4.6.1 in /usr/local/lib/python3.10/dist-packages (from notebook>=4.4.1->widgetsnbextension~=3.6.0->ipywidgets>=7.3.0->qiskit[visualization]==0.43.3) (5.7.2)\n",
            "Requirement already satisfied: nbformat in /usr/local/lib/python3.10/dist-packages (from notebook>=4.4.1->widgetsnbextension~=3.6.0->ipywidgets>=7.3.0->qiskit[visualization]==0.43.3) (5.10.4)\n",
            "Requirement already satisfied: nbconvert>=5 in /usr/local/lib/python3.10/dist-packages (from notebook>=4.4.1->widgetsnbextension~=3.6.0->ipywidgets>=7.3.0->qiskit[visualization]==0.43.3) (6.5.4)\n",
            "Requirement already satisfied: nest-asyncio>=1.5 in /usr/local/lib/python3.10/dist-packages (from notebook>=4.4.1->widgetsnbextension~=3.6.0->ipywidgets>=7.3.0->qiskit[visualization]==0.43.3) (1.6.0)\n",
            "Requirement already satisfied: Send2Trash>=1.8.0 in /usr/local/lib/python3.10/dist-packages (from notebook>=4.4.1->widgetsnbextension~=3.6.0->ipywidgets>=7.3.0->qiskit[visualization]==0.43.3) (1.8.3)\n",
            "Requirement already satisfied: terminado>=0.8.3 in /usr/local/lib/python3.10/dist-packages (from notebook>=4.4.1->widgetsnbextension~=3.6.0->ipywidgets>=7.3.0->qiskit[visualization]==0.43.3) (0.18.1)\n",
            "Requirement already satisfied: prometheus-client in /usr/local/lib/python3.10/dist-packages (from notebook>=4.4.1->widgetsnbextension~=3.6.0->ipywidgets>=7.3.0->qiskit[visualization]==0.43.3) (0.21.0)\n",
            "Requirement already satisfied: nbclassic>=0.4.7 in /usr/local/lib/python3.10/dist-packages (from notebook>=4.4.1->widgetsnbextension~=3.6.0->ipywidgets>=7.3.0->qiskit[visualization]==0.43.3) (1.1.0)\n",
            "Requirement already satisfied: ptyprocess>=0.5 in /usr/local/lib/python3.10/dist-packages (from pexpect>4.3->ipython>=4.0.0->ipywidgets>=7.3.0->qiskit[visualization]==0.43.3) (0.7.0)\n",
            "Requirement already satisfied: wcwidth in /usr/local/lib/python3.10/dist-packages (from prompt-toolkit!=3.0.0,!=3.0.1,<3.1.0,>=2.0.0->ipython>=4.0.0->ipywidgets>=7.3.0->qiskit[visualization]==0.43.3) (0.2.13)\n",
            "Requirement already satisfied: pycparser in /usr/local/lib/python3.10/dist-packages (from cffi>=1.12->cryptography>=1.3->requests-ntlm<=1.1.0->qiskit-ibmq-provider==0.20.2->qiskit==0.43.3->qiskit[visualization]==0.43.3) (2.22)\n",
            "Requirement already satisfied: platformdirs>=2.5 in /usr/local/lib/python3.10/dist-packages (from jupyter-core>=4.6.1->notebook>=4.4.1->widgetsnbextension~=3.6.0->ipywidgets>=7.3.0->qiskit[visualization]==0.43.3) (4.3.6)\n",
            "Requirement already satisfied: notebook-shim>=0.2.3 in /usr/local/lib/python3.10/dist-packages (from nbclassic>=0.4.7->notebook>=4.4.1->widgetsnbextension~=3.6.0->ipywidgets>=7.3.0->qiskit[visualization]==0.43.3) (0.2.4)\n",
            "Requirement already satisfied: lxml in /usr/local/lib/python3.10/dist-packages (from nbconvert>=5->notebook>=4.4.1->widgetsnbextension~=3.6.0->ipywidgets>=7.3.0->qiskit[visualization]==0.43.3) (4.9.4)\n",
            "Requirement already satisfied: beautifulsoup4 in /usr/local/lib/python3.10/dist-packages (from nbconvert>=5->notebook>=4.4.1->widgetsnbextension~=3.6.0->ipywidgets>=7.3.0->qiskit[visualization]==0.43.3) (4.12.3)\n",
            "Requirement already satisfied: bleach in /usr/local/lib/python3.10/dist-packages (from nbconvert>=5->notebook>=4.4.1->widgetsnbextension~=3.6.0->ipywidgets>=7.3.0->qiskit[visualization]==0.43.3) (6.1.0)\n",
            "Requirement already satisfied: defusedxml in /usr/local/lib/python3.10/dist-packages (from nbconvert>=5->notebook>=4.4.1->widgetsnbextension~=3.6.0->ipywidgets>=7.3.0->qiskit[visualization]==0.43.3) (0.7.1)\n",
            "Requirement already satisfied: entrypoints>=0.2.2 in /usr/local/lib/python3.10/dist-packages (from nbconvert>=5->notebook>=4.4.1->widgetsnbextension~=3.6.0->ipywidgets>=7.3.0->qiskit[visualization]==0.43.3) (0.4)\n",
            "Requirement already satisfied: jupyterlab-pygments in /usr/local/lib/python3.10/dist-packages (from nbconvert>=5->notebook>=4.4.1->widgetsnbextension~=3.6.0->ipywidgets>=7.3.0->qiskit[visualization]==0.43.3) (0.3.0)\n",
            "Requirement already satisfied: MarkupSafe>=2.0 in /usr/local/lib/python3.10/dist-packages (from nbconvert>=5->notebook>=4.4.1->widgetsnbextension~=3.6.0->ipywidgets>=7.3.0->qiskit[visualization]==0.43.3) (2.1.5)\n",
            "Requirement already satisfied: mistune<2,>=0.8.1 in /usr/local/lib/python3.10/dist-packages (from nbconvert>=5->notebook>=4.4.1->widgetsnbextension~=3.6.0->ipywidgets>=7.3.0->qiskit[visualization]==0.43.3) (0.8.4)\n",
            "Requirement already satisfied: nbclient>=0.5.0 in /usr/local/lib/python3.10/dist-packages (from nbconvert>=5->notebook>=4.4.1->widgetsnbextension~=3.6.0->ipywidgets>=7.3.0->qiskit[visualization]==0.43.3) (0.10.0)\n",
            "Requirement already satisfied: pandocfilters>=1.4.1 in /usr/local/lib/python3.10/dist-packages (from nbconvert>=5->notebook>=4.4.1->widgetsnbextension~=3.6.0->ipywidgets>=7.3.0->qiskit[visualization]==0.43.3) (1.5.1)\n",
            "Requirement already satisfied: tinycss2 in /usr/local/lib/python3.10/dist-packages (from nbconvert>=5->notebook>=4.4.1->widgetsnbextension~=3.6.0->ipywidgets>=7.3.0->qiskit[visualization]==0.43.3) (1.3.0)\n",
            "Requirement already satisfied: fastjsonschema>=2.15 in /usr/local/lib/python3.10/dist-packages (from nbformat->notebook>=4.4.1->widgetsnbextension~=3.6.0->ipywidgets>=7.3.0->qiskit[visualization]==0.43.3) (2.20.0)\n",
            "Requirement already satisfied: jsonschema>=2.6 in /usr/local/lib/python3.10/dist-packages (from nbformat->notebook>=4.4.1->widgetsnbextension~=3.6.0->ipywidgets>=7.3.0->qiskit[visualization]==0.43.3) (4.23.0)\n",
            "Requirement already satisfied: argon2-cffi-bindings in /usr/local/lib/python3.10/dist-packages (from argon2-cffi->notebook>=4.4.1->widgetsnbextension~=3.6.0->ipywidgets>=7.3.0->qiskit[visualization]==0.43.3) (21.2.0)\n",
            "Requirement already satisfied: attrs>=22.2.0 in /usr/local/lib/python3.10/dist-packages (from jsonschema>=2.6->nbformat->notebook>=4.4.1->widgetsnbextension~=3.6.0->ipywidgets>=7.3.0->qiskit[visualization]==0.43.3) (24.2.0)\n",
            "Requirement already satisfied: jsonschema-specifications>=2023.03.6 in /usr/local/lib/python3.10/dist-packages (from jsonschema>=2.6->nbformat->notebook>=4.4.1->widgetsnbextension~=3.6.0->ipywidgets>=7.3.0->qiskit[visualization]==0.43.3) (2023.12.1)\n",
            "Requirement already satisfied: referencing>=0.28.4 in /usr/local/lib/python3.10/dist-packages (from jsonschema>=2.6->nbformat->notebook>=4.4.1->widgetsnbextension~=3.6.0->ipywidgets>=7.3.0->qiskit[visualization]==0.43.3) (0.35.1)\n",
            "Requirement already satisfied: rpds-py>=0.7.1 in /usr/local/lib/python3.10/dist-packages (from jsonschema>=2.6->nbformat->notebook>=4.4.1->widgetsnbextension~=3.6.0->ipywidgets>=7.3.0->qiskit[visualization]==0.43.3) (0.20.0)\n",
            "Requirement already satisfied: jupyter-server<3,>=1.8 in /usr/local/lib/python3.10/dist-packages (from notebook-shim>=0.2.3->nbclassic>=0.4.7->notebook>=4.4.1->widgetsnbextension~=3.6.0->ipywidgets>=7.3.0->qiskit[visualization]==0.43.3) (1.24.0)\n",
            "Requirement already satisfied: soupsieve>1.2 in /usr/local/lib/python3.10/dist-packages (from beautifulsoup4->nbconvert>=5->notebook>=4.4.1->widgetsnbextension~=3.6.0->ipywidgets>=7.3.0->qiskit[visualization]==0.43.3) (2.6)\n",
            "Requirement already satisfied: webencodings in /usr/local/lib/python3.10/dist-packages (from bleach->nbconvert>=5->notebook>=4.4.1->widgetsnbextension~=3.6.0->ipywidgets>=7.3.0->qiskit[visualization]==0.43.3) (0.5.1)\n",
            "Requirement already satisfied: anyio<4,>=3.1.0 in /usr/local/lib/python3.10/dist-packages (from jupyter-server<3,>=1.8->notebook-shim>=0.2.3->nbclassic>=0.4.7->notebook>=4.4.1->widgetsnbextension~=3.6.0->ipywidgets>=7.3.0->qiskit[visualization]==0.43.3) (3.7.1)\n",
            "Requirement already satisfied: sniffio>=1.1 in /usr/local/lib/python3.10/dist-packages (from anyio<4,>=3.1.0->jupyter-server<3,>=1.8->notebook-shim>=0.2.3->nbclassic>=0.4.7->notebook>=4.4.1->widgetsnbextension~=3.6.0->ipywidgets>=7.3.0->qiskit[visualization]==0.43.3) (1.3.1)\n",
            "Requirement already satisfied: exceptiongroup in /usr/local/lib/python3.10/dist-packages (from anyio<4,>=3.1.0->jupyter-server<3,>=1.8->notebook-shim>=0.2.3->nbclassic>=0.4.7->notebook>=4.4.1->widgetsnbextension~=3.6.0->ipywidgets>=7.3.0->qiskit[visualization]==0.43.3) (1.2.2)\n",
            "Downloading qiskit_aer-0.12.2-cp310-cp310-manylinux_2_17_x86_64.manylinux2014_x86_64.whl (12.8 MB)\n",
            "\u001b[2K   \u001b[90m━━━━━━━━━━━━━━━━━━━━━━━━━━━━━━━━━━━━━━━━\u001b[0m \u001b[32m12.8/12.8 MB\u001b[0m \u001b[31m34.3 MB/s\u001b[0m eta \u001b[36m0:00:00\u001b[0m\n",
            "\u001b[?25hDownloading qiskit_ibmq_provider-0.20.2-py3-none-any.whl (241 kB)\n",
            "\u001b[2K   \u001b[90m━━━━━━━━━━━━━━━━━━━━━━━━━━━━━━━━━━━━━━━━\u001b[0m \u001b[32m241.5/241.5 kB\u001b[0m \u001b[31m22.8 MB/s\u001b[0m eta \u001b[36m0:00:00\u001b[0m\n",
            "\u001b[?25hDownloading qiskit_terra-0.24.2-cp310-cp310-manylinux_2_17_x86_64.manylinux2014_x86_64.whl (6.0 MB)\n",
            "\u001b[2K   \u001b[90m━━━━━━━━━━━━━━━━━━━━━━━━━━━━━━━━━━━━━━━━\u001b[0m \u001b[32m6.0/6.0 MB\u001b[0m \u001b[31m18.2 MB/s\u001b[0m eta \u001b[36m0:00:00\u001b[0m\n",
            "\u001b[?25hDownloading numpy-1.23.5-cp310-cp310-manylinux_2_17_x86_64.manylinux2014_x86_64.whl (17.1 MB)\n",
            "\u001b[2K   \u001b[90m━━━━━━━━━━━━━━━━━━━━━━━━━━━━━━━━━━━━━━━━\u001b[0m \u001b[32m17.1/17.1 MB\u001b[0m \u001b[31m64.4 MB/s\u001b[0m eta \u001b[36m0:00:00\u001b[0m\n",
            "\u001b[?25hDownloading ply-3.11-py2.py3-none-any.whl (49 kB)\n",
            "\u001b[2K   \u001b[90m━━━━━━━━━━━━━━━━━━━━━━━━━━━━━━━━━━━━━━━━\u001b[0m \u001b[32m49.6/49.6 kB\u001b[0m \u001b[31m4.7 MB/s\u001b[0m eta \u001b[36m0:00:00\u001b[0m\n",
            "\u001b[?25hDownloading requests_ntlm-1.1.0-py2.py3-none-any.whl (5.7 kB)\n",
            "Downloading symengine-0.9.2-cp310-cp310-manylinux2010_x86_64.whl (37.5 MB)\n",
            "\u001b[2K   \u001b[90m━━━━━━━━━━━━━━━━━━━━━━━━━━━━━━━━━━━━━━━━\u001b[0m \u001b[32m37.5/37.5 MB\u001b[0m \u001b[31m12.5 MB/s\u001b[0m eta \u001b[36m0:00:00\u001b[0m\n",
            "\u001b[?25hDownloading websockets-13.1-cp310-cp310-manylinux_2_5_x86_64.manylinux1_x86_64.manylinux_2_17_x86_64.manylinux2014_x86_64.whl (164 kB)\n",
            "\u001b[2K   \u001b[90m━━━━━━━━━━━━━━━━━━━━━━━━━━━━━━━━━━━━━━━━\u001b[0m \u001b[32m164.1/164.1 kB\u001b[0m \u001b[31m15.9 MB/s\u001b[0m eta \u001b[36m0:00:00\u001b[0m\n",
            "\u001b[?25hUsing cached jedi-0.19.1-py2.py3-none-any.whl (1.6 MB)\n",
            "Downloading ntlm_auth-1.5.0-py2.py3-none-any.whl (29 kB)\n",
            "Building wheels for collected packages: qiskit, pylatexenc\n",
            "  Building wheel for qiskit (pyproject.toml) ... \u001b[?25l\u001b[?25hdone\n",
            "  Created wheel for qiskit: filename=qiskit-0.43.3-py3-none-any.whl size=7631 sha256=167e7f3243f6312d8675ac310f7310a7e1367ddb90397210b37e2d3e314a3afb\n",
            "  Stored in directory: /root/.cache/pip/wheels/c3/88/e5/483e1c761b53470dad74ee047f8ad4d67d4f52ec9dc9d13563\n",
            "  Building wheel for pylatexenc (setup.py) ... \u001b[?25l\u001b[?25hdone\n",
            "  Created wheel for pylatexenc: filename=pylatexenc-2.10-py3-none-any.whl size=136817 sha256=7652eda2947566683821c9b98c3565a5f6231320747c3faded360441eedde1bf\n",
            "  Stored in directory: /root/.cache/pip/wheels/d3/31/8b/e09b0386afd80cfc556c00408c9aeea5c35c4d484a9c762fd5\n",
            "Successfully built qiskit pylatexenc\n",
            "Installing collected packages: pylatexenc, ply, websockets, symengine, numpy, ntlm-auth, jedi, requests-ntlm, qiskit-terra, qiskit-ibmq-provider, qiskit-aer, qiskit\n",
            "  Attempting uninstall: symengine\n",
            "    Found existing installation: symengine 0.13.0\n",
            "    Uninstalling symengine-0.13.0:\n",
            "      Successfully uninstalled symengine-0.13.0\n",
            "  Attempting uninstall: numpy\n",
            "    Found existing installation: numpy 1.26.4\n",
            "    Uninstalling numpy-1.26.4:\n",
            "      Successfully uninstalled numpy-1.26.4\n",
            "  Attempting uninstall: qiskit\n",
            "    Found existing installation: qiskit 1.2.4\n",
            "    Uninstalling qiskit-1.2.4:\n",
            "      Successfully uninstalled qiskit-1.2.4\n",
            "\u001b[31mERROR: pip's dependency resolver does not currently take into account all the packages that are installed. This behaviour is the source of the following dependency conflicts.\n",
            "albucore 0.0.16 requires numpy>=1.24, but you have numpy 1.23.5 which is incompatible.\n",
            "albumentations 1.4.15 requires numpy>=1.24.4, but you have numpy 1.23.5 which is incompatible.\n",
            "bigframes 1.19.0 requires numpy>=1.24.0, but you have numpy 1.23.5 which is incompatible.\n",
            "chex 0.1.87 requires numpy>=1.24.1, but you have numpy 1.23.5 which is incompatible.\n",
            "jax 0.4.33 requires numpy>=1.24, but you have numpy 1.23.5 which is incompatible.\n",
            "jaxlib 0.4.33 requires numpy>=1.24, but you have numpy 1.23.5 which is incompatible.\n",
            "xarray 2024.9.0 requires numpy>=1.24, but you have numpy 1.23.5 which is incompatible.\u001b[0m\u001b[31m\n",
            "\u001b[0mSuccessfully installed jedi-0.19.1 ntlm-auth-1.5.0 numpy-1.23.5 ply-3.11 pylatexenc-2.10 qiskit-0.43.3 qiskit-aer-0.12.2 qiskit-ibmq-provider-0.20.2 qiskit-terra-0.24.2 requests-ntlm-1.1.0 symengine-0.9.2 websockets-13.1\n"
          ]
        },
        {
          "output_type": "display_data",
          "data": {
            "application/vnd.colab-display-data+json": {
              "pip_warning": {
                "packages": [
                  "numpy",
                  "qiskit"
                ]
              },
              "id": "6ee55873c11345748a5fafe8f8cc131a"
            }
          },
          "metadata": {}
        },
        {
          "output_type": "stream",
          "name": "stdout",
          "text": [
            "Requirement already satisfied: qiskit-aer in /usr/local/lib/python3.10/dist-packages (0.12.2)\n",
            "Requirement already satisfied: qiskit-terra>=0.21.0 in /usr/local/lib/python3.10/dist-packages (from qiskit-aer) (0.24.2)\n",
            "Requirement already satisfied: numpy>=1.16.3 in /usr/local/lib/python3.10/dist-packages (from qiskit-aer) (1.23.5)\n",
            "Requirement already satisfied: scipy>=1.0 in /usr/local/lib/python3.10/dist-packages (from qiskit-aer) (1.13.1)\n",
            "Requirement already satisfied: rustworkx>=0.12.0 in /usr/local/lib/python3.10/dist-packages (from qiskit-terra>=0.21.0->qiskit-aer) (0.15.1)\n",
            "Requirement already satisfied: ply>=3.10 in /usr/local/lib/python3.10/dist-packages (from qiskit-terra>=0.21.0->qiskit-aer) (3.11)\n",
            "Requirement already satisfied: psutil>=5 in /usr/local/lib/python3.10/dist-packages (from qiskit-terra>=0.21.0->qiskit-aer) (5.9.5)\n",
            "Requirement already satisfied: sympy>=1.3 in /usr/local/lib/python3.10/dist-packages (from qiskit-terra>=0.21.0->qiskit-aer) (1.13.3)\n",
            "Requirement already satisfied: dill>=0.3 in /usr/local/lib/python3.10/dist-packages (from qiskit-terra>=0.21.0->qiskit-aer) (0.3.9)\n",
            "Requirement already satisfied: python-dateutil>=2.8.0 in /usr/local/lib/python3.10/dist-packages (from qiskit-terra>=0.21.0->qiskit-aer) (2.8.2)\n",
            "Requirement already satisfied: stevedore>=3.0.0 in /usr/local/lib/python3.10/dist-packages (from qiskit-terra>=0.21.0->qiskit-aer) (5.3.0)\n",
            "Requirement already satisfied: symengine<0.10,>=0.9 in /usr/local/lib/python3.10/dist-packages (from qiskit-terra>=0.21.0->qiskit-aer) (0.9.2)\n",
            "Requirement already satisfied: six>=1.5 in /usr/local/lib/python3.10/dist-packages (from python-dateutil>=2.8.0->qiskit-terra>=0.21.0->qiskit-aer) (1.16.0)\n",
            "Requirement already satisfied: pbr>=2.0.0 in /usr/local/lib/python3.10/dist-packages (from stevedore>=3.0.0->qiskit-terra>=0.21.0->qiskit-aer) (6.1.0)\n",
            "Requirement already satisfied: mpmath<1.4,>=1.1.0 in /usr/local/lib/python3.10/dist-packages (from sympy>=1.3->qiskit-terra>=0.21.0->qiskit-aer) (1.3.0)\n"
          ]
        }
      ],
      "source": [
        "import IPython\n",
        "\n",
        "def in_colab():\n",
        "    try:\n",
        "        import google.colab\n",
        "        return True\n",
        "    except:\n",
        "        return False\n",
        "\n",
        "SolutionToTask3 = lambda: IPython.display.display(IPython.display.Javascript('window.open(\"{url}\");'.format(url='https://colab.research.google.com/drive/1r9baG8GzInmlSkNWAqq7xbrjt300g-nJ?usp=sharing#scrollTo=LBptY1Lx_m1M' if in_colab() else 'QB23_Q36_Superposition_and_Measurement_Solutions.ipynb#task3')))\n",
        "SolutionToTask4 = lambda: IPython.display.display(IPython.display.Javascript('window.open(\"{url}\");'.format(url='https://colab.research.google.com/drive/1r9baG8GzInmlSkNWAqq7xbrjt300g-nJ?usp=sharing#scrollTo=DnAV7iGg_m1O' if in_colab() else 'QB23_Q36_Superposition_and_Measurement_Solutions.ipynb#task4')))\n",
        "SolutionToTask5 = lambda: IPython.display.display(IPython.display.Javascript('window.open(\"{url}\");'.format(url='https://colab.research.google.com/drive/1r9baG8GzInmlSkNWAqq7xbrjt300g-nJ?usp=sharing#scrollTo=cYxjsfg-_m1P' if in_colab() else 'QB23_Q36_Superposition_and_Measurement_Solutions.ipynb#task5')))\n",
        "\n",
        "if in_colab():\n",
        "    !pip install qiskit[visualization]==0.43.3\n",
        "    !pip install qiskit-aer"
      ]
    },
    {
      "cell_type": "markdown",
      "metadata": {
        "id": "fSFTwfyJAeGc"
      },
      "source": [
        "##### There is no classical counterpart of the concept \"superposition\".\n",
        "\n",
        "But, we can still use a classical analogy that might help us to give some intuitions.\n",
        "\n",
        "<h3> Probability distribution </h3>\n",
        "\n",
        "Suppose that Asja starts in $ \\myvector{1\\\\0} $ and secretly applies the probabilistic operator $ \\mymatrix{cc}{ 0.3 & 0.6 \\\\ 0.7 & 0.4 } $.\n",
        "\n",
        "Because she applies her operator secretly, our information about her state is probabilistic, which is calculated as\n",
        "\n",
        "$$\n",
        "    \\myvector{0.3 \\\\ 0.7} = \\mymatrix{cc}{ 0.3 & 0.6 \\\\ 0.7 & 0.4 } \\myvector{1\\\\0}.\n",
        "$$\n",
        "\n",
        "Asja is either in state 0 or in state 1.\n",
        "\n",
        "However, from our point of view, Asja is in state 0 with probability $ 0.3 $ and in state 1 with probability $ 0.7 $.\n",
        "\n",
        "We can say that Asja is in a probability distribution of states 0 and 1, being in both states at the same time but with different weights.\n",
        "\n",
        "On the other hand, if we observe Asja's state, then our information about Asja becomes deterministic: either $ \\myvector{1 \\\\ 0} $ or $ \\myvector{0 \\\\ 1} $.\n",
        "\n",
        "We can say that, after observing Asja's state, the probabilistic state $ \\myvector{0.3 \\\\ 0.7}  $ collapses to either $ \\myvector{1 \\\\ 0} $ or $ \\myvector{0 \\\\ 1} $."
      ]
    },
    {
      "cell_type": "markdown",
      "metadata": {
        "id": "ObTgpcNSAeGc"
      },
      "source": [
        "<h3> The third experiment </h3>\n",
        "\n",
        "Remember the following experiment. We trace it step by step by matrix-vector multiplication.\n",
        "\n",
        "<img src=\"https://gitlab.com/qworld/qeducation/qbook101/raw/main/qbook101/images/ch2/photon/photon7.jpg\" width=\"65%\">"
      ]
    },
    {
      "cell_type": "markdown",
      "metadata": {
        "id": "ghjraCxIAeGc"
      },
      "source": [
        "<b> The initial Step </b>\n",
        "\n",
        "The photon is in state $ \\ket{v_0} = \\vzero $."
      ]
    },
    {
      "cell_type": "markdown",
      "metadata": {
        "id": "QzhdOTuNAeGd"
      },
      "source": [
        "<b> The first step </b>\n",
        "\n",
        "Hadamard is applied:\n",
        "\n",
        "$ \\ket{v_1} = \\hadamard \\vzero = \\stateplus $.\n",
        "\n",
        "At this point, the photon is in a <b>superposition</b> of state $ \\ket{0} $ and state $ \\ket{1} $, <u>being in both states with the amplitudes</u> $ \\frac{1}{\\sqrt{2}} $ and $ \\frac{1}{\\sqrt{2}} $, respectively.\n",
        "\n",
        "The state of photon is $ \\ket{v_1} = \\stateplus $, and we can also represent it as follows:\n",
        "$ \\ket{v_1} =  \\frac{1}{\\sqrt{2}} \\ket{0} + \\frac{1}{\\sqrt{2}} \\ket{1} $."
      ]
    },
    {
      "cell_type": "markdown",
      "metadata": {
        "id": "exja7BS3AeGd"
      },
      "source": [
        "<b> The second step </b>\n",
        "\n",
        "Hadamard is applied again:\n",
        "\n",
        "We write the effect of Hadamard on states $ \\ket{0} $ and $ \\ket{1} $ as follows:\n",
        "\n",
        "$ H \\ket{0} = \\frac{1}{\\sqrt{2}} \\ket{0} + \\frac{1}{\\sqrt{2}} \\ket{1} $ &nbsp;&nbsp;&nbsp;&nbsp;&nbsp; <i>(These are the transition amplitudes of the first column.)</i>\n",
        "\n",
        "$ H \\ket{1} = \\frac{1}{\\sqrt{2}} \\ket{0} - \\frac{1}{\\sqrt{2}} \\ket{1} $ &nbsp;&nbsp;&nbsp;&nbsp;&nbsp; <i>(These are the transition amplitudes of the second column.)</i>\n",
        "\n",
        "This representation helps us to see clearly why the state $ \\ket{1} $ disappears.\n",
        "\n",
        "Now, let's see the effect of Hadamard on the quantum state $ \\ket{v_1} =  \\frac{1}{\\sqrt{2}} \\ket{0} + \\frac{1}{\\sqrt{2}} \\ket{1} $:\n",
        "\n",
        "$ \\ket{v_2} = H \\ket{v_1} = H \\mybigpar{ \\frac{1}{\\sqrt{2}} \\ket{0} + \\frac{1}{\\sqrt{2}} \\ket{1} } = \\frac{1}{\\sqrt{2}} H \\ket{0} + \\frac{1}{\\sqrt{2}} H \\ket{1} $\n",
        "\n",
        "We can replace $ H\\ket{0} $ and $ H\\ket{1} $ as described above. $ \\ket{v_2} $ is formed by the summation of the following terms:"
      ]
    },
    {
      "cell_type": "markdown",
      "metadata": {
        "id": "J_oay5aiAeGd"
      },
      "source": [
        "$~~~~~~~~ \\dsqrttwo H \\ket{0} = $ <font color=\"green\">$\\donehalf \\ket{0} $</font> <font color=\"red\">$ + \\donehalf \\ket{1}  $</font>\n",
        "\n",
        "$~~~~~~~~ \\dsqrttwo H \\ket{1} = $ <font color=\"green\">$\\donehalf \\ket{0} $</font> <font color=\"red\">$ - \\donehalf \\ket{1}  $</font>\n",
        "<br>\n",
        "<font size=\"+1\">$ \\mathbf{+}\\_\\_\\_\\_\\_\\_\\_\\_\\_\\_\\_\\_\\_\\_\\_\\_\\_\\_\\_ $</font>\n",
        "\n",
        "$ ~~ $ <font color=\"green\"> $\\mypar{ \\donehalf+\\donehalf } \\ket{0} $</font> +\n",
        "<font color=\"red\"> $\\mypar{ \\donehalf-\\donehalf }  \\ket{1} $ </font> $ = \\mathbf{\\ket{0}} $.\n",
        "\n",
        "<font color=\"green\">The amplitude of $ \\ket{0} $ becomes 1,</font> <font color=\"red\"> but the amplitude of $ \\ket{1} $ becomes 0 because of cancellation.</font>"
      ]
    },
    {
      "cell_type": "markdown",
      "metadata": {
        "id": "vUv2gocsAeGd"
      },
      "source": [
        "The photon was in both states at the same time with <u>certain amplitudes</u>.\n",
        "\n",
        "After the second Hadamard, the \"outcomes\" are <u>interfered with each other</u>.\n",
        "\n",
        "The interference can be constructive or destructive.\n",
        "\n",
        "In our examples, <font color=\"green\"><b>the outcome $ \\ket{0} $s are interfered constructively</b></font>, but <font color=\"red\"><b>the outcome $ \\ket{1} $s are interfered destructively</b></font>."
      ]
    },
    {
      "cell_type": "markdown",
      "metadata": {
        "id": "X_71wXWMAeGd"
      },
      "source": [
        "<h3> Observations </h3>\n",
        "\n",
        "<u>Probabilistic systems</u>: If there is a nonzero transition to a state, then it contributes to the probability of this state positively.\n",
        "\n",
        "<u>Quantum systems</u>: If there is a nonzero transition to a state, then we cannot know its contribution without knowing the other transitions to this state.\n",
        "\n",
        "If it is the only transition, then it contributes to the amplitude (and probability) of the state, and it does not matter whether the sign of the transition is positive or negative.\n",
        "\n",
        "If there is more than one transition, then depending on the summation of all transitions, we can determine whether a specific transition contributes or not.\n",
        "\n",
        "As a simple rule, if the final amplitude of the state and nonzero transition have the same sign, then it is a positive contribution; and, if they have the opposite signs, then it is a negative contribution."
      ]
    },
    {
      "cell_type": "markdown",
      "metadata": {
        "id": "w2c2Rj8nAeGd"
      },
      "source": [
        "<h3> Task 1 </h3>\n",
        "\n",
        "[on paper]\n",
        "\n",
        "Start in state $ \\ket{u_0} =  \\ket{1} $.\n",
        "\n",
        "Apply Hadamard operator to $ \\ket{u_0} $, i.e, find $ \\ket{u_1} = H \\ket{u_0} $.\n",
        "\n",
        "Apply Hadamard operator to $\\ket{u_1}$, i.e, find $ \\ket{u_2} = H \\ket{u_1} $.\n",
        "\n",
        "Observe the constructive and destructive interferences, when calculating $ \\ket{u_2} $."
      ]
    },
    {
      "cell_type": "markdown",
      "metadata": {
        "id": "tsLw3Tn8AeGd"
      },
      "source": [
        "<h3> Being in a superposition </h3>\n",
        "\n",
        "A quantum system can be in more than one state with nonzero amplitudes.\n",
        "\n",
        "Then, we say that our system is in a superposition of these states.\n",
        "\n",
        "When evolving from a superposition, the resulting transitions may affect each other constructively and destructively.\n",
        "\n",
        "This happens because of having opposite sign transition amplitudes.\n",
        "\n",
        "Otherwise, all nonzero transitions are added up to each other as in probabilistic systems."
      ]
    },
    {
      "cell_type": "markdown",
      "metadata": {
        "id": "om_C8S7jAeGd"
      },
      "source": [
        "<hr>\n",
        "<h2> Measurement </h2>\n",
        "\n",
        "We can measure a quantum system, and then the system is observed in one of its states. This is the most basic type of measurement in quantum computing. (There are more generic measurement operators, but we will not mention about them.)\n",
        "\n",
        "The probability of the system to be observed in a specified state is the square value of its amplitude.\n",
        "<ul>\n",
        "    <li> If the amplitude of a state is zero, then this state cannot be observed. </li>\n",
        "    <li> If the amplitude of a state is nonzero, then this state can be observed. </li>\n",
        "</ul>\n",
        "\n",
        "For example, if the system is in quantum state\n",
        "\n",
        "$$\n",
        "    \\myrvector{ -\\frac{\\sqrt{2}}{\\sqrt{3}} \\\\ \\frac{1}{\\sqrt{3}} },\n",
        "$$\n",
        "\n",
        "then, after a measurement, we can observe the system in state $\\ket{0} $ with probability $ \\frac{2}{3} $ and in state $\\ket{1}$ with probability $ \\frac{1}{3} $.\n",
        "\n"
      ]
    },
    {
      "cell_type": "markdown",
      "metadata": {
        "id": "p71bJaMcAeGd"
      },
      "source": [
        "<h4> Collapsing </h4>\n",
        "\n",
        "After the measurement, the system collapses to the observed state, and so the system is no longer in a superposition. Thus, the information kept in a superposition is lost.\n",
        "- In the above example, when the system is observed in state $\\ket{0}$, then the new state becomes $ \\myvector{1 \\\\ 0} $.\n",
        "- If it is observed in state $\\ket{1}$, then the new state becomes $ \\myvector{0 \\\\ 1} $."
      ]
    },
    {
      "cell_type": "markdown",
      "metadata": {
        "id": "Eu8Xbw2AAeGd"
      },
      "source": [
        "<h3> The second experiment of the quantum coin flipping </h3>"
      ]
    },
    {
      "cell_type": "markdown",
      "metadata": {
        "id": "oxYg90FjAeGe"
      },
      "source": [
        "Remember the experiment set-up."
      ]
    },
    {
      "cell_type": "markdown",
      "metadata": {
        "id": "aQiHD1uoAeGe"
      },
      "source": [
        "<img src=\"https://gitlab.com/qworld/qeducation/qbook101/raw/main/qbook101/images/ch2/photon/photon5.jpg\" width=\"65%\">"
      ]
    },
    {
      "cell_type": "markdown",
      "metadata": {
        "id": "liyb5kqiAeGe"
      },
      "source": [
        "In this experiment, after the first quantum coin-flipping, we make a measurement.\n",
        "\n",
        "If the measurement outcome is state $ \\ket{0} $, then we apply a second Hadamard.\n",
        "\n",
        "First, we trace the experiment analytically."
      ]
    },
    {
      "cell_type": "markdown",
      "metadata": {
        "id": "hmXwM_YCAeGe"
      },
      "source": [
        "<table width=\"100%\"><tr>\n",
        "<td width=\"400px\" style=\"background-color:white;text-align:center;vertical-align:middle;\" cellpadding=0>\n",
        "    <img src=\"https://gitlab.com/qworld/qeducation/qbook101/raw/main/qbook101/images/ch2/tracing-2nd-exp.png\">\n",
        "    <br><br>\n",
        "    <font size=\"-2\"><a href=\"https://gitlab.com/qworld/qeducation/qbook101/raw/main/qbook101/images/ch2/tracing-2nd-exp.txt\" target=\"_blank\">the tex code of the image</a></font>\n",
        "</td>\n",
        "<td width=\"*\" style=\"background-color:white;text-align:left;vertical-align:top;\">\n",
        "    <b> The first Hadamard </b>\n",
        "    <br><br>\n",
        "    We start in state $ \\ket{0} = \\vzero $. Then, we apply Hadamard operator:\n",
        "    <br><br>\n",
        "    $ \\stateplus = \\hadamard \\vzero $ <hr>\n",
        "    <!---------->\n",
        "    <b> The first measurement </b>\n",
        "    <br><br>\n",
        "    Due to the photon detector A, the photon cannot be in superposition, and so it forces the photon to be observed in state $\\ket{0}$ or state $ \\ket{1} $. This is a measurement.\n",
        "    <br><br>\n",
        "    Since the amplitudes are $ \\sqrttwo $, we observe each state with equal probability.\n",
        "    <br><br>\n",
        "    Thus, with probability $ \\frac{1}{2} $, the new quantum state is $ \\ket{0} = \\vzero $.\n",
        "    <br><br>\n",
        "    And, with probability $ \\frac{1}{2} $, the new quantum state is $ \\ket{1} = \\vone $. <hr>\n",
        "    <!---------->\n",
        "    <b> The second Hadamard </b>\n",
        "    <br><br>\n",
        "    If the photon is in state $ \\ket{0} $, then another Hadamard operator is applied.\n",
        "    <br><br>\n",
        "    In other words, with probability $ \\frac{1}{2} $, the computation continues and another Hadamard is applied:\n",
        "    <br><br>\n",
        "    $ \\stateplus = \\hadamard \\vzero $ <hr>\n",
        "    <b> The second measurement </b>\n",
        "    <br><br>\n",
        "    Due to photon detectors B1 and B2, we make another measurement.\n",
        "    <br><br>\n",
        "    Thus, we observe state $ \\ket{0} $ with probability $ \\frac{1}{4} $ and state $ \\ket{1} $ with probability $ \\frac{1}{4} $.\n",
        "    <br><br>\n",
        "    At the end, the state $ \\ket{0} $ can be observed with probability $ \\frac{1}{4} $, and the state $ \\ket{1} $ can be observed with probability $ \\frac{3}{4} $.\n",
        "</td>\n",
        "</tr></table>"
      ]
    },
    {
      "cell_type": "markdown",
      "metadata": {
        "id": "TTBFt_o-AeGe"
      },
      "source": [
        "<h3> Implementing the second experiment </h3>"
      ]
    },
    {
      "cell_type": "markdown",
      "metadata": {
        "id": "7NA5iQaGAeGe"
      },
      "source": [
        "By using the simulator, we can implement the second experiment.\n",
        "\n",
        "For this purpose, qiskit provides a conditional operator based on the value of a classical register.\n",
        "\n",
        "In the following example, the last operator (x-gate) on the quantum register will be executed if the value of the classical register is 1.\n",
        "\n",
        "    q = QuantumRegister(1)\n",
        "    c = ClassicalRegister(1)\n",
        "    qc = QuantumCircuit(q,c)\n",
        "    ...\n",
        "    qc.measure(q,c)\n",
        "    qc.x(q[0]).c_if(c,1)\n",
        "    \n",
        "In our experiment, we use such classical control after the first measurement."
      ]
    },
    {
      "cell_type": "code",
      "source": [
        "!pip install qiskit -U --quiet"
      ],
      "metadata": {
        "id": "o-Qn0xCCfL_-",
        "outputId": "cba877da-5587-4995-84d9-4046a9a47d58",
        "colab": {
          "base_uri": "https://localhost:8080/"
        }
      },
      "execution_count": 1,
      "outputs": [
        {
          "output_type": "stream",
          "name": "stdout",
          "text": [
            "\u001b[2K   \u001b[90m━━━━━━━━━━━━━━━━━━━━━━━━━━━━━━━━━━━━━━━━\u001b[0m \u001b[32m4.8/4.8 MB\u001b[0m \u001b[31m28.4 MB/s\u001b[0m eta \u001b[36m0:00:00\u001b[0m\n",
            "\u001b[2K   \u001b[90m━━━━━━━━━━━━━━━━━━━━━━━━━━━━━━━━━━━━━━━━\u001b[0m \u001b[32m119.4/119.4 kB\u001b[0m \u001b[31m7.4 MB/s\u001b[0m eta \u001b[36m0:00:00\u001b[0m\n",
            "\u001b[2K   \u001b[90m━━━━━━━━━━━━━━━━━━━━━━━━━━━━━━━━━━━━━━━━\u001b[0m \u001b[32m2.0/2.0 MB\u001b[0m \u001b[31m24.4 MB/s\u001b[0m eta \u001b[36m0:00:00\u001b[0m\n",
            "\u001b[2K   \u001b[90m━━━━━━━━━━━━━━━━━━━━━━━━━━━━━━━━━━━━━━━━\u001b[0m \u001b[32m49.7/49.7 kB\u001b[0m \u001b[31m2.4 MB/s\u001b[0m eta \u001b[36m0:00:00\u001b[0m\n",
            "\u001b[2K   \u001b[90m━━━━━━━━━━━━━━━━━━━━━━━━━━━━━━━━━━━━━━━━\u001b[0m \u001b[32m49.7/49.7 MB\u001b[0m \u001b[31m12.6 MB/s\u001b[0m eta \u001b[36m0:00:00\u001b[0m\n",
            "\u001b[2K   \u001b[90m━━━━━━━━━━━━━━━━━━━━━━━━━━━━━━━━━━━━━━━━\u001b[0m \u001b[32m108.5/108.5 kB\u001b[0m \u001b[31m2.7 MB/s\u001b[0m eta \u001b[36m0:00:00\u001b[0m\n",
            "\u001b[?25h"
          ]
        }
      ]
    },
    {
      "cell_type": "code",
      "execution_count": 2,
      "metadata": {
        "scrolled": true,
        "id": "j8bLQf33AeGe",
        "outputId": "ca914900-3bbc-4071-a5f3-e8890eb1a7a2",
        "colab": {
          "base_uri": "https://localhost:8080/",
          "height": 109
        }
      },
      "outputs": [
        {
          "output_type": "display_data",
          "data": {
            "text/plain": [
              "     ┌───┐┌─┐ ┌───┐ ┌─┐\n",
              "  q: ┤ H ├┤M├─┤ H ├─┤M├\n",
              "     └───┘└╥┘ └─╥─┘ └╥┘\n",
              "           ║ ┌──╨──┐ ║ \n",
              "c: 1/══════╩═╡ 0x0 ╞═╩═\n",
              "           0 └─────┘ 0 "
            ],
            "text/html": [
              "<pre style=\"word-wrap: normal;white-space: pre;background: #fff0;line-height: 1.1;font-family: &quot;Courier New&quot;,Courier,monospace\">     ┌───┐┌─┐ ┌───┐ ┌─┐\n",
              "  q: ┤ H ├┤M├─┤ H ├─┤M├\n",
              "     └───┘└╥┘ └─╥─┘ └╥┘\n",
              "           ║ ┌──╨──┐ ║ \n",
              "c: 1/══════╩═╡ 0x0 ╞═╩═\n",
              "           0 └─────┘ 0 </pre>"
            ]
          },
          "metadata": {}
        }
      ],
      "source": [
        "# import all necessary objects and methods for quantum circuits\n",
        "from qiskit import QuantumRegister, ClassicalRegister, QuantumCircuit, transpile\n",
        "from qiskit.providers.basic_provider import BasicProvider\n",
        "from qiskit.visualization import plot_histogram\n",
        "\n",
        "# define a quantum register with a single qubit\n",
        "q = QuantumRegister(1,\"q\")\n",
        "# define a classical register with a single bit\n",
        "c = ClassicalRegister(1,\"c\")\n",
        "# define a quantum circuit\n",
        "qc = QuantumCircuit(q,c)\n",
        "\n",
        "# apply the first Hadamard\n",
        "qc.h(q[0])\n",
        "\n",
        "# the first measurement\n",
        "qc.measure(q,c)\n",
        "\n",
        "# apply the second Hadamard if the measurement outcome is 0\n",
        "qc.h(q[0]).c_if(c,0)\n",
        "\n",
        "# the second measurement\n",
        "qc.measure(q[0],c)\n",
        "\n",
        "# draw the circuit\n",
        "display(qc.draw())\n",
        "\n"
      ]
    },
    {
      "cell_type": "markdown",
      "metadata": {
        "id": "TwR1qbo-AeGe"
      },
      "source": [
        "<h3> Task 2 </h3>\n",
        "\n",
        "If we execute this circuit 1000 times, what are the expected numbers of observing the outcomes '0' and '1'?\n",
        "\n",
        "Test your result by executing the following code."
      ]
    },
    {
      "cell_type": "code",
      "execution_count": 3,
      "metadata": {
        "id": "LS4jPStkAeGe",
        "outputId": "77e269ce-0aac-4b62-f949-68536d6e9e77",
        "colab": {
          "base_uri": "https://localhost:8080/",
          "height": 446
        }
      },
      "outputs": [
        {
          "output_type": "stream",
          "name": "stdout",
          "text": [
            "{'1': 753, '0': 247}\n"
          ]
        },
        {
          "output_type": "execute_result",
          "data": {
            "text/plain": [
              "<Figure size 640x480 with 1 Axes>"
            ],
            "image/png": "[encoded data removed]"
          },
          "metadata": {},
          "execution_count": 3
        }
      ],
      "source": [
        "backend = BasicProvider().get_backend('basic_simulator')\n",
        "qc_transpiled = transpile(qc, backend)\n",
        "job = backend.run(qc_transpiled, shots = 1000)\n",
        "result = job.result()\n",
        "counts = result.get_counts(qc)\n",
        "print(counts)\n",
        "plot_histogram(counts)"
      ]
    },
    {
      "cell_type": "markdown",
      "metadata": {
        "id": "uSvsyNazAeGe"
      },
      "source": [
        "<h3> Task 3 </h3>\n",
        "\n",
        "Repeat the second experiment with the following modifications.\n",
        "\n",
        "Start in state $ \\ket{1} $.\n",
        "\n",
        "Apply a Hadamard gate.\n",
        "\n",
        "Make a measurement.\n",
        "\n",
        "If the measurement outcome is 0, stop.\n",
        "\n",
        "Otherwise, apply a second Hadamard, and then make a measurement.\n",
        "\n",
        "Execute your circuit 1000 times.\n",
        "\n",
        "Calculate the expected values of observing '0' and '1', and then compare your result with the simulator result."
      ]
    },
    {
      "cell_type": "code",
      "execution_count": 4,
      "metadata": {
        "id": "h67l62DTAeGe",
        "outputId": "7d61c3b9-7ccd-48fc-cdcc-90e355389cb5",
        "colab": {
          "base_uri": "https://localhost:8080/",
          "height": 544
        }
      },
      "outputs": [
        {
          "output_type": "display_data",
          "data": {
            "text/plain": [
              "     ┌───┐┌───┐┌─┐ ┌───┐ ┌─┐\n",
              "  q: ┤ X ├┤ H ├┤M├─┤ H ├─┤M├\n",
              "     └───┘└───┘└╥┘ └─╥─┘ └╥┘\n",
              "                ║ ┌──╨──┐ ║ \n",
              "c: 1/═══════════╩═╡ 0x0 ╞═╩═\n",
              "                0 └─────┘ 0 "
            ],
            "text/html": [
              "<pre style=\"word-wrap: normal;white-space: pre;background: #fff0;line-height: 1.1;font-family: &quot;Courier New&quot;,Courier,monospace\">     ┌───┐┌───┐┌─┐ ┌───┐ ┌─┐\n",
              "  q: ┤ X ├┤ H ├┤M├─┤ H ├─┤M├\n",
              "     └───┘└───┘└╥┘ └─╥─┘ └╥┘\n",
              "                ║ ┌──╨──┐ ║ \n",
              "c: 1/═══════════╩═╡ 0x0 ╞═╩═\n",
              "                0 └─────┘ 0 </pre>"
            ]
          },
          "metadata": {}
        },
        {
          "output_type": "stream",
          "name": "stdout",
          "text": [
            "{'0': 272, '1': 728}\n"
          ]
        },
        {
          "output_type": "execute_result",
          "data": {
            "text/plain": [
              "<Figure size 640x480 with 1 Axes>"
            ],
            "image/png": "[encoded data removed]"
          },
          "metadata": {},
          "execution_count": 4
        }
      ],
      "source": [
        "# import all necessary objects and methods for quantum circuits\n",
        "from qiskit import QuantumRegister, ClassicalRegister, QuantumCircuit, transpile\n",
        "from qiskit.visualization import plot_histogram\n",
        "from qiskit.providers.basic_provider import BasicProvider\n",
        "\n",
        "\n",
        "\n",
        "#\n",
        "# your code is here\n",
        "#\n",
        "q = QuantumRegister(1, \"q\")\n",
        "c = ClassicalRegister(1, \"c\")\n",
        "qc = QuantumCircuit(q,c)\n",
        "\n",
        "qc.x(q[0])\n",
        "qc.h(q[0])\n",
        "qc.measure(q,c)\n",
        "qc.h(q[0]).c_if(c,0)\n",
        "qc.measure(q[0],c)\n",
        "display(qc.draw())\n",
        "\n",
        "#Running the circuit\n",
        "backend = BasicProvider().get_backend('basic_simulator')\n",
        "qc_transpiled = transpile(qc, backend)\n",
        "job = backend.run(qc_transpiled, shots = 1000)\n",
        "result = job.result()\n",
        "counts = result.get_counts(qc)\n",
        "print(counts)\n",
        "plot_histogram(counts)\n"
      ]
    },
    {
      "cell_type": "markdown",
      "metadata": {
        "id": "DSEqqT8iAeGe"
      },
      "source": [
        "To check out our solution, run the next cell:"
      ]
    },
    {
      "cell_type": "code",
      "execution_count": null,
      "metadata": {
        "id": "_phCk6tbAeGe"
      },
      "outputs": [],
      "source": [
        "SolutionToTask3()  # show solution for task 3"
      ]
    },
    {
      "cell_type": "markdown",
      "metadata": {
        "id": "QEhP-zqlAeGe"
      },
      "source": [
        "<h3> Task 4 </h3>\n",
        "\n",
        "Design the following quantum circuit.\n",
        "\n",
        "Start in state $ \\ket{0} $.\n",
        "\n",
        "    Repeat 3 times:\n",
        "        if the classical bit is 0:\n",
        "            apply a Hadamard operator\n",
        "        make a measurement\n",
        "\n",
        "Execute your circuit 1000 times.\n",
        "\n",
        "Calculate the expected values of observing '0' and '1', and then compare your result with the simulator result."
      ]
    },
    {
      "cell_type": "code",
      "execution_count": 10,
      "metadata": {
        "id": "QjeLSjQ8AeGe",
        "outputId": "1a162323-042f-49f2-d51c-1f9285402d41",
        "colab": {
          "base_uri": "https://localhost:8080/",
          "height": 539
        }
      },
      "outputs": [
        {
          "output_type": "display_data",
          "data": {
            "text/plain": [
              "     ┌─┐ ┌───┐ ┌─┐ ┌───┐ ┌─┐ ┌───┐ ┌─┐\n",
              "  q: ┤M├─┤ H ├─┤M├─┤ H ├─┤M├─┤ H ├─┤M├\n",
              "     └╥┘ └─╥─┘ └╥┘ └─╥─┘ └╥┘ └─╥─┘ └╥┘\n",
              "      ║ ┌──╨──┐ ║ ┌──╨──┐ ║ ┌──╨──┐ ║ \n",
              "c: 1/═╩═╡ 0x0 ╞═╩═╡ 0x0 ╞═╩═╡ 0x0 ╞═╩═\n",
              "      0 └─────┘ 0 └─────┘ 0 └─────┘ 0 "
            ],
            "text/html": [
              "<pre style=\"word-wrap: normal;white-space: pre;background: #fff0;line-height: 1.1;font-family: &quot;Courier New&quot;,Courier,monospace\">     ┌─┐ ┌───┐ ┌─┐ ┌───┐ ┌─┐ ┌───┐ ┌─┐\n",
              "  q: ┤M├─┤ H ├─┤M├─┤ H ├─┤M├─┤ H ├─┤M├\n",
              "     └╥┘ └─╥─┘ └╥┘ └─╥─┘ └╥┘ └─╥─┘ └╥┘\n",
              "      ║ ┌──╨──┐ ║ ┌──╨──┐ ║ ┌──╨──┐ ║ \n",
              "c: 1/═╩═╡ 0x0 ╞═╩═╡ 0x0 ╞═╩═╡ 0x0 ╞═╩═\n",
              "      0 └─────┘ 0 └─────┘ 0 └─────┘ 0 </pre>"
            ]
          },
          "metadata": {}
        },
        {
          "output_type": "stream",
          "name": "stdout",
          "text": [
            "{'1': 873, '0': 127}\n"
          ]
        },
        {
          "output_type": "execute_result",
          "data": {
            "text/plain": [
              "<Figure size 640x480 with 1 Axes>"
            ],
            "image/png": "[encoded data removed]"
          },
          "metadata": {},
          "execution_count": 10
        }
      ],
      "source": [
        "# import all necessary objects and methods for quantum circuits\n",
        "from qiskit import QuantumRegister, ClassicalRegister, QuantumCircuit, transpile\n",
        "from qiskit.visualization import plot_histogram\n",
        "from qiskit.providers.basic_provider import BasicProvider\n",
        "\n",
        "#\n",
        "# your code is here\n",
        "#\n",
        "\n",
        "q = QuantumRegister(1, \"q\")\n",
        "c = ClassicalRegister(1, \"c\")\n",
        "qc = QuantumCircuit(q,c)\n",
        "\n",
        "qc.measure(q,c)\n",
        "for i in range(3):\n",
        "  qc.h(q[0]).c_if(c,0)\n",
        "  qc.measure(q[0],c)\n",
        "display(qc.draw())\n",
        "\n",
        "#Running the circuit\n",
        "backend = BasicProvider().get_backend('basic_simulator')\n",
        "qc_transpiled = transpile(qc, backend)\n",
        "job = backend.run(qc_transpiled, shots = 1000)\n",
        "result = job.result()\n",
        "counts = result.get_counts(qc)\n",
        "print(counts)\n",
        "plot_histogram(counts)"
      ]
    },
    {
      "cell_type": "markdown",
      "metadata": {
        "id": "foXK3HsAAeGf"
      },
      "source": [
        "To check out our solution, run the next cell:"
      ]
    },
    {
      "cell_type": "code",
      "execution_count": 7,
      "metadata": {
        "id": "TADXTxCNAeGf",
        "outputId": "5e8b72a1-57f0-4d3e-e0b8-ac576f249fbb",
        "colab": {
          "base_uri": "https://localhost:8080/",
          "height": 17
        }
      },
      "outputs": [
        {
          "output_type": "display_data",
          "data": {
            "text/plain": [
              "<IPython.core.display.Javascript object>"
            ],
            "application/javascript": [
              "window.open(\"https://colab.research.google.com/drive/1r9baG8GzInmlSkNWAqq7xbrjt300g-nJ?usp=sharing#scrollTo=DnAV7iGg_m1O\");"
            ]
          },
          "metadata": {}
        }
      ],
      "source": [
        "SolutionToTask4()  # show solution for task 4"
      ]
    },
    {
      "cell_type": "markdown",
      "metadata": {
        "id": "QsUk0JV9AeGf"
      },
      "source": [
        "---\n",
        "\n",
        "<h3> Extra: Task 5 </h3>\n",
        "\n",
        "Design the following randomly created quantum circuit.\n",
        "\n",
        "Start in state $ \\ket{0} $.\n",
        "\n",
        "    apply a Hadamard operator\n",
        "    make a measurement\n",
        "    REPEAT 4 times:\n",
        "        randomly pick x in {0,1}\n",
        "        if the classical bit is x:\n",
        "            apply a Hadamard operator\n",
        "        make a measurement\n",
        "        \n",
        "Draw your circuit, and guess the expected frequency of observing '0' and '1' if the circuit is executed 10000 times.\n",
        "\n",
        "Then, execute your circuit 10000 times, and compare your result with the simulator result.\n",
        "\n",
        "Repeat execution a few more times."
      ]
    },
    {
      "cell_type": "code",
      "execution_count": 13,
      "metadata": {
        "id": "rl4j0hkwAeGf",
        "outputId": "ed80c565-69d3-4772-ec5c-9e1e37fcade7",
        "colab": {
          "base_uri": "https://localhost:8080/",
          "height": 551
        }
      },
      "outputs": [
        {
          "output_type": "stream",
          "name": "stdout",
          "text": [
            "     ┌───┐┌─┐ ┌───┐ ┌─┐ ┌───┐ ┌─┐ ┌───┐ ┌─┐ ┌───┐ ┌─┐\n",
            "  q: ┤ H ├┤M├─┤ H ├─┤M├─┤ H ├─┤M├─┤ H ├─┤M├─┤ H ├─┤M├\n",
            "     └───┘└╥┘ └─╥─┘ └╥┘ └─╥─┘ └╥┘ └─╥─┘ └╥┘ └─╥─┘ └╥┘\n",
            "           ║ ┌──╨──┐ ║ ┌──╨──┐ ║ ┌──╨──┐ ║ ┌──╨──┐ ║ \n",
            "c: 1/══════╩═╡ 0x1 ╞═╩═╡ 0x1 ╞═╩═╡ 0x1 ╞═╩═╡ 0x0 ╞═╩═\n",
            "           0 └─────┘ 0 └─────┘ 0 └─────┘ 0 └─────┘ 0 \n",
            "{'0': 467, '1': 533}\n"
          ]
        },
        {
          "output_type": "execute_result",
          "data": {
            "text/plain": [
              "<Figure size 640x480 with 1 Axes>"
            ],
            "image/png": "[encoded data removed]"
          },
          "metadata": {},
          "execution_count": 13
        }
      ],
      "source": [
        "# import all necessary objects and methods for quantum circuits\n",
        "from qiskit import QuantumRegister, ClassicalRegister, QuantumCircuit, transpile\n",
        "from qiskit.visualization import plot_histogram\n",
        "from qiskit.providers.basic_provider import BasicProvider\n",
        "from random import randrange\n",
        "\n",
        "#\n",
        "# your code is here\n",
        "#\n",
        "\n",
        "q = QuantumRegister(1, \"q\")\n",
        "c = ClassicalRegister(1, \"c\")\n",
        "qc_new = QuantumCircuit(q, c)\n",
        "\n",
        "shots = 10000\n",
        "\n",
        "observe = [0, 0]\n",
        "\n",
        "qc_new.h(q[0])\n",
        "qc_new.measure(q, c)\n",
        "observe = [shots / 2, shots / 2]\n",
        "\n",
        "for i in range(4):\n",
        "    x = randrange(2)\n",
        "    if x == 0:\n",
        "        observe[0] = observe[0] / 2\n",
        "        observe[1] = observe[1] + observe[0]\n",
        "    else:\n",
        "        observe[1] = observe[1] / 2\n",
        "        observe[0] = observe[0] + observe[1]\n",
        "    qc_new.h(q[0]).c_if(c, x)\n",
        "    qc_new.measure(q, c)\n",
        "\n",
        "# draw the circuit\n",
        "print(qc_new.draw())\n",
        "\n",
        "# Running the circuit\n",
        "backend = BasicProvider().get_backend('basic_simulator')\n",
        "qc_transpiled = transpile(qc_new, backend)\n",
        "job = backend.run(qc_transpiled, shots=1000)\n",
        "result = job.result()\n",
        "counts = result.get_counts(qc_new)\n",
        "print(counts)\n",
        "plot_histogram(counts)\n"
      ]
    },
    {
      "cell_type": "markdown",
      "metadata": {
        "id": "RiiQx9PBAeGf"
      },
      "source": [
        "To check out our solution, run the next cell:"
      ]
    },
    {
      "cell_type": "code",
      "execution_count": null,
      "metadata": {
        "id": "a1wJG4VgAeGf"
      },
      "outputs": [],
      "source": [
        "SolutionToTask5()  # show solution for task 5"
      ]
    }
  ],
  "metadata": {
    "kernelspec": {
      "display_name": "Python 3 (ipykernel)",
      "language": "python",
      "name": "python3"
    },
    "language_info": {
      "codemirror_mode": {
        "name": "ipython",
        "version": 3
      },
      "file_extension": ".py",
      "mimetype": "text/x-python",
      "name": "python",
      "nbconvert_exporter": "python",
      "pygments_lexer": "ipython3",
      "version": "3.11.4"
    },
    "colab": {
      "provenance": [],
      "collapsed_sections": [
        "bwNhlQXWAeGa"
      ]
    }
  },
  "nbformat": 4,
  "nbformat_minor": 0
}