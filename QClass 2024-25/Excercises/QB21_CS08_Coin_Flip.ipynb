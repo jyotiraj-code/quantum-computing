{
  "cells": [
    {
      "cell_type": "markdown",
      "metadata": {
        "id": "6hcPfKFETmxz"
      },
      "source": [
        "<a href=\"https://qworld.net\" target=\"_blank\" align=\"left\"><img src=\"https://gitlab.com/qworld/qeducation/qbook101/raw/main/qworld/images/header.jpg\" align=\"left\"></a>\n",
        "$ \\newcommand{\\bra}[1]{\\langle #1|} $\n",
        "$ \\newcommand{\\ket}[1]{|#1\\rangle} $\n",
        "$ \\newcommand{\\braket}[2]{\\langle #1|#2\\rangle} $\n",
        "$ \\newcommand{\\dot}[2]{ #1 \\cdot #2} $\n",
        "$ \\newcommand{\\biginner}[2]{\\left\\langle #1,#2\\right\\rangle} $\n",
        "$ \\newcommand{\\mymatrix}[2]{\\left( \\begin{array}{#1} #2\\end{array} \\right)} $\n",
        "$ \\newcommand{\\myvector}[1]{\\mymatrix{c}{#1}} $\n",
        "$ \\newcommand{\\myrvector}[1]{\\mymatrix{r}{#1}} $\n",
        "$ \\newcommand{\\mypar}[1]{\\left( #1 \\right)} $\n",
        "$ \\newcommand{\\mybigpar}[1]{ \\Big( #1 \\Big)} $\n",
        "$ \\newcommand{\\sqrttwo}{\\frac{1}{\\sqrt{2}}} $\n",
        "$ \\newcommand{\\dsqrttwo}{\\dfrac{1}{\\sqrt{2}}} $\n",
        "$ \\newcommand{\\onehalf}{\\frac{1}{2}} $\n",
        "$ \\newcommand{\\donehalf}{\\dfrac{1}{2}} $\n",
        "$ \\newcommand{\\hadamard}{ \\mymatrix{rr}{ \\sqrttwo & \\sqrttwo \\\\ \\sqrttwo & -\\sqrttwo }} $\n",
        "$ \\newcommand{\\vzero}{\\myvector{1\\\\0}} $\n",
        "$ \\newcommand{\\vone}{\\myvector{0\\\\1}} $\n",
        "$ \\newcommand{\\stateplus}{\\myvector{ \\sqrttwo \\\\  \\sqrttwo } } $\n",
        "$ \\newcommand{\\stateminus}{ \\myrvector{ \\sqrttwo \\\\ -\\sqrttwo } } $\n",
        "$ \\newcommand{\\myarray}[2]{ \\begin{array}{#1}#2\\end{array}} $\n",
        "$ \\newcommand{\\X}{ \\mymatrix{cc}{0 & 1 \\\\ 1 & 0}  } $\n",
        "$ \\newcommand{\\I}{ \\mymatrix{rr}{1 & 0 \\\\ 0 & 1}  } $\n",
        "$ \\newcommand{\\Z}{ \\mymatrix{rr}{1 & 0 \\\\ 0 & -1}  } $\n",
        "$ \\newcommand{\\Htwo}{ \\mymatrix{rrrr}{ \\frac{1}{2} & \\frac{1}{2} & \\frac{1}{2} & \\frac{1}{2} \\\\ \\frac{1}{2} & -\\frac{1}{2} & \\frac{1}{2} & -\\frac{1}{2} \\\\ \\frac{1}{2} & \\frac{1}{2} & -\\frac{1}{2} & -\\frac{1}{2} \\\\ \\frac{1}{2} & -\\frac{1}{2} & -\\frac{1}{2} & \\frac{1}{2} } } $\n",
        "$ \\newcommand{\\CNOT}{ \\mymatrix{cccc}{1 & 0 & 0 & 0 \\\\ 0 & 1 & 0 & 0 \\\\ 0 & 0 & 0 & 1 \\\\ 0 & 0 & 1 & 0} } $\n",
        "$ \\newcommand{\\norm}[1]{ \\left\\lVert #1 \\right\\rVert } $\n",
        "$ \\newcommand{\\pstate}[1]{ \\lceil \\mspace{-1mu} #1 \\mspace{-1.5mu} \\rfloor } $\n",
        "$ \\newcommand{\\greenbit}[1] {\\mathbf{{\\color{green}#1}}} $\n",
        "$ \\newcommand{\\bluebit}[1] {\\mathbf{{\\color{blue}#1}}} $\n",
        "$ \\newcommand{\\redbit}[1] {\\mathbf{{\\color{red}#1}}} $\n",
        "$ \\newcommand{\\brownbit}[1] {\\mathbf{{\\color{brown}#1}}} $\n",
        "$ \\newcommand{\\blackbit}[1] {\\mathbf{{\\color{black}#1}}} $"
      ]
    },
    {
      "cell_type": "markdown",
      "metadata": {
        "id": "VtTuUg8HTmx2"
      },
      "source": [
        "_prepared by Abuzer Yakaryilmaz_"
      ]
    },
    {
      "cell_type": "markdown",
      "metadata": {
        "id": "D_pB3M7wTmx2"
      },
      "source": [
        "<font size=\"28px\" style=\"font-size:28px;\" align=\"left\"><b>Coin Flip: A Probabilistic Bit </b></font>\n",
        "<br>\n",
        "<br><br>\n",
        "[<img src=\"https://gitlab.com/qworld/qeducation/qbook101/raw/main/qworld/images/watch_lecture.jpg\" align=\"left\">](https://youtu.be/uGKHEsVcSEs)\n",
        "<br><br><br>"
      ]
    },
    {
      "cell_type": "markdown",
      "metadata": {
        "id": "6jJnU0ecTmx3",
        "jp-MarkdownHeadingCollapsed": true
      },
      "source": [
        "##### <font color=\"#08b806\">Please execute the following cell, it is necessary to distinguish between your local environment and Google Colab's"
      ]
    },
    {
      "cell_type": "code",
      "execution_count": null,
      "metadata": {},
      "outputs": [
        {
          "ename": "",
          "evalue": "",
          "output_type": "error",
          "traceback": [
            "\u001b[1;31mRunning cells with 'miniconda3 (Python 3.12.4)' requires the ipykernel package.\n",
            "\u001b[1;31mRun the following command to install 'ipykernel' into the Python environment. \n",
            "\u001b[1;31mCommand: 'conda install -p c:\\Users\\jrnat\\miniconda3 ipykernel --update-deps --force-reinstall'"
          ]
        }
      ],
      "source": [
        "!conda env list"
      ]
    },
    {
      "cell_type": "code",
      "execution_count": 1,
      "metadata": {
        "id": "vP2qFTxmTmx3"
      },
      "outputs": [],
      "source": [
        "import IPython\n",
        "\n",
        "def in_colab():\n",
        "    try:\n",
        "        import google.colab\n",
        "        return True\n",
        "    except:\n",
        "        return False\n",
        "\n",
        "SolutionToTask1 = lambda: IPython.display.display(IPython.display.Javascript('window.open(\"{url}\");'.format(url='https://colab.research.google.com/drive/1yPXraqS3wnaw0qn4cajWsWA7wYlDG6xd?usp=sharing#scrollTo=xvaIxSaCOEak' if in_colab() else 'QB21_CS08_Coin_Flip_Solutions.ipynb#task1')))\n",
        "SolutionToTask2 = lambda: IPython.display.display(IPython.display.Javascript('window.open(\"{url}\");'.format(url='https://colab.research.google.com/drive/1yPXraqS3wnaw0qn4cajWsWA7wYlDG6xd?usp=sharing#scrollTo=cSgcrVgDOEam' if in_colab() else 'QB21_CS08_Coin_Flip_Solutions.ipynb#task2')))\n",
        "SolutionToTask3 = lambda: IPython.display.display(IPython.display.Javascript('window.open(\"{url}\");'.format(url='https://colab.research.google.com/drive/1yPXraqS3wnaw0qn4cajWsWA7wYlDG6xd?usp=sharing#scrollTo=QybWUMGROEan' if in_colab() else 'QB21_CS08_Coin_Flip_Solutions.ipynb#task3')))\n",
        "SolutionToTask4 = lambda: IPython.display.display(IPython.display.Javascript('window.open(\"{url}\");'.format(url='https://colab.research.google.com/drive/1yPXraqS3wnaw0qn4cajWsWA7wYlDG6xd?usp=sharing#scrollTo=clxQVSv6OEan' if in_colab() else 'QB21_CS08_Coin_Flip_Solutions.ipynb#task4')))"
      ]
    },
    {
      "cell_type": "markdown",
      "metadata": {
        "id": "u7f7MgkPTmx4"
      },
      "source": [
        "### A fair coin\n",
        "\n",
        "A coin has two sides: <i>Heads</i> and <i>Tails</i>.\n",
        "\n",
        "After flipping a coin, we get either Heads or Tails. We can represent these two different cases by a single bit:\n",
        "<ul>\n",
        "    <li> 0 represents Heads </li>\n",
        "    <li> 1 represents Tails </li>\n",
        "</ul>"
      ]
    },
    {
      "cell_type": "markdown",
      "metadata": {
        "id": "929MkD0CTmx4"
      },
      "source": [
        "<h3> Flipping a fair coin </h3>\n",
        "\n",
        "If our coin is fair, then the probabilities of getting Heads and Tails are equal:\n",
        "\n",
        "$ p= \\dfrac{1}{2} = 0.5 $.\n",
        "\n",
        "Flipping a fair coin can be represented as an operator:\n",
        "\n",
        "- $ FairCoin(Heads) = \\frac{1}{2} Heads + \\frac{1}{2}Tails $\n",
        "- $ FairCoin(Tails) \\mspace{10mu} = \\frac{1}{2} Heads + \\frac{1}{2}Tails $\n",
        "\n",
        "Here is its table representation:\n",
        "\n",
        "$\n",
        "FairCoin = \\begin{array}{c|cc} \\hookleftarrow & \\mathbf{Heads} & \\mathbf{Tails} \\\\ \\hline \\mathbf{Heads} & \\dfrac{1}{2} & \\dfrac{1}{2} \\\\  \\mathbf{Tails} & \\dfrac{1}{2} & \\dfrac{1}{2}  \\end{array}\n",
        "$\n",
        "\n",
        "Here is the same table by using 0 and 1 as the states:\n",
        "\n",
        "$\n",
        "FairCoin = \\begin{array}{c|cc} \\hookleftarrow & \\mathbf{0} & \\mathbf{1} \\\\ \\hline \\mathbf{0} & \\dfrac{1}{2} & \\dfrac{1}{2} \\\\  \\mathbf{1} & \\dfrac{1}{2} & \\dfrac{1}{2}  \\end{array}\n",
        "$"
      ]
    },
    {
      "cell_type": "markdown",
      "metadata": {
        "id": "q0BjqCdkTmx4"
      },
      "source": [
        "<h3> Task 1: Simulating FairCoin in Python</h3>\n",
        "\n",
        "Flip a fair coin 100 times. Calculate the total number of heads and tails, and then check the ratio of the number of heads and the number of tails.\n",
        "\n",
        "Do the same experiment 1000 times.\n",
        "\n",
        "Do the same experiment 10,000 times.\n",
        "\n",
        "Do the same experiment 100,000 times.\n",
        "\n",
        "Do your results get close to the ideal case (the numbers of heads and tails are equal)?"
      ]
    },
    {
      "cell_type": "code",
      "execution_count": 5,
      "metadata": {
        "colab": {
          "base_uri": "https://localhost:8080/"
        },
        "id": "_GGkY_B3Tmx5",
        "outputId": "83a9c725-a8d4-44dd-ab8d-638b6ddb594f"
      },
      "outputs": [
        {
          "name": "stdout",
          "output_type": "stream",
          "text": [
            "\n",
            "Probability 0.7857142857142857\n",
            "\n",
            "Probability 1.0576131687242798\n",
            "\n",
            "Probability 0.9924287706714485\n",
            "\n",
            "Probability 0.9984012789768185\n"
          ]
        }
      ],
      "source": [
        "from random import randrange\n",
        "#\n",
        "# you may use method 'randrange' for this task\n",
        "# randrange(n) returns a value from {0,1,...,n-1} randomly\n",
        "#\n",
        "\n",
        "#\n",
        "# your solution is here\n",
        "#\n",
        "def toss_and_learn(number):\n",
        "  heads = 0\n",
        "  tails = 0\n",
        "  for i in range(number):\n",
        "    if randrange(2) == 0:\n",
        "      heads += 1\n",
        "    else:\n",
        "      tails += 1\n",
        "  print()\n",
        "  return heads/tails\n",
        "\n",
        "print(\"Probability\", toss_and_learn(100))\n",
        "print(\"Probability\", toss_and_learn(1000))\n",
        "print(\"Probability\", toss_and_learn(10000))\n",
        "print(\"Probability\", toss_and_learn(100000))\n",
        "\n",
        "\n"
      ]
    },
    {
      "cell_type": "markdown",
      "metadata": {
        "id": "nW_oxk4mTmx5"
      },
      "source": [
        "To check out our solution, run the next cell:"
      ]
    },
    {
      "cell_type": "code",
      "execution_count": null,
      "metadata": {
        "id": "QHixwHTKTmx5"
      },
      "outputs": [],
      "source": [
        "SolutionToTask1()  # show solution for task 1"
      ]
    },
    {
      "cell_type": "markdown",
      "metadata": {
        "id": "nkz4EZ73Tmx5"
      },
      "source": [
        "<h3> Flipping a biased coin </h3>\n",
        "\n",
        "Our coin may have a bias.\n",
        "\n",
        "For example, the probability of getting heads is greater than the probability of getting tails.\n",
        "\n",
        "Here is an example:\n",
        "\n",
        "$\n",
        "BiasedCoin = \\begin{array}{c|cc} \\hookleftarrow & \\mathbf{Heads} & \\mathbf{Tails} \\\\ \\hline \\mathbf{Heads} & 0.6 & 0.6 \\\\  \\mathbf{Tails} & 0.4 & 0.4  \\end{array}\n",
        "$\n",
        "\n",
        "By using 0 and 1 as the states:\n",
        "\n",
        "$\n",
        "BiasedCoin = \\begin{array}{c|cc} \\hookleftarrow & \\mathbf{0} & \\mathbf{1} \\\\ \\hline \\mathbf{0} & 0.6 & 0.6\\\\  \\mathbf{1} & 0.4 & 0.4 \\end{array}\n",
        "$"
      ]
    },
    {
      "cell_type": "markdown",
      "metadata": {
        "id": "bOS-jWUcTmx5"
      },
      "source": [
        "<h3> Task 2: Simulating BiasedCoin in Python</h3>\n",
        "\n",
        "Flip the following biased coin 100 times. Calculate the total numbers of heads and tails, and then check the ratio of the number of heads and the number of tails.\n",
        "\n",
        "$\n",
        "BiasedCoin = \\begin{array}{c|cc} \\hookleftarrow & \\mathbf{Head} & \\mathbf{Tail} \\\\ \\hline \\mathbf{Head} & 0.6 & 0.6 \\\\  \\mathbf{Tail} & 0.4 & 0.4  \\end{array}\n",
        "$\n",
        "\n",
        "\n",
        "Do the same experiment 1000 times.\n",
        "\n",
        "Do the same experiment 10,000 times.\n",
        "\n",
        "Do the same experiment 100,000 times.\n",
        "\n",
        "Do your results get close to the ideal case $ \\mypar{ \\dfrac{\\mbox{\\# of heads}}{\\mbox{\\# of tails}} = \\dfrac{0.6}{0.4} = 1.50000000 } $?"
      ]
    },
    {
      "cell_type": "code",
      "execution_count": 7,
      "metadata": {
        "colab": {
          "base_uri": "https://localhost:8080/"
        },
        "id": "t4HtxcnWTmx5",
        "outputId": "c1419e15-f0d9-49ba-cfdf-76cc3d2a3569"
      },
      "outputs": [
        {
          "name": "stdout",
          "output_type": "stream",
          "text": [
            "\n",
            "Probability 1.380952380952381\n",
            "\n",
            "Probability 1.4154589371980677\n",
            "\n",
            "Probability 1.4801587301587302\n",
            "\n",
            "Probability 1.5153435959352048\n"
          ]
        }
      ],
      "source": [
        "#\n",
        "# you may use method 'randrange' for this task\n",
        "# randrange(n) returns a value from {0,1,...,n-1} randomly\n",
        "#\n",
        "\n",
        "#\n",
        "# your solution is here\n",
        "#\n",
        "def baised_coin(tosses):\n",
        "  heads = 0\n",
        "  tails = 0\n",
        "  for i in range(tosses):\n",
        "    if randrange(100) < 60:\n",
        "      heads += 1\n",
        "    else:\n",
        "      tails += 1\n",
        "  print()\n",
        "  return heads/tails\n",
        "\n",
        "print(\"Probability\", baised_coin(100))\n",
        "print(\"Probability\", baised_coin(1000))\n",
        "print(\"Probability\", baised_coin(10000))\n",
        "print(\"Probability\", baised_coin(100000))"
      ]
    },
    {
      "cell_type": "markdown",
      "metadata": {
        "id": "O2DVjVQgTmx6"
      },
      "source": [
        "To check out our solution, run the next cell:"
      ]
    },
    {
      "cell_type": "code",
      "execution_count": null,
      "metadata": {
        "id": "Qn-Sy5DpTmx6"
      },
      "outputs": [],
      "source": [
        "SolutionToTask2()  # show solution for task 2"
      ]
    },
    {
      "cell_type": "markdown",
      "metadata": {
        "id": "YaSGkntxTmx6"
      },
      "source": [
        "---\n",
        "\n",
        "<h3> Extra: Programming a biased coin </h3>\n",
        "\n",
        "We use a simple method to create a biased coin.\n",
        "\n",
        "First, we pick a range for the precision of probabilities, say $ N $, as $ N = 11, 101, 1001, \\mbox{ or }, 10^k+1 $ for some $ k > 3 $.\n",
        "\n",
        "Second, we pick the bias, say $ B $, as an integer in $ \\{0,\\ldots,N\\} $.\n",
        "\n",
        "We fix $ N $ and $ B $.\n",
        "\n",
        "Third, we pick a random integer in $ \\{0,1,\\ldots,N-1\\} $:\n",
        "\n",
        "- if it is less than $ B $, we output \"Heads\" and\n",
        "- if it is equal to or greater than $ B $, we output \"Tails\"\n",
        "\n",
        "    \n",
        "In this way, we have a biased coin \"landing on\" heads with probability $ \\frac{B}{N} $ including 0 and 1.\n",
        "\n",
        "Remark that we pick $ N = 10^k+1 $ as an odd number. In this way, the coin cannot be fair as long as $ B $ is an integer. Because, the half of an odd integer is not an integer."
      ]
    },
    {
      "cell_type": "markdown",
      "metadata": {
        "id": "ZHg79bgKTmx6"
      },
      "source": [
        "<h3> Task 3 </h3>\n",
        "\n",
        "Write a function to implement the described biased coin,\n",
        "\n",
        "The inputs are integers $N>0$ and $ B \\in \\{0,\\ldots,N\\} $.\n",
        "\n",
        "The output is either \"Heads\" or \"Tails\"."
      ]
    },
    {
      "cell_type": "code",
      "execution_count": 10,
      "metadata": {
        "colab": {
          "base_uri": "https://localhost:8080/"
        },
        "id": "1wEznw9nTmx6",
        "outputId": "bf45bfdf-a253-4b48-da42-74a53d91cd90"
      },
      "outputs": [
        {
          "name": "stdout",
          "output_type": "stream",
          "text": [
            "Tails\n"
          ]
        }
      ],
      "source": [
        "def biased_coin(N,B):\n",
        "    from random import randrange\n",
        "\n",
        "    rand_int = randrange(N)\n",
        "    while (B<=N):\n",
        "\n",
        "      if rand_int < B:\n",
        "        return \"Heads\"\n",
        "      else:\n",
        "        return \"Tails\"\n",
        "\n",
        "\n"
      ]
    },
    {
      "cell_type": "markdown",
      "metadata": {
        "id": "7Q8nGSFbTmx6"
      },
      "source": [
        "To check out our solution, run the next cell:"
      ]
    },
    {
      "cell_type": "code",
      "execution_count": null,
      "metadata": {
        "id": "5uBi6vlWTmx6"
      },
      "outputs": [],
      "source": [
        "SolutionToTask3()  # show solution for task 3"
      ]
    },
    {
      "cell_type": "markdown",
      "metadata": {
        "id": "BlGbMjVuTmx6"
      },
      "source": [
        "<h3> Task 4</h3>\n",
        "\n",
        "We use the biased coin described in Task 3.\n",
        "\n",
        "(You may use the function given <a href=\"CS08_Coin_Flip_Solutions.ipynb#task3\">in the solution</a>.)\n",
        "\n",
        "We pick $ N $ as 101.\n",
        "\n",
        "Our task is to determine the value of $ B $ experimentially without looking its value directly.\n",
        "\n",
        "Flip the (same) biased coin 500 times, collect the statistics, and then guess the bias.\n",
        "\n",
        "Compare your guess with the actual bias by calculating the relative error in percentage (the absolute value of the difference divided by the real bias)."
      ]
    },
    {
      "cell_type": "code",
      "execution_count": 16,
      "metadata": {
        "colab": {
          "base_uri": "https://localhost:8080/"
        },
        "id": "0TSs1M1MTmx6",
        "outputId": "852bed58-be05-454c-ce32-11372674e367"
      },
      "outputs": [
        {
          "name": "stdout",
          "output_type": "stream",
          "text": [
            "Actual Bias (B): 93\n",
            "Estimated Bias: 91.304\n",
            "Relative Error: 1.82%\n"
          ]
        }
      ],
      "source": [
        "from random import randrange\n",
        "import numpy as np\n",
        "\n",
        "# Biased coin function\n",
        "def biased_coin(N, B):\n",
        "    return \"Heads\" if randrange(N) < B else \"Tails\"\n",
        "\n",
        "# Set N and generate a random bias B\n",
        "N = 101\n",
        "B = randrange(N + 1)\n",
        "\n",
        "# Perform 500 flips\n",
        "flips = [biased_coin(N, B) for _ in range(500)]\n",
        "\n",
        "# Estimate B by calculating the proportion of heads\n",
        "count_heads = flips.count(\"Heads\")\n",
        "estimated_B = (count_heads / 500) * N\n",
        "\n",
        "# Calculate the relative error as a percentage\n",
        "actual_bias = B\n",
        "relative_error = np.abs(estimated_B - actual_bias) / actual_bias * 100\n",
        "\n",
        "# Output results\n",
        "print(f\"Actual Bias (B): {actual_bias}\")\n",
        "print(f\"Estimated Bias: {estimated_B}\")\n",
        "print(f\"Relative Error: {relative_error:.2f}%\")\n"
      ]
    },
    {
      "cell_type": "markdown",
      "metadata": {
        "id": "BkFNwHqMTmx6"
      },
      "source": [
        "To check out our solution, run the next cell:"
      ]
    },
    {
      "cell_type": "code",
      "execution_count": null,
      "metadata": {
        "id": "5GOJI-gATmx6"
      },
      "outputs": [],
      "source": [
        "SolutionToTask4()  # show solution for task 4"
      ]
    },
    {
      "cell_type": "code",
      "execution_count": null,
      "metadata": {
        "id": "cHbEmyHgXhjw"
      },
      "outputs": [],
      "source": []
    }
  ],
  "metadata": {
    "colab": {
      "collapsed_sections": [
        "6jJnU0ecTmx3"
      ],
      "provenance": []
    },
    "kernelspec": {
      "display_name": "Python 3",
      "language": "python",
      "name": "python3"
    },
    "language_info": {
      "codemirror_mode": {
        "name": "ipython",
        "version": 3
      },
      "file_extension": ".py",
      "mimetype": "text/x-python",
      "name": "python",
      "nbconvert_exporter": "python",
      "pygments_lexer": "ipython3",
      "version": "3.12.4"
    }
  },
  "nbformat": 4,
  "nbformat_minor": 0
}
