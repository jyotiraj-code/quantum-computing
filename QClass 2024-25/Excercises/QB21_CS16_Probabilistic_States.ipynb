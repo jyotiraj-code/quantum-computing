{
  "cells": [
    {
      "cell_type": "markdown",
      "metadata": {
        "id": "QrtuCXj079UM"
      },
      "source": [
        "<a href=\"https://qworld.net\" target=\"_blank\" align=\"left\"><img src=\"https://gitlab.com/qworld/qeducation/qbook101/raw/main/qworld/images/header.jpg\" align=\"left\"></a>\n",
        "$ \\newcommand{\\bra}[1]{\\langle #1|} $\n",
        "$ \\newcommand{\\ket}[1]{|#1\\rangle} $\n",
        "$ \\newcommand{\\braket}[2]{\\langle #1|#2\\rangle} $\n",
        "$ \\newcommand{\\dot}[2]{ #1 \\cdot #2} $\n",
        "$ \\newcommand{\\biginner}[2]{\\left\\langle #1,#2\\right\\rangle} $\n",
        "$ \\newcommand{\\mymatrix}[2]{\\left( \\begin{array}{#1} #2\\end{array} \\right)} $\n",
        "$ \\newcommand{\\myvector}[1]{\\mymatrix{c}{#1}} $\n",
        "$ \\newcommand{\\myrvector}[1]{\\mymatrix{r}{#1}} $\n",
        "$ \\newcommand{\\mypar}[1]{\\left( #1 \\right)} $\n",
        "$ \\newcommand{\\mybigpar}[1]{ \\Big( #1 \\Big)} $\n",
        "$ \\newcommand{\\sqrttwo}{\\frac{1}{\\sqrt{2}}} $\n",
        "$ \\newcommand{\\dsqrttwo}{\\dfrac{1}{\\sqrt{2}}} $\n",
        "$ \\newcommand{\\onehalf}{\\frac{1}{2}} $\n",
        "$ \\newcommand{\\donehalf}{\\dfrac{1}{2}} $\n",
        "$ \\newcommand{\\hadamard}{ \\mymatrix{rr}{ \\sqrttwo & \\sqrttwo \\\\ \\sqrttwo & -\\sqrttwo }} $\n",
        "$ \\newcommand{\\vzero}{\\myvector{1\\\\0}} $\n",
        "$ \\newcommand{\\vone}{\\myvector{0\\\\1}} $\n",
        "$ \\newcommand{\\stateplus}{\\myvector{ \\sqrttwo \\\\  \\sqrttwo } } $\n",
        "$ \\newcommand{\\stateminus}{ \\myrvector{ \\sqrttwo \\\\ -\\sqrttwo } } $\n",
        "$ \\newcommand{\\myarray}[2]{ \\begin{array}{#1}#2\\end{array}} $\n",
        "$ \\newcommand{\\X}{ \\mymatrix{cc}{0 & 1 \\\\ 1 & 0}  } $\n",
        "$ \\newcommand{\\I}{ \\mymatrix{rr}{1 & 0 \\\\ 0 & 1}  } $\n",
        "$ \\newcommand{\\Z}{ \\mymatrix{rr}{1 & 0 \\\\ 0 & -1}  } $\n",
        "$ \\newcommand{\\Htwo}{ \\mymatrix{rrrr}{ \\frac{1}{2} & \\frac{1}{2} & \\frac{1}{2} & \\frac{1}{2} \\\\ \\frac{1}{2} & -\\frac{1}{2} & \\frac{1}{2} & -\\frac{1}{2} \\\\ \\frac{1}{2} & \\frac{1}{2} & -\\frac{1}{2} & -\\frac{1}{2} \\\\ \\frac{1}{2} & -\\frac{1}{2} & -\\frac{1}{2} & \\frac{1}{2} } } $\n",
        "$ \\newcommand{\\CNOT}{ \\mymatrix{cccc}{1 & 0 & 0 & 0 \\\\ 0 & 1 & 0 & 0 \\\\ 0 & 0 & 0 & 1 \\\\ 0 & 0 & 1 & 0} } $\n",
        "$ \\newcommand{\\norm}[1]{ \\left\\lVert #1 \\right\\rVert } $\n",
        "$ \\newcommand{\\pstate}[1]{ \\lceil \\mspace{-1mu} #1 \\mspace{-1.5mu} \\rfloor } $\n",
        "$ \\newcommand{\\greenbit}[1] {\\mathbf{{\\color{green}#1}}} $\n",
        "$ \\newcommand{\\bluebit}[1] {\\mathbf{{\\color{blue}#1}}} $\n",
        "$ \\newcommand{\\redbit}[1] {\\mathbf{{\\color{red}#1}}} $\n",
        "$ \\newcommand{\\brownbit}[1] {\\mathbf{{\\color{brown}#1}}} $\n",
        "$ \\newcommand{\\blackbit}[1] {\\mathbf{{\\color{black}#1}}} $"
      ]
    },
    {
      "cell_type": "markdown",
      "metadata": {
        "id": "sdePKq3q79UN"
      },
      "source": [
        "_prepared by Abuzer Yakaryilmaz_"
      ]
    },
    {
      "cell_type": "markdown",
      "metadata": {
        "id": "NqAEJwTJ79UN"
      },
      "source": [
        "<font size=\"28px\" style=\"font-size:28px;\" align=\"left\"><b>Probabilistic States  </b></font>\n",
        "<br>\n",
        "<br><br>\n",
        "[<img src=\"https://gitlab.com/qworld/qeducation/qbook101/raw/main/qworld/images/watch_lecture.jpg\" align=\"left\">](https://youtu.be/tJjrF7WgT1g)\n",
        "<br><br><br>"
      ]
    },
    {
      "cell_type": "markdown",
      "metadata": {
        "jp-MarkdownHeadingCollapsed": true,
        "id": "gk3EoQmZ79UO"
      },
      "source": [
        "##### <font color=\"#08b806\">Please execute the following cell, it is necessary to distinguish between your local environment and Google Colab's"
      ]
    },
    {
      "cell_type": "code",
      "execution_count": 2,
      "metadata": {
        "id": "znoqwNPQ79UO"
      },
      "outputs": [],
      "source": [
        "import IPython\n",
        "\n",
        "def in_colab():\n",
        "    try:\n",
        "        import google.colab\n",
        "        return True\n",
        "    except:\n",
        "        return False\n",
        "\n",
        "SolutionToTask2 = lambda: IPython.display.display(IPython.display.Javascript('window.open(\"{url}\");'.format(url='https://colab.research.google.com/drive/1HuRdeRd7CLqmIlgcn0XXwkftLT4VhwW-?usp=sharing#scrollTo=4S3TqLAm7mDn' if in_colab() else 'QB21_CS16_Probabilistic_States_Solutions.ipynb#task2')))\n",
        "SolutionToTask3 = lambda: IPython.display.display(IPython.display.Javascript('window.open(\"{url}\");'.format(url='https://colab.research.google.com/drive/1HuRdeRd7CLqmIlgcn0XXwkftLT4VhwW-?usp=sharing#scrollTo=XYkKdF1B7mDo' if in_colab() else 'QB21_CS16_Probabilistic_States_Solutions.ipynb#task3')))"
      ]
    },
    {
      "cell_type": "markdown",
      "metadata": {
        "id": "LeoaGbEK79UO"
      },
      "source": [
        "##### Suppose that Asja tosses a fair coin secretly.\n",
        "\n",
        "As we do not see the result, our information about the outcome will be probabilistic:\n",
        "\n",
        "$\\rightarrow$ The outcome is heads with probability $0.5$ and the outcome will be tails with probability $0.5$.\n",
        "\n",
        "If the coin has a bias $ \\dfrac{Pr(Head)}{Pr(Tail)} = \\dfrac{3}{1}$, then our information about the outcome will be as follows:\n",
        "\n",
        "$\\rightarrow$  The outcome will be heads with probability $ 0.75 $ and the outcome will be tails with probability $ 0.25 $."
      ]
    },
    {
      "cell_type": "markdown",
      "metadata": {
        "id": "5-AYKAXg79UO"
      },
      "source": [
        "<i><u>Explanation</u>: The probability of getting heads is three times of the probability of getting tails.\n",
        "\n",
        "- _The total probability is 1._\n",
        "- _We divide the whole probability 1 into four parts (three parts are for heads and one part is for tail),_\n",
        "- _one part is $ \\dfrac{1}{4} = 0.25$,_\n",
        "- _and then give three parts for heads ($0.75$) and one part for tails ($0.25$)._\n",
        "\n",
        "</i>"
      ]
    },
    {
      "cell_type": "markdown",
      "metadata": {
        "id": "NP3_i0sD79UO"
      },
      "source": [
        "<h3> Listing probabilities as a column </h3>\n",
        "\n",
        "We have two different outcomes: heads (0) and tails (1).\n",
        "\n",
        "We use a column of size 2 to show the probabilities of getting heads and getting tails.\n",
        "\n",
        "For the fair coin, our information after the coin-flip will be $ \\myvector{0.5 \\\\ 0.5} $.\n",
        "\n",
        "For the biased coin, it will be $ \\myvector{0.75 \\\\ 0.25} $.\n",
        "\n",
        "The first entry shows the probability of getting heads, and the second entry shows the probability of getting tails.\n",
        "\n",
        " $ \\myvector{0.5 \\\\ 0.5} $ and $ \\myvector{0.75 \\\\ 0.25} $ are two examples of 2-dimensional (column) vectors."
      ]
    },
    {
      "cell_type": "markdown",
      "metadata": {
        "id": "QyT_oKKg79UP"
      },
      "source": [
        "<h3> Task 1 </h3>\n",
        "\n",
        "Suppose that Balvis secretly flips a coin having the bias $ \\dfrac{Pr(Heads)}{Pr(Tails)} = \\dfrac{1}{4}$.\n",
        "\n",
        "Represent your information about the outcome as a column vector."
      ]
    },
    {
      "cell_type": "markdown",
      "metadata": {
        "id": "0s0k-sWZ79UP"
      },
      "source": [
        "<h3> Task 2 </h3>\n",
        "\n",
        "Suppose that Fyodor secretly rolls a loaded (tricky) dice with the bias\n",
        "\n",
        "$$ Pr(1):Pr(2):Pr(3):Pr(4):Pr(5):Pr(6) = 7:5:4:2:6:1 . $$\n",
        "\n",
        "Represent your information about the result as a column vector. Remark that the size of your column vector should be 6.\n",
        "\n",
        "You may use python for your calculations."
      ]
    },
    {
      "cell_type": "code",
      "execution_count": 8,
      "metadata": {
        "id": "N_JzXDfr79UP",
        "outputId": "82a1c1b5-6eb2-414b-a647-25a7f736e015",
        "colab": {
          "base_uri": "https://localhost:8080/"
        }
      },
      "outputs": [
        {
          "output_type": "stream",
          "name": "stdout",
          "text": [
            "Sum of biases:  25\n",
            "Probability of getting 1 is: 0.28\n",
            "Probability of getting 2 is: 0.2\n",
            "Probability of getting 3 is: 0.16\n",
            "Probability of getting 4 is: 0.08\n",
            "Probability of getting 5 is: 0.24\n",
            "Probability of getting 6 is: 0.04\n"
          ]
        }
      ],
      "source": [
        "list_bias = [7, 5, 4, 2, 6, 1]\n",
        "list_probs = []\n",
        "sum_probs = sum(list_bias)\n",
        "print(\"Sum of biases: \", sum_probs)\n",
        "\n",
        "for i in range(len(list_bias)):\n",
        "    list_probs.append(list_bias[i] / sum_probs)\n",
        "\n",
        "for i in range(len(list_bias)):\n",
        "    print(f\"Probability of getting {i + 1} is: {list_probs[i]}\")\n"
      ]
    },
    {
      "cell_type": "markdown",
      "metadata": {
        "id": "xTodbNmn79UP"
      },
      "source": [
        "To check out our solution, run the next cell:"
      ]
    },
    {
      "cell_type": "code",
      "execution_count": 7,
      "metadata": {
        "id": "i5MqDtnx79UP",
        "outputId": "cc745cc2-f9ee-472e-8acf-c1676eca996c",
        "colab": {
          "base_uri": "https://localhost:8080/",
          "height": 17
        }
      },
      "outputs": [
        {
          "output_type": "display_data",
          "data": {
            "text/plain": [
              "<IPython.core.display.Javascript object>"
            ],
            "application/javascript": [
              "window.open(\"https://colab.research.google.com/drive/1HuRdeRd7CLqmIlgcn0XXwkftLT4VhwW-?usp=sharing#scrollTo=4S3TqLAm7mDn\");"
            ]
          },
          "metadata": {}
        }
      ],
      "source": [
        "SolutionToTask2()  # show solution for task 2"
      ]
    },
    {
      "cell_type": "markdown",
      "metadata": {
        "id": "bkNnajcD79UP"
      },
      "source": [
        "<h3> Vector representation </h3>\n",
        "\n",
        "Suppose that we have a system with 4 distiguishable states: $ s_1 $, $s_2 $, $s_3$, and $s_4$.  \n",
        "\n",
        "We expect the system to be in one of them at any moment.\n",
        "\n",
        "By speaking with probabilities, we say that the system is in one of the states with probability 1, and in any other state with probability 0.\n",
        "\n",
        "By using our column representation, we can show each state as a column vector (by using the vectors in standard basis of $ \\mathbb{R}^4 $):\n",
        "\n",
        "$\n",
        "    e_1 = \\myvector{1\\\\ 0 \\\\ 0 \\\\ 0}, e_2 = \\myvector{0 \\\\ 1 \\\\ 0 \\\\ 0}, e_3 = \\myvector{0 \\\\ 0 \\\\ 1 \\\\ 0},\n",
        "    \\mbox{ and } e_4 = \\myvector{0 \\\\ 0 \\\\ 0 \\\\ 1}.\n",
        "$"
      ]
    },
    {
      "cell_type": "markdown",
      "metadata": {
        "id": "gPyC0sZe79UP"
      },
      "source": [
        "This representation helps us to represent our information on a system when it is in more than one state with certain probabilities.\n",
        "\n",
        "Remember the case in which the coins are tossed secretly.\n",
        "\n",
        "For example, suppose that the system is in states $ s_1 $, $ s_2 $, $ s_3 $, and $ s_4 $ with probabilities $ 0.20 $, $ 0.25 $, $ 0.40 $, and $ 0.15 $, respectively.\n",
        "\n",
        "(<i>The total probability must be 1, i.e., $ 0.20+0.25+0.40+0.15 = 1.00 $</i>)\n",
        "\n",
        "Then, we can say that the system is in the following probabilistic state:\n",
        "\n",
        "$ 0.20 \\cdot e_1 + 0.25 \\cdot e_2 + 0.40 \\cdot e_3 + 0.15 \\cdot e_4 $\n",
        "\n",
        "$ =  0.20 \\cdot \\myvector{1\\\\ 0 \\\\ 0 \\\\ 0} + 0.25 \\cdot \\myvector{0\\\\ 1 \\\\ 0 \\\\ 0} + 0.40 \\cdot \\myvector{0\\\\ 0 \\\\ 1 \\\\ 0} + 0.15 \\cdot  \\myvector{0\\\\ 0 \\\\ 0 \\\\ 1}  $\n",
        "\n",
        "$ = \\myvector{0.20\\\\ 0 \\\\ 0 \\\\ 0} +   \\myvector{0\\\\ 0.25 \\\\ 0 \\\\ 0} +  \\myvector{0\\\\ 0 \\\\0.40 \\\\ 0} +  \\myvector{0\\\\ 0 \\\\ 0 \\\\ 0.15 } = \\myvector{ 0.20 \\\\ 0.25 \\\\ 0.40 \\\\ 0.15 }, $\n",
        "\n",
        "where the summation of entries must be 1."
      ]
    },
    {
      "cell_type": "markdown",
      "metadata": {
        "id": "XIBlFBVF79UQ"
      },
      "source": [
        "<h3> Probabilistic state </h3>\n",
        "\n",
        "A probabilistic state is a linear combination of the vectors in the standard basis.\n",
        "    \n",
        "Here coefficients (scalars) must satisfy certain properties:\n",
        "<ol>\n",
        "    <li> Each coefficient is non-negative </li>\n",
        "    <li> The summation of coefficients is 1 </li>\n",
        "</ol>\n",
        "\n",
        "\n",
        "Alternatively, we can say that a probabilistic state is a probability distribution over deterministic states.\n",
        "\n",
        "We can show all information as a single mathematical object, which is called as a stochastic vector.\n",
        "\n",
        "<i> Remark that the state of any linear system is a linear combination of the vectors in the basis. </i>"
      ]
    },
    {
      "cell_type": "markdown",
      "metadata": {
        "id": "hGTDI56879UQ"
      },
      "source": [
        "<h3> Task 3 </h3>\n",
        "\n",
        "For a system with 4 states, randomly create a probabilistic state, and print its entries, e.g., $ 0.16~~0.17~~0.02~~0.65 $.\n",
        "\n",
        "<i>Hint: You may pick your random numbers between 0 and 100 (or 1000), and then normalize each value by dividing the summation of all numbers.</i>"
      ]
    },
    {
      "cell_type": "code",
      "execution_count": 3,
      "metadata": {
        "id": "X0kDgyau79UQ",
        "outputId": "c9a02626-f82f-4ae4-dad3-607852e7670b",
        "colab": {
          "base_uri": "https://localhost:8080/"
        }
      },
      "outputs": [
        {
          "output_type": "stream",
          "name": "stdout",
          "text": [
            "[0.23015873015873015, 0.05555555555555555, 0.373015873015873, 0.3412698412698413]\n",
            "\n",
            "1.0\n"
          ]
        }
      ],
      "source": [
        "state = [0, 0, 0, 0]\n",
        "\n",
        "from random import randrange\n",
        "\n",
        "# Generate random values for each state\n",
        "for i in range(len(state)):\n",
        "    state[i] = randrange(100)\n",
        "\n",
        "# Normalize the values\n",
        "total = sum(state)\n",
        "normalized_state = [x / total for x in state]\n",
        "\n",
        "# Print the normalized state\n",
        "print(normalized_state)\n",
        "\n",
        "# sum = 0\n",
        "# for num in normalized_state:\n",
        "#   sum+= num\n",
        "\n",
        "# print()\n",
        "# print(sum)"
      ]
    },
    {
      "cell_type": "markdown",
      "metadata": {
        "id": "5_u_6e0b79UQ"
      },
      "source": [
        "To check out our solution, run the next cell:"
      ]
    },
    {
      "cell_type": "code",
      "execution_count": null,
      "metadata": {
        "id": "U_lhGyso79UQ"
      },
      "outputs": [],
      "source": [
        "SolutionToTask3()  # show solution for task 3"
      ]
    },
    {
      "cell_type": "markdown",
      "metadata": {
        "id": "q19lzKJ779UQ"
      },
      "source": [
        "<h3> Task 4 [extra] </h3>\n",
        "\n",
        "As given in the hint for Task 3, you may pick your random numbers between 0 and $ 10^k $. For better precision, you may take bigger values of $ k $.\n",
        "\n",
        "Write a function that randomly creates a probabilisitic state of size $ n $ with a precision up to $ k $ digits.\n",
        "\n",
        "Test your function."
      ]
    },
    {
      "cell_type": "code",
      "execution_count": 14,
      "metadata": {
        "id": "bmssoXM679UQ",
        "outputId": "588fd318-ba44-49a4-ec4e-0d2d21053a6d",
        "colab": {
          "base_uri": "https://localhost:8080/",
          "height": 467
        }
      },
      "outputs": [
        {
          "output_type": "stream",
          "name": "stdout",
          "text": [
            "[0.012057386058805826, 0.01258305145182607, 0.015688586906740295, 0.011696310569084415, 0.011669117454626347, 0.006340493777888276, 0.008450515892228576, 0.0028015041677025947, 0.013721686447442457, 0.012424799793250547, 0.0017841136598578924, 0.01233442869106659, 0.017208947802305648, 0.00930004514465919, 0.011313153452585023, 0.010461784064589577, 0.008607949712775285, 0.00878501164601353, 0.011147132332735767, 0.002298738239489146, 0.013753582130566206, 0.015645241491213147, 0.000529141204642703, 0.009254859593567213, 0.008088418104971146, 0.003859786576988001, 0.006749208332788108, 0.008294104369217885, 0.006148506300624174, 0.0027841251095902957, 0.018450834849059815, 0.00600006869839442, 0.0031689179021473154, 0.0024758001727273916, 0.007467679041101268, 0.0074100214600698764, 0.00986558014158412, 0.013912038248648931, 0.009719187134426401, 0.0167061818740922, 0.010021582745580404, 0.008185331911385613, 0.0034134514727627223, 0.004564354038811322, 0.010762339540178746, 0.005574997382918308, 0.01661376617683621, 0.014755229256356237, 0.005791520001046832, 0.020045619005247248, 0.010727376964446944, 0.004572327959592258, 0.002132103741118279, 0.009450731801468182, 0.010681578034833357, 0.011932870218918883, 0.012890354091152955, 0.004562309443739286, 0.0023492397377684144, 0.011767666937098442, 0.01942896913152144, 0.01144727888931053, 0.0064367942057811335, 0.002175449156645425, 0.013650738998442836, 0.011791179780426845, 0.018242695070726633, 0.0036175020609518324, 0.006802163345153819, 0.017114078590963217, 0.011119530299263292, 0.01575748976066788, 0.013392506640844794, 0.0016528506562332344, 0.010969252561468705, 0.00666619777286348, 0.018407898352547074, 0.02016359214090368, 0.017105900210675075, 0.01259531902225828, 0.01238431681082425, 0.00883898895591526, 0.001271738134805878, 0.000806592755917876, 0.010865182672302116, 0.013919194331401055, 0.0004023763101765222, 0.014334042671516991, 0.015556301605579618, 0.009750264979521335, 0.01646103492495518, 0.012652772143782468, 0.009770710930241688, 0.014198281558733856, 0.012388610460475524, 0.00879543908088091, 0.01894296888289868, 0.00651448881851847, 0.012840465971395296, 0.009016050889153505]\n"
          ]
        },
        {
          "output_type": "display_data",
          "data": {
            "text/plain": [
              "<Figure size 640x480 with 1 Axes>"
            ],
            "image/png": "[encoded data removed]"
          },
          "metadata": {}
        }
      ],
      "source": [
        "from random import randrange\n",
        "\n",
        "def random_state(n, k):\n",
        "    state = [0] * n\n",
        "    for i in range(n):\n",
        "        state[i] = randrange(10**k)\n",
        "    total_sum = 0\n",
        "    for num in state:\n",
        "      total_sum += num\n",
        "    normalized_state = [x / total_sum for x in state]\n",
        "    return normalized_state\n",
        "\n",
        "print(random_state(100, 5))\n",
        "\n",
        "import matplotlib.pyplot as plt\n",
        "plt.plot(random_state(100, 5))\n",
        "plt.show()"
      ]
    }
  ],
  "metadata": {
    "kernelspec": {
      "display_name": "Python 3 (ipykernel)",
      "language": "python",
      "name": "python3"
    },
    "language_info": {
      "codemirror_mode": {
        "name": "ipython",
        "version": 3
      },
      "file_extension": ".py",
      "mimetype": "text/x-python",
      "name": "python",
      "nbconvert_exporter": "python",
      "pygments_lexer": "ipython3",
      "version": "3.11.4"
    },
    "colab": {
      "provenance": [],
      "collapsed_sections": [
        "gk3EoQmZ79UO"
      ]
    }
  },
  "nbformat": 4,
  "nbformat_minor": 0
}