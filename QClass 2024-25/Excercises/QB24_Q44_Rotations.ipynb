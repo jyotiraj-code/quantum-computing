{
  "cells": [
    {
      "cell_type": "markdown",
      "metadata": {
        "id": "4Q82UGvfAfR6"
      },
      "source": [
        "<a href=\"https://qworld.net\" target=\"_blank\" align=\"left\"><img src=\"https://gitlab.com/qworld/qeducation/qbook101/raw/main/qworld/images/header.jpg\" align=\"left\"></a>\n",
        "$ \\newcommand{\\bra}[1]{\\langle #1|} $\n",
        "$ \\newcommand{\\ket}[1]{|#1\\rangle} $\n",
        "$ \\newcommand{\\braket}[2]{\\langle #1|#2\\rangle} $\n",
        "$ \\newcommand{\\dot}[2]{ #1 \\cdot #2} $\n",
        "$ \\newcommand{\\biginner}[2]{\\left\\langle #1,#2\\right\\rangle} $\n",
        "$ \\newcommand{\\mymatrix}[2]{\\left( \\begin{array}{#1} #2\\end{array} \\right)} $\n",
        "$ \\newcommand{\\myvector}[1]{\\mymatrix{c}{#1}} $\n",
        "$ \\newcommand{\\myrvector}[1]{\\mymatrix{r}{#1}} $\n",
        "$ \\newcommand{\\mypar}[1]{\\left( #1 \\right)} $\n",
        "$ \\newcommand{\\mybigpar}[1]{ \\Big( #1 \\Big)} $\n",
        "$ \\newcommand{\\sqrttwo}{\\frac{1}{\\sqrt{2}}} $\n",
        "$ \\newcommand{\\dsqrttwo}{\\dfrac{1}{\\sqrt{2}}} $\n",
        "$ \\newcommand{\\onehalf}{\\frac{1}{2}} $\n",
        "$ \\newcommand{\\donehalf}{\\dfrac{1}{2}} $\n",
        "$ \\newcommand{\\hadamard}{ \\mymatrix{rr}{ \\sqrttwo & \\sqrttwo \\\\ \\sqrttwo & -\\sqrttwo }} $\n",
        "$ \\newcommand{\\vzero}{\\myvector{1\\\\0}} $\n",
        "$ \\newcommand{\\vone}{\\myvector{0\\\\1}} $\n",
        "$ \\newcommand{\\stateplus}{\\myvector{ \\sqrttwo \\\\  \\sqrttwo } } $\n",
        "$ \\newcommand{\\stateminus}{ \\myrvector{ \\sqrttwo \\\\ -\\sqrttwo } } $\n",
        "$ \\newcommand{\\myarray}[2]{ \\begin{array}{#1}#2\\end{array}} $\n",
        "$ \\newcommand{\\X}{ \\mymatrix{cc}{0 & 1 \\\\ 1 & 0}  } $\n",
        "$ \\newcommand{\\I}{ \\mymatrix{rr}{1 & 0 \\\\ 0 & 1}  } $\n",
        "$ \\newcommand{\\Z}{ \\mymatrix{rr}{1 & 0 \\\\ 0 & -1}  } $\n",
        "$ \\newcommand{\\Htwo}{ \\mymatrix{rrrr}{ \\frac{1}{2} & \\frac{1}{2} & \\frac{1}{2} & \\frac{1}{2} \\\\ \\frac{1}{2} & -\\frac{1}{2} & \\frac{1}{2} & -\\frac{1}{2} \\\\ \\frac{1}{2} & \\frac{1}{2} & -\\frac{1}{2} & -\\frac{1}{2} \\\\ \\frac{1}{2} & -\\frac{1}{2} & -\\frac{1}{2} & \\frac{1}{2} } } $\n",
        "$ \\newcommand{\\CNOT}{ \\mymatrix{cccc}{1 & 0 & 0 & 0 \\\\ 0 & 1 & 0 & 0 \\\\ 0 & 0 & 0 & 1 \\\\ 0 & 0 & 1 & 0} } $\n",
        "$ \\newcommand{\\norm}[1]{ \\left\\lVert #1 \\right\\rVert } $\n",
        "$ \\newcommand{\\pstate}[1]{ \\lceil \\mspace{-1mu} #1 \\mspace{-1.5mu} \\rfloor } $\n",
        "$ \\newcommand{\\greenbit}[1] {\\mathbf{{\\color{green}#1}}} $\n",
        "$ \\newcommand{\\bluebit}[1] {\\mathbf{{\\color{blue}#1}}} $\n",
        "$ \\newcommand{\\redbit}[1] {\\mathbf{{\\color{red}#1}}} $\n",
        "$ \\newcommand{\\brownbit}[1] {\\mathbf{{\\color{brown}#1}}} $\n",
        "$ \\newcommand{\\blackbit}[1] {\\mathbf{{\\color{black}#1}}} $"
      ]
    },
    {
      "cell_type": "markdown",
      "metadata": {
        "id": "maJzaCf1AfR-"
      },
      "source": [
        "_prepared by Abuzer Yakaryilmaz_"
      ]
    },
    {
      "cell_type": "markdown",
      "metadata": {
        "id": "jXu9tawXAfR-"
      },
      "source": [
        "<font size=\"28px\" style=\"font-size:28px;\" align=\"left\"><b> Rotations </b></font>\n",
        "<br>\n",
        "<br><br>\n",
        "[<img src=\"https://gitlab.com/qworld/qeducation/qbook101/raw/main/qworld/images/watch_lecture.jpg\" align=\"left\">](https://youtu.be/bmrQhASbo34)\n",
        "<br><br><br>"
      ]
    },
    {
      "cell_type": "markdown",
      "metadata": {
        "jp-MarkdownHeadingCollapsed": true,
        "id": "Bm9lteNlAfR-"
      },
      "source": [
        "##### <font color=\"#08b806\">Please execute the following cell, it is necessary to distinguish between your local environment and Google Colab's"
      ]
    },
    {
      "cell_type": "code",
      "execution_count": 5,
      "metadata": {
        "id": "tuwdbw8ZAfR_",
        "outputId": "d7e1fcf5-ae06-4308-b87e-c28ac501e319",
        "colab": {
          "base_uri": "https://localhost:8080/"
        }
      },
      "outputs": [
        {
          "output_type": "stream",
          "name": "stdout",
          "text": [
            "--2024-10-06 09:18:19--  https://gitlab.com/qworld/qeducation/qbook101/raw/main/qworld/include/quantum.py\n",
            "Resolving gitlab.com (gitlab.com)... 172.65.251.78, 2606:4700:90:0:f22e:fbec:5bed:a9b9\n",
            "Connecting to gitlab.com (gitlab.com)|172.65.251.78|:443... connected.\n",
            "HTTP request sent, awaiting response... 200 OK\n",
            "Length: 2760 (2.7K) [text/plain]\n",
            "Saving to: ‘quantum.py’\n",
            "\n",
            "quantum.py          100%[===================>]   2.70K  --.-KB/s    in 0s      \n",
            "\n",
            "2024-10-06 09:18:19 (38.3 MB/s) - ‘quantum.py’ saved [2760/2760]\n",
            "\n",
            "--2024-10-06 09:18:19--  https://gitlab.com/qworld/qeducation/qbook101/raw/main/qworld/include/drawing.py\n",
            "Resolving gitlab.com (gitlab.com)... 172.65.251.78, 2606:4700:90:0:f22e:fbec:5bed:a9b9\n",
            "Connecting to gitlab.com (gitlab.com)|172.65.251.78|:443... connected.\n",
            "HTTP request sent, awaiting response... 200 OK\n",
            "Length: 6260 (6.1K) [text/plain]\n",
            "Saving to: ‘drawing.py’\n",
            "\n",
            "drawing.py          100%[===================>]   6.11K  --.-KB/s    in 0s      \n",
            "\n",
            "2024-10-06 09:18:19 (64.7 MB/s) - ‘drawing.py’ saved [6260/6260]\n",
            "\n",
            "--2024-10-06 09:18:20--  https://gitlab.com/qworld/qeducation/qbook101/raw/main/qworld/include/quantum_state.py\n",
            "Resolving gitlab.com (gitlab.com)... 172.65.251.78, 2606:4700:90:0:f22e:fbec:5bed:a9b9\n",
            "Connecting to gitlab.com (gitlab.com)|172.65.251.78|:443... connected.\n",
            "HTTP request sent, awaiting response... 200 OK\n",
            "Length: 1391 (1.4K) [text/plain]\n",
            "Saving to: ‘quantum_state.py’\n",
            "\n",
            "quantum_state.py    100%[===================>]   1.36K  --.-KB/s    in 0s      \n",
            "\n",
            "2024-10-06 09:18:20 (20.1 MB/s) - ‘quantum_state.py’ saved [1391/1391]\n",
            "\n",
            "--2024-10-06 09:18:20--  https://gitlab.com/qworld/qeducation/qbook101/raw/main/qworld/include/grover.py\n",
            "Resolving gitlab.com (gitlab.com)... 172.65.251.78, 2606:4700:90:0:f22e:fbec:5bed:a9b9\n",
            "Connecting to gitlab.com (gitlab.com)|172.65.251.78|:443... connected.\n",
            "HTTP request sent, awaiting response... 200 OK\n",
            "Length: 6778 (6.6K) [text/plain]\n",
            "Saving to: ‘grover.py’\n",
            "\n",
            "grover.py           100%[===================>]   6.62K  --.-KB/s    in 0s      \n",
            "\n",
            "2024-10-06 09:18:20 (43.6 MB/s) - ‘grover.py’ saved [6778/6778]\n",
            "\n"
          ]
        }
      ],
      "source": [
        "import IPython\n",
        "\n",
        "def in_colab():\n",
        "    try:\n",
        "        import google.colab\n",
        "        return True\n",
        "    except:\n",
        "        return False\n",
        "\n",
        "path_files = \"./\" if in_colab() else \"../qworld/include/\"\n",
        "\n",
        "SolutionToTask2 = lambda: IPython.display.display(IPython.display.Javascript('window.open(\"{url}\");'.format(url='https://colab.research.google.com/drive/1b8BXPCQinANvv0JzJDqWgL43xZggTsPo?usp=sharing#scrollTo=yQIdDrUo-JTA' if in_colab() else 'QB24_Q44_Rotations_Solutions.ipynb#task2')))\n",
        "SolutionToTask3 = lambda: IPython.display.display(IPython.display.Javascript('window.open(\"{url}\");'.format(url='https://colab.research.google.com/drive/1b8BXPCQinANvv0JzJDqWgL43xZggTsPo?usp=sharing#scrollTo=xCu34FVW-JTB' if in_colab() else 'QB24_Q44_Rotations_Solutions.ipynb#task3')))\n",
        "SolutionToTask4 = lambda: IPython.display.display(IPython.display.Javascript('window.open(\"{url}\");'.format(url='https://colab.research.google.com/drive/1b8BXPCQinANvv0JzJDqWgL43xZggTsPo?usp=sharing#scrollTo=3b8ucTUZ-JTC' if in_colab() else 'QB24_Q44_Rotations_Solutions.ipynb#task4')))\n",
        "SolutionToTask6 = lambda: IPython.display.display(IPython.display.Javascript('window.open(\"{url}\");'.format(url='https://colab.research.google.com/drive/1b8BXPCQinANvv0JzJDqWgL43xZggTsPo?usp=sharing#scrollTo=36qUFEI9-JTC' if in_colab() else 'QB24_Q44_Rotations_Solutions.ipynb#task6')))\n",
        "SolutionToTask7 = lambda: IPython.display.display(IPython.display.Javascript('window.open(\"{url}\");'.format(url='https://colab.research.google.com/drive/1b8BXPCQinANvv0JzJDqWgL43xZggTsPo?usp=sharing#scrollTo=hB3rkzGR-JTD' if in_colab() else 'QB24_Q44_Rotations_Solutions.ipynb#task7')))\n",
        "\n",
        "if in_colab():\n",
        "    url = \"https://gitlab.com/qworld/qeducation/qbook101/raw/main/qworld/include/quantum.py\"\n",
        "    !wget --no-cache -O quantum.py {url}\n",
        "\n",
        "    url = \"https://gitlab.com/qworld/qeducation/qbook101/raw/main/qworld/include/drawing.py\"\n",
        "    !wget --no-cache -O drawing.py {url}\n",
        "\n",
        "    url = \"https://gitlab.com/qworld/qeducation/qbook101/raw/main/qworld/include/quantum_state.py\"\n",
        "    !wget --no-cache -O quantum_state.py {url}\n",
        "\n",
        "    url = \"https://gitlab.com/qworld/qeducation/qbook101/raw/main/qworld/include/grover.py\"\n",
        "    !wget --no-cache -O grover.py {url}\n",
        "\n",
        "    # !pip install qiskit[visualization]==0.43.3\n",
        "    # !pip install qiskit-aer"
      ]
    },
    {
      "cell_type": "markdown",
      "metadata": {
        "id": "5i503uSNAfSA"
      },
      "source": [
        "##### _We use certain tools from python library \"<b>matplotlib.pyplot</b>\" for drawing. Check the notebook [Python: Drawing](../python/Python06_Drawing.ipynb) for the list of these tools._"
      ]
    },
    {
      "cell_type": "markdown",
      "metadata": {
        "id": "ACQiw32bAfSA"
      },
      "source": [
        "We start with drawing the quantum states $ \\ket{0} $ and $ \\ket{+} = \\myvector{ \\frac{1}{\\sqrt{2}} \\\\ \\frac{1}{\\sqrt{2}} } $."
      ]
    },
    {
      "cell_type": "markdown",
      "metadata": {
        "id": "pNSR35cdAfSB"
      },
      "source": [
        "<i style=\"font-size:10pt;\">\n",
        "Our predefined function \"draw_qubit()\" draws a figure, the origin, the axes, the unit circle, and base quantum states.\n",
        "<br>\n",
        "Our predefined function \"draw_quantum_state(x,y,name)\" draws an arrow from (0,0) to (x,y) and associates it with <u>name</u>.\n",
        "<br>\n",
        "We include our predefined functions with the following line of code:\n",
        "    \n",
        "    %run quantum.py\n",
        "</i>   "
      ]
    },
    {
      "cell_type": "code",
      "execution_count": 6,
      "metadata": {
        "id": "d_5sO0qwAfSB",
        "outputId": "37704bd4-e6fe-4110-fda9-3a10e9fc335f",
        "colab": {
          "base_uri": "https://localhost:8080/",
          "height": 321
        }
      },
      "outputs": [
        {
          "output_type": "display_data",
          "data": {
            "text/plain": [
              "<Figure size 360x360 with 1 Axes>"
            ],
            "image/png": "[encoded data removed]"
          },
          "metadata": {}
        }
      ],
      "source": [
        "quantum_file = path_files+\"quantum.py\"\n",
        "%run $quantum_file\n",
        "\n",
        "draw_qubit()\n",
        "\n",
        "sqrttwo=2**0.5\n",
        "\n",
        "draw_quantum_state(1,0,\"\")\n",
        "\n",
        "draw_quantum_state(1/sqrttwo,1/sqrttwo,\"|+>\")\n",
        "\n",
        "# drawing the angle with |0>-axis\n",
        "from matplotlib.pyplot import gca, text\n",
        "from matplotlib.patches import Arc\n",
        "gca().add_patch( Arc((0,0),0.4,0.4,angle=0,theta1=0,theta2=45) )\n",
        "text(0.08,0.05,'.',fontsize=30)\n",
        "text(0.21,0.09,'\\u03C0/4')\n",
        "show_plt()"
      ]
    },
    {
      "cell_type": "markdown",
      "metadata": {
        "id": "oAplk76eAfSC"
      },
      "source": [
        "<h3> Task 1 (discussion) </h3>\n",
        "\n",
        "Suppose that we start in state $ \\ket{0} $, and then obtain state $\\ket{+}$ by appling a rotation operator.\n",
        "\n",
        "If we apply the same operator consecutively, what can be the new quantum state?\n",
        "\n",
        "Here are eight candidates:\n",
        "\n",
        "$$\n",
        "    \\myarray{|c|c|c|c|}{\n",
        "        \\hline\n",
        "        A & \\ket{0} = \\vzero & E & \\ket{+} = \\myrvector{\\sqrttwo \\\\ \\sqrttwo}\n",
        "        \\\\ \\hline\n",
        "        B & \\ket{1} = \\vone & F & \\ket{-} = \\myrvector{\\sqrttwo \\\\ -\\sqrttwo}\n",
        "        \\\\ \\hline\n",
        "        C & -\\ket{0} = \\myrvector{-1 \\\\ 0} & G & -\\ket{+} = \\myrvector{-\\sqrttwo \\\\ -\\sqrttwo}\n",
        "        \\\\ \\hline\n",
        "        D & -\\ket{1} = \\myrvector{0 \\\\ -1} & H & -\\ket{-} = \\myrvector{-\\sqrttwo \\\\ \\sqrttwo}\n",
        "        \\\\ \\hline\n",
        "    }\n",
        "$$"
      ]
    },
    {
      "cell_type": "markdown",
      "metadata": {
        "id": "9gm9vUflAfSC"
      },
      "source": [
        "<h3> Rotation with degree $\\pi/4$ </h3>"
      ]
    },
    {
      "cell_type": "markdown",
      "metadata": {
        "id": "3ZDvTffwAfSC"
      },
      "source": [
        "Its matrix form is similar to Hadamard operator:\n",
        "\n",
        "$$ R(\\pi/4) = \\mymatrix{rr}{\\cos(\\pi/4) & -\\sin(\\pi/4) \\\\ \\sin(\\pi/4) & \\cos(\\pi/4) }\n",
        "= \\mymatrix{rr}{ \\sqrttwo & -\\sqrttwo \\\\  \\sqrttwo & \\sqrttwo} $$."
      ]
    },
    {
      "cell_type": "markdown",
      "metadata": {
        "id": "xFPO5RIhAfSC"
      },
      "source": [
        "<h3> Task 2 </h3>\n",
        "\n",
        "Start with state $ \\ket{0} $.\n",
        "\n",
        "Apply $ R(\\pi/4) $ 7 times, and draw each state on the unit circle."
      ]
    },
    {
      "cell_type": "code",
      "execution_count": 7,
      "metadata": {
        "id": "q5w3qKN3AfSC",
        "outputId": "cb611126-1de1-4f61-b876-44b4dac47eec",
        "colab": {
          "base_uri": "https://localhost:8080/",
          "height": 338
        }
      },
      "outputs": [
        {
          "output_type": "display_data",
          "data": {
            "text/plain": [
              "<Figure size 640x480 with 0 Axes>"
            ]
          },
          "metadata": {}
        },
        {
          "output_type": "display_data",
          "data": {
            "text/plain": [
              "<Figure size 360x360 with 1 Axes>"
            ],
            "image/png": "[encoded data removed]"
          },
          "metadata": {}
        }
      ],
      "source": [
        "quantum_file = path_files+\"quantum.py\"\n",
        "%run $quantum_file\n",
        "\n",
        "draw_qubit()\n",
        "\n",
        "[x,y]=[1,0]\n",
        "\n",
        "draw_quantum_state(x,y,\"v0\")\n",
        "\n",
        "sqrttwo = 2**0.5\n",
        "oversqrttwo = 1/sqrttwo\n",
        "\n",
        "R = [ [oversqrttwo, -1*oversqrttwo], [oversqrttwo,oversqrttwo] ]\n",
        "\n",
        "#\n",
        "# your code is here\n",
        "#\n",
        "#\n",
        "def rotate(px,py):\n",
        "    newx = R[0][0]*px + R[0][1]*py\n",
        "    newy = R[1][0]*px + R[1][1]*py\n",
        "    return [newx,newy]\n",
        "\n",
        "# apply rotation R 7 times\n",
        "for i in range(1,8):\n",
        "    [x,y] = rotate(x,y)\n",
        "    draw_quantum_state(x,y,\"|v\"+str(i)+\">\")\n",
        "\n",
        "show_plt()"
      ]
    },
    {
      "cell_type": "markdown",
      "metadata": {
        "id": "xkDiU4GWAfSC"
      },
      "source": [
        "To check out our solution, run the next cell:"
      ]
    },
    {
      "cell_type": "code",
      "execution_count": 3,
      "metadata": {
        "id": "pHf1GhCtAfSC",
        "outputId": "b96524a8-3276-47f3-8d60-69e6b87a4193",
        "colab": {
          "base_uri": "https://localhost:8080/",
          "height": 17
        }
      },
      "outputs": [
        {
          "output_type": "display_data",
          "data": {
            "text/plain": [
              "<IPython.core.display.Javascript object>"
            ],
            "application/javascript": [
              "window.open(\"https://colab.research.google.com/drive/1b8BXPCQinANvv0JzJDqWgL43xZggTsPo?usp=sharing#scrollTo=yQIdDrUo-JTA\");"
            ]
          },
          "metadata": {}
        }
      ],
      "source": [
        "SolutionToTask2()  # show solution for task 2"
      ]
    },
    {
      "cell_type": "markdown",
      "metadata": {
        "id": "AwxCCWvVAfSD"
      },
      "source": [
        "<h3>Reading the quantum state of a circuit</h3>\n",
        "\n",
        "The backend \"statevector_simulator\" of Qiskit reads the quantum state of the circuit at that point. It is a classical simulator, and, if any measurement operator is defined, it implements this measurement operator and continues by following one of the possible outcomes.\n",
        "\n",
        "We can read the current state of a circuit as follows:\n",
        "\n",
        "    job = execute(quantum_circuit,Aer.get_backend('statevector_simulator'),optimization_level=0)\n",
        "    current_quantum_state = job.result().get_statevector(quantum_circuit,precision).data\n",
        "    # precision is optional\n",
        "\"current_quantum_state\" is the list of amplitudes, which are complex numbers. For example, the real part of the amplitide of the first state is printed as follows:\n",
        "\n",
        "    print(current_quantum_state[0].real)"
      ]
    },
    {
      "cell_type": "markdown",
      "metadata": {
        "id": "LfHKgPPrAfSD"
      },
      "source": [
        "<h3> Task 3 </h3>\n",
        "\n",
        "We implement Task 2 by using \"ry-gate\" and \"statevector_simulator\".\n",
        "\n",
        "Define a quantum circuit with one qubit.\n",
        "\n",
        "Iterate seven times\n",
        "- Apply the rotation with angle $ \\pi \\over 4 $ by using ry-gate\n",
        "- Read the current quantum state\n",
        "- Print the current quantum state\n",
        "- Draw the quantum state on the unit circle by using the values of the current quantum state"
      ]
    },
    {
      "cell_type": "code",
      "source": [
        "!pip install qiskit -U --quiet\n",
        "!pip install qiskit_aer -U --quiet"
      ],
      "metadata": {
        "id": "0RysQV089zOl"
      },
      "execution_count": 8,
      "outputs": []
    },
    {
      "cell_type": "code",
      "execution_count": 9,
      "metadata": {
        "id": "3j8uHkdcAfSD",
        "outputId": "a93e34da-501d-412d-a1b9-b79b04e6252e",
        "colab": {
          "base_uri": "https://localhost:8080/",
          "height": 460
        }
      },
      "outputs": [
        {
          "output_type": "stream",
          "name": "stdout",
          "text": [
            "iteration 1 : the quantum state is ( 0.707 ) |0> +( 0.707 ) |1>\n",
            "iteration 2 : the quantum state is ( 0.0 ) |0> +( 1.0 ) |1>\n",
            "iteration 3 : the quantum state is ( -0.707 ) |0> +( 0.707 ) |1>\n",
            "iteration 4 : the quantum state is ( -1.0 ) |0> +( 0.0 ) |1>\n",
            "iteration 5 : the quantum state is ( -0.707 ) |0> +( -0.707 ) |1>\n",
            "iteration 6 : the quantum state is ( -0.0 ) |0> +( -1.0 ) |1>\n",
            "iteration 7 : the quantum state is ( 0.707 ) |0> +( -0.707 ) |1>\n"
          ]
        },
        {
          "output_type": "display_data",
          "data": {
            "text/plain": [
              "<Figure size 640x480 with 0 Axes>"
            ]
          },
          "metadata": {}
        },
        {
          "output_type": "display_data",
          "data": {
            "text/plain": [
              "<Figure size 360x360 with 1 Axes>"
            ],
            "image/png": "[encoded data removed]"
          },
          "metadata": {}
        }
      ],
      "source": [
        "quantum_file = path_files+\"quantum.py\"\n",
        "%run $quantum_file\n",
        "\n",
        "draw_qubit()\n",
        "\n",
        "[x,y]=[1,0]\n",
        "\n",
        "draw_quantum_state(x,y,\"v0\")\n",
        "\n",
        "from qiskit import QuantumRegister, ClassicalRegister, QuantumCircuit, transpile\n",
        "from qiskit_aer import Aer\n",
        "from math import pi\n",
        "\n",
        "# we define a quantum circuit with one qubit and one bit\n",
        "q =  QuantumRegister(1) # quantum register with a single qubit\n",
        "c = ClassicalRegister(1) # classical register with a single bit\n",
        "qc = QuantumCircuit(q,c) # quantum circuit with quantum and classical registers\n",
        "\n",
        "rotation_angle = pi/4\n",
        "\n",
        "for i in range(1,8):\n",
        "    # rotate the qubit with angle pi/4\n",
        "    qc.ry(2*rotation_angle,q[0])\n",
        "\n",
        "    # read the current quantum state\n",
        "    backend = Aer.get_backend('statevector_simulator')\n",
        "    job = backend.run(qc, shots = 1000)\n",
        "    result = job.result()\n",
        "    current_quantum_state = result.get_statevector(qc,3).data\n",
        "\n",
        "\n",
        "    # print the current quantum state\n",
        "    x_value = current_quantum_state[0].real # get the amplitude of |0>\n",
        "    y_value = current_quantum_state[1].real # get the amplitude of |1>\n",
        "    print(\"iteration\",i,\": the quantum state is (\",x_value,\") |0>\",\"+(\",y_value,\") |1>\")\n",
        "\n",
        "    # draw the current quantum state\n",
        "    draw_quantum_state(x_value,y_value,\"|v\"+str(i)+\">\")\n",
        "\n",
        "show_plt()"
      ]
    },
    {
      "cell_type": "markdown",
      "metadata": {
        "id": "H0W-U93CAfSD"
      },
      "source": [
        "To check out our solution, run the next cell:"
      ]
    },
    {
      "cell_type": "code",
      "execution_count": null,
      "metadata": {
        "id": "QbRlV0vDAfSD"
      },
      "outputs": [],
      "source": [
        "SolutionToTask3()  # show solution for task 3"
      ]
    },
    {
      "cell_type": "markdown",
      "metadata": {
        "id": "iAWLIRZaAfSD"
      },
      "source": [
        "<h3> Rotation with degree $\\theta$ </h3>"
      ]
    },
    {
      "cell_type": "markdown",
      "metadata": {
        "id": "4D0qCtgrAfSD"
      },
      "source": [
        "The matrix form of a rotation is as follows:\n",
        "\n",
        "$$ R(\\theta) = \\mymatrix{rr}{\\cos(\\theta) & -\\sin(\\theta) \\\\ \\sin(\\theta) & \\cos(\\theta) }, $$\n",
        "\n",
        "where $ \\theta $ is the angle of rotation (in counter-clockwise direction)."
      ]
    },
    {
      "cell_type": "markdown",
      "metadata": {
        "id": "OExRB8vHAfSD"
      },
      "source": [
        "<h3> Task 4 </h3>\n",
        "\n",
        "Repeat Task 3 for the angle $ \\pi/6 $ by applying the rotation 12 times.\n",
        "\n",
        "Repeat Task 3 for the angle $ 3\\pi/8 $ by applying the rotation 16 times.\n",
        "\n",
        "Repeat Task 3 for the angle $ \\sqrt{2}\\pi $ by applying the rotation 20 times."
      ]
    },
    {
      "cell_type": "code",
      "execution_count": 10,
      "metadata": {
        "id": "u1lBND00AfSD",
        "outputId": "2b3640b6-454e-4c1c-e2bc-3535d7c62cbc",
        "colab": {
          "base_uri": "https://localhost:8080/",
          "height": 529
        }
      },
      "outputs": [
        {
          "output_type": "stream",
          "name": "stdout",
          "text": [
            "iteration 1 : the quantum state is ( 0.866 ) |0> +( 0.5 ) |1>\n",
            "iteration 2 : the quantum state is ( 0.5 ) |0> +( 0.866 ) |1>\n",
            "iteration 3 : the quantum state is ( 0.0 ) |0> +( 1.0 ) |1>\n",
            "iteration 4 : the quantum state is ( -0.5 ) |0> +( 0.866 ) |1>\n",
            "iteration 5 : the quantum state is ( -0.866 ) |0> +( 0.5 ) |1>\n",
            "iteration 6 : the quantum state is ( -1.0 ) |0> +( 0.0 ) |1>\n",
            "iteration 7 : the quantum state is ( -0.866 ) |0> +( -0.5 ) |1>\n",
            "iteration 8 : the quantum state is ( -0.5 ) |0> +( -0.866 ) |1>\n",
            "iteration 9 : the quantum state is ( -0.0 ) |0> +( -1.0 ) |1>\n",
            "iteration 10 : the quantum state is ( 0.5 ) |0> +( -0.866 ) |1>\n",
            "iteration 11 : the quantum state is ( 0.866 ) |0> +( -0.5 ) |1>\n"
          ]
        },
        {
          "output_type": "display_data",
          "data": {
            "text/plain": [
              "<Figure size 640x480 with 0 Axes>"
            ]
          },
          "metadata": {}
        },
        {
          "output_type": "display_data",
          "data": {
            "text/plain": [
              "<Figure size 360x360 with 1 Axes>"
            ],
            "image/png": "[encoded data removed]"
          },
          "metadata": {}
        }
      ],
      "source": [
        "#\n",
        "# your code is here\n",
        "#\n",
        "quantum_file = path_files+\"quantum.py\"\n",
        "%run $quantum_file\n",
        "\n",
        "draw_qubit()\n",
        "\n",
        "[x,y]=[1,0]\n",
        "\n",
        "draw_quantum_state(x,y,\"v0\")\n",
        "\n",
        "from qiskit import QuantumRegister, ClassicalRegister, QuantumCircuit, transpile\n",
        "from qiskit_aer import Aer\n",
        "from math import pi\n",
        "\n",
        "# we define a quantum circuit with one qubit and one bit\n",
        "q =  QuantumRegister(1) # quantum register with a single qubit\n",
        "c = ClassicalRegister(1) # classical register with a single bit\n",
        "qc = QuantumCircuit(q,c) # quantum circuit with quantum and classical registers\n",
        "\n",
        "rotation_angle = pi/6\n",
        "\n",
        "for i in range(1,12):\n",
        "    # rotate the qubit with angle pi/4\n",
        "    qc.ry(2*rotation_angle,q[0])\n",
        "\n",
        "    # read the current quantum state\n",
        "    backend = Aer.get_backend('statevector_simulator')\n",
        "    job = backend.run(qc, shots = 1000)\n",
        "    result = job.result()\n",
        "    current_quantum_state = result.get_statevector(qc,3).data\n",
        "\n",
        "\n",
        "    # print the current quantum state\n",
        "    x_value = current_quantum_state[0].real # get the amplitude of |0>\n",
        "    y_value = current_quantum_state[1].real # get the amplitude of |1>\n",
        "    print(\"iteration\",i,\": the quantum state is (\",x_value,\") |0>\",\"+(\",y_value,\") |1>\")\n",
        "\n",
        "    # draw the current quantum state\n",
        "    draw_quantum_state(x_value,y_value,\"|v\"+str(i)+\">\")\n",
        "\n",
        "show_plt()\n"
      ]
    },
    {
      "cell_type": "code",
      "source": [
        "#\n",
        "# your code is here\n",
        "#\n",
        "quantum_file = path_files+\"quantum.py\"\n",
        "%run $quantum_file\n",
        "\n",
        "draw_qubit()\n",
        "\n",
        "[x,y]=[1,0]\n",
        "\n",
        "draw_quantum_state(x,y,\"v0\")\n",
        "\n",
        "from qiskit import QuantumRegister, ClassicalRegister, QuantumCircuit, transpile\n",
        "from qiskit_aer import Aer\n",
        "from math import pi\n",
        "\n",
        "# we define a quantum circuit with one qubit and one bit\n",
        "q =  QuantumRegister(1) # quantum register with a single qubit\n",
        "c = ClassicalRegister(1) # classical register with a single bit\n",
        "qc = QuantumCircuit(q,c) # quantum circuit with quantum and classical registers\n",
        "\n",
        "rotation_angle = 3*pi/8\n",
        "\n",
        "for i in range(1,16):\n",
        "    # rotate the qubit with angle pi/4\n",
        "    qc.ry(2*rotation_angle,q[0])\n",
        "\n",
        "    # read the current quantum state\n",
        "    backend = Aer.get_backend('statevector_simulator')\n",
        "    job = backend.run(qc, shots = 1000)\n",
        "    result = job.result()\n",
        "    current_quantum_state = result.get_statevector(qc,3).data\n",
        "\n",
        "\n",
        "    # print the current quantum state\n",
        "    x_value = current_quantum_state[0].real # get the amplitude of |0>\n",
        "    y_value = current_quantum_state[1].real # get the amplitude of |1>\n",
        "    print(\"iteration\",i,\": the quantum state is (\",x_value,\") |0>\",\"+(\",y_value,\") |1>\")\n",
        "\n",
        "    # draw the current quantum state\n",
        "    draw_quantum_state(x_value,y_value,\"|v\"+str(i)+\">\")\n",
        "\n",
        "show_plt()\n"
      ],
      "metadata": {
        "id": "ruI7cPBJIuRg",
        "outputId": "eb06f970-bff7-4214-a66a-1c5d84db12a9",
        "colab": {
          "base_uri": "https://localhost:8080/",
          "height": 599
        }
      },
      "execution_count": 11,
      "outputs": [
        {
          "output_type": "stream",
          "name": "stdout",
          "text": [
            "iteration 1 : the quantum state is ( 0.383 ) |0> +( 0.924 ) |1>\n",
            "iteration 2 : the quantum state is ( -0.707 ) |0> +( 0.707 ) |1>\n",
            "iteration 3 : the quantum state is ( -0.924 ) |0> +( -0.383 ) |1>\n",
            "iteration 4 : the quantum state is ( -0.0 ) |0> +( -1.0 ) |1>\n",
            "iteration 5 : the quantum state is ( 0.924 ) |0> +( -0.383 ) |1>\n",
            "iteration 6 : the quantum state is ( 0.707 ) |0> +( 0.707 ) |1>\n",
            "iteration 7 : the quantum state is ( -0.383 ) |0> +( 0.924 ) |1>\n",
            "iteration 8 : the quantum state is ( -1.0 ) |0> +( 0.0 ) |1>\n",
            "iteration 9 : the quantum state is ( -0.383 ) |0> +( -0.924 ) |1>\n",
            "iteration 10 : the quantum state is ( 0.707 ) |0> +( -0.707 ) |1>\n",
            "iteration 11 : the quantum state is ( 0.924 ) |0> +( 0.383 ) |1>\n",
            "iteration 12 : the quantum state is ( 0.0 ) |0> +( 1.0 ) |1>\n",
            "iteration 13 : the quantum state is ( -0.924 ) |0> +( 0.383 ) |1>\n",
            "iteration 14 : the quantum state is ( -0.707 ) |0> +( -0.707 ) |1>\n",
            "iteration 15 : the quantum state is ( 0.383 ) |0> +( -0.924 ) |1>\n"
          ]
        },
        {
          "output_type": "display_data",
          "data": {
            "text/plain": [
              "<Figure size 640x480 with 0 Axes>"
            ]
          },
          "metadata": {}
        },
        {
          "output_type": "display_data",
          "data": {
            "text/plain": [
              "<Figure size 360x360 with 1 Axes>"
            ],
            "image/png": "[encoded data removed]"
          },
          "metadata": {}
        }
      ]
    },
    {
      "cell_type": "code",
      "source": [
        "#\n",
        "# your code is here\n",
        "#\n",
        "quantum_file = path_files+\"quantum.py\"\n",
        "%run $quantum_file\n",
        "\n",
        "draw_qubit()\n",
        "\n",
        "[x,y]=[1,0]\n",
        "\n",
        "draw_quantum_state(x,y,\"v0\")\n",
        "\n",
        "from qiskit import QuantumRegister, ClassicalRegister, QuantumCircuit, transpile\n",
        "from qiskit_aer import Aer\n",
        "from math import pi, sqrt\n",
        "\n",
        "# we define a quantum circuit with one qubit and one bit\n",
        "q =  QuantumRegister(1) # quantum register with a single qubit\n",
        "c = ClassicalRegister(1) # classical register with a single bit\n",
        "qc = QuantumCircuit(q,c) # quantum circuit with quantum and classical registers\n",
        "\n",
        "rotation_angle = sqrt(2)*pi\n",
        "\n",
        "for i in range(1,12):\n",
        "    # rotate the qubit with angle pi/4\n",
        "    qc.ry(2*rotation_angle,q[0])\n",
        "\n",
        "    # read the current quantum state\n",
        "    backend = Aer.get_backend('statevector_simulator')\n",
        "    job = backend.run(qc, shots = 1000)\n",
        "    result = job.result()\n",
        "    current_quantum_state = result.get_statevector(qc,3).data\n",
        "\n",
        "\n",
        "    # print the current quantum state\n",
        "    x_value = current_quantum_state[0].real # get the amplitude of |0>\n",
        "    y_value = current_quantum_state[1].real # get the amplitude of |1>\n",
        "    print(\"iteration\",i,\": the quantum state is (\",x_value,\") |0>\",\"+(\",y_value,\") |1>\")\n",
        "\n",
        "    # draw the current quantum state\n",
        "    draw_quantum_state(x_value,y_value,\"|v\"+str(i)+\">\")\n",
        "\n",
        "show_plt()\n"
      ],
      "metadata": {
        "id": "OXbLfBoCJEY0",
        "outputId": "75e5a399-bdee-4e0e-a445-8b02fa55f52d",
        "colab": {
          "base_uri": "https://localhost:8080/",
          "height": 529
        }
      },
      "execution_count": 12,
      "outputs": [
        {
          "output_type": "stream",
          "name": "stdout",
          "text": [
            "iteration 1 : the quantum state is ( -0.266 ) |0> +( -0.964 ) |1>\n",
            "iteration 2 : the quantum state is ( -0.858 ) |0> +( 0.513 ) |1>\n",
            "iteration 3 : the quantum state is ( 0.723 ) |0> +( 0.691 ) |1>\n",
            "iteration 4 : the quantum state is ( 0.473 ) |0> +( -0.881 ) |1>\n",
            "iteration 5 : the quantum state is ( -0.975 ) |0> +( -0.221 ) |1>\n",
            "iteration 6 : the quantum state is ( 0.046 ) |0> +( 0.999 ) |1>\n",
            "iteration 7 : the quantum state is ( 0.951 ) |0> +( -0.311 ) |1>\n",
            "iteration 8 : the quantum state is ( -0.552 ) |0> +( -0.834 ) |1>\n",
            "iteration 9 : the quantum state is ( -0.656 ) |0> +( 0.754 ) |1>\n",
            "iteration 10 : the quantum state is ( 0.902 ) |0> +( 0.432 ) |1>\n",
            "iteration 11 : the quantum state is ( 0.176 ) |0> +( -0.984 ) |1>\n"
          ]
        },
        {
          "output_type": "display_data",
          "data": {
            "text/plain": [
              "<Figure size 640x480 with 0 Axes>"
            ]
          },
          "metadata": {}
        },
        {
          "output_type": "display_data",
          "data": {
            "text/plain": [
              "<Figure size 360x360 with 1 Axes>"
            ],
            "image/png": "[encoded data removed]"
          },
          "metadata": {}
        }
      ]
    },
    {
      "cell_type": "markdown",
      "metadata": {
        "id": "kGL5bDTuAfSD"
      },
      "source": [
        "To check out our solution, run the next cell:"
      ]
    },
    {
      "cell_type": "code",
      "execution_count": null,
      "metadata": {
        "id": "TVVB-lHUAfSD"
      },
      "outputs": [],
      "source": [
        "SolutionToTask4()  # show solution for task 4"
      ]
    },
    {
      "cell_type": "markdown",
      "metadata": {
        "id": "cl_p91O3AfSD"
      },
      "source": [
        "<h3> Task 5 (discussion) </h3>\n",
        "\n",
        "Let us define a rotation angle as $ \\theta_\\alpha = \\alpha \\cdot (2\\pi) $.\n",
        "\n",
        "When starting in state $ \\ket{0} $ and applying the rotation with angle $ \\theta_\\alpha $ arbitrarily many times, the state $ \\ket{0} $ can be visited again or not?\n",
        "- For which values of $\\alpha$ will the state $\\ket{0}$ be visited?\n",
        "- For which values of $\\alpha$ will the state $\\ket{0}$  never be visited?"
      ]
    },
    {
      "cell_type": "markdown",
      "metadata": {
        "id": "3zIfwuMcAfSD"
      },
      "source": [
        "<h3> Task 6 </h3>\n",
        "\n",
        "We randomly pick an angle $ \\theta \\in [0,2\\pi) $.\n",
        "\n",
        "We have two separate qubits initially set to state $ \\ket{0} $.\n",
        "\n",
        "The first qubit is rotated by the angle $ \\theta $ and the second qubit is rotated by the angle $ \\theta + \\pi/2 $.\n",
        "\n",
        "Implement each qubit and its rotation as a separate quantum circuit.\n",
        "\n",
        "Then, read both quantum states and calculate their dot product.\n",
        "\n",
        "Check the result of the dot product for different random angles."
      ]
    },
    {
      "cell_type": "code",
      "execution_count": 13,
      "metadata": {
        "id": "jEAe4H7LAfSD",
        "outputId": "67d3aaf2-3f4e-4077-fd40-d70ab6e583d4",
        "colab": {
          "base_uri": "https://localhost:8080/"
        }
      },
      "outputs": [
        {
          "output_type": "stream",
          "name": "stdout",
          "text": [
            "0 - the result of dot product is  0.00175\n",
            "random angle is 315.1\n",
            "x1 , y1 = 0.70834 -0.70587\n",
            "x2 , y2 = 0.70834 0.70834\n",
            "\n",
            "1 - the result of dot product is  -0.02548\n",
            "random angle is 313.5\n",
            "x1 , y1 = 0.68835 -0.72537\n",
            "x2 , y2 = 0.68835 0.68835\n",
            "\n",
            "2 - the result of dot product is  1.12549\n",
            "random angle is 36.4\n",
            "x1 , y1 = 0.80489 0.59342\n",
            "x2 , y2 = 0.80489 0.80489\n",
            "\n",
            "3 - the result of dot product is  1.04009\n",
            "random angle is 222.6\n",
            "x1 , y1 = -0.7361 -0.67688\n",
            "x2 , y2 = -0.7361 -0.7361\n",
            "\n",
            "4 - the result of dot product is  0.96947\n",
            "random angle is 358.3\n",
            "x1 , y1 = 0.99956 -0.02967\n",
            "x2 , y2 = 0.99956 0.99956\n",
            "\n",
            "5 - the result of dot product is  0.34575\n",
            "random angle is 73.8\n",
            "x1 , y1 = 0.27899 0.96029\n",
            "x2 , y2 = 0.27899 0.27899\n",
            "\n",
            "6 - the result of dot product is  -0.16777\n",
            "random angle is 302.1\n",
            "x1 , y1 = 0.5314 -0.84712\n",
            "x2 , y2 = 0.5314 0.5314\n",
            "\n",
            "7 - the result of dot product is  0.67106\n",
            "random angle is 60.5\n",
            "x1 , y1 = 0.49242 0.87036\n",
            "x2 , y2 = 0.49242 0.49242\n",
            "\n",
            "8 - the result of dot product is  -0.20502\n",
            "random angle is 110.3\n",
            "x1 , y1 = -0.34694 0.93789\n",
            "x2 , y2 = -0.34694 -0.34694\n",
            "\n",
            "9 - the result of dot product is  0.18118\n",
            "random angle is 324.1\n",
            "x1 , y1 = 0.81004 -0.58637\n",
            "x2 , y2 = 0.81004 0.81004\n",
            "\n"
          ]
        }
      ],
      "source": [
        "#\n",
        "# your code is here\n",
        "#\n",
        "from random import randrange\n",
        "from math import pi, sqrt\n",
        "from qiskit import QuantumRegister, ClassicalRegister, QuantumCircuit, transpile\n",
        "from qiskit_aer import Aer\n",
        "\n",
        "\n",
        "# implement the experiment 10 times\n",
        "for i in range(10):\n",
        "    # pick a random angle\n",
        "    random_angle = randrange(3600)/10\n",
        "\n",
        "    # specify the angles\n",
        "    rotation_angle1 = random_angle/360*2*pi\n",
        "    rotation_angle2 = rotation_angle1 + pi/2\n",
        "\n",
        "    #\n",
        "    # first qubit\n",
        "    #\n",
        "    q1 =  QuantumRegister(1)\n",
        "    c1 = ClassicalRegister(1)\n",
        "    qc1 = QuantumCircuit(q1,c1)\n",
        "\n",
        "    # rotate the qubit\n",
        "    qc1.ry(2 * rotation_angle1,q1[0])\n",
        "\n",
        "    # read the quantum state\n",
        "    transpiled_qc1= transpile(qc1,Aer.get_backend('statevector_simulator'),optimization_level=0)\n",
        "    job = Aer.get_backend('statevector_simulator').run(transpiled_qc1, shots = 1000)\n",
        "    current_quantum_state1=job.result().get_statevector(qc1).data\n",
        "    [x1,y1]=[current_quantum_state1[0].real,current_quantum_state1[1].real]\n",
        "\n",
        "    #\n",
        "    # second qubit\n",
        "    #\n",
        "    q2 =  QuantumRegister(1)\n",
        "    c2 = ClassicalRegister(1)\n",
        "    qc2 = QuantumCircuit(q2,c2)\n",
        "\n",
        "    # rotate the qubit\n",
        "    qc2.ry(2 * rotation_angle2,q2[0])\n",
        "\n",
        "    # read the quantum state\n",
        "    transpiled_qc2= transpile(qc2,Aer.get_backend('statevector_simulator'),optimization_level=0)\n",
        "    job = Aer.get_backend('statevector_simulator').run(transpiled_qc2, shots = 1000)\n",
        "    current_quantum_state2=job.result().get_statevector(qc2).data\n",
        "    [x2,y2]=[current_quantum_state1[0].real,current_quantum_state2[1].real]\n",
        "\n",
        "\n",
        "    #\n",
        "    # dot product\n",
        "    #\n",
        "    print(i,\"- the result of dot product is \",round(x1*x2+y1*y2,5))\n",
        "    print(\"random angle is\",random_angle)\n",
        "    print(\"x1 , y1 =\",round(x1,5),round(y1,5))\n",
        "    print(\"x2 , y2 =\",round(x2,5),round(y2,5))\n",
        "    print()"
      ]
    },
    {
      "cell_type": "markdown",
      "metadata": {
        "id": "jlIesU0bAfSE"
      },
      "source": [
        "To check out our solution, run the next cell:"
      ]
    },
    {
      "cell_type": "code",
      "execution_count": null,
      "metadata": {
        "id": "IXK7KeWZAfSE"
      },
      "outputs": [],
      "source": [
        "SolutionToTask6()  # show solution for task 6"
      ]
    },
    {
      "cell_type": "markdown",
      "metadata": {
        "id": "L7qcld2iAfSE"
      },
      "source": [
        "<h3> Task 7 </h3>\n",
        "\n",
        "We randomly pick an angle $ \\theta \\in [0,2\\pi) $.\n",
        "\n",
        "We have a single qubit initially set to state $ \\ket{0} $.\n",
        "\n",
        "The qubit is rotated by the angle either $ \\theta_1 =  \\theta $ or $ \\theta_2 =  \\theta-\\pi/2 $.\n",
        "\n",
        "You are allowed to do one more rotation $ \\theta' $ and then make a measurement.\n",
        "\n",
        "Can you determine the angle of the first rotation angle by looking/using the measurement result? Is it $ \\theta_1 $ or $ \\theta_2 $?\n",
        "\n",
        "Check your solution for different random angles."
      ]
    },
    {
      "cell_type": "code",
      "execution_count": 15,
      "metadata": {
        "id": "TxS3RuqQAfSE",
        "outputId": "2e216b4e-c405-4215-f6f7-11b01af59adf",
        "colab": {
          "base_uri": "https://localhost:8080/"
        }
      },
      "outputs": [
        {
          "output_type": "stream",
          "name": "stdout",
          "text": [
            "{'0': 100}\n",
            "your guess is theta1\n",
            "picked_angle is theta1\n"
          ]
        }
      ],
      "source": [
        "from random import randrange\n",
        "from math import pi\n",
        "from qiskit import QuantumRegister, ClassicalRegister, QuantumCircuit, transpile\n",
        "from qiskit_aer import Aer\n",
        "\n",
        "random_angle = randrange(3600)/10\n",
        "rotation_angle1 = random_angle/360*2*pi\n",
        "rotation_angle2 = rotation_angle1 - pi/2\n",
        "\n",
        "# we define a quantum circuit with one qubit and one bit\n",
        "q =  QuantumRegister(1) # quantum register with a single qubit\n",
        "c = ClassicalRegister(1) # classical register with a single bit\n",
        "qc = QuantumCircuit(q,c) # quantum circuit with quantum and classical registers\n",
        "\n",
        "if randrange(2)==0:\n",
        "    qc.ry(2 * rotation_angle1,q[0])\n",
        "    picked_angle = \"theta1\"\n",
        "else:\n",
        "    qc.ry(2 * rotation_angle2,q[0])\n",
        "    picked_angle = \"theta2\"\n",
        "\n",
        "#\n",
        "# your code is here\n",
        "#\n",
        "your_guess = \"\"\n",
        "\n",
        "qc.ry(-2 * rotation_angle1,q[0]) # the new state will be either |0> or -|1>\n",
        "\n",
        "qc.measure(q,c)\n",
        "\n",
        "backend = Aer.get_backend('qasm_simulator')\n",
        "transpiled_circuit = transpile(qc,backend,optimization_level=0)\n",
        "job = backend.run(transpiled_circuit, shots = 100)\n",
        "result = job.result()\n",
        "counts = result.get_counts()\n",
        "print(counts)\n",
        "\n",
        "if '0' in counts:\n",
        "    your_guess = \"theta1\"\n",
        "else:\n",
        "    your_guess = \"theta2\"\n",
        "\n",
        "\n",
        "######################\n",
        "print(\"your guess is\",your_guess)\n",
        "print(\"picked_angle is\",picked_angle)"
      ]
    },
    {
      "cell_type": "markdown",
      "metadata": {
        "id": "bFA5tdyoAfSE"
      },
      "source": [
        "To check out our solution, run the next cell:"
      ]
    },
    {
      "cell_type": "code",
      "execution_count": null,
      "metadata": {
        "id": "Eh3pDJM0AfSE"
      },
      "outputs": [],
      "source": [
        "SolutionToTask7()  # show solution for task 7"
      ]
    }
  ],
  "metadata": {
    "kernelspec": {
      "display_name": "Python 3 (ipykernel)",
      "language": "python",
      "name": "python3"
    },
    "language_info": {
      "codemirror_mode": {
        "name": "ipython",
        "version": 3
      },
      "file_extension": ".py",
      "mimetype": "text/x-python",
      "name": "python",
      "nbconvert_exporter": "python",
      "pygments_lexer": "ipython3",
      "version": "3.11.4"
    },
    "colab": {
      "provenance": [],
      "collapsed_sections": [
        "Bm9lteNlAfR-"
      ]
    }
  },
  "nbformat": 4,
  "nbformat_minor": 0
}