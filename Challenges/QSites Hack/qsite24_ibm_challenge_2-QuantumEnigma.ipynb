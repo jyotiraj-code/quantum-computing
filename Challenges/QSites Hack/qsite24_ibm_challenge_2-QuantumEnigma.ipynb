{
 "cells": [
  {
   "cell_type": "markdown",
   "metadata": {},
   "source": [
    "# Q-SITE 2024: IBM Quantum Hackathon\n",
    "\n",
    "## Lab 2: Quantum Enigma - Four-square chessboard\n",
    "\n",
    "\n",
    "\n",
    "This challenge is based on the Quantum Enigmas produced by Institut Quantique at the Université de Sherbrooke. Watch this video to see the details of the Quantum Enigma entitled ***The Four-Square Chessboard***: https://youtu.be/UuVbtFXOEKQ?feature=shared .\n",
    "\n",
    "In this challenge, you will code the solution to the enigma using Qiskit.\n",
    "\n",
    "The code required to complete the exercise should be typed under the line which has the `## WRITE YOUR CODE BELOW HERE ##` comment. Avoid making changes to any provided code as this could alter how other code in the notebook functions. You will submit answers to the grader methods that are called in this notebook. This lab has 4 graded exercises.\n",
    "\n",
    "The Four-Square Chessboard enigma is summarized as follows. Alice and Bob play a game in which Bob must find the location of a key hidden under one of the squares of a chessboard. Each chessboard square also has a coin with one side labeled 0 and the other side labeled 1, and each coin is placed randomly on one of these two sides. Alice must indicate the location of the hidden key to Bob by only flipping one coin on the board. Bob is provided with no information except the state of the chessboard after Alice flips the coin (i.e. he does not know which coin Alice flipped).\n",
    "\n",
    "Below is an example of the chessboard with the coin values shown in the video, with the example location of the key in red. However, the board could be in any configuration. In this case, there are 64 possible configurations, i.e. 16 possible coin configurations $\\times$ 4 possible key locations.\n",
    "\n",
    "<center>\n",
    "<table border=1>\n",
    "    <colgroup>\n",
    "        <col span=\"1\" style=\"width:50px; text-align: center;\">\n",
    "        <col span=\"1\" style=\"width:50px; text-align: center;\">\n",
    "    </colgroup>\n",
    "    <tbody>\n",
    "        <tr style=\"height:50px\"><td>0</td><td bgcolor='red'>1</span></td></tr>\n",
    "        <tr style=\"height:50px\"><td>1</td><td>0</td></tr>\n",
    "    </tbody>\n",
    "</table>\n",
    "</center>\n",
    "\n",
    "Alice and Bob come into the game with a strategy to allow Bob to find the key given the rules of the game. It is based on computing parities of the coin values on the board. Alice will flip a coin based on her calculation of the partities of the key location expressed in binary, and a focus square location that is chosen by computing the parities of coins on the board. Bob will repeat this parity calculation of the coins on the board in order to find the location of the key.\n",
    "\n",
    "To validate this strategy, we can use a quantum computer to represent all of the possible configurations simultaneously and compute this strategy. "
   ]
  },
  {
   "cell_type": "code",
   "execution_count": null,
   "metadata": {},
   "outputs": [],
   "source": [
    "from qiskit import QuantumCircuit, QuantumRegister, ClassicalRegister\n",
    "from qiskit.primitives import StatevectorSampler\n",
    "\n",
    "from grader.qsite24_ibm_grader import *"
   ]
  },
  {
   "cell_type": "markdown",
   "metadata": {},
   "source": [
    "### Part 1: Construct circuit for four-square chessboard\n",
    "\n",
    "Use this initial code that sets up the quantum circuit with a set of quantum and classical registers. This setup is a bit different from video where the qubits were not divided into named register and were instead specified solely by their index number. This may become cumbersome when scaling up the circuit as you will do in Part 2. Register allow your code to be more readable.\n",
    "\n",
    "The registers below represent the following:\n",
    "\n",
    "- `q_reg_squares`: represents the squares of the chessboard. In the binary mapping of the square numbers, the first bit represents the row of the square while the second bit represents the column of the square.\n",
    "- `q_reg_key`: the key location in binary.\n",
    "- `q_reg_afocus`: Alice's computed focus square in binary.\n",
    "- `q_reg_bfocus`: Bob's computed focus square in binary.\n",
    "- `c_reg_key_bfocus`: The measured key location (first pair of qubits) and Bob's focus square (second pair of qubits). These are measured into the same classical register for convenience to clearly see the result in the end."
   ]
  },
  {
   "cell_type": "code",
   "execution_count": null,
   "metadata": {},
   "outputs": [],
   "source": [
    "q_reg_squares = QuantumRegister(4, name='squares')\n",
    "q_reg_key = QuantumRegister(2, name='key')\n",
    "q_reg_afocus = QuantumRegister(2, name='afocus')\n",
    "q_reg_bfocus = QuantumRegister(2, name='bfocus')\n",
    "\n",
    "c_reg_key_bfocus = ClassicalRegister(4, name='c_key_bfocus')\n",
    "\n",
    "qc = QuantumCircuit(q_reg_squares, q_reg_key, q_reg_afocus, q_reg_bfocus, c_reg_key_bfocus)\n",
    "qc.draw()"
   ]
  },
  {
   "cell_type": "markdown",
   "metadata": {},
   "source": [
    "#### Step 1\n",
    "\n",
    "In the first step, place the qubits of the square and key registers into equal superpositions of 0 and 1. This will effectively represent all possible combinations of coin values and key locations."
   ]
  },
  {
   "cell_type": "code",
   "execution_count": null,
   "metadata": {},
   "outputs": [],
   "source": [
    "## WRITE YOUR CODE BELOW HERE ##\n",
    "\n"
   ]
  },
  {
   "cell_type": "markdown",
   "metadata": {},
   "source": [
    "#### Step 2\n",
    "\n",
    "In the next step, the focus square is selected by computing the partities of the bottom row and right-most column."
   ]
  },
  {
   "cell_type": "code",
   "execution_count": null,
   "metadata": {},
   "outputs": [],
   "source": [
    "## WRITE YOUR CODE BELOW HERE ##\n",
    "\n"
   ]
  },
  {
   "cell_type": "markdown",
   "metadata": {},
   "source": [
    "#### Step 3\n",
    "\n",
    "Now Alice must determine which coin to flip. This is done by computing the location of the square by computing the parities of each bit between the key location and the focus square registers. When done, the square with the coin to flip will be stored in Alice's focus register."
   ]
  },
  {
   "cell_type": "code",
   "execution_count": null,
   "metadata": {},
   "outputs": [],
   "source": [
    "## WRITE YOUR CODE BELOW HERE ##\n",
    "\n"
   ]
  },
  {
   "cell_type": "code",
   "execution_count": null,
   "metadata": {},
   "outputs": [],
   "source": [
    "## SUBMIT CIRCUIT TO GRADER\n",
    "qsite24_grader_lab2ex1a(qc)"
   ]
  },
  {
   "cell_type": "markdown",
   "metadata": {},
   "source": [
    "#### Step 4\n",
    "\n",
    "Now flip the coins according to the value in Alice's focus register."
   ]
  },
  {
   "cell_type": "code",
   "execution_count": null,
   "metadata": {},
   "outputs": [],
   "source": [
    "## WRITE YOUR CODE BELOW HERE ##\n",
    "\n"
   ]
  },
  {
   "cell_type": "code",
   "execution_count": null,
   "metadata": {},
   "outputs": [],
   "source": [
    "## SUBMIT CIRCUIT TO GRADER\n",
    "qsite24_grader_lab2ex1b(qc)"
   ]
  },
  {
   "cell_type": "markdown",
   "metadata": {},
   "source": [
    "#### Step 5\n",
    "\n",
    "Now it's Bob's turn. To determine the coin location, compute the parity of the last row and column just as Alice did previously. Bob's computation of the key location should be stored in his focus register. Once this is done, measure out the key register and Bob's focus register into the same classical register (this code is given)."
   ]
  },
  {
   "cell_type": "code",
   "execution_count": null,
   "metadata": {},
   "outputs": [],
   "source": [
    "## WRITE YOUR CODE BELOW HERE ##\n",
    "\n",
    "\n"
   ]
  },
  {
   "cell_type": "markdown",
   "metadata": {},
   "source": [
    "#### Step 6\n",
    "\n",
    "Lastly, run this circuit using `StatevectorSampler` and print out the result."
   ]
  },
  {
   "cell_type": "code",
   "execution_count": null,
   "metadata": {},
   "outputs": [],
   "source": [
    "## WRITE YOUR CODE BELOW HERE ##\n",
    "\n",
    "\n",
    "\n",
    "\n",
    "result = None       # Replace None with the result object from the sampler job"
   ]
  },
  {
   "cell_type": "markdown",
   "metadata": {},
   "source": [
    "You should see in the ```c_key_bfocus``` classical register, the values of the first pair of qubits (key location) and the second pair of qubits (Bob's focus square) always match in each bitstring from the results."
   ]
  },
  {
   "cell_type": "code",
   "execution_count": null,
   "metadata": {},
   "outputs": [],
   "source": [
    "# SUBMIT RESULT TO GRADER HERE (ex1c)\n",
    "qsite24_grader_lab2ex1c(result)"
   ]
  },
  {
   "cell_type": "markdown",
   "metadata": {},
   "source": [
    "### Part 2: Extension to a 16 square chessboard (4x4)\n",
    "\n",
    "Now that you have solved the 4 square (2x2) problem, can you scale to a larger chessboard? For this next problem, find a solution to the problem when using a 4x4 chessboard. The rules are the same: Alice can only flip one coin on the board.\n",
    "\n",
    "<center>\n",
    "<table border=1>\n",
    "    <colgroup>\n",
    "        <col span=\"1\" style=\"width:50px\">\n",
    "        <col span=\"1\" style=\"width:50px\">\n",
    "        <col span=\"1\" style=\"width:50px\">\n",
    "        <col span=\"1\" style=\"width:50px\">\n",
    "    </colgroup>\n",
    "    <tbody>\n",
    "        <tr style=\"height:50px\"><td></td> <td bgcolor='grey'> </td><td> </td><td bgcolor='grey'> </td></tr>\n",
    "        <tr style=\"height:50px\"><td bgcolor='grey'> </td><td></td><td bgcolor='grey'></td><td> </td></tr>\n",
    "        <tr style=\"height:50px\"><td> </td><td bgcolor='grey'> </td><td> </td><td bgcolor='grey'> </td></tr>\n",
    "        <tr style=\"height:50px\"><td bgcolor='grey'> </td><td> </td><td bgcolor='grey'> </td><td> </td></tr>\n",
    "    </tbody>\n",
    "</table>\n",
    "</center>\n",
    "\n",
    "Note that you'll need to use several more qubits. We suggest that you find a way to minimize the number of qubits in order to keep the memory requirements of the circuit simulation low enough to run on your computer. An initial solution we ran with 28 qubits used nearly 16 GB of RAM and took over 15 minutes to run. HINT: in your 2x2 solution, were there some qubits that you no longer needed at some point in your circuit and could reuse? If so, can you find a way in Qiskit to set them back to zero?\n",
    "\n",
    "**IMPORTANT NOTE**: construct your circuit to place the final measurements in a classical register with the name ```c_key_focus``` that includes both the key location and Bob's focus square (similar to what was done in the 2x2 solution). Measure the key location in the lower half of the bits in this classical register, and measure Bob's focus square in the upper half of the bits. This is for format expected by the grader.\n",
    "\n",
    "Simulate your circuit using the ```StatevectorSampler``` and submit the result object from the job object to the grader."
   ]
  },
  {
   "cell_type": "code",
   "execution_count": null,
   "metadata": {},
   "outputs": [],
   "source": [
    "## WRITE YOUR CODE BELOW HERE ##\n"
   ]
  },
  {
   "cell_type": "code",
   "execution_count": null,
   "metadata": {},
   "outputs": [],
   "source": [
    "# SUBMIT MEASUREMENT COUNTS TO GRADER HERE (ex2)\n",
    "qsite24_grader_lab2ex2(result)"
   ]
  },
  {
   "cell_type": "markdown",
   "metadata": {},
   "source": [
    "### Congratulations!\n",
    "\n",
    "You have completed this lab. We hope you enjoyed this experience and learned more about Qiskit!"
   ]
  }
 ],
 "metadata": {
  "kernelspec": {
   "display_name": "qiskit_1.x",
   "language": "python",
   "name": "python3"
  },
  "language_info": {
   "codemirror_mode": {
    "name": "ipython",
    "version": 3
   },
   "file_extension": ".py",
   "mimetype": "text/x-python",
   "name": "python",
   "nbconvert_exporter": "python",
   "pygments_lexer": "ipython3",
   "version": "3.12.4"
  }
 },
 "nbformat": 4,
 "nbformat_minor": 2
}
